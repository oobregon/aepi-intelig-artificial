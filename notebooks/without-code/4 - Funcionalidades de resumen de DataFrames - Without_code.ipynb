{
 "cells": [
  {
   "cell_type": "markdown",
   "metadata": {
    "toc": true
   },
   "source": [
    "<h1>Table of Contents<span class=\"tocSkip\"></span></h1>\n",
    "<div class=\"toc\"><ul class=\"toc-item\"><li><span><a href=\"#df.dtypes\" data-toc-modified-id=\"df.dtypes-1\"><span class=\"toc-item-num\">1&nbsp;&nbsp;</span>df.dtypes</a></span></li><li><span><a href=\"#df.values\" data-toc-modified-id=\"df.values-2\"><span class=\"toc-item-num\">2&nbsp;&nbsp;</span>df.values</a></span></li><li><span><a href=\"#df.ndim\" data-toc-modified-id=\"df.ndim-3\"><span class=\"toc-item-num\">3&nbsp;&nbsp;</span>df.ndim</a></span></li><li><span><a href=\"#df.shape\" data-toc-modified-id=\"df.shape-4\"><span class=\"toc-item-num\">4&nbsp;&nbsp;</span>df.shape</a></span></li><li><span><a href=\"#df.size\" data-toc-modified-id=\"df.size-5\"><span class=\"toc-item-num\">5&nbsp;&nbsp;</span>df.size</a></span></li><li><span><a href=\"#unique\" data-toc-modified-id=\"unique-6\"><span class=\"toc-item-num\">6&nbsp;&nbsp;</span>unique</a></span></li><li><span><a href=\"#df.nunique\" data-toc-modified-id=\"df.nunique-7\"><span class=\"toc-item-num\">7&nbsp;&nbsp;</span>df.nunique</a></span></li><li><span><a href=\"#df.max\" data-toc-modified-id=\"df.max-8\"><span class=\"toc-item-num\">8&nbsp;&nbsp;</span>df.max</a></span></li><li><span><a href=\"#df.min\" data-toc-modified-id=\"df.min-9\"><span class=\"toc-item-num\">9&nbsp;&nbsp;</span>df.min</a></span></li><li><span><a href=\"#df.duplicated\" data-toc-modified-id=\"df.duplicated-10\"><span class=\"toc-item-num\">10&nbsp;&nbsp;</span>df.duplicated</a></span></li><li><span><a href=\"#df.info()\" data-toc-modified-id=\"df.info()-11\"><span class=\"toc-item-num\">11&nbsp;&nbsp;</span>df.info()</a></span></li><li><span><a href=\"#df.describe()\" data-toc-modified-id=\"df.describe()-12\"><span class=\"toc-item-num\">12&nbsp;&nbsp;</span>df.describe()</a></span></li></ul></div>"
   ]
  },
  {
   "cell_type": "code",
   "execution_count": null,
   "metadata": {},
   "outputs": [],
   "source": []
  },
  {
   "cell_type": "code",
   "execution_count": null,
   "metadata": {},
   "outputs": [],
   "source": []
  },
  {
   "cell_type": "markdown",
   "metadata": {},
   "source": [
    "# df.dtypes"
   ]
  },
  {
   "cell_type": "code",
   "execution_count": null,
   "metadata": {},
   "outputs": [],
   "source": []
  },
  {
   "cell_type": "markdown",
   "metadata": {},
   "source": [
    "# df.values"
   ]
  },
  {
   "cell_type": "code",
   "execution_count": null,
   "metadata": {},
   "outputs": [],
   "source": []
  },
  {
   "cell_type": "markdown",
   "metadata": {},
   "source": [
    "# df.ndim"
   ]
  },
  {
   "cell_type": "code",
   "execution_count": null,
   "metadata": {},
   "outputs": [],
   "source": []
  },
  {
   "cell_type": "markdown",
   "metadata": {},
   "source": [
    "# df.shape"
   ]
  },
  {
   "cell_type": "code",
   "execution_count": null,
   "metadata": {},
   "outputs": [],
   "source": []
  },
  {
   "cell_type": "markdown",
   "metadata": {},
   "source": [
    "# df.size"
   ]
  },
  {
   "cell_type": "code",
   "execution_count": null,
   "metadata": {},
   "outputs": [],
   "source": []
  },
  {
   "cell_type": "markdown",
   "metadata": {},
   "source": [
    "# unique"
   ]
  },
  {
   "cell_type": "code",
   "execution_count": null,
   "metadata": {},
   "outputs": [],
   "source": []
  },
  {
   "cell_type": "markdown",
   "metadata": {},
   "source": [
    "# df.nunique"
   ]
  },
  {
   "cell_type": "code",
   "execution_count": null,
   "metadata": {},
   "outputs": [],
   "source": []
  },
  {
   "cell_type": "markdown",
   "metadata": {},
   "source": [
    "# df.max"
   ]
  },
  {
   "cell_type": "code",
   "execution_count": null,
   "metadata": {},
   "outputs": [],
   "source": []
  },
  {
   "cell_type": "markdown",
   "metadata": {},
   "source": [
    "# df.min"
   ]
  },
  {
   "cell_type": "code",
   "execution_count": null,
   "metadata": {},
   "outputs": [],
   "source": []
  },
  {
   "cell_type": "markdown",
   "metadata": {},
   "source": [
    "# df.duplicated"
   ]
  },
  {
   "cell_type": "code",
   "execution_count": null,
   "metadata": {},
   "outputs": [],
   "source": []
  },
  {
   "cell_type": "markdown",
   "metadata": {},
   "source": [
    "# df.info()"
   ]
  },
  {
   "cell_type": "code",
   "execution_count": null,
   "metadata": {},
   "outputs": [],
   "source": []
  },
  {
   "cell_type": "markdown",
   "metadata": {},
   "source": [
    "# df.describe()"
   ]
  },
  {
   "cell_type": "code",
   "execution_count": null,
   "metadata": {},
   "outputs": [],
   "source": []
  }
 ],
 "metadata": {
  "hide_input": false,
  "kernelspec": {
   "display_name": "Python 3",
   "language": "python",
   "name": "python3"
  },
  "language_info": {
   "codemirror_mode": {
    "name": "ipython",
    "version": 3
   },
   "file_extension": ".py",
   "mimetype": "text/x-python",
   "name": "python",
   "nbconvert_exporter": "python",
   "pygments_lexer": "ipython3",
   "version": "3.8.5"
  },
  "toc": {
   "base_numbering": 1,
   "nav_menu": {},
   "number_sections": true,
   "sideBar": true,
   "skip_h1_title": false,
   "title_cell": "Table of Contents",
   "title_sidebar": "Contents",
   "toc_cell": true,
   "toc_position": {},
   "toc_section_display": true,
   "toc_window_display": false
  },
  "varInspector": {
   "cols": {
    "lenName": 16,
    "lenType": 16,
    "lenVar": 40
   },
   "kernels_config": {
    "python": {
     "delete_cmd_postfix": "",
     "delete_cmd_prefix": "del ",
     "library": "var_list.py",
     "varRefreshCmd": "print(var_dic_list())"
    },
    "r": {
     "delete_cmd_postfix": ") ",
     "delete_cmd_prefix": "rm(",
     "library": "var_list.r",
     "varRefreshCmd": "cat(var_dic_list()) "
    }
   },
   "types_to_exclude": [
    "module",
    "function",
    "builtin_function_or_method",
    "instance",
    "_Feature"
   ],
   "window_display": false
  }
 },
 "nbformat": 4,
 "nbformat_minor": 4
}
