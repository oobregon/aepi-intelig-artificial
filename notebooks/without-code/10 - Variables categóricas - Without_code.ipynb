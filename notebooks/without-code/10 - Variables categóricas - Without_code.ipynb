{
 "cells": [
  {
   "cell_type": "markdown",
   "metadata": {
    "toc": true
   },
   "source": [
    "<h1>Table of Contents<span class=\"tocSkip\"></span></h1>\n",
    "<div class=\"toc\"><ul class=\"toc-item\"><li><span><a href=\"#Convertir-una-columna-en-variable-categórica\" data-toc-modified-id=\"Convertir-una-columna-en-variable-categórica-1\"><span class=\"toc-item-num\">1&nbsp;&nbsp;</span>Convertir una columna en variable categórica</a></span><ul class=\"toc-item\"><li><span><a href=\"#Convertir-variable-discreta\" data-toc-modified-id=\"Convertir-variable-discreta-1.1\"><span class=\"toc-item-num\">1.1&nbsp;&nbsp;</span>Convertir variable discreta</a></span></li><li><span><a href=\"#Convertir-variable-continua\" data-toc-modified-id=\"Convertir-variable-continua-1.2\"><span class=\"toc-item-num\">1.2&nbsp;&nbsp;</span>Convertir variable continua</a></span></li></ul></li><li><span><a href=\"#Renombrar-categorías\" data-toc-modified-id=\"Renombrar-categorías-2\"><span class=\"toc-item-num\">2&nbsp;&nbsp;</span>Renombrar categorías</a></span></li><li><span><a href=\"#Añadir-categorías\" data-toc-modified-id=\"Añadir-categorías-3\"><span class=\"toc-item-num\">3&nbsp;&nbsp;</span>Añadir categorías</a></span></li><li><span><a href=\"#Eliminar-categorías\" data-toc-modified-id=\"Eliminar-categorías-4\"><span class=\"toc-item-num\">4&nbsp;&nbsp;</span>Eliminar categorías</a></span></li><li><span><a href=\"#Ordenar-por-categoría\" data-toc-modified-id=\"Ordenar-por-categoría-5\"><span class=\"toc-item-num\">5&nbsp;&nbsp;</span>Ordenar por categoría</a></span></li><li><span><a href=\"#Agrupar-por-categoría\" data-toc-modified-id=\"Agrupar-por-categoría-6\"><span class=\"toc-item-num\">6&nbsp;&nbsp;</span>Agrupar por categoría</a></span></li><li><span><a href=\"#Tratamiento-de-variables-categóricas\" data-toc-modified-id=\"Tratamiento-de-variables-categóricas-7\"><span class=\"toc-item-num\">7&nbsp;&nbsp;</span>Tratamiento de variables categóricas</a></span><ul class=\"toc-item\"><li><span><a href=\"#Eliminar-variables-categóricas\" data-toc-modified-id=\"Eliminar-variables-categóricas-7.1\"><span class=\"toc-item-num\">7.1&nbsp;&nbsp;</span>Eliminar variables categóricas</a></span></li><li><span><a href=\"#Método-de-label-encoding\" data-toc-modified-id=\"Método-de-label-encoding-7.2\"><span class=\"toc-item-num\">7.2&nbsp;&nbsp;</span>Método de label encoding</a></span></li><li><span><a href=\"#Método-de-one-hot-encoding\" data-toc-modified-id=\"Método-de-one-hot-encoding-7.3\"><span class=\"toc-item-num\">7.3&nbsp;&nbsp;</span>Método de one-hot encoding</a></span></li></ul></li></ul></div>"
   ]
  },
  {
   "cell_type": "markdown",
   "metadata": {},
   "source": [
    "Una variable categórica solo puede tener un número limitado, y generalmente fijo, de valores posibles (categorías). Algunos ejemplos de variables de este tipo pueden ser el género y el tipo de sangre.\n",
    "Pueden tener un orden (por ejemplo, 'muy de acuerdo' podría ir primero y 'muy en desacuerdo' podría ir en último lugar), pero las operaciones numéricas (sumas, restas, divisiones, ...) no son posibles."
   ]
  },
  {
   "cell_type": "code",
   "execution_count": null,
   "metadata": {},
   "outputs": [],
   "source": []
  },
  {
   "cell_type": "markdown",
   "metadata": {},
   "source": [
    "# Convertir una columna en variable categórica"
   ]
  },
  {
   "cell_type": "markdown",
   "metadata": {},
   "source": [
    "## Convertir variable discreta"
   ]
  },
  {
   "cell_type": "code",
   "execution_count": null,
   "metadata": {},
   "outputs": [],
   "source": []
  },
  {
   "cell_type": "markdown",
   "metadata": {},
   "source": [
    "## Convertir variable continua"
   ]
  },
  {
   "cell_type": "code",
   "execution_count": null,
   "metadata": {},
   "outputs": [],
   "source": []
  },
  {
   "cell_type": "markdown",
   "metadata": {},
   "source": [
    "# Renombrar categorías"
   ]
  },
  {
   "cell_type": "code",
   "execution_count": null,
   "metadata": {},
   "outputs": [],
   "source": []
  },
  {
   "cell_type": "markdown",
   "metadata": {},
   "source": [
    "# Añadir categorías"
   ]
  },
  {
   "cell_type": "code",
   "execution_count": null,
   "metadata": {},
   "outputs": [],
   "source": []
  },
  {
   "cell_type": "markdown",
   "metadata": {},
   "source": [
    "# Eliminar categorías"
   ]
  },
  {
   "cell_type": "code",
   "execution_count": null,
   "metadata": {},
   "outputs": [],
   "source": []
  },
  {
   "cell_type": "markdown",
   "metadata": {},
   "source": [
    "# Ordenar por categoría"
   ]
  },
  {
   "cell_type": "code",
   "execution_count": null,
   "metadata": {},
   "outputs": [],
   "source": []
  },
  {
   "cell_type": "markdown",
   "metadata": {},
   "source": [
    "# Agrupar por categoría"
   ]
  },
  {
   "cell_type": "code",
   "execution_count": null,
   "metadata": {},
   "outputs": [],
   "source": []
  },
  {
   "cell_type": "markdown",
   "metadata": {},
   "source": [
    "# Tratamiento de variables categóricas"
   ]
  },
  {
   "cell_type": "markdown",
   "metadata": {},
   "source": [
    "## Eliminar variables categóricas"
   ]
  },
  {
   "cell_type": "markdown",
   "metadata": {},
   "source": [
    "La manera más simple de atajar el problema de las variables categóricas consiste en eliminarlas del conjunto de datos. Sin embargo, este enfoque puede provocar una pérdida de información potencialmente valiosa para el modelo de Machine Learning."
   ]
  },
  {
   "cell_type": "markdown",
   "metadata": {},
   "source": [
    "## Método de label encoding"
   ]
  },
  {
   "cell_type": "markdown",
   "metadata": {},
   "source": [
    "El método de label encoding (o codificación de etiqueta) consiste en asignar un número entero a cada valor diferente de una variable. El problema de este enfoque es que implica asumir un orden en las categorías, y las variables categóricas no siempre llevan implícito un orden claro. Por tanto, esta técnica es apropiada cuando se están tratando variables ordinales."
   ]
  },
  {
   "cell_type": "code",
   "execution_count": null,
   "metadata": {},
   "outputs": [],
   "source": []
  },
  {
   "cell_type": "markdown",
   "metadata": {},
   "source": [
    "## Método de one-hot encoding"
   ]
  },
  {
   "cell_type": "markdown",
   "metadata": {},
   "source": [
    "El método de one-hot encoding (o codificación one-hot) consiste en crear nuevas columnas indicando la presencia o ausencia de cada posible valor de una variable categórica."
   ]
  },
  {
   "cell_type": "markdown",
   "metadata": {},
   "source": [
    "One-hot encoding, al contrario que el método de label encoding, no implica asumir un orden en las categorías. Por tanto, esta técnica es apropiada para tratar variables nominales. Sin embargo, es importante tener en cuenta que el método de one-hot encoding no suele dar buenos resultados si hay muchos valores diferentes para la variable categórica que se está procesando (generalmente, más de 15)."
   ]
  },
  {
   "cell_type": "code",
   "execution_count": null,
   "metadata": {},
   "outputs": [],
   "source": []
  }
 ],
 "metadata": {
  "hide_input": false,
  "kernelspec": {
   "display_name": "Python 3",
   "language": "python",
   "name": "python3"
  },
  "language_info": {
   "codemirror_mode": {
    "name": "ipython",
    "version": 3
   },
   "file_extension": ".py",
   "mimetype": "text/x-python",
   "name": "python",
   "nbconvert_exporter": "python",
   "pygments_lexer": "ipython3",
   "version": "3.8.5"
  },
  "toc": {
   "base_numbering": 1,
   "nav_menu": {},
   "number_sections": true,
   "sideBar": true,
   "skip_h1_title": false,
   "title_cell": "Table of Contents",
   "title_sidebar": "Contents",
   "toc_cell": true,
   "toc_position": {},
   "toc_section_display": true,
   "toc_window_display": false
  },
  "varInspector": {
   "cols": {
    "lenName": 16,
    "lenType": 16,
    "lenVar": 40
   },
   "kernels_config": {
    "python": {
     "delete_cmd_postfix": "",
     "delete_cmd_prefix": "del ",
     "library": "var_list.py",
     "varRefreshCmd": "print(var_dic_list())"
    },
    "r": {
     "delete_cmd_postfix": ") ",
     "delete_cmd_prefix": "rm(",
     "library": "var_list.r",
     "varRefreshCmd": "cat(var_dic_list()) "
    }
   },
   "types_to_exclude": [
    "module",
    "function",
    "builtin_function_or_method",
    "instance",
    "_Feature"
   ],
   "window_display": false
  }
 },
 "nbformat": 4,
 "nbformat_minor": 4
}
