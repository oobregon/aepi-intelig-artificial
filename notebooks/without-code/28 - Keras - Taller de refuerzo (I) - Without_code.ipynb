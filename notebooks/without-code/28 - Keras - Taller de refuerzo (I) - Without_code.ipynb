{
 "cells": [
  {
   "cell_type": "markdown",
   "id": "386e6710",
   "metadata": {
    "id": "386e6710"
   },
   "source": [
    "# Taller de refuerzo de Keras (I)\n",
    "\n",
    "En este taller, llevaremos a cabo un repaso de:\n",
    "- Carga de datos en estructuras apropiadas\n",
    "- Manejo de estructuras de datos\n",
    "- EDA y limpieza básicos\n",
    "- Particiones de entrenamiento, validación y test\n",
    "- Definición de modelos de redes neuronales\n",
    "- Compilación y entrenamiento de modelos\n",
    "- Evaluación\n",
    "\n",
    "**El objetivo del modelo será tratar de averiguar si un vino es tinto o blanco, dadas sus características químicas, como la acidez volátil o los sulfatos.**"
   ]
  },
  {
   "cell_type": "markdown",
   "id": "d3095019",
   "metadata": {
    "id": "d3095019"
   },
   "source": [
    "## Carga de librerías, módulos y funciones"
   ]
  },
  {
   "cell_type": "code",
   "execution_count": 49,
   "id": "ed1a789c",
   "metadata": {
    "id": "ed1a789c"
   },
   "outputs": [],
   "source": [
    "# Carga de datos \n",
    "import pandas as pd\n",
    "\n",
    "# Operaciones y cálculos con vectores\n",
    "import numpy as np\n",
    "\n",
    "# Visualización de datos\n",
    "import matplotlib.pyplot as plt\n",
    "import seaborn as sns\n",
    "\n",
    "# Funciones auxiliares de preprocesamiento y de evaluación\n",
    "from sklearn.model_selection import train_test_split\n",
    "from sklearn.preprocessing import StandardScaler\n",
    "from sklearn.metrics import confusion_matrix\n",
    "\n",
    "# Deep Learning\n",
    "from tensorflow.keras import Sequential\n",
    "from tensorflow.keras import layers"
   ]
  },
  {
   "cell_type": "markdown",
   "id": "f03389a2",
   "metadata": {
    "id": "f03389a2"
   },
   "source": [
    "## Carga de datos\n",
    "\n",
    "Los datos a utilizar en este taller se encuentran disponibles en los siguientes enlaces:\n",
    "\n",
    "- White wine: http://archive.ics.uci.edu/ml/machine-learning-databases/wine-quality/winequality-white.csv\n",
    "- Red whine: http://archive.ics.uci.edu/ml/machine-learning-databases/wine-quality/winequality-red.csv"
   ]
  },
  {
   "cell_type": "code",
   "execution_count": 3,
   "id": "9c197d0e",
   "metadata": {
    "id": "9c197d0e"
   },
   "outputs": [],
   "source": [
    "# Carga *white wine* en una variable llamada *white_wine*\n"
   ]
  },
  {
   "cell_type": "code",
   "execution_count": 4,
   "id": "bf2cb808",
   "metadata": {
    "id": "bf2cb808"
   },
   "outputs": [],
   "source": [
    "# Carga *red wine* en una variable llamada *red_wine*\n"
   ]
  },
  {
   "cell_type": "markdown",
   "id": "41fc029d",
   "metadata": {
    "id": "41fc029d"
   },
   "source": [
    "## Análisis exploratorio y limpieza de datos"
   ]
  },
  {
   "cell_type": "markdown",
   "id": "f765b600",
   "metadata": {
    "id": "f765b600"
   },
   "source": [
    "### Toma de contacto"
   ]
  },
  {
   "cell_type": "code",
   "execution_count": null,
   "id": "09cef66f",
   "metadata": {
    "colab": {
     "base_uri": "https://localhost:8080/",
     "height": 153
    },
    "id": "09cef66f",
    "outputId": "8710fbb3-b32f-4869-cbe1-3cb387a11fdf"
   },
   "outputs": [],
   "source": [
    "# Muestra las 3 primeras filas de white_wine, haciendo uso del método head() de pandas\n"
   ]
  },
  {
   "cell_type": "code",
   "execution_count": null,
   "id": "5a383cd7",
   "metadata": {
    "id": "5a383cd7",
    "outputId": "988dca11-bcb7-4baf-cea1-bbbf5673c220"
   },
   "outputs": [],
   "source": [
    "# Muestra información acerca de white_wine, haciendo uso del método info() de pandas\n"
   ]
  },
  {
   "cell_type": "code",
   "execution_count": null,
   "id": "5f8f6a3d",
   "metadata": {
    "id": "5f8f6a3d",
    "outputId": "437f8a26-b130-46ed-d098-770b17f245f9"
   },
   "outputs": [],
   "source": [
    "# Muestra las 3 primeras filas de red_wine, haciendo uso del método head() de pandas\n"
   ]
  },
  {
   "cell_type": "code",
   "execution_count": null,
   "id": "029716ba",
   "metadata": {
    "id": "029716ba",
    "outputId": "aef5730a-b096-40fb-fa1b-26078aa9f004"
   },
   "outputs": [],
   "source": [
    "# Muestra información acerca de red_wine, haciendo uso del método info() de pandas\n"
   ]
  },
  {
   "cell_type": "markdown",
   "id": "8f3fc0fe",
   "metadata": {
    "id": "8f3fc0fe"
   },
   "source": [
    "### Duplicados"
   ]
  },
  {
   "cell_type": "code",
   "execution_count": null,
   "id": "61e6310c",
   "metadata": {
    "colab": {
     "base_uri": "https://localhost:8080/"
    },
    "id": "61e6310c",
    "outputId": "1d4ccca2-81b2-46df-a557-885680ad327a"
   },
   "outputs": [],
   "source": [
    "# Comprueba el número de registros duplicados en white_wine\n"
   ]
  },
  {
   "cell_type": "code",
   "execution_count": 7,
   "id": "faaa605d",
   "metadata": {
    "id": "faaa605d"
   },
   "outputs": [],
   "source": [
    "# Si hay duplicados, elimínalos\n"
   ]
  },
  {
   "cell_type": "code",
   "execution_count": null,
   "id": "cb620203",
   "metadata": {
    "colab": {
     "base_uri": "https://localhost:8080/"
    },
    "id": "cb620203",
    "outputId": "a6a472be-7b96-467a-9f73-82118bf9c3b2"
   },
   "outputs": [],
   "source": [
    "# Comprueba el nuevo número de filas de white_wine\n"
   ]
  },
  {
   "cell_type": "code",
   "execution_count": null,
   "id": "762d7515",
   "metadata": {
    "colab": {
     "base_uri": "https://localhost:8080/"
    },
    "id": "762d7515",
    "outputId": "b3ea2028-b58f-49ca-f1c3-5133381e53b1"
   },
   "outputs": [],
   "source": [
    "# Comprueba el número de registros duplicados en red_wine\n"
   ]
  },
  {
   "cell_type": "code",
   "execution_count": 10,
   "id": "cabfe3f2",
   "metadata": {
    "id": "cabfe3f2"
   },
   "outputs": [],
   "source": [
    "# Si hay duplicados, elimínalos\n"
   ]
  },
  {
   "cell_type": "code",
   "execution_count": null,
   "id": "4aa24c8a",
   "metadata": {
    "colab": {
     "base_uri": "https://localhost:8080/"
    },
    "id": "4aa24c8a",
    "outputId": "e05dc570-5634-486c-fb3c-1fa3e743ccdd"
   },
   "outputs": [],
   "source": [
    "# Comprueba el nuevo número de filas de red_wine\n"
   ]
  },
  {
   "cell_type": "markdown",
   "id": "2cb015f1",
   "metadata": {
    "id": "2cb015f1"
   },
   "source": [
    "### Valores faltantes"
   ]
  },
  {
   "cell_type": "code",
   "execution_count": null,
   "id": "55decd79",
   "metadata": {
    "id": "55decd79",
    "outputId": "502baef9-71cc-4577-9938-bd77b899b82c"
   },
   "outputs": [],
   "source": [
    "# Comprueba el número de valores faltantes en cada columna de white_wine\n"
   ]
  },
  {
   "cell_type": "code",
   "execution_count": null,
   "id": "08bafbd6",
   "metadata": {
    "id": "08bafbd6"
   },
   "outputs": [],
   "source": [
    "# Si hay valores faltantes, trátalos como consideres conveniente\n"
   ]
  },
  {
   "cell_type": "code",
   "execution_count": null,
   "id": "e4f9f5f8",
   "metadata": {
    "id": "e4f9f5f8",
    "outputId": "4cc4d7b8-05e1-4ffd-9403-ce6ada49e7d6"
   },
   "outputs": [],
   "source": [
    "# Comprueba el número de valores faltantes en cada columna de red_wine\n"
   ]
  },
  {
   "cell_type": "code",
   "execution_count": null,
   "id": "5d17f2db",
   "metadata": {
    "id": "5d17f2db"
   },
   "outputs": [],
   "source": [
    "# Si hay valores faltantes, trátalos como consideres conveniente\n"
   ]
  },
  {
   "cell_type": "markdown",
   "id": "e03cf82d",
   "metadata": {
    "id": "e03cf82d"
   },
   "source": [
    "### Outliers"
   ]
  },
  {
   "cell_type": "code",
   "execution_count": null,
   "id": "12310783",
   "metadata": {
    "colab": {
     "base_uri": "https://localhost:8080/",
     "height": 399
    },
    "id": "12310783",
    "outputId": "b87c0c7a-10df-4e73-afd6-850a926328d9"
   },
   "outputs": [],
   "source": [
    "# Boxplot de la variable \"alcohol\" de white_wine\n"
   ]
  },
  {
   "cell_type": "code",
   "execution_count": null,
   "id": "ce4c7116",
   "metadata": {
    "colab": {
     "base_uri": "https://localhost:8080/",
     "height": 399
    },
    "id": "ce4c7116",
    "outputId": "6991445b-5ed7-4d51-9ab9-641e9db84ff9"
   },
   "outputs": [],
   "source": [
    "# Boxplot de la variable \"alcohol\" de red_wine\n"
   ]
  },
  {
   "cell_type": "markdown",
   "id": "cef10c74",
   "metadata": {
    "id": "cef10c74"
   },
   "source": [
    "### Combinación de fuentes de información"
   ]
  },
  {
   "cell_type": "code",
   "execution_count": null,
   "id": "91c97266",
   "metadata": {
    "id": "91c97266"
   },
   "outputs": [],
   "source": [
    "# Añade una columna \"type\" a white_wine con valor constante 0\n"
   ]
  },
  {
   "cell_type": "code",
   "execution_count": 16,
   "id": "057fc6a8",
   "metadata": {
    "id": "057fc6a8"
   },
   "outputs": [],
   "source": [
    "# Añade una columna \"type\" a red_wine con valor constante 1\n"
   ]
  },
  {
   "cell_type": "code",
   "execution_count": 17,
   "id": "bad32562",
   "metadata": {
    "id": "bad32562"
   },
   "outputs": [],
   "source": [
    "# Combina ambos dataframes\n"
   ]
  },
  {
   "cell_type": "markdown",
   "id": "3cd4dda2",
   "metadata": {
    "id": "3cd4dda2"
   },
   "source": [
    "### Correlaciones"
   ]
  },
  {
   "cell_type": "code",
   "execution_count": 18,
   "id": "9dc64cf5",
   "metadata": {
    "id": "9dc64cf5"
   },
   "outputs": [],
   "source": [
    "# Calcula la matriz de correlaciones entre las variables\n",
    "# Usa el método corr() de pandas\n"
   ]
  },
  {
   "cell_type": "code",
   "execution_count": null,
   "id": "6d35fff4",
   "metadata": {
    "colab": {
     "base_uri": "https://localhost:8080/",
     "height": 531
    },
    "id": "6d35fff4",
    "outputId": "0031a958-3e11-4d80-a98a-5bf3c14d2789"
   },
   "outputs": [],
   "source": [
    "# Muestra un capa de calor de las correlaciones\n",
    "# Usa la librería Seaborn de visualización\n"
   ]
  },
  {
   "cell_type": "markdown",
   "id": "e52694d4",
   "metadata": {
    "id": "e52694d4"
   },
   "source": [
    "En caso de detectar variables altamente correlacionadas entre sí, podría ser necesario aplicar alguna técnica de selección de varialbles o reducción de dimensionalidad (como PCA), con el fin de eliminar información redundante para el modelo, además de reducir el número de parámetros y, con ello, el coste computacional."
   ]
  },
  {
   "cell_type": "markdown",
   "id": "2deb037e",
   "metadata": {
    "id": "2deb037e"
   },
   "source": [
    "### Otras técnicas de calidad del dato\n",
    "Junto a los anteriores pasos del proceso de calidad del dato, sería conveniente realizar otras comprobaciones y, en caso necesario, los ajustes pertinentes para lograr un estado de los datos óptimo. Recordemos que un buen proceso de calidad del dato es iterativo y, a grandes rasgos, se podría enfocar en aspectos como los siguientes:"
   ]
  },
  {
   "cell_type": "markdown",
   "id": "a762c42a",
   "metadata": {
    "id": "a762c42a"
   },
   "source": [
    "![dataquality.PNG](attachment:dataquality.PNG)"
   ]
  },
  {
   "cell_type": "markdown",
   "id": "abc75575",
   "metadata": {
    "id": "abc75575"
   },
   "source": [
    "Recordemos que, además, todo proceso de exploración y limpieza de datos debe apoyarse en visualizaciones gráficas."
   ]
  },
  {
   "cell_type": "markdown",
   "id": "5c919ac2",
   "metadata": {
    "id": "5c919ac2"
   },
   "source": [
    "### Particiones de entrenamiento, validación y test\n",
    "Para poder realizar un buen ajuste del modelo, lo ideal es utilizar tres particiones de datos:\n",
    "- Una para entrenarlo (*train set*)\n",
    "- Otra para evaluarlo durante el entrenamiento (*validation set*)\n",
    "- Una última partición para realizar una evaluación final, una vez concluido el entrenamiento (*test set*)\n",
    "\n",
    "Para hacer la partición de train y test, podemos hacer uso de *train_test_split* de la librería Scikit Learn."
   ]
  },
  {
   "cell_type": "code",
   "execution_count": null,
   "id": "5886b554",
   "metadata": {
    "colab": {
     "base_uri": "https://localhost:8080/",
     "height": 212
    },
    "id": "5886b554",
    "outputId": "2df9c5b1-4396-475f-abae-3d55f1252acc"
   },
   "outputs": [],
   "source": [
    "# Guarda las características (features) en una variable X\n"
   ]
  },
  {
   "cell_type": "code",
   "execution_count": null,
   "id": "59ae0ec8",
   "metadata": {
    "colab": {
     "base_uri": "https://localhost:8080/"
    },
    "id": "59ae0ec8",
    "outputId": "1df61366-f87d-4f83-d6ee-d4bb8996fffc"
   },
   "outputs": [],
   "source": [
    "# Guarda el target en una variable y\n",
    "# Previamente, aplica un np.ravel() para aplanar los valores\n"
   ]
  },
  {
   "cell_type": "code",
   "execution_count": 24,
   "id": "266b0c1a",
   "metadata": {
    "id": "266b0c1a"
   },
   "outputs": [],
   "source": [
    "# Crea una partición de train (70% de los datos) y test (30%)\n",
    "# Fija una semilla de 42 para garantizar la repetibilidad de los resultados\n"
   ]
  },
  {
   "cell_type": "markdown",
   "id": "28b32cec",
   "metadata": {
    "id": "28b32cec"
   },
   "source": [
    "### Estandarización\n",
    "\n",
    "La estandarización de un conjunto de datos suele ser un requisito común, ya que el ajuste puede complicarse si las características individuales no se encuentran distribuidas normalmente (distribución gaussiana con media 0 y varianza unitaria)."
   ]
  },
  {
   "cell_type": "code",
   "execution_count": 26,
   "id": "220a6922",
   "metadata": {
    "id": "220a6922"
   },
   "outputs": [],
   "source": [
    "# Instancia el scaler y ajústalo en el set de entrenamiento\n"
   ]
  },
  {
   "cell_type": "code",
   "execution_count": 27,
   "id": "UPTaegcxT4FV",
   "metadata": {
    "id": "UPTaegcxT4FV"
   },
   "outputs": [],
   "source": [
    "# Escala el set de entrenamiento\n"
   ]
  },
  {
   "cell_type": "code",
   "execution_count": 28,
   "id": "g0MPr47RT9xy",
   "metadata": {
    "id": "g0MPr47RT9xy"
   },
   "outputs": [],
   "source": [
    "# Escala el set de pruebas\n"
   ]
  },
  {
   "cell_type": "markdown",
   "id": "f8a766cb",
   "metadata": {
    "id": "f8a766cb"
   },
   "source": [
    "## Definición de un modelo de red neuronal"
   ]
  },
  {
   "cell_type": "markdown",
   "id": "a2b3efa5",
   "metadata": {
    "id": "a2b3efa5"
   },
   "source": [
    "### Tipos de capas en Keras"
   ]
  },
  {
   "cell_type": "markdown",
   "id": "b01962e4",
   "metadata": {
    "id": "b01962e4"
   },
   "source": [
    "Las capas son los componentes básicos de las redes neuronales en Keras. Una instancia de Layer es invocable, al igual que una función:\n",
    "\n",
    "`from tensorflow.keras import layers\n",
    "layer = layers.Dense(32, activation='relu')\n",
    "inputs = tf.random.uniform(shape=(10, 20))\n",
    "outputs = layer(inputs)`\n",
    "\n",
    "Sin embargo, a diferencia de una función, las capas mantienen un estado, ya que sus pesos se actualizan cuando la capa recibe datos durante el entrenamiento, almacenándose en *layer.weights*.\n",
    "\n",
    "Las siguientes se pueden considerar las **capas fundamentales** de Keras:\n",
    "- **Capa Dense**, que simplemente es la clásica capa neuronal completamente conectada (documentación disponible en https://keras.io/api/layers/core_layers/dense/).\n",
    "- **Capa Conv1D**, que es una capa de convolución de 1D y que se usa, por ejemplo, para casos de convolución temporal (documentación disponible en https://keras.io/api/layers/convolution_layers/convolution1d/).\n",
    "- **Capa Conv2D**, que es una capa de convolución de 2D y que se usa, por ejemplo, para casos de convolución espacial sobre imágenes (documentación disponible en https://keras.io/api/layers/convolution_layers/convolution2d/).\n",
    "- **Capa Conv3D**, que es una capa de convolución de 3D y que se usa, por ejemplo, para casos de convolución espacial sobre volúmenes (documentación disponible en https://keras.io/api/layers/convolution_layers/convolution3d/).\n",
    "- **Capa SimpleRNN**, que es una capa recurrente completamente conectada donde la salida debe retroalimentarse a la entrada (documentación disponible en https://keras.io/api/layers/recurrent_layers/simple_rnn/). \n",
    "- **Capa LSTM**, que es una capa de tipo LSTM (documentación disponible en https://keras.io/api/layers/recurrent_layers/lstm/).\n",
    "- **Capa SimpleRNN**, que es una capa de tipo GRU (documentación disponible en https://keras.io/api/layers/recurrent_layers/gru/)."
   ]
  },
  {
   "cell_type": "markdown",
   "id": "0aef6b42",
   "metadata": {
    "id": "0aef6b42"
   },
   "source": [
    "### Funciones de activación de cada capa\n",
    "Cada capa debe tener asociada una función de activación, que se especifica mediante el argumento *activation* de la capa y que será la misma para todas las neuronas que compongan dicha capa. En Keras, se pueden utilizar, entre otras, las siguientes funciones de activación:\n",
    "\n",
    "- ***relu function***\n",
    "- ***sigmoid function***\n",
    "- ***softmax function***\n",
    "- ***softplus function***\n",
    "- ***softsign function***\n",
    "- ***tanh function***\n",
    "- ***elu function***\n",
    "- ***exponential function***\n",
    "\n",
    "***Para más información acerca de las funciones de activación de keras, consultar: https://keras.io/api/layers/activations/***"
   ]
  },
  {
   "cell_type": "markdown",
   "id": "c179f1ca",
   "metadata": {
    "id": "c179f1ca"
   },
   "source": [
    "### Inicialización de los pesos de una capa\n",
    "\n",
    "Hay distintas técnicas de inicialización de pesos de una capa, y además los argumentos de palabras clave que se utilizan para pasar inicializadores a las capas dependen de la capa. Por lo general, son simplemente *kernel_initializer* y *bias_initializer*. En Keras, están disponibles las siguientes opciones de inicialización de pesos:\n",
    "- **RandomNormal**\n",
    "- **RandomUniform**\n",
    "- **TruncatedNormal**\n",
    "- **Zeros**\n",
    "- **Ones**\n",
    "- **GlorotNormal**\n",
    "- **GlorotUniform**\n",
    "- **HeNormal**\n",
    "- **HeUniform**\n",
    "- **Identity**\n",
    "- **Orthogonal**\n",
    "- **Constant**\n",
    "- **VarianceScaling**\n",
    "\n",
    "***Para más información acerca de las técnicas de inicialización de pesos de keras, consultar: https://keras.io/api/layers/initializers/***"
   ]
  },
  {
   "cell_type": "markdown",
   "id": "c5aed0ec",
   "metadata": {
    "id": "c5aed0ec"
   },
   "source": [
    "### Ejemplo de definición de un modelo con varias capas en Keras\n",
    "Utilizando el método *add()* de Keras, se puede definir un modelo de red neuronal de forma secuencial como se muestra a continuación:\n",
    "\n",
    "`model = keras.Sequential(name=\"my_sequential\")`\n",
    "\n",
    "`model.add(layers.Dense(60, \n",
    "                        input_dim = 60,\n",
    "                        activation=\"relu\", \n",
    "                        kernel_initializer=\"glorot_uniform\",\n",
    "                        bias_initializer=\"zeros\",\n",
    "                        name=\"layer1\"))`\n",
    "\n",
    "En este caso, al modelo se le ha asignado el nombre \"my_sequential\" (útil para comparar varios modelos) y está compuesto únicamente por una capa con las siguientes características:\n",
    "- Es de tipo denso (completamente conectada)\n",
    "- Tiene 60 neuronas (*nodos* o, simplemente, *unidades*)\n",
    "- Función de activación ReLu\n",
    "- Inicialización de pesos mediante la técnica de Xavier Glorot *uniforme*\n",
    "- Inicialización de biases en 0\n",
    "- El nombre de la capa es \"layer1\"\n",
    "\n",
    "***Para más información acerca de los modelos secuenciales de keras, consultar: https://keras.io/guides/sequential_model/***"
   ]
  },
  {
   "cell_type": "markdown",
   "id": "5ffc4cd2",
   "metadata": {
    "id": "5ffc4cd2"
   },
   "source": [
    "A continuación, para seguir desarrollando el caso de uso de predicción del tipo de vino, utiliza el método *add()* de Keras y define un modelo secuencial de nombre \"Model_1\" con la siguiente estructura:\n",
    "- 1 capa de entrada de tipo denso con 12 neuronas,función de activación ReLu, inicialización de pesos mediante la técnica de Xavier uniforme, inicialización de biases en 0 y nombre de la capa \"Layer_1\". Asegúrate de que esta capa esté preparada para recibir entradas con las dimensiones de los datos que se han cargado al principio del notebook. *Nota: haz uso del argumento input_shape*.\n",
    "- 1 capa oculta de tipo denso con 8 neuronas, función de activación ReLu, inicialización de pesos mediante la técnica de Xavier uniforme, inicialización de biases en 0 y nombre de la capa \"Layer_2\".\n",
    "- 1 capa de salido de tipo denso con un número apropiado de neuronas y una función de activación también adecuada para la predicción que se desea obtener, inicialización de pesos mediante la técnica de Xavier uniforme, inicialización de biases en 0 y nombre de la capa \"Layer_3\"."
   ]
  },
  {
   "cell_type": "code",
   "execution_count": null,
   "id": "A1aiR69uUrzP",
   "metadata": {
    "colab": {
     "base_uri": "https://localhost:8080/"
    },
    "id": "A1aiR69uUrzP",
    "outputId": "0b04df45-f91c-4d94-e719-c6d08b4cb380"
   },
   "outputs": [],
   "source": [
    "# Calcula el input shape del modelo\n"
   ]
  },
  {
   "cell_type": "code",
   "execution_count": 40,
   "id": "41cf993b",
   "metadata": {
    "id": "41cf993b"
   },
   "outputs": [],
   "source": [
    "# Define el modelo\n"
   ]
  },
  {
   "cell_type": "code",
   "execution_count": null,
   "id": "98WTg3v3XcF5",
   "metadata": {
    "colab": {
     "base_uri": "https://localhost:8080/"
    },
    "id": "98WTg3v3XcF5",
    "outputId": "8ed9bec1-d4f5-4102-822c-1050f09225ab"
   },
   "outputs": [],
   "source": [
    "# Muestra el summary del modelo\n"
   ]
  },
  {
   "cell_type": "code",
   "execution_count": null,
   "id": "2wYe14-iXept",
   "metadata": {
    "colab": {
     "base_uri": "https://localhost:8080/"
    },
    "id": "2wYe14-iXept",
    "outputId": "a48195eb-3427-48f7-dfbc-566361361ec0"
   },
   "outputs": [],
   "source": [
    "# Muestra la configuración del modelo\n"
   ]
  },
  {
   "cell_type": "code",
   "execution_count": null,
   "id": "k-8T8fTiXihl",
   "metadata": {
    "colab": {
     "base_uri": "https://localhost:8080/"
    },
    "id": "k-8T8fTiXihl",
    "outputId": "a38242c6-207f-4cb2-8301-61994de8ccb3"
   },
   "outputs": [],
   "source": [
    "# Muestra los pesos recién inicializados del modelo\n"
   ]
  },
  {
   "cell_type": "markdown",
   "id": "5c5716bf",
   "metadata": {
    "id": "5c5716bf"
   },
   "source": [
    "## Compilación del modelo"
   ]
  },
  {
   "cell_type": "markdown",
   "id": "4eba203a",
   "metadata": {
    "id": "4eba203a"
   },
   "source": [
    "Antes de entrenar un modelo con el método *fit()* de Keras, es necesario especificar una función de pérdida, un optimizador y, opcionalmente, algunas métricas para monitorear.\n",
    "\n",
    "> Bloque con sangría\n",
    "\n",
    "\n",
    "\n",
    "Para ello, se le pasan estos hiperparámetros al modelo como argumentos del método *compile()* de Keras:\n",
    "\n",
    "`model.compile(\n",
    "    optimizer=keras.optimizers.RMSprop(learning_rate=1e-3),\n",
    "    loss=keras.losses.SparseCategoricalCrossentropy(),\n",
    "    metrics=[keras.metrics.SparseCategoricalAccuracy()],\n",
    ")`\n",
    "\n",
    "***Para más información acerca del método compile() de Keras, consultar: https://keras.io/api/models/model_training_apis/***"
   ]
  },
  {
   "cell_type": "markdown",
   "id": "dME_ZiYIdsl-",
   "metadata": {
    "id": "dME_ZiYIdsl-"
   },
   "source": [
    "### Tipos de funciones de pérdida\n",
    "El propósito de las funciones de pérdida es calcular la cantidad que un modelo debe buscar minimizar durante el entrenamiento.\n",
    "\n",
    "Las siguientes funciones de pérdida son de las más populares:\n",
    "- **BinaryCrossentropy**: calcula la pérdida de entropía cruzada entre etiquetas verdaderas y etiquetas predichas, por lo que se utiliza aplicaciones de clasificación binaria (etiquetas 0 o 1).\n",
    "- **CategoricalCrossentropy**: calcula la pérdida de entropía cruzada para dos o más clases de etiquetas. Espera que las etiquetas se proporcionen en una representación one_hot (es decir, de tipo *one hot encoding*). Esta codificación puede llevarse a cabo mediante el método get_dummies() de la librería pandas, mediante el OneHotEncoder() de Scikit Learn, de forma manual...\n",
    "\n",
    "***Para más información acerca de las funciones de pérdida disponibles en Keras, consultar https://keras.io/api/losses/***"
   ]
  },
  {
   "cell_type": "markdown",
   "id": "atWxdSrofjPJ",
   "metadata": {
    "id": "atWxdSrofjPJ"
   },
   "source": [
    "### Optimizadores\n",
    "\n",
    "El método fundamental de optimización en IA es el de descenso de gradiente. Sin embargo, existen muchas variaciones que se han ideado con el fin de poner solución a los diversos problemas que suelen experimentar las redes neuronales (como el de los mínimos locales).\n",
    "\n",
    "Algunos de los optimizadores disponibles en Keras son los siguientes:\n",
    "- **SGD** (el clásico Stochastic Gradient Descent)\n",
    "- **RMSprop**\n",
    "- **Adam**\n",
    "- **Adagrad**\n",
    "- **Adadelta** \n",
    "- **Adamax**\n",
    "- **Nadam**\n",
    "- **Ftrl**\n",
    "\n",
    "***Para más información acerca de los optimizadores disponibles en Keras, consultar https://keras.io/api/optimizers/*** "
   ]
  },
  {
   "cell_type": "markdown",
   "id": "UrCX7u-8hGw_",
   "metadata": {
    "id": "UrCX7u-8hGw_"
   },
   "source": [
    "### Métricas de monitorización\n",
    "Una métrica es una función que se utiliza para juzgar el rendimiento del modelo.\n",
    "\n",
    "Las funciones métricas son similares a las funciones de pérdida, excepto por el hecho de que los resultados de evaluación obtenidos por una métrica no se utilizan al entrenar el modelo, mientras que los de la pérdida sí. De todos modos, es posible utilizar cualquier función de pérdida como métrica.\n",
    "\n",
    "***Para más información acerca de los optimizadores disponibles en Keras, consultar https://keras.io/api/metrics/*** "
   ]
  },
  {
   "cell_type": "code",
   "execution_count": 44,
   "id": "_4Xfu_KxXPHk",
   "metadata": {
    "id": "_4Xfu_KxXPHk"
   },
   "outputs": [],
   "source": [
    "# Compila el modelo anterior, utilizando pérdida de tipo binary_crossentropy, \n",
    "# optimizador tipo Adam y métrica de monitorización de tipo accuracy\n"
   ]
  },
  {
   "cell_type": "markdown",
   "id": "rNjtytz3X_uh",
   "metadata": {
    "id": "rNjtytz3X_uh"
   },
   "source": [
    "## Ajuste del modelo"
   ]
  },
  {
   "cell_type": "code",
   "execution_count": null,
   "id": "Tg-R-Qi6YDcZ",
   "metadata": {
    "colab": {
     "base_uri": "https://localhost:8080/"
    },
    "id": "Tg-R-Qi6YDcZ",
    "outputId": "fb100e8c-3633-4be6-8f66-ea7b403a652b"
   },
   "outputs": [],
   "source": [
    "# Ajusta el modelo utilizando el set de entrenamiento\n",
    "# Establece 20 epochs y un tamaño de lote de 1 sola muestra\n",
    "# Para mostrar información durante el entrenamiento, establece la verbosidad en 1\n",
    "# Guarda el historial de entrenamiento en una variable llamada history\n"
   ]
  },
  {
   "cell_type": "markdown",
   "id": "GjbW-pU7YuvQ",
   "metadata": {
    "id": "GjbW-pU7YuvQ"
   },
   "source": [
    "## Evaluación "
   ]
  },
  {
   "cell_type": "code",
   "execution_count": null,
   "id": "dp3ZkgdAZBrZ",
   "metadata": {
    "colab": {
     "base_uri": "https://localhost:8080/"
    },
    "id": "dp3ZkgdAZBrZ",
    "outputId": "ffac0693-587d-49f9-e542-132235325e5b"
   },
   "outputs": [],
   "source": [
    "# Evalúa el modelo con el dataset de prueba\n",
    "# Usa el método evaluate() de Keras\n"
   ]
  },
  {
   "cell_type": "markdown",
   "id": "mVdkdngkZWTl",
   "metadata": {
    "id": "mVdkdngkZWTl"
   },
   "source": [
    "Edita esta celda de tipo Markdown y escribe algunas conclusiones acerca del resultado de la evaluación. ¿Qué significa cada uno de los dos valores que se muestran?"
   ]
  },
  {
   "cell_type": "markdown",
   "id": "lJnU8AuzZgZF",
   "metadata": {
    "id": "lJnU8AuzZgZF"
   },
   "source": [
    "## Predicción"
   ]
  },
  {
   "cell_type": "code",
   "execution_count": null,
   "id": "urw7dyktYy2D",
   "metadata": {
    "colab": {
     "base_uri": "https://localhost:8080/"
    },
    "id": "urw7dyktYy2D",
    "outputId": "50a2385e-c648-4639-e7fa-285a4e9f9698"
   },
   "outputs": [],
   "source": [
    "# Utiliza el modelo ajustado para realizar predicciones en el dataset de prueba\n",
    "# Usa el método predict() de Keras y guarda las predicciones en una variable llamada probs\n",
    "\n",
    "\n",
    "# Muestra las predicciones\n"
   ]
  },
  {
   "cell_type": "code",
   "execution_count": null,
   "id": "jhROi2_4amD9",
   "metadata": {
    "colab": {
     "base_uri": "https://localhost:8080/"
    },
    "id": "jhROi2_4amD9",
    "outputId": "56f6da15-09a8-415a-bc17-302899606dbc"
   },
   "outputs": [],
   "source": [
    "# Ahora, utiliza el modelo ajustado para realizar predicciones en el dataset de prueba\n",
    "# Para ello, ejecuta el código de esta misma celda:\n",
    "\n",
    "# Muestra las predicciones\n"
   ]
  },
  {
   "cell_type": "markdown",
   "id": "wY3e_FfccRea",
   "metadata": {
    "id": "wY3e_FfccRea"
   },
   "source": [
    "Edita esta celda de tipo Markdown y añade algunas conclusiones acerca de las dos predicciones realizadas en las celdas anteriores. ¿Qué diferencia hay entre ambas? ¿A qué se refiere cada una de ellas?"
   ]
  },
  {
   "cell_type": "markdown",
   "id": "S6KhjYaokNT4",
   "metadata": {
    "id": "S6KhjYaokNT4"
   },
   "source": [
    "## Ampliaciones"
   ]
  },
  {
   "cell_type": "markdown",
   "id": "gqGJWCJ5cvIj",
   "metadata": {
    "id": "gqGJWCJ5cvIj"
   },
   "source": [
    "### Primer experimento\n",
    "\n",
    "Tras la generación del modelo de clasificación binaria anterior, realiza ahora otro experimento con las siguientes variaciones:\n",
    "\n",
    "- Define y entrena un nuevo modelo utilizando 3 capas ocultas. Añade más de 20 neuronas en cada una de las capas ocultas.\n",
    "- Asigna \"Model_2\" como nombre de este nuevo modelo.\n",
    "- Evalúa el modelo utilizando el dataset de prueba."
   ]
  },
  {
   "cell_type": "code",
   "execution_count": 60,
   "id": "tGwmoknBhq9Y",
   "metadata": {
    "id": "tGwmoknBhq9Y"
   },
   "outputs": [],
   "source": [
    "# Define el modelo\n"
   ]
  },
  {
   "cell_type": "code",
   "execution_count": 61,
   "id": "d5IamxL7iJ-l",
   "metadata": {
    "id": "d5IamxL7iJ-l"
   },
   "outputs": [],
   "source": [
    "# Compila el modelo\n"
   ]
  },
  {
   "cell_type": "code",
   "execution_count": null,
   "id": "XXK9akTKiPhs",
   "metadata": {
    "colab": {
     "base_uri": "https://localhost:8080/"
    },
    "id": "XXK9akTKiPhs",
    "outputId": "9529a2f0-e340-465d-9f3d-07b02557ec8b"
   },
   "outputs": [],
   "source": [
    "# Entrena el modelo\n"
   ]
  },
  {
   "cell_type": "code",
   "execution_count": null,
   "id": "eKw-n9NAi7Pc",
   "metadata": {
    "colab": {
     "base_uri": "https://localhost:8080/"
    },
    "id": "eKw-n9NAi7Pc",
    "outputId": "d6d2454e-9eae-4c09-b6b4-cafce6dbf352"
   },
   "outputs": [],
   "source": [
    "# Evalúa el modelo\n"
   ]
  },
  {
   "cell_type": "markdown",
   "id": "gNRd2CHFjE10",
   "metadata": {
    "id": "gNRd2CHFjE10"
   },
   "source": [
    "Edita esta celda de tipo Markdown y escribe algunas conclusiones comparando el rendimiento de los dos modelos entrenados hasta este momento. ¿Ha mejorado sustancialmente el rendimiento del modelo al hacer más compleja la arquitectura? ¿Ha merecido la pena?"
   ]
  },
  {
   "cell_type": "markdown",
   "id": "pOeYr3QYiku2",
   "metadata": {
    "id": "pOeYr3QYiku2"
   },
   "source": [
    "### Segundo experimento\n",
    "\n",
    "Hasta ahora, no hemos controlado el verdadero rendimiento del modelo durante el entrenamiento, ya que no hemos utilizado ningún set de validación ni ninguna técnica de paralización inteligente del ajuste para prevenir el overfitting. \n",
    "\n",
    "Por suerte, nuestros dos modelos han respondido bien ante los datos de prueba una vez entrenados, pero podría haberse producido un gran sobreajuste al aumentar tanto la complejidad del modelo. En general, existen dos técnicas básicas muy efectivas para controlar este riesgo:\n",
    "- Regularización, que puede aplicarse de varias maneras. En Keras, los regularizadores se aplican capa a capa.\n",
    "- Early stopping, que monitorea el rendimiento del modelo durante el entrenamiento al realizar una validación en un subconjunto de validación a medida que se avanza en el ajuste. Cuando se detecta que el rendimiento del modelo empieza a empeorar en el dataset de validación y, en cambio, sigue aumentando en el de entrenamiento, se finaliza automáticamente el ajuste. De esta manera, se evita que empeore el overfitting que estaba empezando a producirse.\n",
    "\n",
    "Ejemplo de aplicación de regularización en una capa:\n",
    "\n",
    "`layers.Dense(\n",
    "    units=64,\n",
    "    kernel_regularizer= \"l1_l2\",\n",
    "    bias_regularizer= \"l2\",\n",
    "    activity_regularizer= \"l2\"\n",
    ")`\n",
    "\n",
    "Donde:\n",
    "- kernel_regularizer aplica una penalización en el kernel de la capa\n",
    "- bias_regularizer aplica una penalización en el sesgo de la capa\n",
    "- activity_regularizer aplica una penalización en la salida de la capa\n",
    "\n",
    "Por otro lado, a continuación se muestra un ejemplo de aplicación de early stopping durante el entrenamiento:\n",
    "\n",
    "`callback = tf.keras.callbacks.EarlyStopping(monitor='loss', patience=3)`\n",
    "\n",
    "`# Este callback finalizará automáticamente el entrenamiento cuando no haya mejora en la pérdida durante 3 epochs consecutivas`\n",
    "\n",
    "`model = tf.keras.models.Sequential([tf.keras.layers.Dense(10)])`\n",
    "\n",
    "`model.compile(tf.keras.optimizers.SGD(), loss='mse')`\n",
    "\n",
    "`history = model.fit(np.arange(100).reshape(5, 20), np.zeros(5),\n",
    "                     epochs=10, batch_size=1, callbacks=[callback],\n",
    "                     verbose=0)`\n",
    "\n",
    "***Para más información acerca de los regularizadores disponibles en Keras, consultar https://keras.io/api/layers/regularizers/*** \n",
    "\n",
    "***Para más información acerca de los optimizadores disponibles en Keras, consultar https://keras.io/api/callbacks/early_stopping/***  \n"
   ]
  },
  {
   "cell_type": "markdown",
   "id": "ITPn28VkmavC",
   "metadata": {
    "id": "ITPn28VkmavC"
   },
   "source": [
    "Como segundo experimento, define, entrena y evalúa el mismo modelo utilizado en el experimento 1, aplicando:\n",
    "- Regularización en el kernel de la capa de tipo L1 (Lasso) \n",
    "- Early stopping con paciencia máxima para 3 epochs"
   ]
  },
  {
   "cell_type": "code",
   "execution_count": null,
   "id": "H6Lpr4CqmUHT",
   "metadata": {
    "id": "H6Lpr4CqmUHT"
   },
   "outputs": [],
   "source": []
  },
  {
   "cell_type": "markdown",
   "id": "hrl3InppkYOs",
   "metadata": {
    "id": "hrl3InppkYOs"
   },
   "source": [
    "### Tercer experimento\n",
    "Realiza ahora las siguientes variaciones:\n",
    "- Establece la variable \"quality\" como el nuevo target y utiliza el resto de variables (incluida \"type\") como features. Ten en cuenta que, de esta forma, el problema pasa a ser de clasificación multiclase, así que haz los cambios necesarios en la arquitectura y compilación del modelo.\n",
    "- Nombra al modelo \"Model_3\".\n",
    "- Experimenta con algún nuevo optimizador.\n",
    "- Inicializa los pesos de forma adecuada.\n",
    "- Añade algún tipo de regularización.\n",
    "- Entrena y evalúa este nuevo modelo utilizando el dataset de prueba. \n",
    "- Aplica early stopping.\n"
   ]
  },
  {
   "cell_type": "code",
   "execution_count": null,
   "id": "YKMTfIguj-dP",
   "metadata": {
    "id": "YKMTfIguj-dP"
   },
   "outputs": [],
   "source": []
  }
 ],
 "metadata": {
  "colab": {
   "name": "IA - Taller de refuerzo de Keras (I).ipynb",
   "provenance": [],
   "toc_visible": true
  },
  "hide_input": false,
  "kernelspec": {
   "display_name": "Python 3 (ipykernel)",
   "language": "python",
   "name": "python3"
  },
  "language_info": {
   "codemirror_mode": {
    "name": "ipython",
    "version": 3
   },
   "file_extension": ".py",
   "mimetype": "text/x-python",
   "name": "python",
   "nbconvert_exporter": "python",
   "pygments_lexer": "ipython3",
   "version": "3.8.0"
  },
  "toc": {
   "base_numbering": 1,
   "nav_menu": {},
   "number_sections": true,
   "sideBar": true,
   "skip_h1_title": false,
   "title_cell": "Table of Contents",
   "title_sidebar": "Contents",
   "toc_cell": false,
   "toc_position": {},
   "toc_section_display": true,
   "toc_window_display": true
  },
  "varInspector": {
   "cols": {
    "lenName": 16,
    "lenType": 16,
    "lenVar": 40
   },
   "kernels_config": {
    "python": {
     "delete_cmd_postfix": "",
     "delete_cmd_prefix": "del ",
     "library": "var_list.py",
     "varRefreshCmd": "print(var_dic_list())"
    },
    "r": {
     "delete_cmd_postfix": ") ",
     "delete_cmd_prefix": "rm(",
     "library": "var_list.r",
     "varRefreshCmd": "cat(var_dic_list()) "
    }
   },
   "types_to_exclude": [
    "module",
    "function",
    "builtin_function_or_method",
    "instance",
    "_Feature"
   ],
   "window_display": false
  }
 },
 "nbformat": 4,
 "nbformat_minor": 5
}
