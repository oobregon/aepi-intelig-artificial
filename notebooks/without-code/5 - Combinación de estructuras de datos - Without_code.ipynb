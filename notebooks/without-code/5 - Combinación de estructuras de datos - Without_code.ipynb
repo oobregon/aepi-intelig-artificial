{
 "cells": [
  {
   "cell_type": "markdown",
   "metadata": {
    "toc": true
   },
   "source": [
    "<h1>Table of Contents<span class=\"tocSkip\"></span></h1>\n",
    "<div class=\"toc\"><ul class=\"toc-item\"><li><span><a href=\"#pd.concat():-concatenación-de-objetos\" data-toc-modified-id=\"pd.concat():-concatenación-de-objetos-1\"><span class=\"toc-item-num\">1&nbsp;&nbsp;</span>pd.concat(): concatenación de objetos</a></span></li><li><span><a href=\"#df.append():-una-especie-de-atajo-a-pd.concat()\" data-toc-modified-id=\"df.append():-una-especie-de-atajo-a-pd.concat()-2\"><span class=\"toc-item-num\">2&nbsp;&nbsp;</span>df.append(): una especie de atajo a pd.concat()</a></span></li><li><span><a href=\"#df.merge()\" data-toc-modified-id=\"df.merge()-3\"><span class=\"toc-item-num\">3&nbsp;&nbsp;</span>df.merge()</a></span></li><li><span><a href=\"#df.join()\" data-toc-modified-id=\"df.join()-4\"><span class=\"toc-item-num\">4&nbsp;&nbsp;</span>df.join()</a></span></li></ul></div>"
   ]
  },
  {
   "cell_type": "markdown",
   "metadata": {},
   "source": [
    "Pandas cuenta con múltiples funcionalidades para combinar de forma sencilla varias Series o DataFrames."
   ]
  },
  {
   "cell_type": "code",
   "execution_count": null,
   "metadata": {},
   "outputs": [],
   "source": []
  },
  {
   "cell_type": "markdown",
   "metadata": {},
   "source": [
    "# pd.concat(): concatenación de objetos"
   ]
  },
  {
   "cell_type": "markdown",
   "metadata": {},
   "source": [
    "**pd.concat()** permite concatenar objetos a lo largo del eje X (\"pegando\" unas filas debajo de otras) o a lo largo del eje Y (\"pegando\" unas columnas al lado de otras). Por supuesto, en el caso de las Series solo hay un posible eje a lo largo del cual concatenar."
   ]
  },
  {
   "cell_type": "markdown",
   "metadata": {},
   "source": [
    "Esta función toma una lista o un diccionario de objetos del mismo tipo y los concatena, permitiendo especificar algunas opciones acerce de \"qué hacer con los otros ejes\"."
   ]
  },
  {
   "cell_type": "markdown",
   "metadata": {},
   "source": [
    "Vamos a ver los parámetros más relevantes:\n",
    "- **axis** indica el eje a lo largo del cual se quieren concatenar los objetos. Por defecto es 0 (para los DataFrames, este es el eje de las filas, mientras que para las Series este es el único eje posible), aunque puede ser 0,1... \n",
    "- **join** permite indicar \"qué hacer con los otros ejes\":\n",
    "    - Si se quiere llevar a cabo una unión, hay que fijar el parámetro join=\"outer\". Esta es la opción por defecto, ya que no conlleva ninguna pérdida de información.\n",
    "    - Para llevar a cabo una intersección, hay que fijar join=\"inner\". Esta opción, en muchos casos, provocará una pérdida de información.\n",
    "- **ignore_index** permite indicar si se desea ignorar los índices originales de las estructuras de datos que se están combinando. Si es \"True\", entonces creará un nuevo índice automático de números consecutivos, empezando en 0."
   ]
  },
  {
   "cell_type": "code",
   "execution_count": null,
   "metadata": {},
   "outputs": [],
   "source": []
  },
  {
   "cell_type": "markdown",
   "metadata": {},
   "source": [
    "También es posible concatenar una combinación de objetos de tipo Serie y DataFrame. La Serie se transformará en DataFrame con el nombre de la columna como el nombre de la serie. Si se pasan Series sin nombres concretos, se numerarán consecutivamente."
   ]
  },
  {
   "cell_type": "code",
   "execution_count": null,
   "metadata": {},
   "outputs": [],
   "source": []
  },
  {
   "cell_type": "markdown",
   "metadata": {},
   "source": [
    "# df.append(): una especie de atajo a pd.concat()"
   ]
  },
  {
   "cell_type": "markdown",
   "metadata": {},
   "source": [
    "Este método concatena estructuras de datos a lo largo del eje=0, es decir, concatena filas. Las columnas de la segunda estructura que no están en la primera, se agregan como nuevas columnas. Es muy sencillo y tiene muy pocos parámetros, entre los cuales destaca principalmente el siguiente:\n",
    "- **ignore_index** permite indicar si se desea ignorar los índices originales de las estructuras de datos que se están combinando. Si es \"True\", entonces creará un nuevo índice automático de números consecutivos, empezando en 0."
   ]
  },
  {
   "cell_type": "markdown",
   "metadata": {},
   "source": [
    "En el caso de combinar DataFrames, los índices deben ser diferentes, pero las columnas no necesariamente tienen que serlo."
   ]
  },
  {
   "cell_type": "code",
   "execution_count": null,
   "metadata": {},
   "outputs": [],
   "source": []
  },
  {
   "cell_type": "markdown",
   "metadata": {},
   "source": [
    "Es importante tener en cuenta que *concat()* y *append()* hacen una copia completa de los datos y que, por tanto, su reutilización constante puede causar un impacto negativo en el rendimiento."
   ]
  },
  {
   "cell_type": "markdown",
   "metadata": {},
   "source": [
    "# df.merge()"
   ]
  },
  {
   "cell_type": "markdown",
   "metadata": {},
   "source": [
    "Pandas también cuenta con un *join* muy similar al que se utiliza en SQL, pero en este caso se llama *merge()*. Veamos los parámetros más importantes:\n",
    "\n",
    "- **left** es un DataFrame o una serie.\n",
    "\n",
    "- **right** es otro DataFrame o serie.\n",
    "\n",
    "- **on** son los nombres de columna o niveles de índice para unirse, que deben estar presentes tanto en el DataFrame de la izquierda como en el de la derecha. \n",
    "\n",
    "- **left_on** son las columnas o niveles de índice del DataFrame o Serie de la izquierda para usar como claves. \n",
    "\n",
    "- **right_on** son las columnas o niveles de índice del DataFrame o Serie de la derecha para usar como claves. \n",
    "\n",
    "- **how** puede ser 'left', 'right', 'outer' o 'inner'. Por defecto es 'inner'. "
   ]
  },
  {
   "cell_type": "code",
   "execution_count": null,
   "metadata": {},
   "outputs": [],
   "source": []
  },
  {
   "cell_type": "markdown",
   "metadata": {},
   "source": [
    "# df.join()"
   ]
  },
  {
   "cell_type": "markdown",
   "metadata": {},
   "source": [
    "**df.join()** permite unir columnas de un DataFrame a las de otro. Sus principales parámetros son:\n",
    "- **on** son los nombres de las columnas o nivel de índice de un DataFrame sobre los cuales se unirá el otro.\n",
    "\n",
    "- **how** puede ser ‘left’ (por defecto), ‘right’, ‘outer’ o ‘inner’."
   ]
  },
  {
   "cell_type": "markdown",
   "metadata": {},
   "source": [
    "Las siguientes operaciones son completamente equivalentes:\n",
    "    \n",
    "left.join(right, on=key_or_keys)\n",
    "\n",
    "left.merge(right, left_on=key_or_keys, right_index=True,\n",
    "      how='left', sort=False)"
   ]
  },
  {
   "cell_type": "code",
   "execution_count": null,
   "metadata": {},
   "outputs": [],
   "source": []
  }
 ],
 "metadata": {
  "hide_input": false,
  "kernelspec": {
   "display_name": "Python 3",
   "language": "python",
   "name": "python3"
  },
  "language_info": {
   "codemirror_mode": {
    "name": "ipython",
    "version": 3
   },
   "file_extension": ".py",
   "mimetype": "text/x-python",
   "name": "python",
   "nbconvert_exporter": "python",
   "pygments_lexer": "ipython3",
   "version": "3.8.5"
  },
  "toc": {
   "base_numbering": 1,
   "nav_menu": {},
   "number_sections": true,
   "sideBar": true,
   "skip_h1_title": false,
   "title_cell": "Table of Contents",
   "title_sidebar": "Contents",
   "toc_cell": true,
   "toc_position": {},
   "toc_section_display": true,
   "toc_window_display": false
  },
  "varInspector": {
   "cols": {
    "lenName": 16,
    "lenType": 16,
    "lenVar": 40
   },
   "kernels_config": {
    "python": {
     "delete_cmd_postfix": "",
     "delete_cmd_prefix": "del ",
     "library": "var_list.py",
     "varRefreshCmd": "print(var_dic_list())"
    },
    "r": {
     "delete_cmd_postfix": ") ",
     "delete_cmd_prefix": "rm(",
     "library": "var_list.r",
     "varRefreshCmd": "cat(var_dic_list()) "
    }
   },
   "types_to_exclude": [
    "module",
    "function",
    "builtin_function_or_method",
    "instance",
    "_Feature"
   ],
   "window_display": false
  }
 },
 "nbformat": 4,
 "nbformat_minor": 2
}
