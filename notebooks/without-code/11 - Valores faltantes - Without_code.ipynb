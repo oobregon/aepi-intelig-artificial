{
 "cells": [
  {
   "cell_type": "markdown",
   "metadata": {
    "toc": true
   },
   "source": [
    "<h1>Table of Contents<span class=\"tocSkip\"></span></h1>\n",
    "<div class=\"toc\"><ul class=\"toc-item\"><li><span><a href=\"#Detectar-valores-faltantes\" data-toc-modified-id=\"Detectar-valores-faltantes-1\"><span class=\"toc-item-num\">1&nbsp;&nbsp;</span>Detectar valores faltantes</a></span><ul class=\"toc-item\"><li><span><a href=\"#¿Hay-algún-NaN-en-el-DataFrame?\" data-toc-modified-id=\"¿Hay-algún-NaN-en-el-DataFrame?-1.1\"><span class=\"toc-item-num\">1.1&nbsp;&nbsp;</span>¿Hay algún <em>NaN</em> en el DataFrame?</a></span></li><li><span><a href=\"#¿En-qué-columnas-hay-NaN?\" data-toc-modified-id=\"¿En-qué-columnas-hay-NaN?-1.2\"><span class=\"toc-item-num\">1.2&nbsp;&nbsp;</span>¿En qué columnas hay <em>NaN</em>?</a></span></li><li><span><a href=\"#¿Cuántos-NaN-hay-en-cada-columna?\" data-toc-modified-id=\"¿Cuántos-NaN-hay-en-cada-columna?-1.3\"><span class=\"toc-item-num\">1.3&nbsp;&nbsp;</span>¿Cuántos <em>NaN</em> hay en cada columna?</a></span></li><li><span><a href=\"#¿Cuántos-NaN-hay-en-total?\" data-toc-modified-id=\"¿Cuántos-NaN-hay-en-total?-1.4\"><span class=\"toc-item-num\">1.4&nbsp;&nbsp;</span>¿Cuántos <em>NaN</em> hay en total?</a></span></li><li><span><a href=\"#Extracción-de-filas-con-NaN\" data-toc-modified-id=\"Extracción-de-filas-con-NaN-1.5\"><span class=\"toc-item-num\">1.5&nbsp;&nbsp;</span>Extracción de filas con <em>NaN</em></a></span></li><li><span><a href=\"#Extracción-de-columnas-con-NaN\" data-toc-modified-id=\"Extracción-de-columnas-con-NaN-1.6\"><span class=\"toc-item-num\">1.6&nbsp;&nbsp;</span>Extracción de columnas con <em>NaN</em></a></span></li><li><span><a href=\"#Posiciones-de-los-NaN\" data-toc-modified-id=\"Posiciones-de-los-NaN-1.7\"><span class=\"toc-item-num\">1.7&nbsp;&nbsp;</span>Posiciones de los <em>NaN</em></a></span></li></ul></li><li><span><a href=\"#Eliminar-filas-y/o-columnas-con-valores-faltantes\" data-toc-modified-id=\"Eliminar-filas-y/o-columnas-con-valores-faltantes-2\"><span class=\"toc-item-num\">2&nbsp;&nbsp;</span>Eliminar filas y/o columnas con valores faltantes</a></span><ul class=\"toc-item\"><li><span><a href=\"#Eliminar-filas-con,-al-menos,-un-NaN\" data-toc-modified-id=\"Eliminar-filas-con,-al-menos,-un-NaN-2.1\"><span class=\"toc-item-num\">2.1&nbsp;&nbsp;</span>Eliminar filas con, al menos, un <em>NaN</em></a></span></li><li><span><a href=\"#Eliminar-filas-en-las-que-todos-los-valores-son-NaN\" data-toc-modified-id=\"Eliminar-filas-en-las-que-todos-los-valores-son-NaN-2.2\"><span class=\"toc-item-num\">2.2&nbsp;&nbsp;</span>Eliminar filas en las que todos los valores son <em>NaN</em></a></span></li><li><span><a href=\"#Mantener-filas-con,-al-menos,-un-número-concreto-de-valores-no-vacíos\" data-toc-modified-id=\"Mantener-filas-con,-al-menos,-un-número-concreto-de-valores-no-vacíos-2.3\"><span class=\"toc-item-num\">2.3&nbsp;&nbsp;</span>Mantener filas con, al menos, un número concreto de valores no vacíos</a></span></li><li><span><a href=\"#Eliminar-filas-que-tengan-NaN-en-ciertas-columnas\" data-toc-modified-id=\"Eliminar-filas-que-tengan-NaN-en-ciertas-columnas-2.4\"><span class=\"toc-item-num\">2.4&nbsp;&nbsp;</span>Eliminar filas que tengan <em>NaN</em> en ciertas columnas</a></span></li><li><span><a href=\"#Eliminar-columnas-que-tengan-al-menos-un-NaN\" data-toc-modified-id=\"Eliminar-columnas-que-tengan-al-menos-un-NaN-2.5\"><span class=\"toc-item-num\">2.5&nbsp;&nbsp;</span>Eliminar columnas que tengan al menos un <em>NaN</em></a></span></li></ul></li><li><span><a href=\"#Extracción-de-filas-sin-NaN\" data-toc-modified-id=\"Extracción-de-filas-sin-NaN-3\"><span class=\"toc-item-num\">3&nbsp;&nbsp;</span>Extracción de filas sin NaN</a></span></li><li><span><a href=\"#Relleno-de-valores-faltantes\" data-toc-modified-id=\"Relleno-de-valores-faltantes-4\"><span class=\"toc-item-num\">4&nbsp;&nbsp;</span>Relleno de valores faltantes</a></span><ul class=\"toc-item\"><li><span><a href=\"#Relleno-con-un-valor-constante\" data-toc-modified-id=\"Relleno-con-un-valor-constante-4.1\"><span class=\"toc-item-num\">4.1&nbsp;&nbsp;</span>Relleno con un valor constante</a></span></li><li><span><a href=\"#Relleno-con-el-valor-anterior\" data-toc-modified-id=\"Relleno-con-el-valor-anterior-4.2\"><span class=\"toc-item-num\">4.2&nbsp;&nbsp;</span>Relleno con el valor anterior</a></span></li><li><span><a href=\"#Relleno-con-el-valor-posterior\" data-toc-modified-id=\"Relleno-con-el-valor-posterior-4.3\"><span class=\"toc-item-num\">4.3&nbsp;&nbsp;</span>Relleno con el valor posterior</a></span></li><li><span><a href=\"#Relleno-mediante-un-diccionario-de-valores\" data-toc-modified-id=\"Relleno-mediante-un-diccionario-de-valores-4.4\"><span class=\"toc-item-num\">4.4&nbsp;&nbsp;</span>Relleno mediante un diccionario de valores</a></span></li><li><span><a href=\"#Relleno-estableciendo-un-límite\" data-toc-modified-id=\"Relleno-estableciendo-un-límite-4.5\"><span class=\"toc-item-num\">4.5&nbsp;&nbsp;</span>Relleno estableciendo un límite</a></span></li><li><span><a href=\"#Relleno-con-un-valor-interpolado\" data-toc-modified-id=\"Relleno-con-un-valor-interpolado-4.6\"><span class=\"toc-item-num\">4.6&nbsp;&nbsp;</span>Relleno con un valor interpolado</a></span></li><li><span><a href=\"#Imputación-con-información-adicional\" data-toc-modified-id=\"Imputación-con-información-adicional-4.7\"><span class=\"toc-item-num\">4.7&nbsp;&nbsp;</span>Imputación con información adicional</a></span></li></ul></li></ul></div>"
   ]
  },
  {
   "cell_type": "markdown",
   "metadata": {},
   "source": [
    "Es común encontrar valores faltantes en los conjuntos de datos, los cuales suelen expresarse como **\"NaN\"** (\"Not a Number\") o como **\"NA\"** (\"Not Available\"), aunque también pueden aparecer de otras maneras (\"NaT\" para \"Not a Time\", \"None\", etc.). \n",
    "Muchas librerías de aprendizaje automático requieren datos completos, sin valores vacíos. Por ello, es muy importante aprender a detectarlos y, sobre todo, aprender a rellenarlos o eliminarlos cuando sea necesario."
   ]
  },
  {
   "cell_type": "markdown",
   "metadata": {},
   "source": [
    "En pandas, los NaN se interpretan como valores de tipo *float*, por lo que una columna de enteros con al menos un NaN, se transformará en una columna de tipo *float*."
   ]
  },
  {
   "cell_type": "code",
   "execution_count": null,
   "metadata": {},
   "outputs": [],
   "source": []
  },
  {
   "cell_type": "code",
   "execution_count": null,
   "metadata": {},
   "outputs": [],
   "source": []
  },
  {
   "cell_type": "markdown",
   "metadata": {},
   "source": [
    "# Detectar valores faltantes"
   ]
  },
  {
   "cell_type": "markdown",
   "metadata": {},
   "source": [
    "## ¿Hay algún *NaN* en el DataFrame?"
   ]
  },
  {
   "cell_type": "markdown",
   "metadata": {},
   "source": [
    "El siguiente código devuelve \"True\" si existe algún *NaN* en nuestro DataFrame:"
   ]
  },
  {
   "cell_type": "code",
   "execution_count": null,
   "metadata": {},
   "outputs": [],
   "source": []
  },
  {
   "cell_type": "markdown",
   "metadata": {},
   "source": [
    "## ¿En qué columnas hay *NaN*?"
   ]
  },
  {
   "cell_type": "markdown",
   "metadata": {},
   "source": [
    "Para saber en qué columnas se encuentran los *NaN* podemos hacer:"
   ]
  },
  {
   "cell_type": "code",
   "execution_count": null,
   "metadata": {},
   "outputs": [],
   "source": []
  },
  {
   "cell_type": "markdown",
   "metadata": {},
   "source": [
    "## ¿Cuántos *NaN* hay en cada columna?"
   ]
  },
  {
   "cell_type": "markdown",
   "metadata": {},
   "source": [
    "Para conocer el número de *NaN* que hay en cada columna:"
   ]
  },
  {
   "cell_type": "code",
   "execution_count": null,
   "metadata": {},
   "outputs": [],
   "source": []
  },
  {
   "cell_type": "markdown",
   "metadata": {},
   "source": [
    "## ¿Cuántos *NaN* hay en total?"
   ]
  },
  {
   "cell_type": "code",
   "execution_count": null,
   "metadata": {},
   "outputs": [],
   "source": []
  },
  {
   "cell_type": "markdown",
   "metadata": {},
   "source": [
    "## Extracción de filas con *NaN*"
   ]
  },
  {
   "cell_type": "code",
   "execution_count": null,
   "metadata": {},
   "outputs": [],
   "source": []
  },
  {
   "cell_type": "markdown",
   "metadata": {},
   "source": [
    "## Extracción de columnas con *NaN*"
   ]
  },
  {
   "cell_type": "code",
   "execution_count": null,
   "metadata": {},
   "outputs": [],
   "source": []
  },
  {
   "cell_type": "markdown",
   "metadata": {},
   "source": [
    "## Posiciones de los *NaN*"
   ]
  },
  {
   "cell_type": "code",
   "execution_count": null,
   "metadata": {},
   "outputs": [],
   "source": []
  },
  {
   "cell_type": "markdown",
   "metadata": {},
   "source": [
    "# Eliminar filas y/o columnas con valores faltantes"
   ]
  },
  {
   "cell_type": "markdown",
   "metadata": {},
   "source": [
    "Para evitar el problema de los valores faltantes, la opción más simple consiste en eliminar las columnas que tienen valores faltantes y dejar solo aquellas que están completas. Sin embargo, este enfoque puede provocar que el modelo pierda información valiosa.\n",
    "\n",
    "Para eliminar filas o columnas con valores faltantes, es muy útil *dropna()* de pandas."
   ]
  },
  {
   "cell_type": "markdown",
   "metadata": {},
   "source": [
    "## Eliminar filas con, al menos, un *NaN*"
   ]
  },
  {
   "cell_type": "code",
   "execution_count": null,
   "metadata": {},
   "outputs": [],
   "source": []
  },
  {
   "cell_type": "markdown",
   "metadata": {},
   "source": [
    "## Eliminar filas en las que todos los valores son *NaN*"
   ]
  },
  {
   "cell_type": "code",
   "execution_count": null,
   "metadata": {},
   "outputs": [],
   "source": []
  },
  {
   "cell_type": "markdown",
   "metadata": {},
   "source": [
    "## Mantener filas con, al menos, un número concreto de valores no vacíos"
   ]
  },
  {
   "cell_type": "code",
   "execution_count": null,
   "metadata": {},
   "outputs": [],
   "source": []
  },
  {
   "cell_type": "code",
   "execution_count": 1,
   "metadata": {},
   "outputs": [],
   "source": [
    "# Mantenemos las filas con, al menos, 2 valores que no estén vacíos"
   ]
  },
  {
   "cell_type": "markdown",
   "metadata": {},
   "source": [
    "## Eliminar filas que tengan *NaN* en ciertas columnas"
   ]
  },
  {
   "cell_type": "code",
   "execution_count": null,
   "metadata": {},
   "outputs": [],
   "source": []
  },
  {
   "cell_type": "markdown",
   "metadata": {},
   "source": [
    "## Eliminar columnas que tengan al menos un *NaN* "
   ]
  },
  {
   "cell_type": "code",
   "execution_count": null,
   "metadata": {},
   "outputs": [],
   "source": []
  },
  {
   "cell_type": "markdown",
   "metadata": {},
   "source": [
    "# Extracción de filas sin NaN"
   ]
  },
  {
   "cell_type": "markdown",
   "metadata": {},
   "source": [
    "También puede ser interesante extraer las filas que no tienen NaN en una determinada columna, en lugar de eliminar las filas que tienen NaN."
   ]
  },
  {
   "cell_type": "code",
   "execution_count": null,
   "metadata": {},
   "outputs": [],
   "source": []
  },
  {
   "cell_type": "markdown",
   "metadata": {},
   "source": [
    "# Relleno de valores faltantes"
   ]
  },
  {
   "cell_type": "markdown",
   "metadata": {},
   "source": [
    "El método de imputación rellena los valores faltantes con algún valor, como por ejemplo la media artmética de los valores de la columna. Aunque no es perfecto, este método es generalmente más efectivo que eliminar columnas completas.\n",
    "\n",
    "Para rellenar valores faltantes, es muy útil *fillna()* de pandas."
   ]
  },
  {
   "cell_type": "markdown",
   "metadata": {},
   "source": [
    "## Relleno con un valor constante"
   ]
  },
  {
   "cell_type": "code",
   "execution_count": 2,
   "metadata": {},
   "outputs": [],
   "source": [
    "# Relleno de todos los valores faltantes del df con texto"
   ]
  },
  {
   "cell_type": "code",
   "execution_count": 3,
   "metadata": {},
   "outputs": [],
   "source": [
    "# Relleno de todos los valores faltantes del df con un escalar"
   ]
  },
  {
   "cell_type": "code",
   "execution_count": 4,
   "metadata": {},
   "outputs": [],
   "source": [
    "# Relleno de los valores faltantes de una columna concreta"
   ]
  },
  {
   "cell_type": "code",
   "execution_count": 5,
   "metadata": {},
   "outputs": [],
   "source": [
    "# Relleno de los valores faltantes de cada columna con su media respectiva"
   ]
  },
  {
   "cell_type": "markdown",
   "metadata": {},
   "source": [
    "## Relleno con el valor anterior"
   ]
  },
  {
   "cell_type": "markdown",
   "metadata": {},
   "source": [
    "Con datos de series de tiempo, el uso de \"pad\" / \"ffill\" es extremadamente común para que el \"último valor conocido\" esté disponible en cada punto de tiempo."
   ]
  },
  {
   "cell_type": "code",
   "execution_count": null,
   "metadata": {},
   "outputs": [],
   "source": []
  },
  {
   "cell_type": "markdown",
   "metadata": {},
   "source": [
    "## Relleno con el valor posterior"
   ]
  },
  {
   "cell_type": "markdown",
   "metadata": {},
   "source": [
    "Esta opción se puede indicar tanto con \"bfill\" como con \"backfill\":"
   ]
  },
  {
   "cell_type": "code",
   "execution_count": null,
   "metadata": {},
   "outputs": [],
   "source": []
  },
  {
   "cell_type": "markdown",
   "metadata": {},
   "source": [
    "## Relleno mediante un diccionario de valores"
   ]
  },
  {
   "cell_type": "code",
   "execution_count": null,
   "metadata": {},
   "outputs": [],
   "source": []
  },
  {
   "cell_type": "markdown",
   "metadata": {},
   "source": [
    "## Relleno estableciendo un límite"
   ]
  },
  {
   "cell_type": "code",
   "execution_count": null,
   "metadata": {},
   "outputs": [],
   "source": []
  },
  {
   "cell_type": "markdown",
   "metadata": {},
   "source": [
    "## Relleno con un valor interpolado"
   ]
  },
  {
   "cell_type": "markdown",
   "metadata": {},
   "source": [
    "Los objetos Series y DataFrame tienen interpolate() que, por defecto, realiza una interpolación lineal en los puntos de datos faltantes."
   ]
  },
  {
   "cell_type": "markdown",
   "metadata": {},
   "source": [
    "- Si se trata de una serie temporal que está creciendo a un ritmo creciente, puede ser más apropiado method='quadratic'.\n",
    "\n",
    "- Si hay valores aproximados a una función de distribución acumulativa, entonces method='pchip'debería funcionar bien.\n",
    "\n",
    "- Para completar los valores faltantes con un trazado suave, considere method='akima'."
   ]
  },
  {
   "cell_type": "markdown",
   "metadata": {},
   "source": [
    "Al interpolar a través de una aproximación polinómica o spline, también se debe especificar el grado u orden de la aproximación:"
   ]
  },
  {
   "cell_type": "code",
   "execution_count": null,
   "metadata": {},
   "outputs": [],
   "source": []
  },
  {
   "cell_type": "markdown",
   "metadata": {},
   "source": [
    "## Imputación con información adicional"
   ]
  },
  {
   "cell_type": "markdown",
   "metadata": {},
   "source": [
    "La imputación de valores faltantes suele funcionar bastante bien, pero los valores introducidos no dejan de ser valores aproximados a los que podrían ser en realidad. Si, de alguna manera, le indicamos al modelo qué valores son originales y cuáles han sido imputados, le estaremos proporcionando un extra de información que en algunos casos podrá aprovechar para hacer predicciones más precisas. Una forma habitual de aportar este extra de información consiste en crear una nueva columna que indique qué valores son \"TRUE\" (originales) y cuáles son \"FALSE\" (imputados)."
   ]
  },
  {
   "cell_type": "code",
   "execution_count": null,
   "metadata": {},
   "outputs": [],
   "source": []
  },
  {
   "cell_type": "markdown",
   "metadata": {},
   "source": [
    "Aunque este es un buen enfoque para tratar los valores faltantes, la columna de información adicional no siempre consigue mejorar los resultados del modelo de forma significativa."
   ]
  },
  {
   "cell_type": "markdown",
   "metadata": {},
   "source": [
    "Puede ocurrir que aparentemente tengamos valores faltantes, pero que en realidad no lo sean. Puede que se trate simplemente de strings \"NaN\". En este caso, necesitamos reemplazarlos por verdaderos valores faltantes."
   ]
  },
  {
   "cell_type": "code",
   "execution_count": null,
   "metadata": {},
   "outputs": [],
   "source": []
  }
 ],
 "metadata": {
  "hide_input": false,
  "kernelspec": {
   "display_name": "Python 3",
   "language": "python",
   "name": "python3"
  },
  "language_info": {
   "codemirror_mode": {
    "name": "ipython",
    "version": 3
   },
   "file_extension": ".py",
   "mimetype": "text/x-python",
   "name": "python",
   "nbconvert_exporter": "python",
   "pygments_lexer": "ipython3",
   "version": "3.8.5"
  },
  "toc": {
   "base_numbering": 1,
   "nav_menu": {},
   "number_sections": true,
   "sideBar": true,
   "skip_h1_title": false,
   "title_cell": "Table of Contents",
   "title_sidebar": "Contents",
   "toc_cell": true,
   "toc_position": {},
   "toc_section_display": true,
   "toc_window_display": false
  },
  "varInspector": {
   "cols": {
    "lenName": 16,
    "lenType": 16,
    "lenVar": 40
   },
   "kernels_config": {
    "python": {
     "delete_cmd_postfix": "",
     "delete_cmd_prefix": "del ",
     "library": "var_list.py",
     "varRefreshCmd": "print(var_dic_list())"
    },
    "r": {
     "delete_cmd_postfix": ") ",
     "delete_cmd_prefix": "rm(",
     "library": "var_list.r",
     "varRefreshCmd": "cat(var_dic_list()) "
    }
   },
   "types_to_exclude": [
    "module",
    "function",
    "builtin_function_or_method",
    "instance",
    "_Feature"
   ],
   "window_display": false
  }
 },
 "nbformat": 4,
 "nbformat_minor": 4
}
