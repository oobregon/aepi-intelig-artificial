{
 "cells": [
  {
   "cell_type": "markdown",
   "metadata": {
    "toc": true
   },
   "source": [
    "<h1>Table of Contents<span class=\"tocSkip\"></span></h1>\n",
    "<div class=\"toc\"><ul class=\"toc-item\"><li><span><a href=\"#Carga-de-la-librería-pandas\" data-toc-modified-id=\"Carga-de-la-librería-pandas-1\"><span class=\"toc-item-num\">1&nbsp;&nbsp;</span>Carga de la librería pandas</a></span></li><li><span><a href=\"#Estructuras-de-datos-de-pandas\" data-toc-modified-id=\"Estructuras-de-datos-de-pandas-2\"><span class=\"toc-item-num\">2&nbsp;&nbsp;</span>Estructuras de datos de pandas</a></span><ul class=\"toc-item\"><li><span><a href=\"#Series\" data-toc-modified-id=\"Series-2.1\"><span class=\"toc-item-num\">2.1&nbsp;&nbsp;</span>Series</a></span><ul class=\"toc-item\"><li><span><a href=\"#Concepto\" data-toc-modified-id=\"Concepto-2.1.1\"><span class=\"toc-item-num\">2.1.1&nbsp;&nbsp;</span>Concepto</a></span></li><li><span><a href=\"#Ejemplos\" data-toc-modified-id=\"Ejemplos-2.1.2\"><span class=\"toc-item-num\">2.1.2&nbsp;&nbsp;</span>Ejemplos</a></span><ul class=\"toc-item\"><li><span><a href=\"#Creación-de-una-Serie-a-partir-de-una-lista-de-valores\" data-toc-modified-id=\"Creación-de-una-Serie-a-partir-de-una-lista-de-valores-2.1.2.1\"><span class=\"toc-item-num\">2.1.2.1&nbsp;&nbsp;</span>Creación de una Serie a partir de una lista de valores</a></span></li><li><span><a href=\"#Creación-de-una-Serie-a-partir-de-un-diccionario\" data-toc-modified-id=\"Creación-de-una-Serie-a-partir-de-un-diccionario-2.1.2.2\"><span class=\"toc-item-num\">2.1.2.2&nbsp;&nbsp;</span>Creación de una Serie a partir de un diccionario</a></span></li></ul></li></ul></li><li><span><a href=\"#DataFrames\" data-toc-modified-id=\"DataFrames-2.2\"><span class=\"toc-item-num\">2.2&nbsp;&nbsp;</span>DataFrames</a></span><ul class=\"toc-item\"><li><span><a href=\"#Concepto\" data-toc-modified-id=\"Concepto-2.2.1\"><span class=\"toc-item-num\">2.2.1&nbsp;&nbsp;</span>Concepto</a></span></li><li><span><a href=\"#Ejemplos\" data-toc-modified-id=\"Ejemplos-2.2.2\"><span class=\"toc-item-num\">2.2.2&nbsp;&nbsp;</span>Ejemplos</a></span><ul class=\"toc-item\"><li><span><a href=\"#Creación-de-un-DataFrame-a-partir-de-un-diccionario-de-Series\" data-toc-modified-id=\"Creación-de-un-DataFrame-a-partir-de-un-diccionario-de-Series-2.2.2.1\"><span class=\"toc-item-num\">2.2.2.1&nbsp;&nbsp;</span>Creación de un DataFrame a partir de un diccionario de Series</a></span></li><li><span><a href=\"#Creación-de-un-DataFrame-a-partir-de-un-diccionario-de-listas\" data-toc-modified-id=\"Creación-de-un-DataFrame-a-partir-de-un-diccionario-de-listas-2.2.2.2\"><span class=\"toc-item-num\">2.2.2.2&nbsp;&nbsp;</span>Creación de un DataFrame a partir de un diccionario de listas</a></span></li><li><span><a href=\"#Creación-de-un-DataFrame-a-partir-de-un-diccionario-de-múltiples-estructuras\" data-toc-modified-id=\"Creación-de-un-DataFrame-a-partir-de-un-diccionario-de-múltiples-estructuras-2.2.2.3\"><span class=\"toc-item-num\">2.2.2.3&nbsp;&nbsp;</span>Creación de un DataFrame a partir de un diccionario de múltiples estructuras</a></span></li></ul></li></ul></li></ul></li><li><span><a href=\"#Lectura-de-datos-de-archivos\" data-toc-modified-id=\"Lectura-de-datos-de-archivos-3\"><span class=\"toc-item-num\">3&nbsp;&nbsp;</span>Lectura de datos de archivos</a></span><ul class=\"toc-item\"><li><span><a href=\"#Lectura-de-archivos-csv\" data-toc-modified-id=\"Lectura-de-archivos-csv-3.1\"><span class=\"toc-item-num\">3.1&nbsp;&nbsp;</span>Lectura de archivos csv</a></span><ul class=\"toc-item\"><li><span><a href=\"#Parámetros-principales\" data-toc-modified-id=\"Parámetros-principales-3.1.1\"><span class=\"toc-item-num\">3.1.1&nbsp;&nbsp;</span>Parámetros principales</a></span></li><li><span><a href=\"#Ejemplos\" data-toc-modified-id=\"Ejemplos-3.1.2\"><span class=\"toc-item-num\">3.1.2&nbsp;&nbsp;</span>Ejemplos</a></span></li></ul></li><li><span><a href=\"#Lectura-de-archivos-xlsx\" data-toc-modified-id=\"Lectura-de-archivos-xlsx-3.2\"><span class=\"toc-item-num\">3.2&nbsp;&nbsp;</span>Lectura de archivos xlsx</a></span><ul class=\"toc-item\"><li><span><a href=\"#Parámetros-principales\" data-toc-modified-id=\"Parámetros-principales-3.2.1\"><span class=\"toc-item-num\">3.2.1&nbsp;&nbsp;</span>Parámetros principales</a></span></li><li><span><a href=\"#Ejemplos\" data-toc-modified-id=\"Ejemplos-3.2.2\"><span class=\"toc-item-num\">3.2.2&nbsp;&nbsp;</span>Ejemplos</a></span></li></ul></li><li><span><a href=\"#Lectura-de-archivos-con-otros-formatos\" data-toc-modified-id=\"Lectura-de-archivos-con-otros-formatos-3.3\"><span class=\"toc-item-num\">3.3&nbsp;&nbsp;</span>Lectura de archivos con otros formatos</a></span></li></ul></li></ul></div>"
   ]
  },
  {
   "cell_type": "markdown",
   "metadata": {},
   "source": [
    "# Carga de la librería pandas"
   ]
  },
  {
   "cell_type": "markdown",
   "metadata": {},
   "source": [
    "Generalmente, para importar cualquier librería escribimos la palabra ***import*** seguida del nombre de la librería y, además, le ponemos un alias para después utilizarla con mayor comodidad.\n",
    "\n",
    "En esta clase, importaremos *pandas* junto a la librería *NumPy*, que utilizaremos en ejemplos más abajo."
   ]
  },
  {
   "cell_type": "code",
   "execution_count": null,
   "metadata": {},
   "outputs": [],
   "source": []
  },
  {
   "cell_type": "markdown",
   "metadata": {},
   "source": [
    "# Estructuras de datos de pandas"
   ]
  },
  {
   "cell_type": "markdown",
   "metadata": {},
   "source": [
    "Las estructuras de datos típicas de pandas son las *Series* y los *DataFrames* (en esta clase los escribiremos así, aunque es habitual encontrarlos escritos directamente como *series* y *dataframes*)."
   ]
  },
  {
   "cell_type": "markdown",
   "metadata": {},
   "source": [
    "## Series"
   ]
  },
  {
   "cell_type": "markdown",
   "metadata": {},
   "source": [
    "### Concepto"
   ]
  },
  {
   "cell_type": "markdown",
   "metadata": {},
   "source": [
    "Un objeto de tipo Serie es una estructura unidimensional que contiene una secuencia de datos, es decir, es un objeto similar a una lista de valores. Además, también contiene una secuencia de etiquetas asociadas a los datos, que actúan como un índice. La forma general de crear una Serie es la siguiente:"
   ]
  },
  {
   "cell_type": "code",
   "execution_count": null,
   "metadata": {},
   "outputs": [],
   "source": []
  },
  {
   "cell_type": "markdown",
   "metadata": {},
   "source": [
    "Donde:\n",
    "- *data* puede ser una lista de valores, un diccionario de Python, un ndarray (matriz de NumPy), un valor escalar... \n",
    "- *index* es una lista de etiquetas para el eje."
   ]
  },
  {
   "cell_type": "markdown",
   "metadata": {},
   "source": [
    "Veamos algunos ejemplos."
   ]
  },
  {
   "cell_type": "markdown",
   "metadata": {},
   "source": [
    "### Ejemplos"
   ]
  },
  {
   "cell_type": "markdown",
   "metadata": {},
   "source": [
    "#### Creación de una Serie a partir de una lista de valores"
   ]
  },
  {
   "cell_type": "code",
   "execution_count": null,
   "metadata": {},
   "outputs": [],
   "source": []
  },
  {
   "cell_type": "markdown",
   "metadata": {},
   "source": [
    "En el ejemplo anterior, como no se ha especificado un índice concreto, pandas crea por defecto un índice con números enteros:\n",
    "- El registro 0 es Manzanas\n",
    "- El registro 1 es Cerezas\n",
    "- El registro 2 es Naranjas de zumo\n",
    "\n",
    "Si quieres especificar otro índice distinto, puedes hacerlo así:"
   ]
  },
  {
   "cell_type": "code",
   "execution_count": null,
   "metadata": {},
   "outputs": [],
   "source": []
  },
  {
   "cell_type": "markdown",
   "metadata": {},
   "source": [
    "#### Creación de una Serie a partir de un diccionario"
   ]
  },
  {
   "cell_type": "code",
   "execution_count": null,
   "metadata": {},
   "outputs": [],
   "source": []
  },
  {
   "cell_type": "markdown",
   "metadata": {},
   "source": [
    "## DataFrames"
   ]
  },
  {
   "cell_type": "markdown",
   "metadata": {},
   "source": [
    "### Concepto"
   ]
  },
  {
   "cell_type": "markdown",
   "metadata": {},
   "source": [
    "Un DataFrame es una estructura de datos de dos dimensiones: en esencia, es una tabla con filas y columnas, en la cual las columnas tienen un nombre y las filas tienen un índice. "
   ]
  },
  {
   "cell_type": "markdown",
   "metadata": {},
   "source": [
    "Un DataFrame se puede crear a partir de diversos elementos:\n",
    "- Un diccionario de ndarrays de 1 dimensión, listas, diccionarios o Series\n",
    "- Un ndarray de 2 dimensiones\n",
    "- Otro DataFrame\n",
    "- Etc.\n",
    "\n",
    "Veamos algunos ejemplos."
   ]
  },
  {
   "cell_type": "markdown",
   "metadata": {},
   "source": [
    "### Ejemplos"
   ]
  },
  {
   "cell_type": "markdown",
   "metadata": {},
   "source": [
    "#### Creación de un DataFrame a partir de un diccionario de Series"
   ]
  },
  {
   "cell_type": "markdown",
   "metadata": {},
   "source": [
    "En el ejemplo a continuación, se crean dos Series que después se utilizan para construir un DataFrame."
   ]
  },
  {
   "cell_type": "code",
   "execution_count": null,
   "metadata": {},
   "outputs": [],
   "source": []
  },
  {
   "cell_type": "markdown",
   "metadata": {},
   "source": [
    "Una vez guardadas las dos Series en dos variables, podemos crear un DataFrame a partir de ellas. Para ello, utilizamos el constructor pd.DataFrame, que contiene un diccionario con el nombre que queremos que tengan las columnas como clave y las Series anteriores como valores:"
   ]
  },
  {
   "cell_type": "code",
   "execution_count": null,
   "metadata": {},
   "outputs": [],
   "source": []
  },
  {
   "cell_type": "markdown",
   "metadata": {},
   "source": [
    "En esencia, una Serie se puede considerar como una columna de un DataFrame."
   ]
  },
  {
   "cell_type": "markdown",
   "metadata": {},
   "source": [
    "#### Creación de un DataFrame a partir de un diccionario de listas"
   ]
  },
  {
   "cell_type": "markdown",
   "metadata": {},
   "source": [
    "El mismo DataFrame del ejemplo anterior también se puede construir de manera muy simple mediante un diccionario que tiene como claves los nombres de las variables (que serán los nombres de las columnas) y como valores las listas que contienen los datos de cada variable:"
   ]
  },
  {
   "cell_type": "code",
   "execution_count": null,
   "metadata": {},
   "outputs": [],
   "source": []
  },
  {
   "cell_type": "markdown",
   "metadata": {},
   "source": [
    "Como ves, un objeto de tipo DataFrame puede contener variables de todo tipo: int (números enteros), string (cadenas de texto), etc. Para comprobar los tipos de las variables de un DataFrame, se utiliza la siguiente propiedad:"
   ]
  },
  {
   "cell_type": "code",
   "execution_count": null,
   "metadata": {},
   "outputs": [],
   "source": []
  },
  {
   "cell_type": "markdown",
   "metadata": {},
   "source": [
    "#### Creación de un DataFrame a partir de un diccionario de múltiples estructuras"
   ]
  },
  {
   "cell_type": "markdown",
   "metadata": {},
   "source": [
    "El siguiente ejemplo muestra cómo se construye un DataFrame mediante un diccionario con diversos tipos de variables:\n"
   ]
  },
  {
   "cell_type": "code",
   "execution_count": null,
   "metadata": {},
   "outputs": [],
   "source": []
  },
  {
   "cell_type": "markdown",
   "metadata": {},
   "source": [
    "Como puedes ver, hemos creado cada columna a partir de una estructura diferente:\n",
    "- Columna 1: un valor constante de tipo Timestamp, que se repetirá tantas veces como valores tenga la columna más larga del DataFrame.\n",
    "- Columna 2: una Serie formada por el valor constante 10 (de tipo float32) repetido 6 veces, ya que queremos que el DataFrame tenga 6 filas.\n",
    "- Columna 3: un valor constante de tipo float64 (lo indicamos al poner un punto a la derecha del número), que se repetirá tantas veces como valores tenga la columna más larga del DataFrame.\n",
    "- Columna 4: una variable categórica con 6 categorías (queremos que el DataFrame tenga 6 filas).\n",
    "- Columna 5: un valor constante de tipo string, que se repetirá tantas veces como valores tenga la columna más larga del DataFrame.\n",
    "- Columna 6: un array de numpy formado por el valor 2 (de tipo int32) repetido 6 veces.\n",
    "\n",
    "Además, hemos añadido un índice manualmente."
   ]
  },
  {
   "cell_type": "markdown",
   "metadata": {},
   "source": [
    "Comprobemos los tipos de las columnas del DataFrame que acabamos de crear:"
   ]
  },
  {
   "cell_type": "code",
   "execution_count": null,
   "metadata": {},
   "outputs": [],
   "source": []
  },
  {
   "cell_type": "markdown",
   "metadata": {},
   "source": [
    "# Lectura de datos de archivos"
   ]
  },
  {
   "cell_type": "markdown",
   "metadata": {},
   "source": [
    "Lo normal no es crear los datos desde cero como en los ejemplos anteriores. Lo más común es tener datos ya existentes, como por ejemplo en archivos en un formato concreto (.csv, .tsv, .xlsx, .json, etc.) o en tablas SQL, aunque las opciones son muy numerosas. En cualquier caso, el objetivo es el mismo: leer esos datos y cargarlos en un DataFrame para poder procesarlos. Para ello, pandas cuenta con diversas funciones que permiten cubrir prácticamente cualquier caso de uso. "
   ]
  },
  {
   "cell_type": "markdown",
   "metadata": {},
   "source": [
    "## Lectura de archivos csv"
   ]
  },
  {
   "cell_type": "markdown",
   "metadata": {},
   "source": [
    "Un archivo CSV es, en esencia, una tabla de valores que están separados unos de otros mediante comas (aunque también pueden estar separados por otro tipo de delimitadores, como por ejemplo puntos y comas o el caracter \"invisible\" que surge cuando se presiona la tecla *tab*). Al abrir un archivo de este tipo, habitualmente nos encontraremos algo similar a lo siguiente:"
   ]
  },
  {
   "cell_type": "code",
   "execution_count": null,
   "metadata": {},
   "outputs": [],
   "source": [
    "Producto, Precio,\n",
    "Manzanas, 0.99,\n",
    "Cerezas, 2.95,\n",
    "Naranjas de zumo, 0.79,"
   ]
  },
  {
   "cell_type": "markdown",
   "metadata": {},
   "source": [
    "### Parámetros principales"
   ]
  },
  {
   "cell_type": "markdown",
   "metadata": {},
   "source": [
    "La función de pandas que se encarga de leer archivos CSV es *pd.read_csv()*. Aunque permite especificar un número enorme de parámetros, aquí mostraremos el uso de esta función incluyendo solo algunos de los más relevantes:\n",
    "\n",
    "- **filepath_or_buffer** es la ruta donde se encuentra el archivo que queremos leer. Debe ir entre comillas (tiene que ser un string).\n",
    "- **sep** es el caracter por el cual los datos están separados unos de otros. Por defecto, pandas considera una coma, pero puedes encontrar archivos csv en los que el caracter es de otro tipo y, para leerlo correctamente, necesitarás especificarlo mediante este parámetro.\n",
    "- **header** permite especificar la fila del archivo csv que se usará para generar los nombres de las columnas. Puede ser:\n",
    "    - \"infer\", que es el que viene por defecto y equivale a header=0, es decir, los nombres de columna se deducen de la primera línea del archivo.\n",
    "    - Un número entero, para indicar el índice de la fila que se quiere utilizar. \n",
    "    - Una lista de enteros, para generar un multi-índice de columnas.\n",
    "- **names** es una lista con los nombres que se les quiere dar a las columnas. Si el archivo ya tiene un encabezaso y se quiere sobreescribir con la lista de nombres manualmente, se debe pasar el argumento header=0 para indicarlo. No permite nombres duplicados.\n",
    "- **skiprows** son las filas a ignorar, es decir, las filas del archivo que no queremos leer ni incorporar a un DataFrame. Puede especificarse mediante una lista (con los números de las líneas a ignorar, que pueden no ser consecutivas) o mediante un número entero (para ignorar las primeras líneas).\n",
    "- **nrows** es el número de filas a leer. Es útil para archivos muy grandes en los que queremos limitar el número de filas que se cargan en un DataFrame.\n",
    "- **parse_dates** puede ser (entre otras posibles configuraciones que aquí no veremos):\n",
    "    - \"True\", si queremos que pandas intente cargar el índice como fechas.\n",
    "    - \"False\", si queremos que pandas no trate de interpretar nada como una fecha.\n",
    "    - Una lista de enteros o nombres, si queremos leer solo ciertas columnas como fechas.\n",
    "    \n",
    "Existen muchísimos otros parámetros de la función read_csv() que pueden utilizarse para generar un DataFrame a partir de un archivo csv, ajustándose a nuestras necesidades de la mejor forma posible. "
   ]
  },
  {
   "cell_type": "markdown",
   "metadata": {},
   "source": [
    "### Ejemplos"
   ]
  },
  {
   "cell_type": "code",
   "execution_count": null,
   "metadata": {},
   "outputs": [],
   "source": []
  },
  {
   "cell_type": "code",
   "execution_count": null,
   "metadata": {},
   "outputs": [],
   "source": [
    "# Ejemplo de carga de un csv con delimitador \",\"\n",
    "file_path =\n",
    "time_cols = \n",
    "\n",
    "pd.read_csv(filepath_or_buffer=,\n",
    "            sep=,\n",
    "            header=,\n",
    "            names=,\n",
    "            skiprows=,\n",
    "            nrows=,\n",
    "            parse_dates=time_cols)"
   ]
  },
  {
   "cell_type": "code",
   "execution_count": null,
   "metadata": {},
   "outputs": [],
   "source": [
    "# Ejemplo de carga de un csv con delimitador \" \"\n",
    "file_path =\n",
    "time_cols = []\n",
    "\n",
    "pd.read_csv(filepath_or_buffer=,\n",
    "            sep=,\n",
    "            skiprows=,\n",
    "            nrows=,\n",
    "            parse_dates=time_cols)"
   ]
  },
  {
   "cell_type": "markdown",
   "metadata": {},
   "source": [
    "## Lectura de archivos xlsx"
   ]
  },
  {
   "cell_type": "markdown",
   "metadata": {},
   "source": [
    "### Parámetros principales"
   ]
  },
  {
   "cell_type": "markdown",
   "metadata": {},
   "source": [
    "Para cargar los datos de archivos excel en DataFrames, pandas cuenta con la función pd.read_excel(). En realidad, esta función no solo está preparada para leer archivos en formato xlsx, sino también en xls, xlsm, xlsb, y odf. Además, cuenta con una opción para cargar una sola hoja del archivo excel o una lista de hojas. De la misma forma que para el caso de los archivos csv, aquí consideraremos solo algunos de los muchos parámetros de esta función:\n",
    "- **io** es la ruta donde se encuentra el archivo que queremos leer. Debe ir entre comillas (tiene que ser un string). \n",
    "- **sheet_name** permite especificar las hojas que se quieren cargar:\n",
    "    - Por defecto es 0 e indica que solo se quiere leer la primera hoja.\n",
    "    - Si es 1, indica que se quiere leer la segunda hoja.\n",
    "    - Si es un string, carga la hoja con el nombre de ese string. Por ejemplo, indicando “Sheet1” se cargará la hoja de nombre \"Sheet1\".\n",
    "    - Si es una lista, carga las hojas especificadas en la lista. Por ejemplo, la lista [0, 1, \"Sheet4\"] hará que la función cargue la primera hoja, la segunda hoja y la hoja que tenga el nombre \"Sheet4\".\n",
    "    - Si es None, cargará todas las hojas.\n",
    "- **header** permite especificar la fila del archivo excel que se usará para generar los nombres de las columnas. Puede ser:\n",
    "    - Un número entero, para indicar el índice de la fila que se quiere utilizar. Por defecto es 0, por lo que usa la primera fila del archivo como etiquetas de las columnas.\n",
    "    - Una lista de enteros, para generar un multi-índice.\n",
    "    - Si es None, no utiliza ningún encabezado.\n",
    "- **skiprows** son las filas a ignorar, es decir, las filas del archivo que no queremos leer ni incorporar a un DataFrame. Puede especificarse mediante una lista (con los números de las líneas a ignorar, que pueden no ser consecutivas) o mediante un número entero (para ignorar las primeras líneas).\n",
    "- **nrows** es el número de filas a leer. Es útil para archivos muy grandes en los que queremos limitar el número de filas que se cargan en un DataFrame.\n",
    "- **parse_dates** puede ser (entre otras posibles configuraciones que aquí no veremos):\n",
    "    - \"True\", si queremos que pandas intente cargar el índice como fechas.\n",
    "    - \"False\", si queremos que pandas no trate de interpretar nada como una fecha.\n",
    "    - Una lista de enteros o nombres, si queremos leer solo ciertas columnas como fechas.\n",
    "    \n",
    "Existen muchísimos otros parámetros de la función read_excel() que pueden utilizarse para generar un DataFrame a partir de un archivo en formato xlsx, xls, xlsm, xlsb, y odf. "
   ]
  },
  {
   "cell_type": "markdown",
   "metadata": {},
   "source": [
    "### Ejemplos"
   ]
  },
  {
   "cell_type": "code",
   "execution_count": null,
   "metadata": {},
   "outputs": [],
   "source": [
    "# Ejemplo de carga de un archivo xlsx\n",
    "file_path =\n",
    "time_cols = []\n",
    "\n",
    "pd.read_excel(io=,\n",
    "            sheet_name=,\n",
    "            header=,\n",
    "            skiprows=,\n",
    "            nrows=,\n",
    "            parse_dates=time_cols)"
   ]
  },
  {
   "cell_type": "markdown",
   "metadata": {},
   "source": [
    "## Lectura de archivos con otros formatos"
   ]
  },
  {
   "cell_type": "markdown",
   "metadata": {},
   "source": [
    "Pandas cuenta con un gran número de funciones similares a read_csv() y read_excel(), que nos permiten leer datos de prácticamente cualquier procedencia:\n",
    "- pd.read_sql()\n",
    "- pd.read_json\n",
    "- pd.read_html()\n",
    "- Etc.\n",
    "\n",
    "El uso de todas estas funciones es muy parecido: únicamente requiere consultar la documentación oficial de pandas para seleccionar los parámetros que necesitemos incluir."
   ]
  }
 ],
 "metadata": {
  "hide_input": false,
  "kernelspec": {
   "display_name": "Python 3",
   "language": "python",
   "name": "python3"
  },
  "language_info": {
   "codemirror_mode": {
    "name": "ipython",
    "version": 3
   },
   "file_extension": ".py",
   "mimetype": "text/x-python",
   "name": "python",
   "nbconvert_exporter": "python",
   "pygments_lexer": "ipython3",
   "version": "3.8.5"
  },
  "toc": {
   "base_numbering": 1,
   "nav_menu": {},
   "number_sections": true,
   "sideBar": true,
   "skip_h1_title": false,
   "title_cell": "Table of Contents",
   "title_sidebar": "Contents",
   "toc_cell": true,
   "toc_position": {},
   "toc_section_display": true,
   "toc_window_display": true
  },
  "varInspector": {
   "cols": {
    "lenName": 16,
    "lenType": 16,
    "lenVar": 40
   },
   "kernels_config": {
    "python": {
     "delete_cmd_postfix": "",
     "delete_cmd_prefix": "del ",
     "library": "var_list.py",
     "varRefreshCmd": "print(var_dic_list())"
    },
    "r": {
     "delete_cmd_postfix": ") ",
     "delete_cmd_prefix": "rm(",
     "library": "var_list.r",
     "varRefreshCmd": "cat(var_dic_list()) "
    }
   },
   "types_to_exclude": [
    "module",
    "function",
    "builtin_function_or_method",
    "instance",
    "_Feature"
   ],
   "window_display": false
  }
 },
 "nbformat": 4,
 "nbformat_minor": 4
}
