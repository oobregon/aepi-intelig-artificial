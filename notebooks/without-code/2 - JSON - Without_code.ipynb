{
 "cells": [
  {
   "cell_type": "markdown",
   "metadata": {
    "toc": true
   },
   "source": [
    "<h1>Table of Contents<span class=\"tocSkip\"></span></h1>\n",
    "<div class=\"toc\"><ul class=\"toc-item\"><li><span><a href=\"#Librería-pandas\" data-toc-modified-id=\"Librería-pandas-1\"><span class=\"toc-item-num\">1&nbsp;&nbsp;</span>Librería pandas</a></span><ul class=\"toc-item\"><li><span><a href=\"#Lectura-de-archivos-en-formato-JSON\" data-toc-modified-id=\"Lectura-de-archivos-en-formato-JSON-1.1\"><span class=\"toc-item-num\">1.1&nbsp;&nbsp;</span>Lectura de archivos en formato JSON</a></span></li><li><span><a href=\"#Conversión-de-un-dataframe-a-JSON\" data-toc-modified-id=\"Conversión-de-un-dataframe-a-JSON-1.2\"><span class=\"toc-item-num\">1.2&nbsp;&nbsp;</span>Conversión de un dataframe a JSON</a></span></li><li><span><a href=\"#Carga-de-una-cadena-JSON-en-un-dataframe\" data-toc-modified-id=\"Carga-de-una-cadena-JSON-en-un-dataframe-1.3\"><span class=\"toc-item-num\">1.3&nbsp;&nbsp;</span>Carga de una cadena JSON en un dataframe</a></span></li></ul></li><li><span><a href=\"#Módulo-json-de-la-librería-estándar-de-Python\" data-toc-modified-id=\"Módulo-json-de-la-librería-estándar-de-Python-2\"><span class=\"toc-item-num\">2&nbsp;&nbsp;</span>Módulo json de la librería estándar de Python</a></span><ul class=\"toc-item\"><li><span><a href=\"#Lectura-de-archivos-en-formato-JSON\" data-toc-modified-id=\"Lectura-de-archivos-en-formato-JSON-2.1\"><span class=\"toc-item-num\">2.1&nbsp;&nbsp;</span>Lectura de archivos en formato JSON</a></span></li><li><span><a href=\"#Conversión-de-un-diccionario-a-JSON\" data-toc-modified-id=\"Conversión-de-un-diccionario-a-JSON-2.2\"><span class=\"toc-item-num\">2.2&nbsp;&nbsp;</span>Conversión de un diccionario a JSON</a></span></li><li><span><a href=\"#Carga-de-una-cadena-JSON-en-un-diccionario\" data-toc-modified-id=\"Carga-de-una-cadena-JSON-en-un-diccionario-2.3\"><span class=\"toc-item-num\">2.3&nbsp;&nbsp;</span>Carga de una cadena JSON en un diccionario</a></span></li><li><span><a href=\"#Impresión-con-formato\" data-toc-modified-id=\"Impresión-con-formato-2.4\"><span class=\"toc-item-num\">2.4&nbsp;&nbsp;</span>Impresión con formato</a></span></li></ul></li></ul></div>"
   ]
  },
  {
   "cell_type": "markdown",
   "metadata": {},
   "source": [
    "JSON (JavaScript Object Notation) es un formato de datos muy utilizado para representar datos estructurados. En Python, el formato JSON se almacena como un string, por ejemplo:"
   ]
  },
  {
   "cell_type": "code",
   "execution_count": null,
   "metadata": {},
   "outputs": [],
   "source": []
  },
  {
   "cell_type": "markdown",
   "metadata": {},
   "source": [
    "# Librería pandas"
   ]
  },
  {
   "cell_type": "markdown",
   "metadata": {},
   "source": [
    "Pandas incluye la función pd.read_json() que permite convertir una cadena en formato JSON a un objeto de pandas (una Serie o un DataFrame). Sus principales parámetros son los siguientes:\n",
    "- **path_or_buf** es una cadena de JSON válida, un objeto de tipo archivo (que disponga de método *.read()*) o la ruta de un archivo.\n",
    "- **orient** debe ser una cadena de texto indicando cómo es el formato JSON esperado. Se pueden generar cadenas de texto en formato JSON válido mediante la función *to_json()* de pandas con una orientación adecuada. Las posibles orientaciones son las siguientes:\n",
    "    - 'split': tipo diccionario {index -> [index], columns -> [columns], data -> [values]}\n",
    "    - 'records': tipo lista [{column -> value}, ... , {column -> value}]\n",
    "    - 'index': tipo diccionario {index -> {column -> value}}\n",
    "    - 'columns': tipo diccionario {column -> {index -> value}}\n",
    "    - 'values': simplemente los valores de un vector\n",
    "    Los valores permitidos y predeterminados dependen del valor del parámetro *typ*:\n",
    "        - Cuando typ == 'series', las orientaciones permitidas son {'split','records','index'}, y por defecto es 'index'. \n",
    "        - Cuando typ == 'frame',las orientaciones permitidas son {'split','records','index', 'columns','values', 'table'}, y por defecto es 'columns'.\n",
    "- **typ** es el tipo de objeto que se desea generar y puede ser uno de los dos siguientes: {‘frame’, ‘series’}. Por defecto es 'frame'.\n",
    "- **convert_dates** puede ser False o True (este último es el valor por defecto), o bien una lista con nombres de columnas. Si es False, no se tratará de leer ninguna columna como fecha. Si se trata de una lista de nombres de columnas, esas columnas se convertirán y, además, las columnas que aparentemente puedan hacer referencia a fechas también podrán hacerlo (según el parámetro *keep_default_dates*, explicado a continuación).\n",
    "- **keep_default_dates** también es un booleano y por defecto es True. Si el parámetro *convert_dates* no está puesto en False, entonces trata de convertir las columnas que aparentemente puedan hacer referencia a fechas. Detecta que una columna podría ser de tipo fecha fijándose en el nombre que tiene dicha columna, en concreto fijándose en los siguientes detalles:\n",
    "    - El nombre termina en '_at'\n",
    "    - El nombre termina en '_time'\n",
    "    - El nombre empieza con 'timestamp'\n",
    "    - El nombre incluye la palabra 'modified'\n",
    "    - EL nombre incluye la palabra 'date'\n",
    "- **encoding** es el tipo de codificación de los datos y por defecto es ‘utf-8’.\n",
    "- **lines** es un booleano (por defecto False) y permite indicar si se quiere leer el archivo como un objeto json línea a línea.\n",
    "- **compression**  puede ser {‘infer’, ‘gzip’, ‘bz2’, ‘zip’, ‘xz’, None}, y por defecto es ‘infer’. Se utiliza para descomprimir datos sobre la marcha. Si es \"infer\", utiliza gzip, bz2, zip o xz si *path_or_buf* es una cadena que termina en \".gz\", \".bz2\", \".zip\" o \"xz\", respectivamente. Si se quiere usar \"zip\", el archivo ZIP debe contener solo un archivo de datos para ser leído. \n",
    "- **nrows** es un entero que permite poner un límite de líneas a leer. Solo se puede pasar si *lines = True*. "
   ]
  },
  {
   "cell_type": "code",
   "execution_count": null,
   "metadata": {},
   "outputs": [],
   "source": []
  },
  {
   "cell_type": "markdown",
   "metadata": {},
   "source": [
    "## Lectura de archivos en formato JSON"
   ]
  },
  {
   "cell_type": "code",
   "execution_count": null,
   "metadata": {},
   "outputs": [],
   "source": []
  },
  {
   "cell_type": "markdown",
   "metadata": {},
   "source": [
    "## Conversión de un dataframe a JSON"
   ]
  },
  {
   "cell_type": "code",
   "execution_count": null,
   "metadata": {},
   "outputs": [],
   "source": []
  },
  {
   "cell_type": "code",
   "execution_count": 1,
   "metadata": {},
   "outputs": [],
   "source": [
    "# 'split': tipo diccionario {index -> [index], columns -> [columns], data -> [values]}"
   ]
  },
  {
   "cell_type": "code",
   "execution_count": 2,
   "metadata": {},
   "outputs": [],
   "source": [
    "# 'records': tipo lista [{column -> value}, ... , {column -> value}]"
   ]
  },
  {
   "cell_type": "markdown",
   "metadata": {},
   "source": [
    "## Carga de una cadena JSON en un dataframe"
   ]
  },
  {
   "cell_type": "code",
   "execution_count": null,
   "metadata": {},
   "outputs": [],
   "source": []
  },
  {
   "cell_type": "code",
   "execution_count": 3,
   "metadata": {},
   "outputs": [],
   "source": [
    "# 'columns': tipo diccionario {column -> {index -> value}}"
   ]
  },
  {
   "cell_type": "markdown",
   "metadata": {},
   "source": [
    "# Módulo json de la librería estándar de Python"
   ]
  },
  {
   "cell_type": "code",
   "execution_count": null,
   "metadata": {},
   "outputs": [],
   "source": []
  },
  {
   "cell_type": "markdown",
   "metadata": {},
   "source": [
    "## Lectura de archivos en formato JSON"
   ]
  },
  {
   "cell_type": "markdown",
   "metadata": {},
   "source": [
    "Es posible cargar un archivo en formato JSON a un diccionario de Python utilizando el método json.load():"
   ]
  },
  {
   "cell_type": "code",
   "execution_count": null,
   "metadata": {},
   "outputs": [],
   "source": []
  },
  {
   "cell_type": "code",
   "execution_count": null,
   "metadata": {},
   "outputs": [],
   "source": []
  },
  {
   "cell_type": "markdown",
   "metadata": {},
   "source": [
    "## Conversión de un diccionario a JSON"
   ]
  },
  {
   "cell_type": "markdown",
   "metadata": {},
   "source": [
    "Es posible cargar un diccionario de Python en una cadena en formato JSON utilizando el método json.dumps():"
   ]
  },
  {
   "cell_type": "code",
   "execution_count": null,
   "metadata": {},
   "outputs": [],
   "source": []
  },
  {
   "cell_type": "markdown",
   "metadata": {},
   "source": [
    "¿Qué pasa si introducimos, por ejemplo, una tilde? "
   ]
  },
  {
   "cell_type": "code",
   "execution_count": null,
   "metadata": {},
   "outputs": [],
   "source": []
  },
  {
   "cell_type": "markdown",
   "metadata": {},
   "source": [
    "Por defecto, json.dumps() hace que todo el texto del diccionario de Python se interprete como codificado en ASCII. Si hay caracteres que no son ASCII, se escapan automáticamente. Para mantener los caracteres Unicode sin alterar, se puede introducir el parámetro *ensure_ascii = False*:"
   ]
  },
  {
   "cell_type": "code",
   "execution_count": null,
   "metadata": {},
   "outputs": [],
   "source": []
  },
  {
   "cell_type": "markdown",
   "metadata": {},
   "source": [
    "## Carga de una cadena JSON en un diccionario"
   ]
  },
  {
   "cell_type": "markdown",
   "metadata": {},
   "source": [
    "Es posible cargar una cadena en formato JSON a un diccionario de Python utilizando el método json.loads():"
   ]
  },
  {
   "cell_type": "code",
   "execution_count": null,
   "metadata": {},
   "outputs": [],
   "source": []
  },
  {
   "cell_type": "markdown",
   "metadata": {},
   "source": [
    "## Impresión con formato"
   ]
  },
  {
   "cell_type": "markdown",
   "metadata": {},
   "source": [
    "Para imprimir datos en formato JSON de forma más apropiada, se pueden pasar parámetros especiales al método json.dumps():"
   ]
  },
  {
   "cell_type": "code",
   "execution_count": null,
   "metadata": {},
   "outputs": [],
   "source": []
  }
 ],
 "metadata": {
  "hide_input": false,
  "kernelspec": {
   "display_name": "Python 3",
   "language": "python",
   "name": "python3"
  },
  "language_info": {
   "codemirror_mode": {
    "name": "ipython",
    "version": 3
   },
   "file_extension": ".py",
   "mimetype": "text/x-python",
   "name": "python",
   "nbconvert_exporter": "python",
   "pygments_lexer": "ipython3",
   "version": "3.8.5"
  },
  "toc": {
   "base_numbering": 1,
   "nav_menu": {},
   "number_sections": true,
   "sideBar": true,
   "skip_h1_title": false,
   "title_cell": "Table of Contents",
   "title_sidebar": "Contents",
   "toc_cell": true,
   "toc_position": {},
   "toc_section_display": true,
   "toc_window_display": false
  },
  "varInspector": {
   "cols": {
    "lenName": 16,
    "lenType": 16,
    "lenVar": 40
   },
   "kernels_config": {
    "python": {
     "delete_cmd_postfix": "",
     "delete_cmd_prefix": "del ",
     "library": "var_list.py",
     "varRefreshCmd": "print(var_dic_list())"
    },
    "r": {
     "delete_cmd_postfix": ") ",
     "delete_cmd_prefix": "rm(",
     "library": "var_list.r",
     "varRefreshCmd": "cat(var_dic_list()) "
    }
   },
   "types_to_exclude": [
    "module",
    "function",
    "builtin_function_or_method",
    "instance",
    "_Feature"
   ],
   "window_display": false
  }
 },
 "nbformat": 4,
 "nbformat_minor": 2
}
