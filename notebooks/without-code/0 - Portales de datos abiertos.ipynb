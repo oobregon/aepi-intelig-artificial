{
 "cells": [
  {
   "cell_type": "markdown",
   "metadata": {
    "toc": true
   },
   "source": [
    "<h1>Table of Contents<span class=\"tocSkip\"></span></h1>\n",
    "<div class=\"toc\"><ul class=\"toc-item\"><li><span><a href=\"#Repositorio-de-Machine-Learning-UCI\" data-toc-modified-id=\"Repositorio-de-Machine-Learning-UCI-1\"><span class=\"toc-item-num\">1&nbsp;&nbsp;</span>Repositorio de Machine Learning UCI</a></span></li><li><span><a href=\"#Portal-de-datos-abiertos-de-la-Unión-Europea\" data-toc-modified-id=\"Portal-de-datos-abiertos-de-la-Unión-Europea-2\"><span class=\"toc-item-num\">2&nbsp;&nbsp;</span>Portal de datos abiertos de la Unión Europea</a></span></li><li><span><a href=\"#Datos-abiertos-del-Gobierno-de-España\" data-toc-modified-id=\"Datos-abiertos-del-Gobierno-de-España-3\"><span class=\"toc-item-num\">3&nbsp;&nbsp;</span>Datos abiertos del Gobierno de España</a></span></li><li><span><a href=\"#Instituto-Nacional-de-Estadística-de-España\" data-toc-modified-id=\"Instituto-Nacional-de-Estadística-de-España-4\"><span class=\"toc-item-num\">4&nbsp;&nbsp;</span>Instituto Nacional de Estadística de España</a></span></li><li><span><a href=\"#Datos-abiertos-de-la-Comunidad-de-Madrid\" data-toc-modified-id=\"Datos-abiertos-de-la-Comunidad-de-Madrid-5\"><span class=\"toc-item-num\">5&nbsp;&nbsp;</span>Datos abiertos de la Comunidad de Madrid</a></span></li><li><span><a href=\"#Datos-abiertos-de-la-Comunidad-Valenciana\" data-toc-modified-id=\"Datos-abiertos-de-la-Comunidad-Valenciana-6\"><span class=\"toc-item-num\">6&nbsp;&nbsp;</span>Datos abiertos de la Comunidad Valenciana</a></span></li><li><span><a href=\"#Datos-abiertos-del-Gobierno-de-EEUU\" data-toc-modified-id=\"Datos-abiertos-del-Gobierno-de-EEUU-7\"><span class=\"toc-item-num\">7&nbsp;&nbsp;</span>Datos abiertos del Gobierno de EEUU</a></span></li><li><span><a href=\"#Datos-de-investigación-de-Australia\" data-toc-modified-id=\"Datos-de-investigación-de-Australia-8\"><span class=\"toc-item-num\">8&nbsp;&nbsp;</span>Datos de investigación de Australia</a></span></li><li><span><a href=\"#DataHub\" data-toc-modified-id=\"DataHub-9\"><span class=\"toc-item-num\">9&nbsp;&nbsp;</span>DataHub</a></span></li></ul></div>"
   ]
  },
  {
   "cell_type": "markdown",
   "metadata": {},
   "source": [
    "### Repositorio de Machine Learning UCI"
   ]
  },
  {
   "cell_type": "markdown",
   "metadata": {},
   "source": [
    "https://archive.ics.uci.edu/ml/index.php"
   ]
  },
  {
   "cell_type": "markdown",
   "metadata": {},
   "source": [
    "### Portal de datos abiertos de la Unión Europea"
   ]
  },
  {
   "cell_type": "markdown",
   "metadata": {},
   "source": [
    "https://data.europa.eu/euodp/es/home"
   ]
  },
  {
   "cell_type": "markdown",
   "metadata": {},
   "source": [
    "### Datos abiertos del Gobierno de España"
   ]
  },
  {
   "cell_type": "markdown",
   "metadata": {},
   "source": [
    "\n",
    "https://datos.gob.es/es\n"
   ]
  },
  {
   "cell_type": "markdown",
   "metadata": {},
   "source": [
    "### Instituto Nacional de Estadística de España"
   ]
  },
  {
   "cell_type": "markdown",
   "metadata": {},
   "source": [
    "https://www.ine.es/index.htm"
   ]
  },
  {
   "cell_type": "markdown",
   "metadata": {},
   "source": [
    "### Datos abiertos de la Comunidad de Madrid"
   ]
  },
  {
   "cell_type": "markdown",
   "metadata": {},
   "source": [
    "http://datos.comunidad.madrid/dataset"
   ]
  },
  {
   "cell_type": "markdown",
   "metadata": {},
   "source": [
    "### Datos abiertos de la Comunidad Valenciana"
   ]
  },
  {
   "cell_type": "markdown",
   "metadata": {},
   "source": [
    "http://gobiernoabierto.valencia.es/es/data/"
   ]
  },
  {
   "cell_type": "markdown",
   "metadata": {},
   "source": [
    "### Datos abiertos del Gobierno de EEUU"
   ]
  },
  {
   "cell_type": "markdown",
   "metadata": {},
   "source": [
    "https://www.data.gov/"
   ]
  },
  {
   "cell_type": "markdown",
   "metadata": {},
   "source": [
    "### Datos de investigación de Australia"
   ]
  },
  {
   "cell_type": "markdown",
   "metadata": {},
   "source": [
    "https://www.ands.org.au/"
   ]
  },
  {
   "cell_type": "markdown",
   "metadata": {},
   "source": [
    "### DataHub"
   ]
  },
  {
   "cell_type": "markdown",
   "metadata": {},
   "source": [
    "https://datahub.io/"
   ]
  }
 ],
 "metadata": {
  "kernelspec": {
   "display_name": "Python 3",
   "language": "python",
   "name": "python3"
  },
  "language_info": {
   "codemirror_mode": {
    "name": "ipython",
    "version": 3
   },
   "file_extension": ".py",
   "mimetype": "text/x-python",
   "name": "python",
   "nbconvert_exporter": "python",
   "pygments_lexer": "ipython3",
   "version": "3.8.5"
  },
  "toc": {
   "base_numbering": 1,
   "nav_menu": {},
   "number_sections": true,
   "sideBar": true,
   "skip_h1_title": false,
   "title_cell": "Table of Contents",
   "title_sidebar": "Contents",
   "toc_cell": true,
   "toc_position": {},
   "toc_section_display": true,
   "toc_window_display": false
  },
  "varInspector": {
   "cols": {
    "lenName": 16,
    "lenType": 16,
    "lenVar": 40
   },
   "kernels_config": {
    "python": {
     "delete_cmd_postfix": "",
     "delete_cmd_prefix": "del ",
     "library": "var_list.py",
     "varRefreshCmd": "print(var_dic_list())"
    },
    "r": {
     "delete_cmd_postfix": ") ",
     "delete_cmd_prefix": "rm(",
     "library": "var_list.r",
     "varRefreshCmd": "cat(var_dic_list()) "
    }
   },
   "types_to_exclude": [
    "module",
    "function",
    "builtin_function_or_method",
    "instance",
    "_Feature"
   ],
   "window_display": false
  }
 },
 "nbformat": 4,
 "nbformat_minor": 4
}
