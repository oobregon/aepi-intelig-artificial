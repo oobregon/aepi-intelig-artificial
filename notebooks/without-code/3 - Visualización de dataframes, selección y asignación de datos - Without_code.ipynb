{
 "cells": [
  {
   "cell_type": "markdown",
   "metadata": {
    "toc": true
   },
   "source": [
    "<h1>Table of Contents<span class=\"tocSkip\"></span></h1>\n",
    "<div class=\"toc\"><ul class=\"toc-item\"><li><span><a href=\"#Visualización-básica-de-DataFrames\" data-toc-modified-id=\"Visualización-básica-de-DataFrames-1\"><span class=\"toc-item-num\">1&nbsp;&nbsp;</span>Visualización básica de DataFrames</a></span><ul class=\"toc-item\"><li><span><a href=\"#df.head():-primeras-filas\" data-toc-modified-id=\"df.head():-primeras-filas-1.1\"><span class=\"toc-item-num\">1.1&nbsp;&nbsp;</span>df.head(): primeras filas</a></span></li><li><span><a href=\"#df.tail():-últimas-filas\" data-toc-modified-id=\"df.tail():-últimas-filas-1.2\"><span class=\"toc-item-num\">1.2&nbsp;&nbsp;</span>df.tail(): últimas filas</a></span></li><li><span><a href=\"#df.sample():-filas-aleatorias\" data-toc-modified-id=\"df.sample():-filas-aleatorias-1.3\"><span class=\"toc-item-num\">1.3&nbsp;&nbsp;</span>df.sample(): filas aleatorias</a></span></li><li><span><a href=\"#df.index:-índice\" data-toc-modified-id=\"df.index:-índice-1.4\"><span class=\"toc-item-num\">1.4&nbsp;&nbsp;</span>df.index: índice</a></span></li><li><span><a href=\"#df.columns:-nombres-de-las-columnas\" data-toc-modified-id=\"df.columns:-nombres-de-las-columnas-1.5\"><span class=\"toc-item-num\">1.5&nbsp;&nbsp;</span>df.columns: nombres de las columnas</a></span></li></ul></li><li><span><a href=\"#Selección-de-filas-y-columnas-(indexación)\" data-toc-modified-id=\"Selección-de-filas-y-columnas-(indexación)-2\"><span class=\"toc-item-num\">2&nbsp;&nbsp;</span>Selección de filas y columnas (indexación)</a></span><ul class=\"toc-item\"><li><span><a href=\"#Métodos-nativos-del-lenguaje-Python\" data-toc-modified-id=\"Métodos-nativos-del-lenguaje-Python-2.1\"><span class=\"toc-item-num\">2.1&nbsp;&nbsp;</span>Métodos nativos del lenguaje Python</a></span><ul class=\"toc-item\"><li><span><a href=\"#Selección-de-filas\" data-toc-modified-id=\"Selección-de-filas-2.1.1\"><span class=\"toc-item-num\">2.1.1&nbsp;&nbsp;</span>Selección de filas</a></span></li><li><span><a href=\"#Selección-de-columnas\" data-toc-modified-id=\"Selección-de-columnas-2.1.2\"><span class=\"toc-item-num\">2.1.2&nbsp;&nbsp;</span>Selección de columnas</a></span></li></ul></li><li><span><a href=\"#Métodos-de-pandas\" data-toc-modified-id=\"Métodos-de-pandas-2.2\"><span class=\"toc-item-num\">2.2&nbsp;&nbsp;</span>Métodos de pandas</a></span><ul class=\"toc-item\"><li><span><a href=\"#iloc:-selección-basada-en-posición\" data-toc-modified-id=\"iloc:-selección-basada-en-posición-2.2.1\"><span class=\"toc-item-num\">2.2.1&nbsp;&nbsp;</span>iloc: selección basada en posición</a></span><ul class=\"toc-item\"><li><span><a href=\"#Selección-de-filas\" data-toc-modified-id=\"Selección-de-filas-2.2.1.1\"><span class=\"toc-item-num\">2.2.1.1&nbsp;&nbsp;</span>Selección de filas</a></span></li><li><span><a href=\"#Selección-de-columnas\" data-toc-modified-id=\"Selección-de-columnas-2.2.1.2\"><span class=\"toc-item-num\">2.2.1.2&nbsp;&nbsp;</span>Selección de columnas</a></span></li><li><span><a href=\"#Selección-de-filas-y-columnas\" data-toc-modified-id=\"Selección-de-filas-y-columnas-2.2.1.3\"><span class=\"toc-item-num\">2.2.1.3&nbsp;&nbsp;</span>Selección de filas y columnas</a></span></li></ul></li><li><span><a href=\"#loc:-selección-basada-en-etiquetas\" data-toc-modified-id=\"loc:-selección-basada-en-etiquetas-2.2.2\"><span class=\"toc-item-num\">2.2.2&nbsp;&nbsp;</span>loc: selección basada en etiquetas</a></span></li></ul></li><li><span><a href=\"#Selección-basada-en-condiciones\" data-toc-modified-id=\"Selección-basada-en-condiciones-2.3\"><span class=\"toc-item-num\">2.3&nbsp;&nbsp;</span>Selección basada en condiciones</a></span></li></ul></li><li><span><a href=\"#Asignación-de-datos\" data-toc-modified-id=\"Asignación-de-datos-3\"><span class=\"toc-item-num\">3&nbsp;&nbsp;</span>Asignación de datos</a></span></li><li><span><a href=\"#Manipulación-del-índice\" data-toc-modified-id=\"Manipulación-del-índice-4\"><span class=\"toc-item-num\">4&nbsp;&nbsp;</span>Manipulación del índice</a></span></li></ul></div>"
   ]
  },
  {
   "cell_type": "markdown",
   "metadata": {},
   "source": [
    "En primer lugar, haciendo uso de los conceptos aprendidos en la anterior lección, vamos a cargar unos datos en un DataFrame a partir de un archivo descargado del repositorio UCI de Machine Learning:\n",
    "    https://archive.ics.uci.edu/ml/datasets/Adult"
   ]
  },
  {
   "cell_type": "code",
   "execution_count": null,
   "metadata": {},
   "outputs": [],
   "source": []
  },
  {
   "cell_type": "markdown",
   "metadata": {},
   "source": [
    "# Visualización básica de DataFrames"
   ]
  },
  {
   "cell_type": "markdown",
   "metadata": {},
   "source": [
    "## df.head(): primeras filas"
   ]
  },
  {
   "cell_type": "code",
   "execution_count": 1,
   "metadata": {},
   "outputs": [],
   "source": [
    "# df.head() nos muestra, por defecto, las primeras 5 filas del dataframe"
   ]
  },
  {
   "cell_type": "code",
   "execution_count": 2,
   "metadata": {},
   "outputs": [],
   "source": [
    "# Si quieremos ver más o menos de 5 filas, como por ejemplo 2, podemos especificarlo de la siguiente manera:"
   ]
  },
  {
   "cell_type": "markdown",
   "metadata": {},
   "source": [
    "## df.tail(): últimas filas"
   ]
  },
  {
   "cell_type": "markdown",
   "metadata": {},
   "source": [
    "Funciona de forma idéntica a df.head(), pero mostrando las últimas filas en lugar de las primeras:"
   ]
  },
  {
   "cell_type": "code",
   "execution_count": null,
   "metadata": {},
   "outputs": [],
   "source": []
  },
  {
   "cell_type": "markdown",
   "metadata": {},
   "source": [
    "## df.sample(): filas aleatorias"
   ]
  },
  {
   "cell_type": "markdown",
   "metadata": {},
   "source": [
    "En este caso, por defecto solo se muestra una fila aleatoria, aunque también se puede especificar cualquier otro número para mostrar más filas."
   ]
  },
  {
   "cell_type": "code",
   "execution_count": null,
   "metadata": {},
   "outputs": [],
   "source": []
  },
  {
   "cell_type": "markdown",
   "metadata": {},
   "source": [
    "## df.index: índice "
   ]
  },
  {
   "cell_type": "markdown",
   "metadata": {},
   "source": [
    "En el DataFrame df, no especificamos ningún índice especial, así que se creó uno por defecto a partir de una secuencia de números enteros. Puedes verlo de esta manera:"
   ]
  },
  {
   "cell_type": "code",
   "execution_count": null,
   "metadata": {},
   "outputs": [],
   "source": []
  },
  {
   "cell_type": "markdown",
   "metadata": {},
   "source": [
    "En efecto, el índice que pandas ha creado es un rango de números enteros consecutivos, desde 0 (incluido) hasta 23561 (sin incluir)."
   ]
  },
  {
   "cell_type": "markdown",
   "metadata": {},
   "source": [
    "## df.columns: nombres de las columnas "
   ]
  },
  {
   "cell_type": "code",
   "execution_count": null,
   "metadata": {},
   "outputs": [],
   "source": []
  },
  {
   "cell_type": "markdown",
   "metadata": {},
   "source": [
    "# Selección de filas y columnas (indexación)"
   ]
  },
  {
   "cell_type": "markdown",
   "metadata": {},
   "source": [
    "Casi todas las operaciones de procesamiento de datos implican seleccionar las columnas concretas sobre las que se desea trabajar, lo que se puede hacer de varias formas, ya sea con los métodos nativos del lenguaje Python o con los métodos de la librería pandas."
   ]
  },
  {
   "cell_type": "code",
   "execution_count": null,
   "metadata": {},
   "outputs": [],
   "source": []
  },
  {
   "cell_type": "markdown",
   "metadata": {},
   "source": [
    "## Métodos nativos del lenguaje Python"
   ]
  },
  {
   "cell_type": "markdown",
   "metadata": {},
   "source": [
    "### Selección de filas"
   ]
  },
  {
   "cell_type": "code",
   "execution_count": null,
   "metadata": {},
   "outputs": [],
   "source": []
  },
  {
   "cell_type": "markdown",
   "metadata": {},
   "source": [
    "### Selección de columnas"
   ]
  },
  {
   "cell_type": "markdown",
   "metadata": {},
   "source": [
    "El lenguaje Python, ya de por sí, proporciona algunas maneras de indexar datos, como por ejemplo accediendo a una propiedad de un objeto como si de un atributo se tratara. Si quisiéramos acceder a la columna *occupation* del DataFrame anterior, podríamos hacerlo de la siguiente manera: "
   ]
  },
  {
   "cell_type": "code",
   "execution_count": null,
   "metadata": {},
   "outputs": [],
   "source": []
  },
  {
   "cell_type": "markdown",
   "metadata": {},
   "source": [
    "Por otro lado, de forma similar a como hacemos para acceder a los valores de un diccionario de Python, también podemos acceder a los valores de una columna usando el operador []: "
   ]
  },
  {
   "cell_type": "code",
   "execution_count": null,
   "metadata": {},
   "outputs": [],
   "source": []
  },
  {
   "cell_type": "markdown",
   "metadata": {},
   "source": [
    "Por tanto, los dos métodos anteriores permiten seleccionar una Serie concreta de un DataFrame. Ambos son igual de válidos, pero el operador de indexación [] tiene la gran ventaja de que permite nombres de columnas con caracteres especiales. Es decir, si queremos acceder a la columna *hours-per-week*:\n",
    "- df.hours-per-week no funcionará (no sabe tratar los guiones, ni tampoco funcionaría si el nombre tuviera espacios en blanco).\n",
    "- df[\"hours-per-week\"] sí funcionará.\n",
    "\n",
    "Comprobémoslo:"
   ]
  },
  {
   "cell_type": "code",
   "execution_count": null,
   "metadata": {},
   "outputs": [],
   "source": []
  },
  {
   "cell_type": "markdown",
   "metadata": {},
   "source": [
    "Si no solo queremos seleccionar una columna, sino un valor concreto dentro de esa columna, podemos acceder a él de la siguiente manera:"
   ]
  },
  {
   "cell_type": "code",
   "execution_count": null,
   "metadata": {},
   "outputs": [],
   "source": []
  },
  {
   "cell_type": "markdown",
   "metadata": {},
   "source": [
    "Donde [1] indica la posición del valor dentro de la columna."
   ]
  },
  {
   "cell_type": "markdown",
   "metadata": {},
   "source": [
    "## Métodos de pandas"
   ]
  },
  {
   "cell_type": "markdown",
   "metadata": {},
   "source": [
    "Los métodos nativos de Python anteriores funcionan muy bien, pero la librería pandas tiene también sus propios métodos para seleccionar y acceder a columnas y valores concretos de un objeto."
   ]
  },
  {
   "cell_type": "code",
   "execution_count": null,
   "metadata": {},
   "outputs": [],
   "source": []
  },
  {
   "cell_type": "markdown",
   "metadata": {},
   "source": [
    "### iloc: selección basada en posición"
   ]
  },
  {
   "cell_type": "markdown",
   "metadata": {},
   "source": [
    "El primer método de pandas permite hacer selecciones basadas en un índice, es decir, en la posición numérica de un dato detro del conjunto de datos. Su sintaxis es data.iloc[*filas*,*columnas*], donde *filas* y *columnas* hacen referencia a la posición de las filas y columnas que se desea seleccionar."
   ]
  },
  {
   "cell_type": "markdown",
   "metadata": {},
   "source": [
    "#### Selección de filas"
   ]
  },
  {
   "cell_type": "markdown",
   "metadata": {},
   "source": [
    "Tanto loc como iloc requieren indicar primero la fila y, en segundo lugar, la columna. Es decir, funcionan justo al revés que los métodos nativos de Python para indexación. Si no se especifican columnas concretas, se seleccionan todas las columnas de la fila. Por ejemplo, para seleccionar la primera fila del DataFrame con el que estamos trabajando: "
   ]
  },
  {
   "cell_type": "code",
   "execution_count": null,
   "metadata": {},
   "outputs": [],
   "source": []
  },
  {
   "cell_type": "markdown",
   "metadata": {},
   "source": [
    "Si se quiere seleccionar alguna fila empezando a contar desde el final del DataFrame, pueden usarse valores negativos:"
   ]
  },
  {
   "cell_type": "code",
   "execution_count": null,
   "metadata": {},
   "outputs": [],
   "source": []
  },
  {
   "cell_type": "code",
   "execution_count": 3,
   "metadata": {},
   "outputs": [],
   "source": [
    "# Penúltima fila"
   ]
  },
  {
   "cell_type": "markdown",
   "metadata": {},
   "source": [
    "#### Selección de columnas"
   ]
  },
  {
   "cell_type": "markdown",
   "metadata": {},
   "source": [
    "Para seleccionar una columna completa con iloc, hacemos lo siguiente:"
   ]
  },
  {
   "cell_type": "code",
   "execution_count": 4,
   "metadata": {},
   "outputs": [],
   "source": [
    "# Primera columna"
   ]
  },
  {
   "cell_type": "code",
   "execution_count": 5,
   "metadata": {},
   "outputs": [],
   "source": [
    "# Última columna"
   ]
  },
  {
   "cell_type": "markdown",
   "metadata": {},
   "source": [
    "#### Selección de filas y columnas"
   ]
  },
  {
   "cell_type": "markdown",
   "metadata": {},
   "source": [
    "El operador \":\", por sí solo, ordena que se recojan \"todos los valores\". Sin embargo, puede combinarse con otros selectores para referirse a un rango limitado de valores:"
   ]
  },
  {
   "cell_type": "code",
   "execution_count": 6,
   "metadata": {},
   "outputs": [],
   "source": [
    "# Desde la primera fila (incluida) hasta la de índice 3 (sin incluir)"
   ]
  },
  {
   "cell_type": "code",
   "execution_count": 7,
   "metadata": {},
   "outputs": [],
   "source": [
    "# Desde la primera fila (incluida) hasta la fila de índice 3 (sin incluir), pertenecientes a la primera columna"
   ]
  },
  {
   "cell_type": "code",
   "execution_count": 8,
   "metadata": {},
   "outputs": [],
   "source": [
    "# Todas las filas de las columnas con posiciones 0-3 (la 3 sin incluir)"
   ]
  },
  {
   "cell_type": "code",
   "execution_count": 9,
   "metadata": {},
   "outputs": [],
   "source": [
    "# Desde la fila 1 (incluida) hasta la 3 (sin incluir), pertenecientes a la primera columna"
   ]
  },
  {
   "cell_type": "code",
   "execution_count": 11,
   "metadata": {},
   "outputs": [],
   "source": [
    "# Primera, segunda y tercera fila"
   ]
  },
  {
   "cell_type": "code",
   "execution_count": 12,
   "metadata": {},
   "outputs": [],
   "source": [
    "# Primera, segunda y tercera fila"
   ]
  },
  {
   "cell_type": "code",
   "execution_count": 13,
   "metadata": {},
   "outputs": [],
   "source": [
    "# Las filas 0, 1 y 2 de la primera columna"
   ]
  },
  {
   "cell_type": "code",
   "execution_count": 14,
   "metadata": {},
   "outputs": [],
   "source": [
    "# Todas las filas de las columnas 0, 2 y 4"
   ]
  },
  {
   "cell_type": "markdown",
   "metadata": {},
   "source": [
    "También es posible utilizar números negativos en la selección, lo que implica que se empezará a contar desde el final de los valores: "
   ]
  },
  {
   "cell_type": "code",
   "execution_count": 15,
   "metadata": {},
   "outputs": [],
   "source": [
    "# Fila 5 de un dataset, empezando a contar desde el final"
   ]
  },
  {
   "cell_type": "code",
   "execution_count": 16,
   "metadata": {},
   "outputs": [],
   "source": [
    "# Fila 5 de un dataset, empezando a contar desde el final"
   ]
  },
  {
   "cell_type": "markdown",
   "metadata": {},
   "source": [
    "### loc: selección basada en etiquetas"
   ]
  },
  {
   "cell_type": "code",
   "execution_count": null,
   "metadata": {},
   "outputs": [],
   "source": []
  },
  {
   "cell_type": "markdown",
   "metadata": {},
   "source": [
    "El segundo enfoque de pandas consiste en la selección basada en las etiquetas de los valores, en lugar de su posición."
   ]
  },
  {
   "cell_type": "code",
   "execution_count": 17,
   "metadata": {},
   "outputs": [],
   "source": [
    "# Primer valor de la columna \"education-num\""
   ]
  },
  {
   "cell_type": "code",
   "execution_count": 18,
   "metadata": {},
   "outputs": [],
   "source": [
    "# Todas las filas de las columnas \"education\", \"marital-status\" y \"relationship\""
   ]
  },
  {
   "cell_type": "code",
   "execution_count": 19,
   "metadata": {},
   "outputs": [],
   "source": [
    "# Primer valor de la columna \"education\""
   ]
  },
  {
   "cell_type": "markdown",
   "metadata": {},
   "source": [
    "Como hemos visto, el método *iloc* icluye el primer elemento del rango pero excluye el último, es decir, 0:10 seleccionará los valores del 0 al 9, ambos incluidos.\n",
    "El método *loc*, sin embargo, incluye tanto el primer elemento del rango como el último. Por tanto, 0:10 seleccionará los valores del 0 al 10, ambos incluidos."
   ]
  },
  {
   "cell_type": "code",
   "execution_count": null,
   "metadata": {},
   "outputs": [],
   "source": []
  },
  {
   "cell_type": "markdown",
   "metadata": {},
   "source": [
    "## Selección basada en condiciones"
   ]
  },
  {
   "cell_type": "markdown",
   "metadata": {},
   "source": [
    "El método *loc* de pandas no solo permite seleccionar filas y columnas por etiquetas, sino también en base a condiciones. \n",
    "\n",
    "Imagina que estamos interesados en conocer los adultos del dataset que nunca se han casado y que, además trabajan 40 horas o más a la semana. En primer lugar, podríamos descubrir cuáles no se han casado nunca de la siguiente manera:"
   ]
  },
  {
   "cell_type": "code",
   "execution_count": null,
   "metadata": {},
   "outputs": [],
   "source": []
  },
  {
   "cell_type": "markdown",
   "metadata": {},
   "source": [
    "Esta operación produce una Serie con valores True/False en función de si la propiedad \"marital-status\" coincide con \"Never-married\" o no. Si introducimos esta operación en un loc, solo estaremos seleccionando los datos que cumplan la condición:"
   ]
  },
  {
   "cell_type": "code",
   "execution_count": null,
   "metadata": {},
   "outputs": [],
   "source": []
  },
  {
   "cell_type": "code",
   "execution_count": 38,
   "metadata": {},
   "outputs": [],
   "source": [
    "# La celda anterior devuelve un dataframe vacío, ¿por qué?\n",
    "# Si aplicamos un unique(), vemos que ' Never-married' tiene un espacio en primera posición"
   ]
  },
  {
   "cell_type": "code",
   "execution_count": null,
   "metadata": {},
   "outputs": [],
   "source": []
  },
  {
   "cell_type": "markdown",
   "metadata": {},
   "source": [
    "Hasta aquí, solo hemos seleccionado los adultos que no han estado casados, pero no aquellos que trabajan 40h o más a la semana."
   ]
  },
  {
   "cell_type": "code",
   "execution_count": null,
   "metadata": {},
   "outputs": [],
   "source": []
  },
  {
   "cell_type": "markdown",
   "metadata": {},
   "source": [
    "Imagina ahora que queremos conocer los adultos que no han estado casados o que trabajan 40h o más a la semana."
   ]
  },
  {
   "cell_type": "code",
   "execution_count": null,
   "metadata": {},
   "outputs": [],
   "source": []
  },
  {
   "cell_type": "code",
   "execution_count": 20,
   "metadata": {},
   "outputs": [],
   "source": [
    "# Métodos nativos de Python"
   ]
  },
  {
   "cell_type": "markdown",
   "metadata": {},
   "source": [
    "Pandas incluye también unos cuantos selectores específicos muy útiles, entre los cuales destaca isin. Este operador permite seleccionar los datos cuyos valores están dentro de una lista especificada. Por ejemplo, podríamos seleccionar los adultos que tiene nivel educativo \"Bachelors\" (como una licenciatura) o \"Masters\":"
   ]
  },
  {
   "cell_type": "code",
   "execution_count": null,
   "metadata": {},
   "outputs": [],
   "source": []
  },
  {
   "cell_type": "code",
   "execution_count": 21,
   "metadata": {},
   "outputs": [],
   "source": [
    "# Antes de nada, vamos a asegurarnos de cómo están escritas ambas categorías en los datos"
   ]
  },
  {
   "cell_type": "code",
   "execution_count": null,
   "metadata": {},
   "outputs": [],
   "source": []
  },
  {
   "cell_type": "markdown",
   "metadata": {},
   "source": [
    "# Asignación de datos"
   ]
  },
  {
   "cell_type": "code",
   "execution_count": null,
   "metadata": {},
   "outputs": [],
   "source": []
  },
  {
   "cell_type": "markdown",
   "metadata": {},
   "source": [
    "Asignar datos a un DataFrame es muy sencillo, ya sea un valor constante o un conjunto de valores:"
   ]
  },
  {
   "cell_type": "code",
   "execution_count": null,
   "metadata": {},
   "outputs": [],
   "source": []
  },
  {
   "cell_type": "code",
   "execution_count": null,
   "metadata": {},
   "outputs": [],
   "source": [
    "# adult_data[\"relationship\"] = [10, 11, -5 , 3 ...]"
   ]
  },
  {
   "cell_type": "code",
   "execution_count": null,
   "metadata": {},
   "outputs": [],
   "source": []
  },
  {
   "cell_type": "markdown",
   "metadata": {},
   "source": [
    "Como hemos visto, si la columna existe, se sobreescriben sus valores con el que le hayamos asignado. Si no existe, se crea una nueva columna:"
   ]
  },
  {
   "cell_type": "code",
   "execution_count": null,
   "metadata": {},
   "outputs": [],
   "source": []
  },
  {
   "cell_type": "markdown",
   "metadata": {},
   "source": [
    "# Manipulación del índice"
   ]
  },
  {
   "cell_type": "markdown",
   "metadata": {},
   "source": [
    "Existe un método de pandas, set_index(), que permite establecer como índice el que nosotros queramos, como por ejemplo una columna:"
   ]
  },
  {
   "cell_type": "code",
   "execution_count": null,
   "metadata": {},
   "outputs": [],
   "source": []
  },
  {
   "cell_type": "code",
   "execution_count": 22,
   "metadata": {},
   "outputs": [],
   "source": [
    "# Primera opción para conservar el resultado"
   ]
  },
  {
   "cell_type": "code",
   "execution_count": 23,
   "metadata": {},
   "outputs": [],
   "source": [
    "# Primera opción para conservar el resultado"
   ]
  },
  {
   "cell_type": "code",
   "execution_count": null,
   "metadata": {},
   "outputs": [],
   "source": []
  }
 ],
 "metadata": {
  "hide_input": false,
  "kernelspec": {
   "display_name": "Python 3",
   "language": "python",
   "name": "python3"
  },
  "language_info": {
   "codemirror_mode": {
    "name": "ipython",
    "version": 3
   },
   "file_extension": ".py",
   "mimetype": "text/x-python",
   "name": "python",
   "nbconvert_exporter": "python",
   "pygments_lexer": "ipython3",
   "version": "3.8.5"
  },
  "toc": {
   "base_numbering": 1,
   "nav_menu": {},
   "number_sections": true,
   "sideBar": true,
   "skip_h1_title": false,
   "title_cell": "Table of Contents",
   "title_sidebar": "Contents",
   "toc_cell": true,
   "toc_position": {},
   "toc_section_display": true,
   "toc_window_display": false
  },
  "varInspector": {
   "cols": {
    "lenName": 16,
    "lenType": 16,
    "lenVar": 40
   },
   "kernels_config": {
    "python": {
     "delete_cmd_postfix": "",
     "delete_cmd_prefix": "del ",
     "library": "var_list.py",
     "varRefreshCmd": "print(var_dic_list())"
    },
    "r": {
     "delete_cmd_postfix": ") ",
     "delete_cmd_prefix": "rm(",
     "library": "var_list.r",
     "varRefreshCmd": "cat(var_dic_list()) "
    }
   },
   "oldHeight": 122,
   "position": {
    "height": "40px",
    "left": "877px",
    "right": "20px",
    "top": "103px",
    "width": "350px"
   },
   "types_to_exclude": [
    "module",
    "function",
    "builtin_function_or_method",
    "instance",
    "_Feature"
   ],
   "varInspector_section_display": "none",
   "window_display": false
  }
 },
 "nbformat": 4,
 "nbformat_minor": 4
}
