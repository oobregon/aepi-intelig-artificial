{
 "cells": [
  {
   "cell_type": "markdown",
   "metadata": {
    "toc": true
   },
   "source": [
    "<h1>Table of Contents<span class=\"tocSkip\"></span></h1>\n",
    "<div class=\"toc\"><ul class=\"toc-item\"><li><span><a href=\"#Librería-pandas\" data-toc-modified-id=\"Librería-pandas-1\"><span class=\"toc-item-num\">1&nbsp;&nbsp;</span>Librería pandas</a></span><ul class=\"toc-item\"><li><span><a href=\"#Lectura-de-archivos-en-formato-JSON\" data-toc-modified-id=\"Lectura-de-archivos-en-formato-JSON-1.1\"><span class=\"toc-item-num\">1.1&nbsp;&nbsp;</span>Lectura de archivos en formato JSON</a></span></li><li><span><a href=\"#Conversión-de-un-dataframe-a-JSON\" data-toc-modified-id=\"Conversión-de-un-dataframe-a-JSON-1.2\"><span class=\"toc-item-num\">1.2&nbsp;&nbsp;</span>Conversión de un dataframe a JSON</a></span></li><li><span><a href=\"#Carga-de-una-cadena-JSON-en-un-dataframe\" data-toc-modified-id=\"Carga-de-una-cadena-JSON-en-un-dataframe-1.3\"><span class=\"toc-item-num\">1.3&nbsp;&nbsp;</span>Carga de una cadena JSON en un dataframe</a></span></li></ul></li><li><span><a href=\"#Módulo-json-de-la-librería-estándar-de-Python\" data-toc-modified-id=\"Módulo-json-de-la-librería-estándar-de-Python-2\"><span class=\"toc-item-num\">2&nbsp;&nbsp;</span>Módulo json de la librería estándar de Python</a></span><ul class=\"toc-item\"><li><span><a href=\"#Lectura-de-archivos-en-formato-JSON\" data-toc-modified-id=\"Lectura-de-archivos-en-formato-JSON-2.1\"><span class=\"toc-item-num\">2.1&nbsp;&nbsp;</span>Lectura de archivos en formato JSON</a></span></li><li><span><a href=\"#Conversión-de-un-diccionario-a-JSON\" data-toc-modified-id=\"Conversión-de-un-diccionario-a-JSON-2.2\"><span class=\"toc-item-num\">2.2&nbsp;&nbsp;</span>Conversión de un diccionario a JSON</a></span></li><li><span><a href=\"#Carga-de-una-cadena-JSON-en-un-diccionario\" data-toc-modified-id=\"Carga-de-una-cadena-JSON-en-un-diccionario-2.3\"><span class=\"toc-item-num\">2.3&nbsp;&nbsp;</span>Carga de una cadena JSON en un diccionario</a></span></li><li><span><a href=\"#Impresión-con-formato\" data-toc-modified-id=\"Impresión-con-formato-2.4\"><span class=\"toc-item-num\">2.4&nbsp;&nbsp;</span>Impresión con formato</a></span></li></ul></li></ul></div>"
   ]
  },
  {
   "cell_type": "markdown",
   "metadata": {},
   "source": [
    "JSON (JavaScript Object Notation) es un formato de datos muy utilizado para representar datos estructurados. En Python, el formato JSON se almacena como un string, por ejemplo:"
   ]
  },
  {
   "cell_type": "code",
   "execution_count": 1,
   "metadata": {},
   "outputs": [
    {
     "data": {
      "text/plain": [
       "'{\"Asignatura\": \"Historia\", \"Aulas\": [\"A3\", \"B2\"]}'"
      ]
     },
     "execution_count": 1,
     "metadata": {},
     "output_type": "execute_result"
    }
   ],
   "source": [
    "subject_json = '{\"Asignatura\": \"Historia\", \"Aulas\": [\"A3\", \"B2\"]}'\n",
    "subject_json"
   ]
  },
  {
   "cell_type": "markdown",
   "metadata": {},
   "source": [
    "# Librería pandas"
   ]
  },
  {
   "cell_type": "markdown",
   "metadata": {},
   "source": [
    "Pandas incluye la función pd.read_json() que permite convertir una cadena en formato JSON a un objeto de pandas (una Serie o un DataFrame). Sus principales parámetros son los siguientes:\n",
    "- **path_or_buf** es una cadena de JSON válida, un objeto de tipo archivo (que disponga de método *.read()*) o la ruta de un archivo.\n",
    "- **orient** debe ser una cadena de texto indicando cómo es el formato JSON esperado. Se pueden generar cadenas de texto en formato JSON válido mediante la función *to_json()* de pandas con una orientación adecuada. Las posibles orientaciones son las siguientes:\n",
    "    - 'split': tipo diccionario {index -> [index], columns -> [columns], data -> [values]}\n",
    "    - 'records': tipo lista [{column -> value}, ... , {column -> value}]\n",
    "    - 'index': tipo diccionario {index -> {column -> value}}\n",
    "    - 'columns': tipo diccionario {column -> {index -> value}}\n",
    "    - 'values': simplemente los valores de un vector\n",
    "    Los valores permitidos y predeterminados dependen del valor del parámetro *typ*:\n",
    "        - Cuando typ == 'series', las orientaciones permitidas son {'split','records','index'}, y por defecto es 'index'. \n",
    "        - Cuando typ == 'frame',las orientaciones permitidas son {'split','records','index', 'columns','values', 'table'}, y por defecto es 'columns'.\n",
    "- **typ** es el tipo de objeto que se desea generar y puede ser uno de los dos siguientes: {‘frame’, ‘series’}. Por defecto es 'frame'.\n",
    "- **convert_dates** puede ser False o True (este último es el valor por defecto), o bien una lista con nombres de columnas. Si es False, no se tratará de leer ninguna columna como fecha. Si se trata de una lista de nombres de columnas, esas columnas se convertirán y, además, las columnas que aparentemente puedan hacer referencia a fechas también podrán hacerlo (según el parámetro *keep_default_dates*, explicado a continuación).\n",
    "- **keep_default_dates** también es un booleano y por defecto es True. Si el parámetro *convert_dates* no está puesto en False, entonces trata de convertir las columnas que aparentemente puedan hacer referencia a fechas. Detecta que una columna podría ser de tipo fecha fijándose en el nombre que tiene dicha columna, en concreto fijándose en los siguientes detalles:\n",
    "    - El nombre termina en '_at'\n",
    "    - El nombre termina en '_time'\n",
    "    - El nombre empieza con 'timestamp'\n",
    "    - El nombre incluye la palabra 'modified'\n",
    "    - EL nombre incluye la palabra 'date'\n",
    "- **encoding** es el tipo de codificación de los datos y por defecto es ‘utf-8’.\n",
    "- **lines** es un booleano (por defecto False) y permite indicar si se quiere leer el archivo como un objeto json línea a línea.\n",
    "- **compression**  puede ser {‘infer’, ‘gzip’, ‘bz2’, ‘zip’, ‘xz’, None}, y por defecto es ‘infer’. Se utiliza para descomprimir datos sobre la marcha. Si es \"infer\", utiliza gzip, bz2, zip o xz si *path_or_buf* es una cadena que termina en \".gz\", \".bz2\", \".zip\" o \"xz\", respectivamente. Si se quiere usar \"zip\", el archivo ZIP debe contener solo un archivo de datos para ser leído. \n",
    "- **nrows** es un entero que permite poner un límite de líneas a leer. Solo se puede pasar si *lines = True*. "
   ]
  },
  {
   "cell_type": "code",
   "execution_count": 2,
   "metadata": {},
   "outputs": [],
   "source": [
    "import pandas as pd"
   ]
  },
  {
   "cell_type": "markdown",
   "metadata": {},
   "source": [
    "## Lectura de archivos en formato JSON"
   ]
  },
  {
   "cell_type": "code",
   "execution_count": 7,
   "metadata": {},
   "outputs": [
    {
     "data": {
      "text/html": [
       "<div>\n",
       "<style scoped>\n",
       "    .dataframe tbody tr th:only-of-type {\n",
       "        vertical-align: middle;\n",
       "    }\n",
       "\n",
       "    .dataframe tbody tr th {\n",
       "        vertical-align: top;\n",
       "    }\n",
       "\n",
       "    .dataframe thead th {\n",
       "        text-align: right;\n",
       "    }\n",
       "</style>\n",
       "<table border=\"1\" class=\"dataframe\">\n",
       "  <thead>\n",
       "    <tr style=\"text-align: right;\">\n",
       "      <th></th>\n",
       "      <th>_id</th>\n",
       "      <th>user_day_code</th>\n",
       "      <th>idplug_base</th>\n",
       "      <th>user_type</th>\n",
       "      <th>idunplug_base</th>\n",
       "      <th>travel_time</th>\n",
       "      <th>idunplug_station</th>\n",
       "      <th>ageRange</th>\n",
       "      <th>idplug_station</th>\n",
       "      <th>unplug_hourTime</th>\n",
       "      <th>zip_code</th>\n",
       "      <th>track</th>\n",
       "    </tr>\n",
       "  </thead>\n",
       "  <tbody>\n",
       "    <tr>\n",
       "      <th>0</th>\n",
       "      <td>{'$oid': '5cf83b752f3843a016be4e2f'}</td>\n",
       "      <td>e4d55deb9ac172a8d8f5f0a32599815bd51b7c8760d67e...</td>\n",
       "      <td>21</td>\n",
       "      <td>1</td>\n",
       "      <td>8</td>\n",
       "      <td>219</td>\n",
       "      <td>90</td>\n",
       "      <td>0</td>\n",
       "      <td>66</td>\n",
       "      <td>{'$date': '2019-06-01T00:00:00.000+0200'}</td>\n",
       "      <td></td>\n",
       "      <td>NaN</td>\n",
       "    </tr>\n",
       "    <tr>\n",
       "      <th>1</th>\n",
       "      <td>{'$oid': '5cf83b762f3843a016be4e48'}</td>\n",
       "      <td>8a0c4123e924a50a958f51985eb71aea750fb072438035...</td>\n",
       "      <td>19</td>\n",
       "      <td>1</td>\n",
       "      <td>19</td>\n",
       "      <td>359</td>\n",
       "      <td>71</td>\n",
       "      <td>4</td>\n",
       "      <td>136</td>\n",
       "      <td>{'$date': '2019-06-01T00:00:00.000+0200'}</td>\n",
       "      <td>28039</td>\n",
       "      <td>NaN</td>\n",
       "    </tr>\n",
       "    <tr>\n",
       "      <th>2</th>\n",
       "      <td>{'$oid': '5cf83b762f3843a016be4e4f'}</td>\n",
       "      <td>a6a9c1f74a68496000542210abc4fc2eba79e2756ad535...</td>\n",
       "      <td>17</td>\n",
       "      <td>1</td>\n",
       "      <td>7</td>\n",
       "      <td>375</td>\n",
       "      <td>39</td>\n",
       "      <td>4</td>\n",
       "      <td>38</td>\n",
       "      <td>{'$date': '2019-06-01T00:00:00.000+0200'}</td>\n",
       "      <td>28013</td>\n",
       "      <td>NaN</td>\n",
       "    </tr>\n",
       "    <tr>\n",
       "      <th>3</th>\n",
       "      <td>{'$oid': '5cf83b762f3843a016be4e53'}</td>\n",
       "      <td>5706c0bd494acc02279d532821c9666b0e506d4f81c838...</td>\n",
       "      <td>4</td>\n",
       "      <td>1</td>\n",
       "      <td>21</td>\n",
       "      <td>264</td>\n",
       "      <td>66</td>\n",
       "      <td>5</td>\n",
       "      <td>90</td>\n",
       "      <td>{'$date': '2019-06-01T00:00:00.000+0200'}</td>\n",
       "      <td>28009</td>\n",
       "      <td>NaN</td>\n",
       "    </tr>\n",
       "    <tr>\n",
       "      <th>4</th>\n",
       "      <td>{'$oid': '5cf83b762f3843a016be4e54'}</td>\n",
       "      <td>eb1b6d32bd4add5d5ff91af72a38786d61075c090383a5...</td>\n",
       "      <td>3</td>\n",
       "      <td>1</td>\n",
       "      <td>13</td>\n",
       "      <td>367</td>\n",
       "      <td>152</td>\n",
       "      <td>4</td>\n",
       "      <td>166</td>\n",
       "      <td>{'$date': '2019-06-01T00:00:00.000+0200'}</td>\n",
       "      <td>28006</td>\n",
       "      <td>NaN</td>\n",
       "    </tr>\n",
       "    <tr>\n",
       "      <th>...</th>\n",
       "      <td>...</td>\n",
       "      <td>...</td>\n",
       "      <td>...</td>\n",
       "      <td>...</td>\n",
       "      <td>...</td>\n",
       "      <td>...</td>\n",
       "      <td>...</td>\n",
       "      <td>...</td>\n",
       "      <td>...</td>\n",
       "      <td>...</td>\n",
       "      <td>...</td>\n",
       "      <td>...</td>\n",
       "    </tr>\n",
       "    <tr>\n",
       "      <th>450806</th>\n",
       "      <td>{'$oid': '5d19317fa9cd6441ac49177b'}</td>\n",
       "      <td>2ea80cbe37fc790baa40bf26547aee6bef31b77fa3afcc...</td>\n",
       "      <td>9</td>\n",
       "      <td>3</td>\n",
       "      <td>12</td>\n",
       "      <td>3293</td>\n",
       "      <td>83</td>\n",
       "      <td>4</td>\n",
       "      <td>90</td>\n",
       "      <td>{'$date': '2019-06-26T23:00:00.000+0200'}</td>\n",
       "      <td></td>\n",
       "      <td>NaN</td>\n",
       "    </tr>\n",
       "    <tr>\n",
       "      <th>450807</th>\n",
       "      <td>{'$oid': '5d19317fa9cd6441ac49177c'}</td>\n",
       "      <td>97032d3747cb14430b7899cfdfdf17f4f8bb92da7ccb60...</td>\n",
       "      <td>12</td>\n",
       "      <td>1</td>\n",
       "      <td>23</td>\n",
       "      <td>317</td>\n",
       "      <td>51</td>\n",
       "      <td>5</td>\n",
       "      <td>135</td>\n",
       "      <td>{'$date': '2019-06-26T23:00:00.000+0200'}</td>\n",
       "      <td>28045</td>\n",
       "      <td>NaN</td>\n",
       "    </tr>\n",
       "    <tr>\n",
       "      <th>450808</th>\n",
       "      <td>{'$oid': '5d193180a9cd6441ac49177f'}</td>\n",
       "      <td>4b8a5eabbe71df3addcff5ccdec5b7a6b49252f23edb7c...</td>\n",
       "      <td>3</td>\n",
       "      <td>1</td>\n",
       "      <td>14</td>\n",
       "      <td>1558</td>\n",
       "      <td>172</td>\n",
       "      <td>0</td>\n",
       "      <td>174</td>\n",
       "      <td>{'$date': '2019-06-26T23:00:00.000+0200'}</td>\n",
       "      <td></td>\n",
       "      <td>NaN</td>\n",
       "    </tr>\n",
       "    <tr>\n",
       "      <th>450809</th>\n",
       "      <td>{'$oid': '5d193180a9cd6441ac491780'}</td>\n",
       "      <td>a155966b8f5dfaeaac34612d902eab89b8dc590df6b9e9...</td>\n",
       "      <td>6</td>\n",
       "      <td>1</td>\n",
       "      <td>6</td>\n",
       "      <td>2199</td>\n",
       "      <td>35</td>\n",
       "      <td>0</td>\n",
       "      <td>2</td>\n",
       "      <td>{'$date': '2019-06-26T23:00:00.000+0200'}</td>\n",
       "      <td></td>\n",
       "      <td>NaN</td>\n",
       "    </tr>\n",
       "    <tr>\n",
       "      <th>450810</th>\n",
       "      <td>{'$oid': '5d193180a9cd6441ac491781'}</td>\n",
       "      <td>a2859c578a940a5b6f9697d37bbb60887b59668b74f4ab...</td>\n",
       "      <td>3</td>\n",
       "      <td>1</td>\n",
       "      <td>19</td>\n",
       "      <td>301</td>\n",
       "      <td>30</td>\n",
       "      <td>5</td>\n",
       "      <td>130</td>\n",
       "      <td>{'$date': '2019-06-26T23:00:00.000+0200'}</td>\n",
       "      <td>28010</td>\n",
       "      <td>NaN</td>\n",
       "    </tr>\n",
       "  </tbody>\n",
       "</table>\n",
       "<p>450811 rows × 12 columns</p>\n",
       "</div>"
      ],
      "text/plain": [
       "                                         _id  \\\n",
       "0       {'$oid': '5cf83b752f3843a016be4e2f'}   \n",
       "1       {'$oid': '5cf83b762f3843a016be4e48'}   \n",
       "2       {'$oid': '5cf83b762f3843a016be4e4f'}   \n",
       "3       {'$oid': '5cf83b762f3843a016be4e53'}   \n",
       "4       {'$oid': '5cf83b762f3843a016be4e54'}   \n",
       "...                                      ...   \n",
       "450806  {'$oid': '5d19317fa9cd6441ac49177b'}   \n",
       "450807  {'$oid': '5d19317fa9cd6441ac49177c'}   \n",
       "450808  {'$oid': '5d193180a9cd6441ac49177f'}   \n",
       "450809  {'$oid': '5d193180a9cd6441ac491780'}   \n",
       "450810  {'$oid': '5d193180a9cd6441ac491781'}   \n",
       "\n",
       "                                            user_day_code  idplug_base  \\\n",
       "0       e4d55deb9ac172a8d8f5f0a32599815bd51b7c8760d67e...           21   \n",
       "1       8a0c4123e924a50a958f51985eb71aea750fb072438035...           19   \n",
       "2       a6a9c1f74a68496000542210abc4fc2eba79e2756ad535...           17   \n",
       "3       5706c0bd494acc02279d532821c9666b0e506d4f81c838...            4   \n",
       "4       eb1b6d32bd4add5d5ff91af72a38786d61075c090383a5...            3   \n",
       "...                                                   ...          ...   \n",
       "450806  2ea80cbe37fc790baa40bf26547aee6bef31b77fa3afcc...            9   \n",
       "450807  97032d3747cb14430b7899cfdfdf17f4f8bb92da7ccb60...           12   \n",
       "450808  4b8a5eabbe71df3addcff5ccdec5b7a6b49252f23edb7c...            3   \n",
       "450809  a155966b8f5dfaeaac34612d902eab89b8dc590df6b9e9...            6   \n",
       "450810  a2859c578a940a5b6f9697d37bbb60887b59668b74f4ab...            3   \n",
       "\n",
       "        user_type  idunplug_base  travel_time  idunplug_station  ageRange  \\\n",
       "0               1              8          219                90         0   \n",
       "1               1             19          359                71         4   \n",
       "2               1              7          375                39         4   \n",
       "3               1             21          264                66         5   \n",
       "4               1             13          367               152         4   \n",
       "...           ...            ...          ...               ...       ...   \n",
       "450806          3             12         3293                83         4   \n",
       "450807          1             23          317                51         5   \n",
       "450808          1             14         1558               172         0   \n",
       "450809          1              6         2199                35         0   \n",
       "450810          1             19          301                30         5   \n",
       "\n",
       "        idplug_station                            unplug_hourTime zip_code  \\\n",
       "0                   66  {'$date': '2019-06-01T00:00:00.000+0200'}            \n",
       "1                  136  {'$date': '2019-06-01T00:00:00.000+0200'}    28039   \n",
       "2                   38  {'$date': '2019-06-01T00:00:00.000+0200'}    28013   \n",
       "3                   90  {'$date': '2019-06-01T00:00:00.000+0200'}    28009   \n",
       "4                  166  {'$date': '2019-06-01T00:00:00.000+0200'}    28006   \n",
       "...                ...                                        ...      ...   \n",
       "450806              90  {'$date': '2019-06-26T23:00:00.000+0200'}            \n",
       "450807             135  {'$date': '2019-06-26T23:00:00.000+0200'}    28045   \n",
       "450808             174  {'$date': '2019-06-26T23:00:00.000+0200'}            \n",
       "450809               2  {'$date': '2019-06-26T23:00:00.000+0200'}            \n",
       "450810             130  {'$date': '2019-06-26T23:00:00.000+0200'}    28010   \n",
       "\n",
       "       track  \n",
       "0        NaN  \n",
       "1        NaN  \n",
       "2        NaN  \n",
       "3        NaN  \n",
       "4        NaN  \n",
       "...      ...  \n",
       "450806   NaN  \n",
       "450807   NaN  \n",
       "450808   NaN  \n",
       "450809   NaN  \n",
       "450810   NaN  \n",
       "\n",
       "[450811 rows x 12 columns]"
      ]
     },
     "execution_count": 7,
     "metadata": {},
     "output_type": "execute_result"
    }
   ],
   "source": [
    "df = pd.read_json(path_or_buf = \"201906_Usage_Bicimad.zip\", encoding = \"iso-8859-2\", lines = True)\n",
    "df"
   ]
  },
  {
   "cell_type": "code",
   "execution_count": 5,
   "metadata": {},
   "outputs": [
    {
     "data": {
      "text/html": [
       "<div>\n",
       "<style scoped>\n",
       "    .dataframe tbody tr th:only-of-type {\n",
       "        vertical-align: middle;\n",
       "    }\n",
       "\n",
       "    .dataframe tbody tr th {\n",
       "        vertical-align: top;\n",
       "    }\n",
       "\n",
       "    .dataframe thead th {\n",
       "        text-align: right;\n",
       "    }\n",
       "</style>\n",
       "<table border=\"1\" class=\"dataframe\">\n",
       "  <thead>\n",
       "    <tr style=\"text-align: right;\">\n",
       "      <th></th>\n",
       "      <th>_id</th>\n",
       "      <th>user_day_code</th>\n",
       "      <th>idplug_base</th>\n",
       "      <th>user_type</th>\n",
       "      <th>idunplug_base</th>\n",
       "      <th>travel_time</th>\n",
       "      <th>idunplug_station</th>\n",
       "      <th>ageRange</th>\n",
       "      <th>idplug_station</th>\n",
       "      <th>unplug_hourTime</th>\n",
       "      <th>zip_code</th>\n",
       "      <th>track</th>\n",
       "    </tr>\n",
       "  </thead>\n",
       "  <tbody>\n",
       "    <tr>\n",
       "      <th>0</th>\n",
       "      <td>{'$oid': '5cf83b752f3843a016be4e2f'}</td>\n",
       "      <td>e4d55deb9ac172a8d8f5f0a32599815bd51b7c8760d67e...</td>\n",
       "      <td>21</td>\n",
       "      <td>1</td>\n",
       "      <td>8</td>\n",
       "      <td>219</td>\n",
       "      <td>90</td>\n",
       "      <td>0</td>\n",
       "      <td>66</td>\n",
       "      <td>{'$date': '2019-06-01T00:00:00.000+0200'}</td>\n",
       "      <td></td>\n",
       "      <td>NaN</td>\n",
       "    </tr>\n",
       "    <tr>\n",
       "      <th>1</th>\n",
       "      <td>{'$oid': '5cf83b762f3843a016be4e48'}</td>\n",
       "      <td>8a0c4123e924a50a958f51985eb71aea750fb072438035...</td>\n",
       "      <td>19</td>\n",
       "      <td>1</td>\n",
       "      <td>19</td>\n",
       "      <td>359</td>\n",
       "      <td>71</td>\n",
       "      <td>4</td>\n",
       "      <td>136</td>\n",
       "      <td>{'$date': '2019-06-01T00:00:00.000+0200'}</td>\n",
       "      <td>28039</td>\n",
       "      <td>NaN</td>\n",
       "    </tr>\n",
       "    <tr>\n",
       "      <th>2</th>\n",
       "      <td>{'$oid': '5cf83b762f3843a016be4e4f'}</td>\n",
       "      <td>a6a9c1f74a68496000542210abc4fc2eba79e2756ad535...</td>\n",
       "      <td>17</td>\n",
       "      <td>1</td>\n",
       "      <td>7</td>\n",
       "      <td>375</td>\n",
       "      <td>39</td>\n",
       "      <td>4</td>\n",
       "      <td>38</td>\n",
       "      <td>{'$date': '2019-06-01T00:00:00.000+0200'}</td>\n",
       "      <td>28013</td>\n",
       "      <td>NaN</td>\n",
       "    </tr>\n",
       "    <tr>\n",
       "      <th>3</th>\n",
       "      <td>{'$oid': '5cf83b762f3843a016be4e53'}</td>\n",
       "      <td>5706c0bd494acc02279d532821c9666b0e506d4f81c838...</td>\n",
       "      <td>4</td>\n",
       "      <td>1</td>\n",
       "      <td>21</td>\n",
       "      <td>264</td>\n",
       "      <td>66</td>\n",
       "      <td>5</td>\n",
       "      <td>90</td>\n",
       "      <td>{'$date': '2019-06-01T00:00:00.000+0200'}</td>\n",
       "      <td>28009</td>\n",
       "      <td>NaN</td>\n",
       "    </tr>\n",
       "    <tr>\n",
       "      <th>4</th>\n",
       "      <td>{'$oid': '5cf83b762f3843a016be4e54'}</td>\n",
       "      <td>eb1b6d32bd4add5d5ff91af72a38786d61075c090383a5...</td>\n",
       "      <td>3</td>\n",
       "      <td>1</td>\n",
       "      <td>13</td>\n",
       "      <td>367</td>\n",
       "      <td>152</td>\n",
       "      <td>4</td>\n",
       "      <td>166</td>\n",
       "      <td>{'$date': '2019-06-01T00:00:00.000+0200'}</td>\n",
       "      <td>28006</td>\n",
       "      <td>NaN</td>\n",
       "    </tr>\n",
       "    <tr>\n",
       "      <th>...</th>\n",
       "      <td>...</td>\n",
       "      <td>...</td>\n",
       "      <td>...</td>\n",
       "      <td>...</td>\n",
       "      <td>...</td>\n",
       "      <td>...</td>\n",
       "      <td>...</td>\n",
       "      <td>...</td>\n",
       "      <td>...</td>\n",
       "      <td>...</td>\n",
       "      <td>...</td>\n",
       "      <td>...</td>\n",
       "    </tr>\n",
       "    <tr>\n",
       "      <th>450806</th>\n",
       "      <td>{'$oid': '5d19317fa9cd6441ac49177b'}</td>\n",
       "      <td>2ea80cbe37fc790baa40bf26547aee6bef31b77fa3afcc...</td>\n",
       "      <td>9</td>\n",
       "      <td>3</td>\n",
       "      <td>12</td>\n",
       "      <td>3293</td>\n",
       "      <td>83</td>\n",
       "      <td>4</td>\n",
       "      <td>90</td>\n",
       "      <td>{'$date': '2019-06-26T23:00:00.000+0200'}</td>\n",
       "      <td></td>\n",
       "      <td>NaN</td>\n",
       "    </tr>\n",
       "    <tr>\n",
       "      <th>450807</th>\n",
       "      <td>{'$oid': '5d19317fa9cd6441ac49177c'}</td>\n",
       "      <td>97032d3747cb14430b7899cfdfdf17f4f8bb92da7ccb60...</td>\n",
       "      <td>12</td>\n",
       "      <td>1</td>\n",
       "      <td>23</td>\n",
       "      <td>317</td>\n",
       "      <td>51</td>\n",
       "      <td>5</td>\n",
       "      <td>135</td>\n",
       "      <td>{'$date': '2019-06-26T23:00:00.000+0200'}</td>\n",
       "      <td>28045</td>\n",
       "      <td>NaN</td>\n",
       "    </tr>\n",
       "    <tr>\n",
       "      <th>450808</th>\n",
       "      <td>{'$oid': '5d193180a9cd6441ac49177f'}</td>\n",
       "      <td>4b8a5eabbe71df3addcff5ccdec5b7a6b49252f23edb7c...</td>\n",
       "      <td>3</td>\n",
       "      <td>1</td>\n",
       "      <td>14</td>\n",
       "      <td>1558</td>\n",
       "      <td>172</td>\n",
       "      <td>0</td>\n",
       "      <td>174</td>\n",
       "      <td>{'$date': '2019-06-26T23:00:00.000+0200'}</td>\n",
       "      <td></td>\n",
       "      <td>NaN</td>\n",
       "    </tr>\n",
       "    <tr>\n",
       "      <th>450809</th>\n",
       "      <td>{'$oid': '5d193180a9cd6441ac491780'}</td>\n",
       "      <td>a155966b8f5dfaeaac34612d902eab89b8dc590df6b9e9...</td>\n",
       "      <td>6</td>\n",
       "      <td>1</td>\n",
       "      <td>6</td>\n",
       "      <td>2199</td>\n",
       "      <td>35</td>\n",
       "      <td>0</td>\n",
       "      <td>2</td>\n",
       "      <td>{'$date': '2019-06-26T23:00:00.000+0200'}</td>\n",
       "      <td></td>\n",
       "      <td>NaN</td>\n",
       "    </tr>\n",
       "    <tr>\n",
       "      <th>450810</th>\n",
       "      <td>{'$oid': '5d193180a9cd6441ac491781'}</td>\n",
       "      <td>a2859c578a940a5b6f9697d37bbb60887b59668b74f4ab...</td>\n",
       "      <td>3</td>\n",
       "      <td>1</td>\n",
       "      <td>19</td>\n",
       "      <td>301</td>\n",
       "      <td>30</td>\n",
       "      <td>5</td>\n",
       "      <td>130</td>\n",
       "      <td>{'$date': '2019-06-26T23:00:00.000+0200'}</td>\n",
       "      <td>28010</td>\n",
       "      <td>NaN</td>\n",
       "    </tr>\n",
       "  </tbody>\n",
       "</table>\n",
       "<p>450811 rows × 12 columns</p>\n",
       "</div>"
      ],
      "text/plain": [
       "                                         _id  \\\n",
       "0       {'$oid': '5cf83b752f3843a016be4e2f'}   \n",
       "1       {'$oid': '5cf83b762f3843a016be4e48'}   \n",
       "2       {'$oid': '5cf83b762f3843a016be4e4f'}   \n",
       "3       {'$oid': '5cf83b762f3843a016be4e53'}   \n",
       "4       {'$oid': '5cf83b762f3843a016be4e54'}   \n",
       "...                                      ...   \n",
       "450806  {'$oid': '5d19317fa9cd6441ac49177b'}   \n",
       "450807  {'$oid': '5d19317fa9cd6441ac49177c'}   \n",
       "450808  {'$oid': '5d193180a9cd6441ac49177f'}   \n",
       "450809  {'$oid': '5d193180a9cd6441ac491780'}   \n",
       "450810  {'$oid': '5d193180a9cd6441ac491781'}   \n",
       "\n",
       "                                            user_day_code  idplug_base  \\\n",
       "0       e4d55deb9ac172a8d8f5f0a32599815bd51b7c8760d67e...           21   \n",
       "1       8a0c4123e924a50a958f51985eb71aea750fb072438035...           19   \n",
       "2       a6a9c1f74a68496000542210abc4fc2eba79e2756ad535...           17   \n",
       "3       5706c0bd494acc02279d532821c9666b0e506d4f81c838...            4   \n",
       "4       eb1b6d32bd4add5d5ff91af72a38786d61075c090383a5...            3   \n",
       "...                                                   ...          ...   \n",
       "450806  2ea80cbe37fc790baa40bf26547aee6bef31b77fa3afcc...            9   \n",
       "450807  97032d3747cb14430b7899cfdfdf17f4f8bb92da7ccb60...           12   \n",
       "450808  4b8a5eabbe71df3addcff5ccdec5b7a6b49252f23edb7c...            3   \n",
       "450809  a155966b8f5dfaeaac34612d902eab89b8dc590df6b9e9...            6   \n",
       "450810  a2859c578a940a5b6f9697d37bbb60887b59668b74f4ab...            3   \n",
       "\n",
       "        user_type  idunplug_base  travel_time  idunplug_station  ageRange  \\\n",
       "0               1              8          219                90         0   \n",
       "1               1             19          359                71         4   \n",
       "2               1              7          375                39         4   \n",
       "3               1             21          264                66         5   \n",
       "4               1             13          367               152         4   \n",
       "...           ...            ...          ...               ...       ...   \n",
       "450806          3             12         3293                83         4   \n",
       "450807          1             23          317                51         5   \n",
       "450808          1             14         1558               172         0   \n",
       "450809          1              6         2199                35         0   \n",
       "450810          1             19          301                30         5   \n",
       "\n",
       "        idplug_station                            unplug_hourTime zip_code  \\\n",
       "0                   66  {'$date': '2019-06-01T00:00:00.000+0200'}            \n",
       "1                  136  {'$date': '2019-06-01T00:00:00.000+0200'}    28039   \n",
       "2                   38  {'$date': '2019-06-01T00:00:00.000+0200'}    28013   \n",
       "3                   90  {'$date': '2019-06-01T00:00:00.000+0200'}    28009   \n",
       "4                  166  {'$date': '2019-06-01T00:00:00.000+0200'}    28006   \n",
       "...                ...                                        ...      ...   \n",
       "450806              90  {'$date': '2019-06-26T23:00:00.000+0200'}            \n",
       "450807             135  {'$date': '2019-06-26T23:00:00.000+0200'}    28045   \n",
       "450808             174  {'$date': '2019-06-26T23:00:00.000+0200'}            \n",
       "450809               2  {'$date': '2019-06-26T23:00:00.000+0200'}            \n",
       "450810             130  {'$date': '2019-06-26T23:00:00.000+0200'}    28010   \n",
       "\n",
       "       track  \n",
       "0        NaN  \n",
       "1        NaN  \n",
       "2        NaN  \n",
       "3        NaN  \n",
       "4        NaN  \n",
       "...      ...  \n",
       "450806   NaN  \n",
       "450807   NaN  \n",
       "450808   NaN  \n",
       "450809   NaN  \n",
       "450810   NaN  \n",
       "\n",
       "[450811 rows x 12 columns]"
      ]
     },
     "execution_count": 5,
     "metadata": {},
     "output_type": "execute_result"
    }
   ],
   "source": [
    "pd.read_json(path_or_buf = \"C:/Users/user/Downloads/201906_Usage_Bicimad.zip\",\n",
    "            encoding = \"iso-8859-2\",\n",
    "            lines = True)"
   ]
  },
  {
   "cell_type": "markdown",
   "metadata": {},
   "source": [
    "## Conversión de un dataframe a JSON"
   ]
  },
  {
   "cell_type": "code",
   "execution_count": 6,
   "metadata": {},
   "outputs": [
    {
     "data": {
      "text/html": [
       "<div>\n",
       "<style scoped>\n",
       "    .dataframe tbody tr th:only-of-type {\n",
       "        vertical-align: middle;\n",
       "    }\n",
       "\n",
       "    .dataframe tbody tr th {\n",
       "        vertical-align: top;\n",
       "    }\n",
       "\n",
       "    .dataframe thead th {\n",
       "        text-align: right;\n",
       "    }\n",
       "</style>\n",
       "<table border=\"1\" class=\"dataframe\">\n",
       "  <thead>\n",
       "    <tr style=\"text-align: right;\">\n",
       "      <th></th>\n",
       "      <th>col 1</th>\n",
       "      <th>col 2</th>\n",
       "    </tr>\n",
       "  </thead>\n",
       "  <tbody>\n",
       "    <tr>\n",
       "      <th>row 1</th>\n",
       "      <td>a</td>\n",
       "      <td>b</td>\n",
       "    </tr>\n",
       "    <tr>\n",
       "      <th>row 2</th>\n",
       "      <td>c</td>\n",
       "      <td>d</td>\n",
       "    </tr>\n",
       "  </tbody>\n",
       "</table>\n",
       "</div>"
      ],
      "text/plain": [
       "      col 1 col 2\n",
       "row 1     a     b\n",
       "row 2     c     d"
      ]
     },
     "execution_count": 6,
     "metadata": {},
     "output_type": "execute_result"
    }
   ],
   "source": [
    "df = pd.DataFrame([[\"a\", \"b\"], [\"c\", \"d\"]],\n",
    "                  index=[\"row 1\", \"row 2\"],\n",
    "                  columns=[\"col 1\", \"col 2\"])\n",
    "df"
   ]
  },
  {
   "cell_type": "code",
   "execution_count": 7,
   "metadata": {},
   "outputs": [
    {
     "data": {
      "text/plain": [
       "'{\"columns\":[\"col 1\",\"col 2\"],\"index\":[\"row 1\",\"row 2\"],\"data\":[[\"a\",\"b\"],[\"c\",\"d\"]]}'"
      ]
     },
     "execution_count": 7,
     "metadata": {},
     "output_type": "execute_result"
    }
   ],
   "source": [
    "# 'split': tipo diccionario {index -> [index], columns -> [columns], data -> [values]}\n",
    "json_string1 = df.to_json(orient = \"split\")\n",
    "json_string1"
   ]
  },
  {
   "cell_type": "code",
   "execution_count": 8,
   "metadata": {},
   "outputs": [
    {
     "data": {
      "text/plain": [
       "'[{\"col 1\":\"a\",\"col 2\":\"b\"},{\"col 1\":\"c\",\"col 2\":\"d\"}]'"
      ]
     },
     "execution_count": 8,
     "metadata": {},
     "output_type": "execute_result"
    }
   ],
   "source": [
    "# 'records': tipo lista [{column -> value}, ... , {column -> value}]\n",
    "json_string2 = df.to_json(orient = \"records\")\n",
    "json_string2"
   ]
  },
  {
   "cell_type": "markdown",
   "metadata": {},
   "source": [
    "## Carga de una cadena JSON en un dataframe"
   ]
  },
  {
   "cell_type": "code",
   "execution_count": 9,
   "metadata": {},
   "outputs": [
    {
     "data": {
      "text/html": [
       "<div>\n",
       "<style scoped>\n",
       "    .dataframe tbody tr th:only-of-type {\n",
       "        vertical-align: middle;\n",
       "    }\n",
       "\n",
       "    .dataframe tbody tr th {\n",
       "        vertical-align: top;\n",
       "    }\n",
       "\n",
       "    .dataframe thead th {\n",
       "        text-align: right;\n",
       "    }\n",
       "</style>\n",
       "<table border=\"1\" class=\"dataframe\">\n",
       "  <thead>\n",
       "    <tr style=\"text-align: right;\">\n",
       "      <th></th>\n",
       "      <th>columns</th>\n",
       "      <th>index</th>\n",
       "      <th>data</th>\n",
       "    </tr>\n",
       "  </thead>\n",
       "  <tbody>\n",
       "    <tr>\n",
       "      <th>0</th>\n",
       "      <td>col 1</td>\n",
       "      <td>row 1</td>\n",
       "      <td>[a, b]</td>\n",
       "    </tr>\n",
       "    <tr>\n",
       "      <th>1</th>\n",
       "      <td>col 2</td>\n",
       "      <td>row 2</td>\n",
       "      <td>[c, d]</td>\n",
       "    </tr>\n",
       "  </tbody>\n",
       "</table>\n",
       "</div>"
      ],
      "text/plain": [
       "  columns  index    data\n",
       "0   col 1  row 1  [a, b]\n",
       "1   col 2  row 2  [c, d]"
      ]
     },
     "execution_count": 9,
     "metadata": {},
     "output_type": "execute_result"
    }
   ],
   "source": [
    "pd.read_json(json_string1, orient= \"records\")"
   ]
  },
  {
   "cell_type": "code",
   "execution_count": 10,
   "metadata": {},
   "outputs": [
    {
     "data": {
      "text/html": [
       "<div>\n",
       "<style scoped>\n",
       "    .dataframe tbody tr th:only-of-type {\n",
       "        vertical-align: middle;\n",
       "    }\n",
       "\n",
       "    .dataframe tbody tr th {\n",
       "        vertical-align: top;\n",
       "    }\n",
       "\n",
       "    .dataframe thead th {\n",
       "        text-align: right;\n",
       "    }\n",
       "</style>\n",
       "<table border=\"1\" class=\"dataframe\">\n",
       "  <thead>\n",
       "    <tr style=\"text-align: right;\">\n",
       "      <th></th>\n",
       "      <th>col 1</th>\n",
       "      <th>col 2</th>\n",
       "    </tr>\n",
       "  </thead>\n",
       "  <tbody>\n",
       "    <tr>\n",
       "      <th>row 1</th>\n",
       "      <td>a</td>\n",
       "      <td>b</td>\n",
       "    </tr>\n",
       "    <tr>\n",
       "      <th>row 2</th>\n",
       "      <td>c</td>\n",
       "      <td>d</td>\n",
       "    </tr>\n",
       "  </tbody>\n",
       "</table>\n",
       "</div>"
      ],
      "text/plain": [
       "      col 1 col 2\n",
       "row 1     a     b\n",
       "row 2     c     d"
      ]
     },
     "execution_count": 10,
     "metadata": {},
     "output_type": "execute_result"
    }
   ],
   "source": [
    "pd.read_json(json_string1, orient= \"split\")"
   ]
  },
  {
   "cell_type": "code",
   "execution_count": 11,
   "metadata": {},
   "outputs": [
    {
     "data": {
      "text/html": [
       "<div>\n",
       "<style scoped>\n",
       "    .dataframe tbody tr th:only-of-type {\n",
       "        vertical-align: middle;\n",
       "    }\n",
       "\n",
       "    .dataframe tbody tr th {\n",
       "        vertical-align: top;\n",
       "    }\n",
       "\n",
       "    .dataframe thead th {\n",
       "        text-align: right;\n",
       "    }\n",
       "</style>\n",
       "<table border=\"1\" class=\"dataframe\">\n",
       "  <thead>\n",
       "    <tr style=\"text-align: right;\">\n",
       "      <th></th>\n",
       "      <th>columns</th>\n",
       "      <th>index</th>\n",
       "      <th>data</th>\n",
       "    </tr>\n",
       "  </thead>\n",
       "  <tbody>\n",
       "    <tr>\n",
       "      <th>0</th>\n",
       "      <td>col 1</td>\n",
       "      <td>row 1</td>\n",
       "      <td>[a, b]</td>\n",
       "    </tr>\n",
       "    <tr>\n",
       "      <th>1</th>\n",
       "      <td>col 2</td>\n",
       "      <td>row 2</td>\n",
       "      <td>[c, d]</td>\n",
       "    </tr>\n",
       "  </tbody>\n",
       "</table>\n",
       "</div>"
      ],
      "text/plain": [
       "  columns  index    data\n",
       "0   col 1  row 1  [a, b]\n",
       "1   col 2  row 2  [c, d]"
      ]
     },
     "execution_count": 11,
     "metadata": {},
     "output_type": "execute_result"
    }
   ],
   "source": [
    "# 'columns': tipo diccionario {column -> {index -> value}}\n",
    "pd.read_json(json_string1, orient= \"columns\")"
   ]
  },
  {
   "cell_type": "markdown",
   "metadata": {},
   "source": [
    "# Módulo json de la librería estándar de Python"
   ]
  },
  {
   "cell_type": "code",
   "execution_count": 1,
   "metadata": {},
   "outputs": [],
   "source": [
    "import json"
   ]
  },
  {
   "cell_type": "markdown",
   "metadata": {},
   "source": [
    "## Lectura de archivos en formato JSON"
   ]
  },
  {
   "cell_type": "markdown",
   "metadata": {},
   "source": [
    "Es posible cargar un archivo en formato JSON a un diccionario de Python utilizando el método json.load():"
   ]
  },
  {
   "cell_type": "code",
   "execution_count": 2,
   "metadata": {},
   "outputs": [
    {
     "data": {
      "text/plain": [
       "'C:/Users/user/Desktop/201906_Usage_Bicimad.json'"
      ]
     },
     "execution_count": 2,
     "metadata": {},
     "output_type": "execute_result"
    }
   ],
   "source": [
    "data_path = \"C:/Users/user/Desktop/201906_Usage_Bicimad.json\"\n",
    "data_path"
   ]
  },
  {
   "cell_type": "code",
   "execution_count": null,
   "metadata": {},
   "outputs": [],
   "source": [
    "json.load(data_path)"
   ]
  },
  {
   "cell_type": "code",
   "execution_count": 4,
   "metadata": {},
   "outputs": [
    {
     "ename": "JSONDecodeError",
     "evalue": "Extra data: line 2 column 1 (char 364)",
     "output_type": "error",
     "traceback": [
      "\u001b[1;31m---------------------------------------------------------------------------\u001b[0m",
      "\u001b[1;31mJSONDecodeError\u001b[0m                           Traceback (most recent call last)",
      "\u001b[1;32m<ipython-input-4-571467e78874>\u001b[0m in \u001b[0;36m<module>\u001b[1;34m\u001b[0m\n\u001b[0;32m      1\u001b[0m \u001b[1;32mwith\u001b[0m \u001b[0mopen\u001b[0m\u001b[1;33m(\u001b[0m\u001b[0mdata_path\u001b[0m\u001b[1;33m,\u001b[0m \u001b[1;34m\"r\"\u001b[0m\u001b[1;33m)\u001b[0m \u001b[1;32mas\u001b[0m \u001b[0mf\u001b[0m\u001b[1;33m:\u001b[0m\u001b[1;33m\u001b[0m\u001b[1;33m\u001b[0m\u001b[0m\n\u001b[1;32m----> 2\u001b[1;33m     \u001b[0mjson\u001b[0m\u001b[1;33m.\u001b[0m\u001b[0mload\u001b[0m\u001b[1;33m(\u001b[0m\u001b[0mf\u001b[0m\u001b[1;33m)\u001b[0m\u001b[1;33m\u001b[0m\u001b[1;33m\u001b[0m\u001b[0m\n\u001b[0m",
      "\u001b[1;32m~\\anaconda3\\envs\\python-385\\lib\\json\\__init__.py\u001b[0m in \u001b[0;36mload\u001b[1;34m(fp, cls, object_hook, parse_float, parse_int, parse_constant, object_pairs_hook, **kw)\u001b[0m\n\u001b[0;32m    291\u001b[0m     \u001b[0mkwarg\u001b[0m\u001b[1;33m;\u001b[0m \u001b[0motherwise\u001b[0m\u001b[0;31m \u001b[0m\u001b[0;31m`\u001b[0m\u001b[0;31m`\u001b[0m\u001b[0mJSONDecoder\u001b[0m\u001b[0;31m`\u001b[0m\u001b[0;31m`\u001b[0m \u001b[1;32mis\u001b[0m \u001b[0mused\u001b[0m\u001b[1;33m.\u001b[0m\u001b[1;33m\u001b[0m\u001b[1;33m\u001b[0m\u001b[0m\n\u001b[0;32m    292\u001b[0m     \"\"\"\n\u001b[1;32m--> 293\u001b[1;33m     return loads(fp.read(),\n\u001b[0m\u001b[0;32m    294\u001b[0m         \u001b[0mcls\u001b[0m\u001b[1;33m=\u001b[0m\u001b[0mcls\u001b[0m\u001b[1;33m,\u001b[0m \u001b[0mobject_hook\u001b[0m\u001b[1;33m=\u001b[0m\u001b[0mobject_hook\u001b[0m\u001b[1;33m,\u001b[0m\u001b[1;33m\u001b[0m\u001b[1;33m\u001b[0m\u001b[0m\n\u001b[0;32m    295\u001b[0m         \u001b[0mparse_float\u001b[0m\u001b[1;33m=\u001b[0m\u001b[0mparse_float\u001b[0m\u001b[1;33m,\u001b[0m \u001b[0mparse_int\u001b[0m\u001b[1;33m=\u001b[0m\u001b[0mparse_int\u001b[0m\u001b[1;33m,\u001b[0m\u001b[1;33m\u001b[0m\u001b[1;33m\u001b[0m\u001b[0m\n",
      "\u001b[1;32m~\\anaconda3\\envs\\python-385\\lib\\json\\__init__.py\u001b[0m in \u001b[0;36mloads\u001b[1;34m(s, cls, object_hook, parse_float, parse_int, parse_constant, object_pairs_hook, **kw)\u001b[0m\n\u001b[0;32m    355\u001b[0m             \u001b[0mparse_int\u001b[0m \u001b[1;32mis\u001b[0m \u001b[1;32mNone\u001b[0m \u001b[1;32mand\u001b[0m \u001b[0mparse_float\u001b[0m \u001b[1;32mis\u001b[0m \u001b[1;32mNone\u001b[0m \u001b[1;32mand\u001b[0m\u001b[1;33m\u001b[0m\u001b[1;33m\u001b[0m\u001b[0m\n\u001b[0;32m    356\u001b[0m             parse_constant is None and object_pairs_hook is None and not kw):\n\u001b[1;32m--> 357\u001b[1;33m         \u001b[1;32mreturn\u001b[0m \u001b[0m_default_decoder\u001b[0m\u001b[1;33m.\u001b[0m\u001b[0mdecode\u001b[0m\u001b[1;33m(\u001b[0m\u001b[0ms\u001b[0m\u001b[1;33m)\u001b[0m\u001b[1;33m\u001b[0m\u001b[1;33m\u001b[0m\u001b[0m\n\u001b[0m\u001b[0;32m    358\u001b[0m     \u001b[1;32mif\u001b[0m \u001b[0mcls\u001b[0m \u001b[1;32mis\u001b[0m \u001b[1;32mNone\u001b[0m\u001b[1;33m:\u001b[0m\u001b[1;33m\u001b[0m\u001b[1;33m\u001b[0m\u001b[0m\n\u001b[0;32m    359\u001b[0m         \u001b[0mcls\u001b[0m \u001b[1;33m=\u001b[0m \u001b[0mJSONDecoder\u001b[0m\u001b[1;33m\u001b[0m\u001b[1;33m\u001b[0m\u001b[0m\n",
      "\u001b[1;32m~\\anaconda3\\envs\\python-385\\lib\\json\\decoder.py\u001b[0m in \u001b[0;36mdecode\u001b[1;34m(self, s, _w)\u001b[0m\n\u001b[0;32m    338\u001b[0m         \u001b[0mend\u001b[0m \u001b[1;33m=\u001b[0m \u001b[0m_w\u001b[0m\u001b[1;33m(\u001b[0m\u001b[0ms\u001b[0m\u001b[1;33m,\u001b[0m \u001b[0mend\u001b[0m\u001b[1;33m)\u001b[0m\u001b[1;33m.\u001b[0m\u001b[0mend\u001b[0m\u001b[1;33m(\u001b[0m\u001b[1;33m)\u001b[0m\u001b[1;33m\u001b[0m\u001b[1;33m\u001b[0m\u001b[0m\n\u001b[0;32m    339\u001b[0m         \u001b[1;32mif\u001b[0m \u001b[0mend\u001b[0m \u001b[1;33m!=\u001b[0m \u001b[0mlen\u001b[0m\u001b[1;33m(\u001b[0m\u001b[0ms\u001b[0m\u001b[1;33m)\u001b[0m\u001b[1;33m:\u001b[0m\u001b[1;33m\u001b[0m\u001b[1;33m\u001b[0m\u001b[0m\n\u001b[1;32m--> 340\u001b[1;33m             \u001b[1;32mraise\u001b[0m \u001b[0mJSONDecodeError\u001b[0m\u001b[1;33m(\u001b[0m\u001b[1;34m\"Extra data\"\u001b[0m\u001b[1;33m,\u001b[0m \u001b[0ms\u001b[0m\u001b[1;33m,\u001b[0m \u001b[0mend\u001b[0m\u001b[1;33m)\u001b[0m\u001b[1;33m\u001b[0m\u001b[1;33m\u001b[0m\u001b[0m\n\u001b[0m\u001b[0;32m    341\u001b[0m         \u001b[1;32mreturn\u001b[0m \u001b[0mobj\u001b[0m\u001b[1;33m\u001b[0m\u001b[1;33m\u001b[0m\u001b[0m\n\u001b[0;32m    342\u001b[0m \u001b[1;33m\u001b[0m\u001b[0m\n",
      "\u001b[1;31mJSONDecodeError\u001b[0m: Extra data: line 2 column 1 (char 364)"
     ]
    }
   ],
   "source": [
    "with open(data_path, \"r\") as f:\n",
    "    json.load(f)"
   ]
  },
  {
   "cell_type": "code",
   "execution_count": 7,
   "metadata": {},
   "outputs": [
    {
     "data": {
      "text/plain": [
       "[{'_id': {'$oid': '5cf83b752f3843a016be4e2f'},\n",
       "  'user_day_code': 'e4d55deb9ac172a8d8f5f0a32599815bd51b7c8760d67e42b11adf7c0829341b',\n",
       "  'idplug_base': 21,\n",
       "  'user_type': 1,\n",
       "  'idunplug_base': 8,\n",
       "  'travel_time': 219,\n",
       "  'idunplug_station': 90,\n",
       "  'ageRange': 0,\n",
       "  'idplug_station': 66,\n",
       "  'unplug_hourTime': {'$date': '2019-06-01T00:00:00.000+0200'},\n",
       "  'zip_code': ''},\n",
       " {'_id': {'$oid': '5cf83b762f3843a016be4e48'},\n",
       "  'user_day_code': '8a0c4123e924a50a958f51985eb71aea750fb072438035f149283490cc6bfaf4',\n",
       "  'idplug_base': 19,\n",
       "  'user_type': 1,\n",
       "  'idunplug_base': 19,\n",
       "  'travel_time': 359,\n",
       "  'idunplug_station': 71,\n",
       "  'ageRange': 4,\n",
       "  'idplug_station': 136,\n",
       "  'unplug_hourTime': {'$date': '2019-06-01T00:00:00.000+0200'},\n",
       "  'zip_code': '28039'},\n",
       " {'_id': {'$oid': '5cf83b762f3843a016be4e4f'},\n",
       "  'user_day_code': 'a6a9c1f74a68496000542210abc4fc2eba79e2756ad5355a626632f7783dd418',\n",
       "  'idplug_base': 17,\n",
       "  'user_type': 1,\n",
       "  'idunplug_base': 7,\n",
       "  'travel_time': 375,\n",
       "  'idunplug_station': 39,\n",
       "  'ageRange': 4,\n",
       "  'idplug_station': 38,\n",
       "  'unplug_hourTime': {'$date': '2019-06-01T00:00:00.000+0200'},\n",
       "  'zip_code': '28013'}]"
      ]
     },
     "execution_count": 7,
     "metadata": {},
     "output_type": "execute_result"
    }
   ],
   "source": [
    "rows_list = []\n",
    "for line in open(data_path, \"r\"):\n",
    "    rows_list.append(json.loads(line))\n",
    "rows_list[:3]"
   ]
  },
  {
   "cell_type": "markdown",
   "metadata": {},
   "source": [
    "## Conversión de un diccionario a JSON"
   ]
  },
  {
   "cell_type": "markdown",
   "metadata": {},
   "source": [
    "Es posible cargar un diccionario de Python en una cadena en formato JSON utilizando el método json.dumps():"
   ]
  },
  {
   "cell_type": "code",
   "execution_count": 1,
   "metadata": {},
   "outputs": [
    {
     "data": {
      "text/plain": [
       "{'Asignatura': 'Historia', 'Aulas': ['A3', 'B2']}"
      ]
     },
     "execution_count": 1,
     "metadata": {},
     "output_type": "execute_result"
    }
   ],
   "source": [
    "subject_dict = {\"Asignatura\": \"Historia\", \"Aulas\": [\"A3\", \"B2\"]}\n",
    "subject_dict"
   ]
  },
  {
   "cell_type": "code",
   "execution_count": 3,
   "metadata": {},
   "outputs": [
    {
     "data": {
      "text/plain": [
       "'{\"Asignatura\": \"Historia\", \"Aulas\": [\"A3\", \"B2\"]}'"
      ]
     },
     "execution_count": 3,
     "metadata": {},
     "output_type": "execute_result"
    }
   ],
   "source": [
    "json.dumps(subject_dict)"
   ]
  },
  {
   "cell_type": "markdown",
   "metadata": {},
   "source": [
    "¿Qué pasa si introducimos, por ejemplo, una tilde? "
   ]
  },
  {
   "cell_type": "code",
   "execution_count": 4,
   "metadata": {},
   "outputs": [
    {
     "data": {
      "text/plain": [
       "{'Asignatura': 'Matemáticas', 'Aulas': ['A3', 'B2']}"
      ]
     },
     "execution_count": 4,
     "metadata": {},
     "output_type": "execute_result"
    }
   ],
   "source": [
    "subject_dict2 = {\"Asignatura\": \"Matemáticas\", \"Aulas\": [\"A3\", \"B2\"]}\n",
    "subject_dict2"
   ]
  },
  {
   "cell_type": "code",
   "execution_count": 5,
   "metadata": {},
   "outputs": [
    {
     "data": {
      "text/plain": [
       "'{\"Asignatura\": \"Matem\\\\u00e1ticas\", \"Aulas\": [\"A3\", \"B2\"]}'"
      ]
     },
     "execution_count": 5,
     "metadata": {},
     "output_type": "execute_result"
    }
   ],
   "source": [
    "json.dumps(subject_dict2)"
   ]
  },
  {
   "cell_type": "markdown",
   "metadata": {},
   "source": [
    "Por defecto, json.dumps() hace que todo el texto del diccionario de Python se interprete como codificado en ASCII. Si hay caracteres que no son ASCII, se escapan automáticamente. Para mantener los caracteres Unicode sin alterar, se puede introducir el parámetro *ensure_ascii = False*:"
   ]
  },
  {
   "cell_type": "code",
   "execution_count": 6,
   "metadata": {},
   "outputs": [
    {
     "data": {
      "text/plain": [
       "'{\"Asignatura\": \"Matemáticas\", \"Aulas\": [\"A3\", \"B2\"]}'"
      ]
     },
     "execution_count": 6,
     "metadata": {},
     "output_type": "execute_result"
    }
   ],
   "source": [
    "json.dumps(subject_dict2, ensure_ascii = False)"
   ]
  },
  {
   "cell_type": "markdown",
   "metadata": {},
   "source": [
    "## Carga de una cadena JSON en un diccionario"
   ]
  },
  {
   "cell_type": "markdown",
   "metadata": {},
   "source": [
    "Es posible cargar una cadena en formato JSON a un diccionario de Python utilizando el método json.loads():"
   ]
  },
  {
   "cell_type": "code",
   "execution_count": 8,
   "metadata": {},
   "outputs": [
    {
     "data": {
      "text/plain": [
       "'{\"Asignatura\": \"Historia\", \"Aulas\": [\"A3\", \"B2\"]}'"
      ]
     },
     "execution_count": 8,
     "metadata": {},
     "output_type": "execute_result"
    }
   ],
   "source": [
    "string1 = '{\"Asignatura\": \"Historia\", \"Aulas\": [\"A3\", \"B2\"]}'\n",
    "string1"
   ]
  },
  {
   "cell_type": "code",
   "execution_count": 9,
   "metadata": {},
   "outputs": [
    {
     "data": {
      "text/plain": [
       "{'Asignatura': 'Historia', 'Aulas': ['A3', 'B2']}"
      ]
     },
     "execution_count": 9,
     "metadata": {},
     "output_type": "execute_result"
    }
   ],
   "source": [
    "dict1 = json.loads(string1)\n",
    "dict1"
   ]
  },
  {
   "cell_type": "markdown",
   "metadata": {},
   "source": [
    "## Impresión con formato"
   ]
  },
  {
   "cell_type": "markdown",
   "metadata": {},
   "source": [
    "Para imprimir datos en formato JSON de forma más apropiada, se pueden pasar parámetros especiales al método json.dumps():"
   ]
  },
  {
   "cell_type": "code",
   "execution_count": 9,
   "metadata": {},
   "outputs": [
    {
     "data": {
      "text/plain": [
       "{'Asignatura': 'Historia', 'Aulas': ['A3', 'B2']}"
      ]
     },
     "execution_count": 9,
     "metadata": {},
     "output_type": "execute_result"
    }
   ],
   "source": [
    "subject_dict = json.loads(string1)\n",
    "subject_dict"
   ]
  },
  {
   "cell_type": "code",
   "execution_count": 10,
   "metadata": {},
   "outputs": [
    {
     "name": "stdout",
     "output_type": "stream",
     "text": [
      "{\n",
      "    \"Asignatura\": \"Historia\",\n",
      "    \"Aulas\": [\n",
      "        \"A3\",\n",
      "        \"B2\"\n",
      "    ]\n",
      "}\n"
     ]
    }
   ],
   "source": [
    "string2 = json.dumps(subject_dict, indent = 4, sort_keys = True)\n",
    "print(string2)"
   ]
  }
 ],
 "metadata": {
  "hide_input": false,
  "kernelspec": {
   "display_name": "Python 3",
   "language": "python",
   "name": "python3"
  },
  "language_info": {
   "codemirror_mode": {
    "name": "ipython",
    "version": 3
   },
   "file_extension": ".py",
   "mimetype": "text/x-python",
   "name": "python",
   "nbconvert_exporter": "python",
   "pygments_lexer": "ipython3",
   "version": "3.8.5"
  },
  "toc": {
   "base_numbering": 1,
   "nav_menu": {},
   "number_sections": true,
   "sideBar": true,
   "skip_h1_title": false,
   "title_cell": "Table of Contents",
   "title_sidebar": "Contents",
   "toc_cell": true,
   "toc_position": {},
   "toc_section_display": true,
   "toc_window_display": false
  },
  "varInspector": {
   "cols": {
    "lenName": 16,
    "lenType": 16,
    "lenVar": 40
   },
   "kernels_config": {
    "python": {
     "delete_cmd_postfix": "",
     "delete_cmd_prefix": "del ",
     "library": "var_list.py",
     "varRefreshCmd": "print(var_dic_list())"
    },
    "r": {
     "delete_cmd_postfix": ") ",
     "delete_cmd_prefix": "rm(",
     "library": "var_list.r",
     "varRefreshCmd": "cat(var_dic_list()) "
    }
   },
   "types_to_exclude": [
    "module",
    "function",
    "builtin_function_or_method",
    "instance",
    "_Feature"
   ],
   "window_display": false
  }
 },
 "nbformat": 4,
 "nbformat_minor": 2
}
