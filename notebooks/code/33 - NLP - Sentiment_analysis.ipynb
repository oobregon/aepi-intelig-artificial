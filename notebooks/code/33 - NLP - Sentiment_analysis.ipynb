{
  "nbformat": 4,
  "nbformat_minor": 5,
  "metadata": {
    "hide_input": false,
    "kernelspec": {
      "display_name": "Python 3 (ipykernel)",
      "language": "python",
      "name": "python3"
    },
    "language_info": {
      "codemirror_mode": {
        "name": "ipython",
        "version": 3
      },
      "file_extension": ".py",
      "mimetype": "text/x-python",
      "name": "python",
      "nbconvert_exporter": "python",
      "pygments_lexer": "ipython3",
      "version": "3.8.0"
    },
    "toc": {
      "base_numbering": 1,
      "nav_menu": {},
      "number_sections": true,
      "sideBar": true,
      "skip_h1_title": false,
      "title_cell": "Table of Contents",
      "title_sidebar": "Contents",
      "toc_cell": false,
      "toc_position": {},
      "toc_section_display": true,
      "toc_window_display": true
    },
    "varInspector": {
      "cols": {
        "lenName": 16,
        "lenType": 16,
        "lenVar": 40
      },
      "kernels_config": {
        "python": {
          "delete_cmd_postfix": "",
          "delete_cmd_prefix": "del ",
          "library": "var_list.py",
          "varRefreshCmd": "print(var_dic_list())"
        },
        "r": {
          "delete_cmd_postfix": ") ",
          "delete_cmd_prefix": "rm(",
          "library": "var_list.r",
          "varRefreshCmd": "cat(var_dic_list()) "
        }
      },
      "types_to_exclude": [
        "module",
        "function",
        "builtin_function_or_method",
        "instance",
        "_Feature"
      ],
      "window_display": false
    },
    "colab": {
      "name": "4 - RNN - Sentiment analysis .ipynb",
      "provenance": []
    },
    "widgets": {
      "application/vnd.jupyter.widget-state+json": {
        "3cc4742693214cf38817a2c23d0d9fde": {
          "model_module": "@jupyter-widgets/controls",
          "model_name": "HBoxModel",
          "state": {
            "_view_name": "HBoxView",
            "_dom_classes": [],
            "_model_name": "HBoxModel",
            "_view_module": "@jupyter-widgets/controls",
            "_model_module_version": "1.5.0",
            "_view_count": null,
            "_view_module_version": "1.5.0",
            "box_style": "",
            "layout": "IPY_MODEL_4bab80b91eeb4b99be670cc470172715",
            "_model_module": "@jupyter-widgets/controls",
            "children": [
              "IPY_MODEL_ca1c9931c0f04f748a3d1298fdce7a0b",
              "IPY_MODEL_8e012f17c142488e8b7d91ea07537af7"
            ]
          }
        },
        "4bab80b91eeb4b99be670cc470172715": {
          "model_module": "@jupyter-widgets/base",
          "model_name": "LayoutModel",
          "state": {
            "_view_name": "LayoutView",
            "grid_template_rows": null,
            "right": null,
            "justify_content": null,
            "_view_module": "@jupyter-widgets/base",
            "overflow": null,
            "_model_module_version": "1.2.0",
            "_view_count": null,
            "flex_flow": null,
            "width": null,
            "min_width": null,
            "border": null,
            "align_items": null,
            "bottom": null,
            "_model_module": "@jupyter-widgets/base",
            "top": null,
            "grid_column": null,
            "overflow_y": null,
            "overflow_x": null,
            "grid_auto_flow": null,
            "grid_area": null,
            "grid_template_columns": null,
            "flex": null,
            "_model_name": "LayoutModel",
            "justify_items": null,
            "grid_row": null,
            "max_height": null,
            "align_content": null,
            "visibility": null,
            "align_self": null,
            "height": null,
            "min_height": null,
            "padding": null,
            "grid_auto_rows": null,
            "grid_gap": null,
            "max_width": null,
            "order": null,
            "_view_module_version": "1.2.0",
            "grid_template_areas": null,
            "object_position": null,
            "object_fit": null,
            "grid_auto_columns": null,
            "margin": null,
            "display": null,
            "left": null
          }
        },
        "ca1c9931c0f04f748a3d1298fdce7a0b": {
          "model_module": "@jupyter-widgets/controls",
          "model_name": "FloatProgressModel",
          "state": {
            "_view_name": "ProgressView",
            "style": "IPY_MODEL_bf5ed59babaf4721869508c2b8e1d471",
            "_dom_classes": [],
            "description": "Dl Completed...: ",
            "_model_name": "FloatProgressModel",
            "bar_style": "success",
            "max": 1,
            "_view_module": "@jupyter-widgets/controls",
            "_model_module_version": "1.5.0",
            "value": 0,
            "_view_count": null,
            "_view_module_version": "1.5.0",
            "orientation": "horizontal",
            "min": 0,
            "description_tooltip": null,
            "_model_module": "@jupyter-widgets/controls",
            "layout": "IPY_MODEL_6f9f2a763a2d42babaffa6d87fd076af"
          }
        },
        "8e012f17c142488e8b7d91ea07537af7": {
          "model_module": "@jupyter-widgets/controls",
          "model_name": "HTMLModel",
          "state": {
            "_view_name": "HTMLView",
            "style": "IPY_MODEL_9f456516b3c242f18c6152d48d4232a0",
            "_dom_classes": [],
            "description": "",
            "_model_name": "HTMLModel",
            "placeholder": "​",
            "_view_module": "@jupyter-widgets/controls",
            "_model_module_version": "1.5.0",
            "value": " 0/0 [00:00&lt;?, ? url/s]",
            "_view_count": null,
            "_view_module_version": "1.5.0",
            "description_tooltip": null,
            "_model_module": "@jupyter-widgets/controls",
            "layout": "IPY_MODEL_2389075993424362a67e7d81b7abb2a2"
          }
        },
        "bf5ed59babaf4721869508c2b8e1d471": {
          "model_module": "@jupyter-widgets/controls",
          "model_name": "ProgressStyleModel",
          "state": {
            "_view_name": "StyleView",
            "_model_name": "ProgressStyleModel",
            "description_width": "initial",
            "_view_module": "@jupyter-widgets/base",
            "_model_module_version": "1.5.0",
            "_view_count": null,
            "_view_module_version": "1.2.0",
            "bar_color": null,
            "_model_module": "@jupyter-widgets/controls"
          }
        },
        "6f9f2a763a2d42babaffa6d87fd076af": {
          "model_module": "@jupyter-widgets/base",
          "model_name": "LayoutModel",
          "state": {
            "_view_name": "LayoutView",
            "grid_template_rows": null,
            "right": null,
            "justify_content": null,
            "_view_module": "@jupyter-widgets/base",
            "overflow": null,
            "_model_module_version": "1.2.0",
            "_view_count": null,
            "flex_flow": null,
            "width": null,
            "min_width": null,
            "border": null,
            "align_items": null,
            "bottom": null,
            "_model_module": "@jupyter-widgets/base",
            "top": null,
            "grid_column": null,
            "overflow_y": null,
            "overflow_x": null,
            "grid_auto_flow": null,
            "grid_area": null,
            "grid_template_columns": null,
            "flex": null,
            "_model_name": "LayoutModel",
            "justify_items": null,
            "grid_row": null,
            "max_height": null,
            "align_content": null,
            "visibility": null,
            "align_self": null,
            "height": null,
            "min_height": null,
            "padding": null,
            "grid_auto_rows": null,
            "grid_gap": null,
            "max_width": null,
            "order": null,
            "_view_module_version": "1.2.0",
            "grid_template_areas": null,
            "object_position": null,
            "object_fit": null,
            "grid_auto_columns": null,
            "margin": null,
            "display": null,
            "left": null
          }
        },
        "9f456516b3c242f18c6152d48d4232a0": {
          "model_module": "@jupyter-widgets/controls",
          "model_name": "DescriptionStyleModel",
          "state": {
            "_view_name": "StyleView",
            "_model_name": "DescriptionStyleModel",
            "description_width": "",
            "_view_module": "@jupyter-widgets/base",
            "_model_module_version": "1.5.0",
            "_view_count": null,
            "_view_module_version": "1.2.0",
            "_model_module": "@jupyter-widgets/controls"
          }
        },
        "2389075993424362a67e7d81b7abb2a2": {
          "model_module": "@jupyter-widgets/base",
          "model_name": "LayoutModel",
          "state": {
            "_view_name": "LayoutView",
            "grid_template_rows": null,
            "right": null,
            "justify_content": null,
            "_view_module": "@jupyter-widgets/base",
            "overflow": null,
            "_model_module_version": "1.2.0",
            "_view_count": null,
            "flex_flow": null,
            "width": null,
            "min_width": null,
            "border": null,
            "align_items": null,
            "bottom": null,
            "_model_module": "@jupyter-widgets/base",
            "top": null,
            "grid_column": null,
            "overflow_y": null,
            "overflow_x": null,
            "grid_auto_flow": null,
            "grid_area": null,
            "grid_template_columns": null,
            "flex": null,
            "_model_name": "LayoutModel",
            "justify_items": null,
            "grid_row": null,
            "max_height": null,
            "align_content": null,
            "visibility": null,
            "align_self": null,
            "height": null,
            "min_height": null,
            "padding": null,
            "grid_auto_rows": null,
            "grid_gap": null,
            "max_width": null,
            "order": null,
            "_view_module_version": "1.2.0",
            "grid_template_areas": null,
            "object_position": null,
            "object_fit": null,
            "grid_auto_columns": null,
            "margin": null,
            "display": null,
            "left": null
          }
        },
        "471e4bea4d7b4c12811bb8f6d440a832": {
          "model_module": "@jupyter-widgets/controls",
          "model_name": "HBoxModel",
          "state": {
            "_view_name": "HBoxView",
            "_dom_classes": [],
            "_model_name": "HBoxModel",
            "_view_module": "@jupyter-widgets/controls",
            "_model_module_version": "1.5.0",
            "_view_count": null,
            "_view_module_version": "1.5.0",
            "box_style": "",
            "layout": "IPY_MODEL_2ffdc2a430b24587a27253e423994909",
            "_model_module": "@jupyter-widgets/controls",
            "children": [
              "IPY_MODEL_a04ec4a66e7847b2b85d64d4c746f298",
              "IPY_MODEL_ed10713c45a44004a54190eaf5eb3988"
            ]
          }
        },
        "2ffdc2a430b24587a27253e423994909": {
          "model_module": "@jupyter-widgets/base",
          "model_name": "LayoutModel",
          "state": {
            "_view_name": "LayoutView",
            "grid_template_rows": null,
            "right": null,
            "justify_content": null,
            "_view_module": "@jupyter-widgets/base",
            "overflow": null,
            "_model_module_version": "1.2.0",
            "_view_count": null,
            "flex_flow": null,
            "width": null,
            "min_width": null,
            "border": null,
            "align_items": null,
            "bottom": null,
            "_model_module": "@jupyter-widgets/base",
            "top": null,
            "grid_column": null,
            "overflow_y": null,
            "overflow_x": null,
            "grid_auto_flow": null,
            "grid_area": null,
            "grid_template_columns": null,
            "flex": null,
            "_model_name": "LayoutModel",
            "justify_items": null,
            "grid_row": null,
            "max_height": null,
            "align_content": null,
            "visibility": null,
            "align_self": null,
            "height": null,
            "min_height": null,
            "padding": null,
            "grid_auto_rows": null,
            "grid_gap": null,
            "max_width": null,
            "order": null,
            "_view_module_version": "1.2.0",
            "grid_template_areas": null,
            "object_position": null,
            "object_fit": null,
            "grid_auto_columns": null,
            "margin": null,
            "display": null,
            "left": null
          }
        },
        "a04ec4a66e7847b2b85d64d4c746f298": {
          "model_module": "@jupyter-widgets/controls",
          "model_name": "FloatProgressModel",
          "state": {
            "_view_name": "ProgressView",
            "style": "IPY_MODEL_0db017d6da454ef2886d6a3316ca657a",
            "_dom_classes": [],
            "description": "Dl Size...: ",
            "_model_name": "FloatProgressModel",
            "bar_style": "success",
            "max": 1,
            "_view_module": "@jupyter-widgets/controls",
            "_model_module_version": "1.5.0",
            "value": 0,
            "_view_count": null,
            "_view_module_version": "1.5.0",
            "orientation": "horizontal",
            "min": 0,
            "description_tooltip": null,
            "_model_module": "@jupyter-widgets/controls",
            "layout": "IPY_MODEL_e5d42731dde1430cab0c4d66ecb89d0a"
          }
        },
        "ed10713c45a44004a54190eaf5eb3988": {
          "model_module": "@jupyter-widgets/controls",
          "model_name": "HTMLModel",
          "state": {
            "_view_name": "HTMLView",
            "style": "IPY_MODEL_b02f9a4e677d4287b127b76ed2a793e8",
            "_dom_classes": [],
            "description": "",
            "_model_name": "HTMLModel",
            "placeholder": "​",
            "_view_module": "@jupyter-widgets/controls",
            "_model_module_version": "1.5.0",
            "value": " 0/0 [00:00&lt;?, ? MiB/s]",
            "_view_count": null,
            "_view_module_version": "1.5.0",
            "description_tooltip": null,
            "_model_module": "@jupyter-widgets/controls",
            "layout": "IPY_MODEL_099d9dd960ba40d88a1ea6fabd26c115"
          }
        },
        "0db017d6da454ef2886d6a3316ca657a": {
          "model_module": "@jupyter-widgets/controls",
          "model_name": "ProgressStyleModel",
          "state": {
            "_view_name": "StyleView",
            "_model_name": "ProgressStyleModel",
            "description_width": "initial",
            "_view_module": "@jupyter-widgets/base",
            "_model_module_version": "1.5.0",
            "_view_count": null,
            "_view_module_version": "1.2.0",
            "bar_color": null,
            "_model_module": "@jupyter-widgets/controls"
          }
        },
        "e5d42731dde1430cab0c4d66ecb89d0a": {
          "model_module": "@jupyter-widgets/base",
          "model_name": "LayoutModel",
          "state": {
            "_view_name": "LayoutView",
            "grid_template_rows": null,
            "right": null,
            "justify_content": null,
            "_view_module": "@jupyter-widgets/base",
            "overflow": null,
            "_model_module_version": "1.2.0",
            "_view_count": null,
            "flex_flow": null,
            "width": null,
            "min_width": null,
            "border": null,
            "align_items": null,
            "bottom": null,
            "_model_module": "@jupyter-widgets/base",
            "top": null,
            "grid_column": null,
            "overflow_y": null,
            "overflow_x": null,
            "grid_auto_flow": null,
            "grid_area": null,
            "grid_template_columns": null,
            "flex": null,
            "_model_name": "LayoutModel",
            "justify_items": null,
            "grid_row": null,
            "max_height": null,
            "align_content": null,
            "visibility": null,
            "align_self": null,
            "height": null,
            "min_height": null,
            "padding": null,
            "grid_auto_rows": null,
            "grid_gap": null,
            "max_width": null,
            "order": null,
            "_view_module_version": "1.2.0",
            "grid_template_areas": null,
            "object_position": null,
            "object_fit": null,
            "grid_auto_columns": null,
            "margin": null,
            "display": null,
            "left": null
          }
        },
        "b02f9a4e677d4287b127b76ed2a793e8": {
          "model_module": "@jupyter-widgets/controls",
          "model_name": "DescriptionStyleModel",
          "state": {
            "_view_name": "StyleView",
            "_model_name": "DescriptionStyleModel",
            "description_width": "",
            "_view_module": "@jupyter-widgets/base",
            "_model_module_version": "1.5.0",
            "_view_count": null,
            "_view_module_version": "1.2.0",
            "_model_module": "@jupyter-widgets/controls"
          }
        },
        "099d9dd960ba40d88a1ea6fabd26c115": {
          "model_module": "@jupyter-widgets/base",
          "model_name": "LayoutModel",
          "state": {
            "_view_name": "LayoutView",
            "grid_template_rows": null,
            "right": null,
            "justify_content": null,
            "_view_module": "@jupyter-widgets/base",
            "overflow": null,
            "_model_module_version": "1.2.0",
            "_view_count": null,
            "flex_flow": null,
            "width": null,
            "min_width": null,
            "border": null,
            "align_items": null,
            "bottom": null,
            "_model_module": "@jupyter-widgets/base",
            "top": null,
            "grid_column": null,
            "overflow_y": null,
            "overflow_x": null,
            "grid_auto_flow": null,
            "grid_area": null,
            "grid_template_columns": null,
            "flex": null,
            "_model_name": "LayoutModel",
            "justify_items": null,
            "grid_row": null,
            "max_height": null,
            "align_content": null,
            "visibility": null,
            "align_self": null,
            "height": null,
            "min_height": null,
            "padding": null,
            "grid_auto_rows": null,
            "grid_gap": null,
            "max_width": null,
            "order": null,
            "_view_module_version": "1.2.0",
            "grid_template_areas": null,
            "object_position": null,
            "object_fit": null,
            "grid_auto_columns": null,
            "margin": null,
            "display": null,
            "left": null
          }
        },
        "70fb0d8ddfd5438198bda40b3d9ed419": {
          "model_module": "@jupyter-widgets/controls",
          "model_name": "HBoxModel",
          "state": {
            "_view_name": "HBoxView",
            "_dom_classes": [],
            "_model_name": "HBoxModel",
            "_view_module": "@jupyter-widgets/controls",
            "_model_module_version": "1.5.0",
            "_view_count": null,
            "_view_module_version": "1.5.0",
            "box_style": "",
            "layout": "IPY_MODEL_48d7c53eb3d741679e30a30a368013aa",
            "_model_module": "@jupyter-widgets/controls",
            "children": [
              "IPY_MODEL_6a8e696af6fa4530af9e8bf101ad706d",
              "IPY_MODEL_3668dcaf9cc74f59847eba11f959682b"
            ]
          }
        },
        "48d7c53eb3d741679e30a30a368013aa": {
          "model_module": "@jupyter-widgets/base",
          "model_name": "LayoutModel",
          "state": {
            "_view_name": "LayoutView",
            "grid_template_rows": null,
            "right": null,
            "justify_content": null,
            "_view_module": "@jupyter-widgets/base",
            "overflow": null,
            "_model_module_version": "1.2.0",
            "_view_count": null,
            "flex_flow": null,
            "width": null,
            "min_width": null,
            "border": null,
            "align_items": null,
            "bottom": null,
            "_model_module": "@jupyter-widgets/base",
            "top": null,
            "grid_column": null,
            "overflow_y": null,
            "overflow_x": null,
            "grid_auto_flow": null,
            "grid_area": null,
            "grid_template_columns": null,
            "flex": null,
            "_model_name": "LayoutModel",
            "justify_items": null,
            "grid_row": null,
            "max_height": null,
            "align_content": null,
            "visibility": null,
            "align_self": null,
            "height": null,
            "min_height": null,
            "padding": null,
            "grid_auto_rows": null,
            "grid_gap": null,
            "max_width": null,
            "order": null,
            "_view_module_version": "1.2.0",
            "grid_template_areas": null,
            "object_position": null,
            "object_fit": null,
            "grid_auto_columns": null,
            "margin": null,
            "display": null,
            "left": null
          }
        },
        "6a8e696af6fa4530af9e8bf101ad706d": {
          "model_module": "@jupyter-widgets/controls",
          "model_name": "FloatProgressModel",
          "state": {
            "_view_name": "ProgressView",
            "style": "IPY_MODEL_f6085b7e330b40248ff82753e0692a29",
            "_dom_classes": [],
            "description": "",
            "_model_name": "FloatProgressModel",
            "bar_style": "info",
            "max": 1,
            "_view_module": "@jupyter-widgets/controls",
            "_model_module_version": "1.5.0",
            "value": 1,
            "_view_count": null,
            "_view_module_version": "1.5.0",
            "orientation": "horizontal",
            "min": 0,
            "description_tooltip": null,
            "_model_module": "@jupyter-widgets/controls",
            "layout": "IPY_MODEL_36e5c74f06d94c899fe11a6ff64adc4a"
          }
        },
        "3668dcaf9cc74f59847eba11f959682b": {
          "model_module": "@jupyter-widgets/controls",
          "model_name": "HTMLModel",
          "state": {
            "_view_name": "HTMLView",
            "style": "IPY_MODEL_7b7571240ce6457ca74a5aca5bd5a8d8",
            "_dom_classes": [],
            "description": "",
            "_model_name": "HTMLModel",
            "placeholder": "​",
            "_view_module": "@jupyter-widgets/controls",
            "_model_module_version": "1.5.0",
            "value": " 25000/0 [00:16&lt;00:00, 2852.74 examples/s]",
            "_view_count": null,
            "_view_module_version": "1.5.0",
            "description_tooltip": null,
            "_model_module": "@jupyter-widgets/controls",
            "layout": "IPY_MODEL_a9a9c78c23ce4e5c80e2423e093b05f5"
          }
        },
        "f6085b7e330b40248ff82753e0692a29": {
          "model_module": "@jupyter-widgets/controls",
          "model_name": "ProgressStyleModel",
          "state": {
            "_view_name": "StyleView",
            "_model_name": "ProgressStyleModel",
            "description_width": "initial",
            "_view_module": "@jupyter-widgets/base",
            "_model_module_version": "1.5.0",
            "_view_count": null,
            "_view_module_version": "1.2.0",
            "bar_color": null,
            "_model_module": "@jupyter-widgets/controls"
          }
        },
        "36e5c74f06d94c899fe11a6ff64adc4a": {
          "model_module": "@jupyter-widgets/base",
          "model_name": "LayoutModel",
          "state": {
            "_view_name": "LayoutView",
            "grid_template_rows": null,
            "right": null,
            "justify_content": null,
            "_view_module": "@jupyter-widgets/base",
            "overflow": null,
            "_model_module_version": "1.2.0",
            "_view_count": null,
            "flex_flow": null,
            "width": null,
            "min_width": null,
            "border": null,
            "align_items": null,
            "bottom": null,
            "_model_module": "@jupyter-widgets/base",
            "top": null,
            "grid_column": null,
            "overflow_y": null,
            "overflow_x": null,
            "grid_auto_flow": null,
            "grid_area": null,
            "grid_template_columns": null,
            "flex": null,
            "_model_name": "LayoutModel",
            "justify_items": null,
            "grid_row": null,
            "max_height": null,
            "align_content": null,
            "visibility": null,
            "align_self": null,
            "height": null,
            "min_height": null,
            "padding": null,
            "grid_auto_rows": null,
            "grid_gap": null,
            "max_width": null,
            "order": null,
            "_view_module_version": "1.2.0",
            "grid_template_areas": null,
            "object_position": null,
            "object_fit": null,
            "grid_auto_columns": null,
            "margin": null,
            "display": null,
            "left": null
          }
        },
        "7b7571240ce6457ca74a5aca5bd5a8d8": {
          "model_module": "@jupyter-widgets/controls",
          "model_name": "DescriptionStyleModel",
          "state": {
            "_view_name": "StyleView",
            "_model_name": "DescriptionStyleModel",
            "description_width": "",
            "_view_module": "@jupyter-widgets/base",
            "_model_module_version": "1.5.0",
            "_view_count": null,
            "_view_module_version": "1.2.0",
            "_model_module": "@jupyter-widgets/controls"
          }
        },
        "a9a9c78c23ce4e5c80e2423e093b05f5": {
          "model_module": "@jupyter-widgets/base",
          "model_name": "LayoutModel",
          "state": {
            "_view_name": "LayoutView",
            "grid_template_rows": null,
            "right": null,
            "justify_content": null,
            "_view_module": "@jupyter-widgets/base",
            "overflow": null,
            "_model_module_version": "1.2.0",
            "_view_count": null,
            "flex_flow": null,
            "width": null,
            "min_width": null,
            "border": null,
            "align_items": null,
            "bottom": null,
            "_model_module": "@jupyter-widgets/base",
            "top": null,
            "grid_column": null,
            "overflow_y": null,
            "overflow_x": null,
            "grid_auto_flow": null,
            "grid_area": null,
            "grid_template_columns": null,
            "flex": null,
            "_model_name": "LayoutModel",
            "justify_items": null,
            "grid_row": null,
            "max_height": null,
            "align_content": null,
            "visibility": null,
            "align_self": null,
            "height": null,
            "min_height": null,
            "padding": null,
            "grid_auto_rows": null,
            "grid_gap": null,
            "max_width": null,
            "order": null,
            "_view_module_version": "1.2.0",
            "grid_template_areas": null,
            "object_position": null,
            "object_fit": null,
            "grid_auto_columns": null,
            "margin": null,
            "display": null,
            "left": null
          }
        },
        "556da73a2e5f4bb881d2732aed9a50dc": {
          "model_module": "@jupyter-widgets/controls",
          "model_name": "HBoxModel",
          "state": {
            "_view_name": "HBoxView",
            "_dom_classes": [],
            "_model_name": "HBoxModel",
            "_view_module": "@jupyter-widgets/controls",
            "_model_module_version": "1.5.0",
            "_view_count": null,
            "_view_module_version": "1.5.0",
            "box_style": "",
            "layout": "IPY_MODEL_9992b3c7a31a4e31b65f5bb669dc364f",
            "_model_module": "@jupyter-widgets/controls",
            "children": [
              "IPY_MODEL_7915658ce1bd4a529c62a7dcdbf3d8e1",
              "IPY_MODEL_e0716e5bf0084a86a228438c6c22f410"
            ]
          }
        },
        "9992b3c7a31a4e31b65f5bb669dc364f": {
          "model_module": "@jupyter-widgets/base",
          "model_name": "LayoutModel",
          "state": {
            "_view_name": "LayoutView",
            "grid_template_rows": null,
            "right": null,
            "justify_content": null,
            "_view_module": "@jupyter-widgets/base",
            "overflow": null,
            "_model_module_version": "1.2.0",
            "_view_count": null,
            "flex_flow": null,
            "width": null,
            "min_width": null,
            "border": null,
            "align_items": null,
            "bottom": null,
            "_model_module": "@jupyter-widgets/base",
            "top": null,
            "grid_column": null,
            "overflow_y": null,
            "overflow_x": null,
            "grid_auto_flow": null,
            "grid_area": null,
            "grid_template_columns": null,
            "flex": null,
            "_model_name": "LayoutModel",
            "justify_items": null,
            "grid_row": null,
            "max_height": null,
            "align_content": null,
            "visibility": null,
            "align_self": null,
            "height": null,
            "min_height": null,
            "padding": null,
            "grid_auto_rows": null,
            "grid_gap": null,
            "max_width": null,
            "order": null,
            "_view_module_version": "1.2.0",
            "grid_template_areas": null,
            "object_position": null,
            "object_fit": null,
            "grid_auto_columns": null,
            "margin": null,
            "display": null,
            "left": null
          }
        },
        "7915658ce1bd4a529c62a7dcdbf3d8e1": {
          "model_module": "@jupyter-widgets/controls",
          "model_name": "FloatProgressModel",
          "state": {
            "_view_name": "ProgressView",
            "style": "IPY_MODEL_7adbafae24464540b1366588c4a77a0a",
            "_dom_classes": [],
            "description": " 73%",
            "_model_name": "FloatProgressModel",
            "bar_style": "danger",
            "max": 25000,
            "_view_module": "@jupyter-widgets/controls",
            "_model_module_version": "1.5.0",
            "value": 18197,
            "_view_count": null,
            "_view_module_version": "1.5.0",
            "orientation": "horizontal",
            "min": 0,
            "description_tooltip": null,
            "_model_module": "@jupyter-widgets/controls",
            "layout": "IPY_MODEL_6e3c0f12df334d9e9eceb3bc9d712ae7"
          }
        },
        "e0716e5bf0084a86a228438c6c22f410": {
          "model_module": "@jupyter-widgets/controls",
          "model_name": "HTMLModel",
          "state": {
            "_view_name": "HTMLView",
            "style": "IPY_MODEL_0bef0bb16aa242d497f12639673390fc",
            "_dom_classes": [],
            "description": "",
            "_model_name": "HTMLModel",
            "placeholder": "​",
            "_view_module": "@jupyter-widgets/controls",
            "_model_module_version": "1.5.0",
            "value": " 18197/25000 [00:00&lt;00:00, 15157.38 examples/s]",
            "_view_count": null,
            "_view_module_version": "1.5.0",
            "description_tooltip": null,
            "_model_module": "@jupyter-widgets/controls",
            "layout": "IPY_MODEL_69e703a6383f4b7987326c83a8ba27c4"
          }
        },
        "7adbafae24464540b1366588c4a77a0a": {
          "model_module": "@jupyter-widgets/controls",
          "model_name": "ProgressStyleModel",
          "state": {
            "_view_name": "StyleView",
            "_model_name": "ProgressStyleModel",
            "description_width": "initial",
            "_view_module": "@jupyter-widgets/base",
            "_model_module_version": "1.5.0",
            "_view_count": null,
            "_view_module_version": "1.2.0",
            "bar_color": null,
            "_model_module": "@jupyter-widgets/controls"
          }
        },
        "6e3c0f12df334d9e9eceb3bc9d712ae7": {
          "model_module": "@jupyter-widgets/base",
          "model_name": "LayoutModel",
          "state": {
            "_view_name": "LayoutView",
            "grid_template_rows": null,
            "right": null,
            "justify_content": null,
            "_view_module": "@jupyter-widgets/base",
            "overflow": null,
            "_model_module_version": "1.2.0",
            "_view_count": null,
            "flex_flow": null,
            "width": null,
            "min_width": null,
            "border": null,
            "align_items": null,
            "bottom": null,
            "_model_module": "@jupyter-widgets/base",
            "top": null,
            "grid_column": null,
            "overflow_y": null,
            "overflow_x": null,
            "grid_auto_flow": null,
            "grid_area": null,
            "grid_template_columns": null,
            "flex": null,
            "_model_name": "LayoutModel",
            "justify_items": null,
            "grid_row": null,
            "max_height": null,
            "align_content": null,
            "visibility": null,
            "align_self": null,
            "height": null,
            "min_height": null,
            "padding": null,
            "grid_auto_rows": null,
            "grid_gap": null,
            "max_width": null,
            "order": null,
            "_view_module_version": "1.2.0",
            "grid_template_areas": null,
            "object_position": null,
            "object_fit": null,
            "grid_auto_columns": null,
            "margin": null,
            "display": null,
            "left": null
          }
        },
        "0bef0bb16aa242d497f12639673390fc": {
          "model_module": "@jupyter-widgets/controls",
          "model_name": "DescriptionStyleModel",
          "state": {
            "_view_name": "StyleView",
            "_model_name": "DescriptionStyleModel",
            "description_width": "",
            "_view_module": "@jupyter-widgets/base",
            "_model_module_version": "1.5.0",
            "_view_count": null,
            "_view_module_version": "1.2.0",
            "_model_module": "@jupyter-widgets/controls"
          }
        },
        "69e703a6383f4b7987326c83a8ba27c4": {
          "model_module": "@jupyter-widgets/base",
          "model_name": "LayoutModel",
          "state": {
            "_view_name": "LayoutView",
            "grid_template_rows": null,
            "right": null,
            "justify_content": null,
            "_view_module": "@jupyter-widgets/base",
            "overflow": null,
            "_model_module_version": "1.2.0",
            "_view_count": null,
            "flex_flow": null,
            "width": null,
            "min_width": null,
            "border": null,
            "align_items": null,
            "bottom": null,
            "_model_module": "@jupyter-widgets/base",
            "top": null,
            "grid_column": null,
            "overflow_y": null,
            "overflow_x": null,
            "grid_auto_flow": null,
            "grid_area": null,
            "grid_template_columns": null,
            "flex": null,
            "_model_name": "LayoutModel",
            "justify_items": null,
            "grid_row": null,
            "max_height": null,
            "align_content": null,
            "visibility": null,
            "align_self": null,
            "height": null,
            "min_height": null,
            "padding": null,
            "grid_auto_rows": null,
            "grid_gap": null,
            "max_width": null,
            "order": null,
            "_view_module_version": "1.2.0",
            "grid_template_areas": null,
            "object_position": null,
            "object_fit": null,
            "grid_auto_columns": null,
            "margin": null,
            "display": null,
            "left": null
          }
        },
        "f3cefe7f805d402493e45e511aca9364": {
          "model_module": "@jupyter-widgets/controls",
          "model_name": "HBoxModel",
          "state": {
            "_view_name": "HBoxView",
            "_dom_classes": [],
            "_model_name": "HBoxModel",
            "_view_module": "@jupyter-widgets/controls",
            "_model_module_version": "1.5.0",
            "_view_count": null,
            "_view_module_version": "1.5.0",
            "box_style": "",
            "layout": "IPY_MODEL_613927a119ca4eae9d5231e477ed31a6",
            "_model_module": "@jupyter-widgets/controls",
            "children": [
              "IPY_MODEL_821c6ce4707a4a87851b935b414a53c2",
              "IPY_MODEL_c19c3a860f9f4e73b13f2af8eeb74b29"
            ]
          }
        },
        "613927a119ca4eae9d5231e477ed31a6": {
          "model_module": "@jupyter-widgets/base",
          "model_name": "LayoutModel",
          "state": {
            "_view_name": "LayoutView",
            "grid_template_rows": null,
            "right": null,
            "justify_content": null,
            "_view_module": "@jupyter-widgets/base",
            "overflow": null,
            "_model_module_version": "1.2.0",
            "_view_count": null,
            "flex_flow": null,
            "width": null,
            "min_width": null,
            "border": null,
            "align_items": null,
            "bottom": null,
            "_model_module": "@jupyter-widgets/base",
            "top": null,
            "grid_column": null,
            "overflow_y": null,
            "overflow_x": null,
            "grid_auto_flow": null,
            "grid_area": null,
            "grid_template_columns": null,
            "flex": null,
            "_model_name": "LayoutModel",
            "justify_items": null,
            "grid_row": null,
            "max_height": null,
            "align_content": null,
            "visibility": null,
            "align_self": null,
            "height": null,
            "min_height": null,
            "padding": null,
            "grid_auto_rows": null,
            "grid_gap": null,
            "max_width": null,
            "order": null,
            "_view_module_version": "1.2.0",
            "grid_template_areas": null,
            "object_position": null,
            "object_fit": null,
            "grid_auto_columns": null,
            "margin": null,
            "display": null,
            "left": null
          }
        },
        "821c6ce4707a4a87851b935b414a53c2": {
          "model_module": "@jupyter-widgets/controls",
          "model_name": "FloatProgressModel",
          "state": {
            "_view_name": "ProgressView",
            "style": "IPY_MODEL_f0ee2e0e5a9d4755b37a39d635e4e75a",
            "_dom_classes": [],
            "description": "",
            "_model_name": "FloatProgressModel",
            "bar_style": "info",
            "max": 1,
            "_view_module": "@jupyter-widgets/controls",
            "_model_module_version": "1.5.0",
            "value": 1,
            "_view_count": null,
            "_view_module_version": "1.5.0",
            "orientation": "horizontal",
            "min": 0,
            "description_tooltip": null,
            "_model_module": "@jupyter-widgets/controls",
            "layout": "IPY_MODEL_3abd121e76b14e7985c2bbae9b92184a"
          }
        },
        "c19c3a860f9f4e73b13f2af8eeb74b29": {
          "model_module": "@jupyter-widgets/controls",
          "model_name": "HTMLModel",
          "state": {
            "_view_name": "HTMLView",
            "style": "IPY_MODEL_f00870ef928d4d409542320c6b78e132",
            "_dom_classes": [],
            "description": "",
            "_model_name": "HTMLModel",
            "placeholder": "​",
            "_view_module": "@jupyter-widgets/controls",
            "_model_module_version": "1.5.0",
            "value": " 25000/0 [00:15&lt;00:00, 2845.29 examples/s]",
            "_view_count": null,
            "_view_module_version": "1.5.0",
            "description_tooltip": null,
            "_model_module": "@jupyter-widgets/controls",
            "layout": "IPY_MODEL_0142c8f755f64a9797e56372a82bb822"
          }
        },
        "f0ee2e0e5a9d4755b37a39d635e4e75a": {
          "model_module": "@jupyter-widgets/controls",
          "model_name": "ProgressStyleModel",
          "state": {
            "_view_name": "StyleView",
            "_model_name": "ProgressStyleModel",
            "description_width": "initial",
            "_view_module": "@jupyter-widgets/base",
            "_model_module_version": "1.5.0",
            "_view_count": null,
            "_view_module_version": "1.2.0",
            "bar_color": null,
            "_model_module": "@jupyter-widgets/controls"
          }
        },
        "3abd121e76b14e7985c2bbae9b92184a": {
          "model_module": "@jupyter-widgets/base",
          "model_name": "LayoutModel",
          "state": {
            "_view_name": "LayoutView",
            "grid_template_rows": null,
            "right": null,
            "justify_content": null,
            "_view_module": "@jupyter-widgets/base",
            "overflow": null,
            "_model_module_version": "1.2.0",
            "_view_count": null,
            "flex_flow": null,
            "width": null,
            "min_width": null,
            "border": null,
            "align_items": null,
            "bottom": null,
            "_model_module": "@jupyter-widgets/base",
            "top": null,
            "grid_column": null,
            "overflow_y": null,
            "overflow_x": null,
            "grid_auto_flow": null,
            "grid_area": null,
            "grid_template_columns": null,
            "flex": null,
            "_model_name": "LayoutModel",
            "justify_items": null,
            "grid_row": null,
            "max_height": null,
            "align_content": null,
            "visibility": null,
            "align_self": null,
            "height": null,
            "min_height": null,
            "padding": null,
            "grid_auto_rows": null,
            "grid_gap": null,
            "max_width": null,
            "order": null,
            "_view_module_version": "1.2.0",
            "grid_template_areas": null,
            "object_position": null,
            "object_fit": null,
            "grid_auto_columns": null,
            "margin": null,
            "display": null,
            "left": null
          }
        },
        "f00870ef928d4d409542320c6b78e132": {
          "model_module": "@jupyter-widgets/controls",
          "model_name": "DescriptionStyleModel",
          "state": {
            "_view_name": "StyleView",
            "_model_name": "DescriptionStyleModel",
            "description_width": "",
            "_view_module": "@jupyter-widgets/base",
            "_model_module_version": "1.5.0",
            "_view_count": null,
            "_view_module_version": "1.2.0",
            "_model_module": "@jupyter-widgets/controls"
          }
        },
        "0142c8f755f64a9797e56372a82bb822": {
          "model_module": "@jupyter-widgets/base",
          "model_name": "LayoutModel",
          "state": {
            "_view_name": "LayoutView",
            "grid_template_rows": null,
            "right": null,
            "justify_content": null,
            "_view_module": "@jupyter-widgets/base",
            "overflow": null,
            "_model_module_version": "1.2.0",
            "_view_count": null,
            "flex_flow": null,
            "width": null,
            "min_width": null,
            "border": null,
            "align_items": null,
            "bottom": null,
            "_model_module": "@jupyter-widgets/base",
            "top": null,
            "grid_column": null,
            "overflow_y": null,
            "overflow_x": null,
            "grid_auto_flow": null,
            "grid_area": null,
            "grid_template_columns": null,
            "flex": null,
            "_model_name": "LayoutModel",
            "justify_items": null,
            "grid_row": null,
            "max_height": null,
            "align_content": null,
            "visibility": null,
            "align_self": null,
            "height": null,
            "min_height": null,
            "padding": null,
            "grid_auto_rows": null,
            "grid_gap": null,
            "max_width": null,
            "order": null,
            "_view_module_version": "1.2.0",
            "grid_template_areas": null,
            "object_position": null,
            "object_fit": null,
            "grid_auto_columns": null,
            "margin": null,
            "display": null,
            "left": null
          }
        },
        "4278ed1038944d7c9f7a669d78524dfc": {
          "model_module": "@jupyter-widgets/controls",
          "model_name": "HBoxModel",
          "state": {
            "_view_name": "HBoxView",
            "_dom_classes": [],
            "_model_name": "HBoxModel",
            "_view_module": "@jupyter-widgets/controls",
            "_model_module_version": "1.5.0",
            "_view_count": null,
            "_view_module_version": "1.5.0",
            "box_style": "",
            "layout": "IPY_MODEL_496358c12aa64ffa92064c624aa752e6",
            "_model_module": "@jupyter-widgets/controls",
            "children": [
              "IPY_MODEL_650e087d733242be99973f6207090c23",
              "IPY_MODEL_b8b058c104074d978504702abf38ceee"
            ]
          }
        },
        "496358c12aa64ffa92064c624aa752e6": {
          "model_module": "@jupyter-widgets/base",
          "model_name": "LayoutModel",
          "state": {
            "_view_name": "LayoutView",
            "grid_template_rows": null,
            "right": null,
            "justify_content": null,
            "_view_module": "@jupyter-widgets/base",
            "overflow": null,
            "_model_module_version": "1.2.0",
            "_view_count": null,
            "flex_flow": null,
            "width": null,
            "min_width": null,
            "border": null,
            "align_items": null,
            "bottom": null,
            "_model_module": "@jupyter-widgets/base",
            "top": null,
            "grid_column": null,
            "overflow_y": null,
            "overflow_x": null,
            "grid_auto_flow": null,
            "grid_area": null,
            "grid_template_columns": null,
            "flex": null,
            "_model_name": "LayoutModel",
            "justify_items": null,
            "grid_row": null,
            "max_height": null,
            "align_content": null,
            "visibility": null,
            "align_self": null,
            "height": null,
            "min_height": null,
            "padding": null,
            "grid_auto_rows": null,
            "grid_gap": null,
            "max_width": null,
            "order": null,
            "_view_module_version": "1.2.0",
            "grid_template_areas": null,
            "object_position": null,
            "object_fit": null,
            "grid_auto_columns": null,
            "margin": null,
            "display": null,
            "left": null
          }
        },
        "650e087d733242be99973f6207090c23": {
          "model_module": "@jupyter-widgets/controls",
          "model_name": "FloatProgressModel",
          "state": {
            "_view_name": "ProgressView",
            "style": "IPY_MODEL_2788c003f2f34c5495411aff02ffb11f",
            "_dom_classes": [],
            "description": " 72%",
            "_model_name": "FloatProgressModel",
            "bar_style": "danger",
            "max": 25000,
            "_view_module": "@jupyter-widgets/controls",
            "_model_module_version": "1.5.0",
            "value": 17911,
            "_view_count": null,
            "_view_module_version": "1.5.0",
            "orientation": "horizontal",
            "min": 0,
            "description_tooltip": null,
            "_model_module": "@jupyter-widgets/controls",
            "layout": "IPY_MODEL_f6f814eb3bac4ef4b5638fab8fe14854"
          }
        },
        "b8b058c104074d978504702abf38ceee": {
          "model_module": "@jupyter-widgets/controls",
          "model_name": "HTMLModel",
          "state": {
            "_view_name": "HTMLView",
            "style": "IPY_MODEL_9d7a77c44de045808e4a492b33dbc25f",
            "_dom_classes": [],
            "description": "",
            "_model_name": "HTMLModel",
            "placeholder": "​",
            "_view_module": "@jupyter-widgets/controls",
            "_model_module_version": "1.5.0",
            "value": " 17911/25000 [00:00&lt;00:00, 16301.62 examples/s]",
            "_view_count": null,
            "_view_module_version": "1.5.0",
            "description_tooltip": null,
            "_model_module": "@jupyter-widgets/controls",
            "layout": "IPY_MODEL_41e8ceca93d24b438f073a1f13daebc5"
          }
        },
        "2788c003f2f34c5495411aff02ffb11f": {
          "model_module": "@jupyter-widgets/controls",
          "model_name": "ProgressStyleModel",
          "state": {
            "_view_name": "StyleView",
            "_model_name": "ProgressStyleModel",
            "description_width": "initial",
            "_view_module": "@jupyter-widgets/base",
            "_model_module_version": "1.5.0",
            "_view_count": null,
            "_view_module_version": "1.2.0",
            "bar_color": null,
            "_model_module": "@jupyter-widgets/controls"
          }
        },
        "f6f814eb3bac4ef4b5638fab8fe14854": {
          "model_module": "@jupyter-widgets/base",
          "model_name": "LayoutModel",
          "state": {
            "_view_name": "LayoutView",
            "grid_template_rows": null,
            "right": null,
            "justify_content": null,
            "_view_module": "@jupyter-widgets/base",
            "overflow": null,
            "_model_module_version": "1.2.0",
            "_view_count": null,
            "flex_flow": null,
            "width": null,
            "min_width": null,
            "border": null,
            "align_items": null,
            "bottom": null,
            "_model_module": "@jupyter-widgets/base",
            "top": null,
            "grid_column": null,
            "overflow_y": null,
            "overflow_x": null,
            "grid_auto_flow": null,
            "grid_area": null,
            "grid_template_columns": null,
            "flex": null,
            "_model_name": "LayoutModel",
            "justify_items": null,
            "grid_row": null,
            "max_height": null,
            "align_content": null,
            "visibility": null,
            "align_self": null,
            "height": null,
            "min_height": null,
            "padding": null,
            "grid_auto_rows": null,
            "grid_gap": null,
            "max_width": null,
            "order": null,
            "_view_module_version": "1.2.0",
            "grid_template_areas": null,
            "object_position": null,
            "object_fit": null,
            "grid_auto_columns": null,
            "margin": null,
            "display": null,
            "left": null
          }
        },
        "9d7a77c44de045808e4a492b33dbc25f": {
          "model_module": "@jupyter-widgets/controls",
          "model_name": "DescriptionStyleModel",
          "state": {
            "_view_name": "StyleView",
            "_model_name": "DescriptionStyleModel",
            "description_width": "",
            "_view_module": "@jupyter-widgets/base",
            "_model_module_version": "1.5.0",
            "_view_count": null,
            "_view_module_version": "1.2.0",
            "_model_module": "@jupyter-widgets/controls"
          }
        },
        "41e8ceca93d24b438f073a1f13daebc5": {
          "model_module": "@jupyter-widgets/base",
          "model_name": "LayoutModel",
          "state": {
            "_view_name": "LayoutView",
            "grid_template_rows": null,
            "right": null,
            "justify_content": null,
            "_view_module": "@jupyter-widgets/base",
            "overflow": null,
            "_model_module_version": "1.2.0",
            "_view_count": null,
            "flex_flow": null,
            "width": null,
            "min_width": null,
            "border": null,
            "align_items": null,
            "bottom": null,
            "_model_module": "@jupyter-widgets/base",
            "top": null,
            "grid_column": null,
            "overflow_y": null,
            "overflow_x": null,
            "grid_auto_flow": null,
            "grid_area": null,
            "grid_template_columns": null,
            "flex": null,
            "_model_name": "LayoutModel",
            "justify_items": null,
            "grid_row": null,
            "max_height": null,
            "align_content": null,
            "visibility": null,
            "align_self": null,
            "height": null,
            "min_height": null,
            "padding": null,
            "grid_auto_rows": null,
            "grid_gap": null,
            "max_width": null,
            "order": null,
            "_view_module_version": "1.2.0",
            "grid_template_areas": null,
            "object_position": null,
            "object_fit": null,
            "grid_auto_columns": null,
            "margin": null,
            "display": null,
            "left": null
          }
        },
        "22676d1048494960acffc93c3de8f69d": {
          "model_module": "@jupyter-widgets/controls",
          "model_name": "HBoxModel",
          "state": {
            "_view_name": "HBoxView",
            "_dom_classes": [],
            "_model_name": "HBoxModel",
            "_view_module": "@jupyter-widgets/controls",
            "_model_module_version": "1.5.0",
            "_view_count": null,
            "_view_module_version": "1.5.0",
            "box_style": "",
            "layout": "IPY_MODEL_a22c54cc22ff42e3b55e45668ae3fb1a",
            "_model_module": "@jupyter-widgets/controls",
            "children": [
              "IPY_MODEL_0a5f6f835a574b58b19008c0f398516f",
              "IPY_MODEL_a51dd920c83b44ad9a0bc8f12f94337e"
            ]
          }
        },
        "a22c54cc22ff42e3b55e45668ae3fb1a": {
          "model_module": "@jupyter-widgets/base",
          "model_name": "LayoutModel",
          "state": {
            "_view_name": "LayoutView",
            "grid_template_rows": null,
            "right": null,
            "justify_content": null,
            "_view_module": "@jupyter-widgets/base",
            "overflow": null,
            "_model_module_version": "1.2.0",
            "_view_count": null,
            "flex_flow": null,
            "width": null,
            "min_width": null,
            "border": null,
            "align_items": null,
            "bottom": null,
            "_model_module": "@jupyter-widgets/base",
            "top": null,
            "grid_column": null,
            "overflow_y": null,
            "overflow_x": null,
            "grid_auto_flow": null,
            "grid_area": null,
            "grid_template_columns": null,
            "flex": null,
            "_model_name": "LayoutModel",
            "justify_items": null,
            "grid_row": null,
            "max_height": null,
            "align_content": null,
            "visibility": null,
            "align_self": null,
            "height": null,
            "min_height": null,
            "padding": null,
            "grid_auto_rows": null,
            "grid_gap": null,
            "max_width": null,
            "order": null,
            "_view_module_version": "1.2.0",
            "grid_template_areas": null,
            "object_position": null,
            "object_fit": null,
            "grid_auto_columns": null,
            "margin": null,
            "display": null,
            "left": null
          }
        },
        "0a5f6f835a574b58b19008c0f398516f": {
          "model_module": "@jupyter-widgets/controls",
          "model_name": "FloatProgressModel",
          "state": {
            "_view_name": "ProgressView",
            "style": "IPY_MODEL_ff7eba15a04b4302bd736d4d7a9a958c",
            "_dom_classes": [],
            "description": "",
            "_model_name": "FloatProgressModel",
            "bar_style": "info",
            "max": 1,
            "_view_module": "@jupyter-widgets/controls",
            "_model_module_version": "1.5.0",
            "value": 1,
            "_view_count": null,
            "_view_module_version": "1.5.0",
            "orientation": "horizontal",
            "min": 0,
            "description_tooltip": null,
            "_model_module": "@jupyter-widgets/controls",
            "layout": "IPY_MODEL_3c5920ee36064fad8f88565d6fb09b7b"
          }
        },
        "a51dd920c83b44ad9a0bc8f12f94337e": {
          "model_module": "@jupyter-widgets/controls",
          "model_name": "HTMLModel",
          "state": {
            "_view_name": "HTMLView",
            "style": "IPY_MODEL_061e08ba528a486285303c8569e0942f",
            "_dom_classes": [],
            "description": "",
            "_model_name": "HTMLModel",
            "placeholder": "​",
            "_view_module": "@jupyter-widgets/controls",
            "_model_module_version": "1.5.0",
            "value": " 50000/0 [00:22&lt;00:00, 2794.71 examples/s]",
            "_view_count": null,
            "_view_module_version": "1.5.0",
            "description_tooltip": null,
            "_model_module": "@jupyter-widgets/controls",
            "layout": "IPY_MODEL_f62cbf09f03c48dbac6e5344430fc1ad"
          }
        },
        "ff7eba15a04b4302bd736d4d7a9a958c": {
          "model_module": "@jupyter-widgets/controls",
          "model_name": "ProgressStyleModel",
          "state": {
            "_view_name": "StyleView",
            "_model_name": "ProgressStyleModel",
            "description_width": "initial",
            "_view_module": "@jupyter-widgets/base",
            "_model_module_version": "1.5.0",
            "_view_count": null,
            "_view_module_version": "1.2.0",
            "bar_color": null,
            "_model_module": "@jupyter-widgets/controls"
          }
        },
        "3c5920ee36064fad8f88565d6fb09b7b": {
          "model_module": "@jupyter-widgets/base",
          "model_name": "LayoutModel",
          "state": {
            "_view_name": "LayoutView",
            "grid_template_rows": null,
            "right": null,
            "justify_content": null,
            "_view_module": "@jupyter-widgets/base",
            "overflow": null,
            "_model_module_version": "1.2.0",
            "_view_count": null,
            "flex_flow": null,
            "width": null,
            "min_width": null,
            "border": null,
            "align_items": null,
            "bottom": null,
            "_model_module": "@jupyter-widgets/base",
            "top": null,
            "grid_column": null,
            "overflow_y": null,
            "overflow_x": null,
            "grid_auto_flow": null,
            "grid_area": null,
            "grid_template_columns": null,
            "flex": null,
            "_model_name": "LayoutModel",
            "justify_items": null,
            "grid_row": null,
            "max_height": null,
            "align_content": null,
            "visibility": null,
            "align_self": null,
            "height": null,
            "min_height": null,
            "padding": null,
            "grid_auto_rows": null,
            "grid_gap": null,
            "max_width": null,
            "order": null,
            "_view_module_version": "1.2.0",
            "grid_template_areas": null,
            "object_position": null,
            "object_fit": null,
            "grid_auto_columns": null,
            "margin": null,
            "display": null,
            "left": null
          }
        },
        "061e08ba528a486285303c8569e0942f": {
          "model_module": "@jupyter-widgets/controls",
          "model_name": "DescriptionStyleModel",
          "state": {
            "_view_name": "StyleView",
            "_model_name": "DescriptionStyleModel",
            "description_width": "",
            "_view_module": "@jupyter-widgets/base",
            "_model_module_version": "1.5.0",
            "_view_count": null,
            "_view_module_version": "1.2.0",
            "_model_module": "@jupyter-widgets/controls"
          }
        },
        "f62cbf09f03c48dbac6e5344430fc1ad": {
          "model_module": "@jupyter-widgets/base",
          "model_name": "LayoutModel",
          "state": {
            "_view_name": "LayoutView",
            "grid_template_rows": null,
            "right": null,
            "justify_content": null,
            "_view_module": "@jupyter-widgets/base",
            "overflow": null,
            "_model_module_version": "1.2.0",
            "_view_count": null,
            "flex_flow": null,
            "width": null,
            "min_width": null,
            "border": null,
            "align_items": null,
            "bottom": null,
            "_model_module": "@jupyter-widgets/base",
            "top": null,
            "grid_column": null,
            "overflow_y": null,
            "overflow_x": null,
            "grid_auto_flow": null,
            "grid_area": null,
            "grid_template_columns": null,
            "flex": null,
            "_model_name": "LayoutModel",
            "justify_items": null,
            "grid_row": null,
            "max_height": null,
            "align_content": null,
            "visibility": null,
            "align_self": null,
            "height": null,
            "min_height": null,
            "padding": null,
            "grid_auto_rows": null,
            "grid_gap": null,
            "max_width": null,
            "order": null,
            "_view_module_version": "1.2.0",
            "grid_template_areas": null,
            "object_position": null,
            "object_fit": null,
            "grid_auto_columns": null,
            "margin": null,
            "display": null,
            "left": null
          }
        },
        "0683dfafa17d484aa589ebaefa256c59": {
          "model_module": "@jupyter-widgets/controls",
          "model_name": "HBoxModel",
          "state": {
            "_view_name": "HBoxView",
            "_dom_classes": [],
            "_model_name": "HBoxModel",
            "_view_module": "@jupyter-widgets/controls",
            "_model_module_version": "1.5.0",
            "_view_count": null,
            "_view_module_version": "1.5.0",
            "box_style": "",
            "layout": "IPY_MODEL_41c672c8ffa54d9e856462aa3f157d2f",
            "_model_module": "@jupyter-widgets/controls",
            "children": [
              "IPY_MODEL_f4b2938c04f44add9d10afd85c5c82d7",
              "IPY_MODEL_aea8a32f13684258999a01817bcdb3f3"
            ]
          }
        },
        "41c672c8ffa54d9e856462aa3f157d2f": {
          "model_module": "@jupyter-widgets/base",
          "model_name": "LayoutModel",
          "state": {
            "_view_name": "LayoutView",
            "grid_template_rows": null,
            "right": null,
            "justify_content": null,
            "_view_module": "@jupyter-widgets/base",
            "overflow": null,
            "_model_module_version": "1.2.0",
            "_view_count": null,
            "flex_flow": null,
            "width": null,
            "min_width": null,
            "border": null,
            "align_items": null,
            "bottom": null,
            "_model_module": "@jupyter-widgets/base",
            "top": null,
            "grid_column": null,
            "overflow_y": null,
            "overflow_x": null,
            "grid_auto_flow": null,
            "grid_area": null,
            "grid_template_columns": null,
            "flex": null,
            "_model_name": "LayoutModel",
            "justify_items": null,
            "grid_row": null,
            "max_height": null,
            "align_content": null,
            "visibility": null,
            "align_self": null,
            "height": null,
            "min_height": null,
            "padding": null,
            "grid_auto_rows": null,
            "grid_gap": null,
            "max_width": null,
            "order": null,
            "_view_module_version": "1.2.0",
            "grid_template_areas": null,
            "object_position": null,
            "object_fit": null,
            "grid_auto_columns": null,
            "margin": null,
            "display": null,
            "left": null
          }
        },
        "f4b2938c04f44add9d10afd85c5c82d7": {
          "model_module": "@jupyter-widgets/controls",
          "model_name": "FloatProgressModel",
          "state": {
            "_view_name": "ProgressView",
            "style": "IPY_MODEL_42b968fc1220480fba3d843a790278a8",
            "_dom_classes": [],
            "description": " 74%",
            "_model_name": "FloatProgressModel",
            "bar_style": "danger",
            "max": 50000,
            "_view_module": "@jupyter-widgets/controls",
            "_model_module_version": "1.5.0",
            "value": 37018,
            "_view_count": null,
            "_view_module_version": "1.5.0",
            "orientation": "horizontal",
            "min": 0,
            "description_tooltip": null,
            "_model_module": "@jupyter-widgets/controls",
            "layout": "IPY_MODEL_3077e20a530748c49b8e1db52beffa54"
          }
        },
        "aea8a32f13684258999a01817bcdb3f3": {
          "model_module": "@jupyter-widgets/controls",
          "model_name": "HTMLModel",
          "state": {
            "_view_name": "HTMLView",
            "style": "IPY_MODEL_81de07eb21d14ba18955c8b0d4ef946d",
            "_dom_classes": [],
            "description": "",
            "_model_name": "HTMLModel",
            "placeholder": "​",
            "_view_module": "@jupyter-widgets/controls",
            "_model_module_version": "1.5.0",
            "value": " 37018/50000 [00:00&lt;12:58, 16.67 examples/s]",
            "_view_count": null,
            "_view_module_version": "1.5.0",
            "description_tooltip": null,
            "_model_module": "@jupyter-widgets/controls",
            "layout": "IPY_MODEL_616c20ed68744d60ae487fa8e103ff93"
          }
        },
        "42b968fc1220480fba3d843a790278a8": {
          "model_module": "@jupyter-widgets/controls",
          "model_name": "ProgressStyleModel",
          "state": {
            "_view_name": "StyleView",
            "_model_name": "ProgressStyleModel",
            "description_width": "initial",
            "_view_module": "@jupyter-widgets/base",
            "_model_module_version": "1.5.0",
            "_view_count": null,
            "_view_module_version": "1.2.0",
            "bar_color": null,
            "_model_module": "@jupyter-widgets/controls"
          }
        },
        "3077e20a530748c49b8e1db52beffa54": {
          "model_module": "@jupyter-widgets/base",
          "model_name": "LayoutModel",
          "state": {
            "_view_name": "LayoutView",
            "grid_template_rows": null,
            "right": null,
            "justify_content": null,
            "_view_module": "@jupyter-widgets/base",
            "overflow": null,
            "_model_module_version": "1.2.0",
            "_view_count": null,
            "flex_flow": null,
            "width": null,
            "min_width": null,
            "border": null,
            "align_items": null,
            "bottom": null,
            "_model_module": "@jupyter-widgets/base",
            "top": null,
            "grid_column": null,
            "overflow_y": null,
            "overflow_x": null,
            "grid_auto_flow": null,
            "grid_area": null,
            "grid_template_columns": null,
            "flex": null,
            "_model_name": "LayoutModel",
            "justify_items": null,
            "grid_row": null,
            "max_height": null,
            "align_content": null,
            "visibility": null,
            "align_self": null,
            "height": null,
            "min_height": null,
            "padding": null,
            "grid_auto_rows": null,
            "grid_gap": null,
            "max_width": null,
            "order": null,
            "_view_module_version": "1.2.0",
            "grid_template_areas": null,
            "object_position": null,
            "object_fit": null,
            "grid_auto_columns": null,
            "margin": null,
            "display": null,
            "left": null
          }
        },
        "81de07eb21d14ba18955c8b0d4ef946d": {
          "model_module": "@jupyter-widgets/controls",
          "model_name": "DescriptionStyleModel",
          "state": {
            "_view_name": "StyleView",
            "_model_name": "DescriptionStyleModel",
            "description_width": "",
            "_view_module": "@jupyter-widgets/base",
            "_model_module_version": "1.5.0",
            "_view_count": null,
            "_view_module_version": "1.2.0",
            "_model_module": "@jupyter-widgets/controls"
          }
        },
        "616c20ed68744d60ae487fa8e103ff93": {
          "model_module": "@jupyter-widgets/base",
          "model_name": "LayoutModel",
          "state": {
            "_view_name": "LayoutView",
            "grid_template_rows": null,
            "right": null,
            "justify_content": null,
            "_view_module": "@jupyter-widgets/base",
            "overflow": null,
            "_model_module_version": "1.2.0",
            "_view_count": null,
            "flex_flow": null,
            "width": null,
            "min_width": null,
            "border": null,
            "align_items": null,
            "bottom": null,
            "_model_module": "@jupyter-widgets/base",
            "top": null,
            "grid_column": null,
            "overflow_y": null,
            "overflow_x": null,
            "grid_auto_flow": null,
            "grid_area": null,
            "grid_template_columns": null,
            "flex": null,
            "_model_name": "LayoutModel",
            "justify_items": null,
            "grid_row": null,
            "max_height": null,
            "align_content": null,
            "visibility": null,
            "align_self": null,
            "height": null,
            "min_height": null,
            "padding": null,
            "grid_auto_rows": null,
            "grid_gap": null,
            "max_width": null,
            "order": null,
            "_view_module_version": "1.2.0",
            "grid_template_areas": null,
            "object_position": null,
            "object_fit": null,
            "grid_auto_columns": null,
            "margin": null,
            "display": null,
            "left": null
          }
        }
      }
    }
  },
  "cells": [
    {
      "cell_type": "markdown",
      "metadata": {
        "id": "abce1b12"
      },
      "source": [
        "Antes de empezar, se recomienda la lectura de https://medium.com/analytics-vidhya/natural-language-processing-from-basics-to-using-rnn-and-lstm-ef6779e4ae66\n",
        "\n",
        "En este caso de uso, se analizará el sentimiento implícito en una serie de reseñas de películas, haciendo uso del gran dataset de IMDB, disponible en el siguiente enlace: http://ai.stanford.edu/~amaas/data/sentiment/\n",
        "\n",
        "Este conjunto de datos incluye ya reseñas etiquetadas como \"negativas\" o \"positivas\". También hay datos adicionales sin etiquetar para probar métodos de aprendizaje no supervisado. Para este caso de uso, descartamos los datos sin etiquetar."
      ],
      "id": "abce1b12"
    },
    {
      "cell_type": "markdown",
      "metadata": {
        "id": "47b3c43d"
      },
      "source": [
        "# Setup"
      ],
      "id": "47b3c43d"
    },
    {
      "cell_type": "markdown",
      "metadata": {
        "id": "f8c901eb"
      },
      "source": [
        "https://www.tensorflow.org/text/tutorials/text_classification_rnn"
      ],
      "id": "f8c901eb"
    },
    {
      "cell_type": "code",
      "metadata": {
        "id": "a5115c28"
      },
      "source": [
        "import numpy as np\n",
        "import matplotlib.pyplot as plt\n",
        "import os\n",
        "import warnings\n",
        "warnings.filterwarnings('ignore')\n",
        "\n",
        "import tensorflow as tf\n",
        "import tensorflow_datasets as tfds\n",
        "from tensorflow.keras.models import Sequential\n",
        "from tensorflow.keras.layers import LSTM, Embedding, Bidirectional, Dense\n",
        "from tensorflow.keras import preprocessing\n",
        "from tensorflow.keras.layers.experimental.preprocessing import TextVectorization\n",
        "from tensorflow.keras.losses import BinaryCrossentropy\n",
        "from tensorflow.keras.optimizers import Adam"
      ],
      "id": "a5115c28",
      "execution_count": 1,
      "outputs": []
    },
    {
      "cell_type": "markdown",
      "metadata": {
        "id": "917be5d2"
      },
      "source": [
        "# Carga del dataset"
      ],
      "id": "917be5d2"
    },
    {
      "cell_type": "markdown",
      "metadata": {
        "id": "f6b4d6fd"
      },
      "source": [
        "El conjunto de datos de IMDB está asociado a una tarea de clasificación binaria, ya que cada reseña incluye un sentimiento positivo o negativo.\n",
        "\n",
        "Para cargar los datos, usaremos esta función de keras: https://keras.io/api/preprocessing/text/"
      ],
      "id": "f6b4d6fd"
    },
    {
      "cell_type": "code",
      "metadata": {
        "colab": {
          "base_uri": "https://localhost:8080/",
          "height": 365,
          "referenced_widgets": [
            "3cc4742693214cf38817a2c23d0d9fde",
            "4bab80b91eeb4b99be670cc470172715",
            "ca1c9931c0f04f748a3d1298fdce7a0b",
            "8e012f17c142488e8b7d91ea07537af7",
            "bf5ed59babaf4721869508c2b8e1d471",
            "6f9f2a763a2d42babaffa6d87fd076af",
            "9f456516b3c242f18c6152d48d4232a0",
            "2389075993424362a67e7d81b7abb2a2",
            "471e4bea4d7b4c12811bb8f6d440a832",
            "2ffdc2a430b24587a27253e423994909",
            "a04ec4a66e7847b2b85d64d4c746f298",
            "ed10713c45a44004a54190eaf5eb3988",
            "0db017d6da454ef2886d6a3316ca657a",
            "e5d42731dde1430cab0c4d66ecb89d0a",
            "b02f9a4e677d4287b127b76ed2a793e8",
            "099d9dd960ba40d88a1ea6fabd26c115",
            "70fb0d8ddfd5438198bda40b3d9ed419",
            "48d7c53eb3d741679e30a30a368013aa",
            "6a8e696af6fa4530af9e8bf101ad706d",
            "3668dcaf9cc74f59847eba11f959682b",
            "f6085b7e330b40248ff82753e0692a29",
            "36e5c74f06d94c899fe11a6ff64adc4a",
            "7b7571240ce6457ca74a5aca5bd5a8d8",
            "a9a9c78c23ce4e5c80e2423e093b05f5",
            "556da73a2e5f4bb881d2732aed9a50dc",
            "9992b3c7a31a4e31b65f5bb669dc364f",
            "7915658ce1bd4a529c62a7dcdbf3d8e1",
            "e0716e5bf0084a86a228438c6c22f410",
            "7adbafae24464540b1366588c4a77a0a",
            "6e3c0f12df334d9e9eceb3bc9d712ae7",
            "0bef0bb16aa242d497f12639673390fc",
            "69e703a6383f4b7987326c83a8ba27c4",
            "f3cefe7f805d402493e45e511aca9364",
            "613927a119ca4eae9d5231e477ed31a6",
            "821c6ce4707a4a87851b935b414a53c2",
            "c19c3a860f9f4e73b13f2af8eeb74b29",
            "f0ee2e0e5a9d4755b37a39d635e4e75a",
            "3abd121e76b14e7985c2bbae9b92184a",
            "f00870ef928d4d409542320c6b78e132",
            "0142c8f755f64a9797e56372a82bb822",
            "4278ed1038944d7c9f7a669d78524dfc",
            "496358c12aa64ffa92064c624aa752e6",
            "650e087d733242be99973f6207090c23",
            "b8b058c104074d978504702abf38ceee",
            "2788c003f2f34c5495411aff02ffb11f",
            "f6f814eb3bac4ef4b5638fab8fe14854",
            "9d7a77c44de045808e4a492b33dbc25f",
            "41e8ceca93d24b438f073a1f13daebc5",
            "22676d1048494960acffc93c3de8f69d",
            "a22c54cc22ff42e3b55e45668ae3fb1a",
            "0a5f6f835a574b58b19008c0f398516f",
            "a51dd920c83b44ad9a0bc8f12f94337e",
            "ff7eba15a04b4302bd736d4d7a9a958c",
            "3c5920ee36064fad8f88565d6fb09b7b",
            "061e08ba528a486285303c8569e0942f",
            "f62cbf09f03c48dbac6e5344430fc1ad",
            "0683dfafa17d484aa589ebaefa256c59",
            "41c672c8ffa54d9e856462aa3f157d2f",
            "f4b2938c04f44add9d10afd85c5c82d7",
            "aea8a32f13684258999a01817bcdb3f3",
            "42b968fc1220480fba3d843a790278a8",
            "3077e20a530748c49b8e1db52beffa54",
            "81de07eb21d14ba18955c8b0d4ef946d",
            "616c20ed68744d60ae487fa8e103ff93"
          ]
        },
        "id": "a865c3c1",
        "outputId": "f03fc21e-effc-4211-c6d7-6e4031744634"
      },
      "source": [
        "dataset, info = tfds.load('imdb_reviews', \n",
        "                          with_info=True,\n",
        "                          as_supervised=True)"
      ],
      "id": "a865c3c1",
      "execution_count": 3,
      "outputs": [
        {
          "output_type": "stream",
          "text": [
            "\u001b[1mDownloading and preparing dataset imdb_reviews/plain_text/1.0.0 (download: 80.23 MiB, generated: Unknown size, total: 80.23 MiB) to /root/tensorflow_datasets/imdb_reviews/plain_text/1.0.0...\u001b[0m\n"
          ],
          "name": "stdout"
        },
        {
          "output_type": "display_data",
          "data": {
            "application/vnd.jupyter.widget-view+json": {
              "model_id": "3cc4742693214cf38817a2c23d0d9fde",
              "version_minor": 0,
              "version_major": 2
            },
            "text/plain": [
              "HBox(children=(FloatProgress(value=1.0, bar_style='info', description='Dl Completed...', max=1.0, style=Progre…"
            ]
          },
          "metadata": {
            "tags": []
          }
        },
        {
          "output_type": "display_data",
          "data": {
            "application/vnd.jupyter.widget-view+json": {
              "model_id": "471e4bea4d7b4c12811bb8f6d440a832",
              "version_minor": 0,
              "version_major": 2
            },
            "text/plain": [
              "HBox(children=(FloatProgress(value=1.0, bar_style='info', description='Dl Size...', max=1.0, style=ProgressSty…"
            ]
          },
          "metadata": {
            "tags": []
          }
        },
        {
          "output_type": "stream",
          "text": [
            "\n",
            "\n",
            "\n",
            "\n"
          ],
          "name": "stdout"
        },
        {
          "output_type": "display_data",
          "data": {
            "application/vnd.jupyter.widget-view+json": {
              "model_id": "70fb0d8ddfd5438198bda40b3d9ed419",
              "version_minor": 0,
              "version_major": 2
            },
            "text/plain": [
              "HBox(children=(FloatProgress(value=1.0, bar_style='info', max=1.0), HTML(value='')))"
            ]
          },
          "metadata": {
            "tags": []
          }
        },
        {
          "output_type": "stream",
          "text": [
            "Shuffling and writing examples to /root/tensorflow_datasets/imdb_reviews/plain_text/1.0.0.incompleteJ7Y0XS/imdb_reviews-train.tfrecord\n"
          ],
          "name": "stdout"
        },
        {
          "output_type": "display_data",
          "data": {
            "application/vnd.jupyter.widget-view+json": {
              "model_id": "556da73a2e5f4bb881d2732aed9a50dc",
              "version_minor": 0,
              "version_major": 2
            },
            "text/plain": [
              "HBox(children=(FloatProgress(value=0.0, max=25000.0), HTML(value='')))"
            ]
          },
          "metadata": {
            "tags": []
          }
        },
        {
          "output_type": "display_data",
          "data": {
            "application/vnd.jupyter.widget-view+json": {
              "model_id": "f3cefe7f805d402493e45e511aca9364",
              "version_minor": 0,
              "version_major": 2
            },
            "text/plain": [
              "HBox(children=(FloatProgress(value=1.0, bar_style='info', max=1.0), HTML(value='')))"
            ]
          },
          "metadata": {
            "tags": []
          }
        },
        {
          "output_type": "stream",
          "text": [
            "Shuffling and writing examples to /root/tensorflow_datasets/imdb_reviews/plain_text/1.0.0.incompleteJ7Y0XS/imdb_reviews-test.tfrecord\n"
          ],
          "name": "stdout"
        },
        {
          "output_type": "display_data",
          "data": {
            "application/vnd.jupyter.widget-view+json": {
              "model_id": "4278ed1038944d7c9f7a669d78524dfc",
              "version_minor": 0,
              "version_major": 2
            },
            "text/plain": [
              "HBox(children=(FloatProgress(value=0.0, max=25000.0), HTML(value='')))"
            ]
          },
          "metadata": {
            "tags": []
          }
        },
        {
          "output_type": "display_data",
          "data": {
            "application/vnd.jupyter.widget-view+json": {
              "model_id": "22676d1048494960acffc93c3de8f69d",
              "version_minor": 0,
              "version_major": 2
            },
            "text/plain": [
              "HBox(children=(FloatProgress(value=1.0, bar_style='info', max=1.0), HTML(value='')))"
            ]
          },
          "metadata": {
            "tags": []
          }
        },
        {
          "output_type": "stream",
          "text": [
            "Shuffling and writing examples to /root/tensorflow_datasets/imdb_reviews/plain_text/1.0.0.incompleteJ7Y0XS/imdb_reviews-unsupervised.tfrecord\n"
          ],
          "name": "stdout"
        },
        {
          "output_type": "display_data",
          "data": {
            "application/vnd.jupyter.widget-view+json": {
              "model_id": "0683dfafa17d484aa589ebaefa256c59",
              "version_minor": 0,
              "version_major": 2
            },
            "text/plain": [
              "HBox(children=(FloatProgress(value=0.0, max=50000.0), HTML(value='')))"
            ]
          },
          "metadata": {
            "tags": []
          }
        },
        {
          "output_type": "stream",
          "text": [
            "WARNING:absl:Dataset is using deprecated text encoder API which will be removed soon. Please use the plain_text version of the dataset and migrate to `tensorflow_text`.\n"
          ],
          "name": "stderr"
        },
        {
          "output_type": "stream",
          "text": [
            "\u001b[1mDataset imdb_reviews downloaded and prepared to /root/tensorflow_datasets/imdb_reviews/plain_text/1.0.0. Subsequent calls will reuse this data.\u001b[0m\n"
          ],
          "name": "stdout"
        }
      ]
    },
    {
      "cell_type": "code",
      "metadata": {
        "colab": {
          "base_uri": "https://localhost:8080/"
        },
        "id": "ictttJofMhhp",
        "outputId": "da580b0d-d0b4-4193-c07e-5dce707e1572"
      },
      "source": [
        "dataset"
      ],
      "id": "ictttJofMhhp",
      "execution_count": 4,
      "outputs": [
        {
          "output_type": "execute_result",
          "data": {
            "text/plain": [
              "{'test': <PrefetchDataset shapes: ((), ()), types: (tf.string, tf.int64)>,\n",
              " 'train': <PrefetchDataset shapes: ((), ()), types: (tf.string, tf.int64)>,\n",
              " 'unsupervised': <PrefetchDataset shapes: ((), ()), types: (tf.string, tf.int64)>}"
            ]
          },
          "metadata": {
            "tags": []
          },
          "execution_count": 4
        }
      ]
    },
    {
      "cell_type": "code",
      "metadata": {
        "id": "UcXscWUIMQfS"
      },
      "source": [
        "train_dataset, test_dataset = dataset['train'], dataset['test']"
      ],
      "id": "UcXscWUIMQfS",
      "execution_count": 17,
      "outputs": []
    },
    {
      "cell_type": "code",
      "metadata": {
        "colab": {
          "base_uri": "https://localhost:8080/"
        },
        "id": "rq2VLWzxMRpc",
        "outputId": "b83565a6-0536-42f0-d847-f3ebe391af61"
      },
      "source": [
        "train_dataset.element_spec"
      ],
      "id": "rq2VLWzxMRpc",
      "execution_count": 18,
      "outputs": [
        {
          "output_type": "execute_result",
          "data": {
            "text/plain": [
              "(TensorSpec(shape=(), dtype=tf.string, name=None),\n",
              " TensorSpec(shape=(), dtype=tf.int64, name=None))"
            ]
          },
          "metadata": {
            "tags": []
          },
          "execution_count": 18
        }
      ]
    },
    {
      "cell_type": "code",
      "metadata": {
        "colab": {
          "base_uri": "https://localhost:8080/"
        },
        "id": "9b90af9f",
        "outputId": "a42866f5-549e-4d21-955e-4759710bfc16"
      },
      "source": [
        "for example, label in train_dataset.take(1):\n",
        "  print('Texto: ', example.numpy())\n",
        "  print('Etiqueta: ', label.numpy())"
      ],
      "id": "9b90af9f",
      "execution_count": 19,
      "outputs": [
        {
          "output_type": "stream",
          "text": [
            "Texto:  b\"This was an absolutely terrible movie. Don't be lured in by Christopher Walken or Michael Ironside. Both are great actors, but this must simply be their worst role in history. Even their great acting could not redeem this movie's ridiculous storyline. This movie is an early nineties US propaganda piece. The most pathetic scenes were those when the Columbian rebels were making their cases for revolutions. Maria Conchita Alonso appeared phony, and her pseudo-love affair with Walken was nothing but a pathetic emotional plug in a movie that was devoid of any real meaning. I am disappointed that there are movies like this, ruining actor's like Christopher Walken's good name. I could barely sit through it.\"\n",
            "Etiqueta:  0\n"
          ],
          "name": "stdout"
        }
      ]
    },
    {
      "cell_type": "markdown",
      "metadata": {
        "id": "4a588a76"
      },
      "source": [
        "# Preprocesamiento"
      ],
      "id": "4a588a76"
    },
    {
      "cell_type": "markdown",
      "metadata": {
        "id": "S9VaKps4xfR9"
      },
      "source": [
        "## Reestructuración y optimización de rendimiento\n",
        "\n",
        "En esta sección vamos a:\n",
        "- Mezclar los datos para el entrenamiento \n",
        "- Crear lotes de pares (texto, etiqueta)\n",
        "- Optimizar los lotes para un mejor rendimiento\n",
        "\n",
        "Hay dos métodos importantes que se deben utilizar al cargar datos para mejorar el rendimiento de los lotes y asegurarse de que las I/O no se bloqueen:\n",
        "\n",
        "- *cache()* mantiene los datos en la memoria después de que se carguen fuera del disco. Esto asegurará que el conjunto de datos no se convierta en un cuello de botella mientras se entrena el modelo. Si el conjunto de datos es demasiado grande para caber en la memoria, también se puede usar este método para crear una caché en disco de alto rendimiento, que es más eficiente de leer que muchos archivos pequeños.\n",
        "\n",
        "- *prefetch()* superpone el preprocesamiento de datos y la ejecución del modelo durante el entrenamiento.\n",
        "\n",
        "Se puede obtener más información sobre ambos métodos, así como sobre cómo almacenar en caché los datos en el disco, en la guía de rendimiento de datos: https://www.tensorflow.org/guide/data_performance"
      ],
      "id": "S9VaKps4xfR9"
    },
    {
      "cell_type": "code",
      "metadata": {
        "id": "AP6N6ifjxj3c"
      },
      "source": [
        "BUFFER_SIZE = 10000\n",
        "BATCH_SIZE = 64\n",
        "\n",
        "train_dataset = train_dataset.shuffle(BUFFER_SIZE).batch(BATCH_SIZE).cache().prefetch(tf.data.AUTOTUNE)\n",
        "test_dataset = test_dataset.batch(BATCH_SIZE).cache().prefetch(tf.data.AUTOTUNE)"
      ],
      "id": "AP6N6ifjxj3c",
      "execution_count": 20,
      "outputs": []
    },
    {
      "cell_type": "code",
      "metadata": {
        "colab": {
          "base_uri": "https://localhost:8080/"
        },
        "id": "wYyTU_yixwY7",
        "outputId": "360e75f9-2fe4-4548-b164-fd7c08319b82"
      },
      "source": [
        "for example, label in train_dataset.take(1):\n",
        "  print('Textos: ', example.numpy()[:3])\n",
        "  print()\n",
        "  print('Etiquetas: ', label.numpy()[:3])"
      ],
      "id": "wYyTU_yixwY7",
      "execution_count": 21,
      "outputs": [
        {
          "output_type": "stream",
          "text": [
            "Textos:  [b\"Ah, I loved this movie. I think it had it all. It made me laugh out loud over a dozen of times. Yes, I am a girl, so I'm writing this from a girl's perspective. I think it's a shame it only scored 5.2 in rating. Too many guys voting? It was far above other romantic comedies. Just because I'm female I don't enjoy all chic flicks, on the contrary I prefer other genres. Romantic comedies tend to be shallow and not as funny as they meant to be. But like I said, this movie had it all, almost, in my opinion. Great script, good one-liners, fine acting. Although Eva Longoria Parker's character reminded very much of Gabrielle from Desperate Housewives, but so what? It was awesome. I will keep this film for rainy days, days when I feel low and need a few laughs.\"\n",
            " b'I think it took a lot of guts for her to come forward like that. It is unfortunate that when a celebrity suffers that is what helps people most. But, in her case, what she did was remarkable. I have been in the mental health field for five years and I think it is great that mental illness is not a terrible word anymore and I believe she helped. I always thought she was great and always will. I am glad that she wrote this book and that the movie was made. She is a remarkable lady and I hope she continues to act. She has been through a lot and has faced it. I would really love to see her work more with children, especially child actors. Her ordeal should not have happened and I think she would be wonderful as a mentor to young people. The movie was so moving to me that I was very touched. Suffering a TBI which brought the onset of my disorder and having PTSD, it is good to know that someone has the courage enough to display her life as she did. I believe it helped this nation and people in general realize that there are others like them and that there is help. Thank you Ms. Duke, or Anna, which ever you prefer.'\n",
            " b\"A Christmas Together actually came before my time, but I've been raised on John Denver and the songs from this special were always my family's Christmas music. For years we had a crackling cassette made from a record that meant it was Christmas. A few years ago, I was finally able to track down a video of it on Ebay, so after listening to all the music for some 21 years, I got to see John and the Muppets in action for myself. If you ever get the chance, it's a lot of fun--great music, heart-warming and cheesy. It's also interesting to see the 70's versions of the Muppets and compare them to their newer versions today. I believe Denver actually took some heat for doing a show like this--I guess normally performers don't compromise their images by doing sing-a-longs with the Muppets, but I'm glad he did. Even if you can't track down the video, the soundtrack is worth it too. It has some Muppified traditional favorites, but also some original Denver tunes as well.\"]\n",
            "\n",
            "Etiquetas:  [1 1 1]\n"
          ],
          "name": "stdout"
        }
      ]
    },
    {
      "cell_type": "code",
      "metadata": {
        "colab": {
          "base_uri": "https://localhost:8080/"
        },
        "id": "9UUl4m4JNsd8",
        "outputId": "da6268f7-39e3-48c0-9d2e-f29360c0a4b1"
      },
      "source": [
        "# Guardamos un ejemplo y su etiqueta\n",
        "for example, label in train_dataset.take(1):\n",
        "  example = example.numpy()[0]\n",
        "  label = label.numpy()[0]\n",
        "\n",
        "print('Texto: ', example)\n",
        "print()\n",
        "print('Etiqueta: ', label)"
      ],
      "id": "9UUl4m4JNsd8",
      "execution_count": 27,
      "outputs": [
        {
          "output_type": "stream",
          "text": [
            "Texto:  b\"This is the story of a young woman seduced and then dumped by her older, married lover after she gets pregnant; she avenges herself against him, and his entire family, through black magic \\xc2\\x97\\xc2\\xa0which, disappointingly, she doesn't do herself but has someone else do for her. Good production values for a Thai horror flick. But the bland script never generates suspense, the director approaches the material entirely conventionally, and the final act loses viewer sympathy for the victims by throwing logic to the winds. At one point, a character has a prime opportunity to simply shoot the villainess dead, and instead she gets up and runs away without picking up the gun. Bad writing \\xc2\\x97 you're soaking in it! <br /><br />Some icky gore effects, including a really tasteless late-term-fetus corpse and one guy dying from having hundreds of live eels burst out of his stomach. Only recommended for genre completists who simply have to see every horror film produced in Asia in the last 15 years.\"\n",
            "\n",
            "Etiqueta:  0\n"
          ],
          "name": "stdout"
        }
      ]
    },
    {
      "cell_type": "markdown",
      "metadata": {
        "id": "-5IxA_c2x1g0"
      },
      "source": [
        "### Estandarización y tokenización"
      ],
      "id": "-5IxA_c2x1g0"
    },
    {
      "cell_type": "markdown",
      "metadata": {
        "id": "SL5Vv8QVx6It"
      },
      "source": [
        "https://www.tensorflow.org/text/tutorials/text_classification_rnn"
      ],
      "id": "SL5Vv8QVx6It"
    },
    {
      "cell_type": "markdown",
      "metadata": {
        "id": "c344b0e9"
      },
      "source": [
        "A continuación, vamos a realizar las siguientes tareas de preprocesamiento:\n",
        "\n",
        "- Estandarización\n",
        "- Conversión a tokens\n",
        "- Vectorización \n",
        "\n",
        "La estandarización se refiere al preprocesamiento del texto, generalmente para eliminar la puntuación o elementos HTML, con el fin de simplificar el conjunto de datos. La estandarización predeterminada convierte el texto a minúsculas y elimina la puntuación.\n",
        "\n",
        "La tokenización se refiere a dividir cadenas en tokens (por ejemplo, dividir una oración en palabras individuales en base a espacios en blanco). El tokenizador predeterminado divide en base a espacios en blanco.\n",
        "\n",
        "La vectorización se refiere a convertir tokens en números para que puedan introducirse en una red neuronal. El modo de vectorización predeterminado es int, lo cual genera índices enteros (uno por token). Este modo se puede utilizar para crear modelos que tengan en cuenta el orden de las palabras. También es posible utilizar otros modos, como el binario, para crear modelos de bolsa de palabras.\n",
        "\n",
        "El método *TextVectorization* de Keras convierte cadenas de texto sin procesar en una representación codificada que puede ser leída por una capa *Embedding* o una capa densa."
      ],
      "id": "c344b0e9"
    },
    {
      "cell_type": "code",
      "metadata": {
        "id": "fc304599"
      },
      "source": [
        "# Usamos modo int (un índice por token)\n",
        "vocab_size = 1000\n",
        "\n",
        "encoder = TextVectorization(max_tokens= vocab_size, \n",
        "                            standardize= \"lower_and_strip_punctuation\",\n",
        "                            split= \"whitespace\", \n",
        "                            ngrams=None, \n",
        "                            output_mode= \"int\",\n",
        "                            output_sequence_length=None, \n",
        "                            pad_to_max_tokens=False, \n",
        "                            vocabulary=None)"
      ],
      "id": "fc304599",
      "execution_count": 28,
      "outputs": []
    },
    {
      "cell_type": "markdown",
      "metadata": {
        "id": "f42ebdc7"
      },
      "source": [
        "A continuación, llamamos a *adapt* para ajustar el estado de la capa de preprocesamiento al conjunto de datos. Esto hará que el modelo cree un índice de cadenas a números enteros.\n",
        "\n",
        "***Nota: es importante que solo se usen los datos de entrenamiento al llamar a adapt (usar el conjunto de prueba podría filtrar información).***"
      ],
      "id": "f42ebdc7"
    },
    {
      "cell_type": "code",
      "metadata": {
        "id": "6117a972"
      },
      "source": [
        "# Creamos un dataset formado únicamente por texto (sin etiquetas)\n",
        "# Después, llamamos al método adapt\n",
        "train_text = train_dataset.map(lambda text, labels: text)\n",
        "encoder.adapt(train_text)"
      ],
      "id": "6117a972",
      "execution_count": 29,
      "outputs": []
    },
    {
      "cell_type": "markdown",
      "metadata": {
        "id": "9423e228"
      },
      "source": [
        "El método .adapt establece el vocabulario. Después del relleno y los tokens desconocidos, se ordenan por frecuencia:"
      ],
      "id": "9423e228"
    },
    {
      "cell_type": "code",
      "metadata": {
        "id": "a1a354dc",
        "colab": {
          "base_uri": "https://localhost:8080/"
        },
        "outputId": "963fbedf-6fff-462d-b51d-3f6a87aec4dc"
      },
      "source": [
        "# Mostramos los tokens del vocabulario\n",
        "vocab = np.array(encoder.get_vocabulary())\n",
        "vocab"
      ],
      "id": "a1a354dc",
      "execution_count": 30,
      "outputs": [
        {
          "output_type": "execute_result",
          "data": {
            "text/plain": [
              "array(['', '[UNK]', 'the', 'and', 'a', 'of', 'to', 'is', 'in', 'it', 'i',\n",
              "       'this', 'that', 'br', 'was', 'as', 'for', 'with', 'movie', 'but',\n",
              "       'film', 'on', 'not', 'you', 'are', 'his', 'have', 'he', 'be',\n",
              "       'one', 'its', 'at', 'all', 'by', 'an', 'they', 'from', 'who', 'so',\n",
              "       'like', 'her', 'just', 'or', 'about', 'has', 'if', 'out', 'some',\n",
              "       'there', 'what', 'good', 'when', 'more', 'very', 'even', 'she',\n",
              "       'my', 'no', 'up', 'would', 'which', 'only', 'time', 'really',\n",
              "       'story', 'their', 'were', 'had', 'see', 'can', 'me', 'than', 'we',\n",
              "       'much', 'well', 'been', 'get', 'will', 'into', 'also', 'because',\n",
              "       'other', 'do', 'people', 'bad', 'great', 'first', 'how', 'most',\n",
              "       'him', 'dont', 'made', 'then', 'movies', 'make', 'films', 'could',\n",
              "       'way', 'them', 'any', 'too', 'after', 'characters', 'think',\n",
              "       'watch', 'two', 'many', 'being', 'seen', 'character', 'never',\n",
              "       'little', 'acting', 'where', 'plot', 'best', 'love', 'did', 'know',\n",
              "       'life', 'show', 'does', 'ever', 'your', 'still', 'better', 'over',\n",
              "       'off', 'these', 'end', 'say', 'while', 'here', 'man', 'why',\n",
              "       'scene', 'such', 'scenes', 'go', 'should', 'something', 'through',\n",
              "       'im', 'back', 'those', 'doesnt', 'real', 'watching', 'years',\n",
              "       'though', 'now', 'thing', 'actors', 'didnt', 'another', 'new',\n",
              "       'before', 'actually', 'nothing', 'makes', 'find', 'work', 'funny',\n",
              "       'look', 'few', 'old', 'going', 'same', 'every', 'lot', 'us',\n",
              "       'part', 'director', 'again', 'thats', 'cant', 'quite', 'cast',\n",
              "       'want', 'pretty', 'things', 'seems', 'young', 'got', 'around',\n",
              "       'fact', 'however', 'down', 'world', 'take', 'enough', 'both',\n",
              "       'give', 'between', 'may', 'ive', 'big', 'horror', 'original',\n",
              "       'thought', 'own', 'without', 'gets', 'always', 'series', 'right',\n",
              "       'long', 'isnt', 'saw', 'come', 'almost', 'times', 'least',\n",
              "       'theres', 'role', 'point', 'action', 'must', 'interesting',\n",
              "       'whole', 'comedy', 'bit', 'family', 'music', 'done', 'script',\n",
              "       'last', 'might', 'hes', 'anything', 'guy', 'since', 'feel',\n",
              "       'minutes', 'far', 'probably', 'performance', 'am', 'kind',\n",
              "       'rather', 'worst', 'yet', 'away', 'sure', 'tv', 'making', 'woman',\n",
              "       'girl', 'each', 'found', 'fun', 'played', 'having', 'anyone',\n",
              "       'our', 'although', 'believe', 'comes', 'trying', 'course',\n",
              "       'especially', 'goes', 'day', 'looks', 'hard', 'shows', 'put',\n",
              "       'different', 'wasnt', 'place', 'maybe', 'book', 'once', 'set',\n",
              "       'main', 'reason', 'money', 'worth', 'sense', 'everything',\n",
              "       'looking', 'true', 'ending', 'someone', 'watched', 'plays', 'job',\n",
              "       '2', 'actor', 'seem', 'three', 'said', 'takes', 'screen', 'dvd',\n",
              "       'together', 'play', 'instead', 'john', 'during', 'beautiful',\n",
              "       'later', '10', 'effects', 'himself', 'everyone', 'version', 'left',\n",
              "       'seeing', 'special', 'audience', 'night', 'excellent', 'house',\n",
              "       'american', 'idea', 'simply', 'nice', 'wife', 'shot', 'youre',\n",
              "       'read', 'high', 'black', 'less', 'completely', 'second', 'kids',\n",
              "       'help', 'else', 'poor', 'fan', 'war', 'star', 'used', 'given',\n",
              "       'year', 'try', 'father', 'death', 'friends', 'need', 'use', 'rest',\n",
              "       'enjoy', 'home', 'men', 'performances', 'short', 'mind', 'classic',\n",
              "       'until', 'either', 'truly', 'along', 'hollywood', 'boring', 'half',\n",
              "       'dead', 'wrong', 'tell', 'production', 'women', 'line', 'remember',\n",
              "       'couple', 'came', 'next', 'recommend', 'start', 'perhaps', 'full',\n",
              "       'let', 'understand', 'wonderful', 'stupid', 'getting', 'others',\n",
              "       'mean', 'moments', 'playing', 'awful', 'keep', 'episode',\n",
              "       'terrible', 'camera', 'small', 'definitely', 'gives', 'often',\n",
              "       'stars', 'doing', 'sex', 'video', 'early', 'perfect', 'become',\n",
              "       'finally', 'name', 'felt', 'school', 'human', 'supposed', 'face',\n",
              "       'couldnt', 'liked', 'lines', 'dialogue', 'piece', 'person',\n",
              "       'itself', 'lost', 'absolutely', 'top', 'yes', 'case', 'against',\n",
              "       'entire', 'went', 'certainly', 'written', 'live', 'title', 'waste',\n",
              "       'shes', 'sort', 'head', 'budget', 'hope', 'problem', 'style',\n",
              "       'several', 'overall', 'picture', 'loved', 'evil', 'mr', 'worse',\n",
              "       'id', 'fans', 'becomes', 'entertaining', '3', 'cinema', 'boy',\n",
              "       'beginning', 'seemed', 'white', 'based', 'already', 'despite',\n",
              "       'care', 'oh', 'wanted', 'example', 'dark', '\\x96', 'lives', 'guys',\n",
              "       'unfortunately', 'killer', 'throughout', 'mother', 'direction',\n",
              "       'final', 'friend', 'turn', 'totally', 'fine', 'wont', '1', 'wants',\n",
              "       'children', 'amazing', 'sound', 'laugh', 'girls', 'drama', 'youll',\n",
              "       'guess', 'lead', 'tries', 'low', 'called', 'humor', 'writing',\n",
              "       'under', 'michael', 'works', 'history', 'turns', 'able', 'enjoyed',\n",
              "       'theyre', 'behind', 'past', 'quality', 'days', 'gave', 'favorite',\n",
              "       'starts', 'son', 'kill', 'game', 'act', 'sometimes', 'side',\n",
              "       'viewer', 'town', 'horrible', 'parts', 'car', 'actress', 'soon',\n",
              "       'child', 'ones', 'eyes', 'expect', 'obviously', 'flick',\n",
              "       'themselves', 'directed', 'thinking', 'heart', 'art', 'brilliant',\n",
              "       'stories', 'ill', 'decent', 'highly', 'run', 'feeling', 'myself',\n",
              "       'genre', 'late', 'blood', 'stuff', 'fight', 'says', 'close',\n",
              "       'took', 'city', 'except', 'cannot', 'heard', 'hand', 'leave',\n",
              "       'killed', 'kid', 'matter', 'police', 'hell', 'moment', 'wouldnt',\n",
              "       'extremely', 'strong', 'roles', 'happens', 'particularly', 'lack',\n",
              "       'hour', 'involved', 'happened', 'obvious', 'attempt', 'james',\n",
              "       'told', 'living', 'chance', 'violence', 'wonder', 'including',\n",
              "       'etc', 'complete', 'save', 'voice', 'coming', 'murder', 'anyway',\n",
              "       'group', 'daughter', 'looked', 'age', 'please', 'type', 'itbr',\n",
              "       'alone', 'experience', 'simple', 'none', 'god', 'number', 'score',\n",
              "       'exactly', 'slow', 'shown', 'happen', 'ok', 'ago', 'lets',\n",
              "       'interest', 'whose', 'taken', 'brother', 'usually', 'serious',\n",
              "       'david', 'across', 'stop', 'cinematography', 'somewhat', 'running',\n",
              "       'hours', 'annoying', 'sad', 'opening', 'song', 'known', 'ends',\n",
              "       'musical', 'usual', 'possible', 'finds', 'career', 'wish', 'hit',\n",
              "       'yourself', 'released', 'started', 'huge', 'gore', 'relationship',\n",
              "       'seriously', 'scary', 'jokes', 'change', 'saying', 'order', 'crap',\n",
              "       'mostly', 'shots', 'reality', 'ridiculous', 'cut', 'today',\n",
              "       'robert', 'english', 'taking', 'major', 'episodes', 'hilarious',\n",
              "       'novel', 'cool', 'female', 'body', 'talking', 'opinion', '4',\n",
              "       'call', 'apparently', 'directors', 'strange', 'due', 'basically',\n",
              "       '5', 'important', 'hero', 'supporting', 'clearly', 'power',\n",
              "       'knows', 'documentary', 'knew', 'happy', 'events', 'view',\n",
              "       'turned', 'husband', 'songs', 'talent', 'level', 'arent', 'king',\n",
              "       'british', 'room', 'easily', 'tells', 'single', 'local', 'rating',\n",
              "       'attention', 'word', 'moviebr', 'bring', 'words', 'problems',\n",
              "       'cheap', 'whats', 'modern', 'silly', 'television', 'beyond',\n",
              "       'sequence', 'whether', 'disappointed', 'light', 'jack', 'falls',\n",
              "       'sets', 'four', 'future', 'five', 'similar', 'paul', 'miss',\n",
              "       'country', 'needs', 'appears', 'romantic', 'giving', 'upon',\n",
              "       'earth', 'viewers', 'comic', 'richard', 'predictable', 'george',\n",
              "       'talk', 'entertainment', 'within', 'review', 'havent', 'feels',\n",
              "       'nearly', 'mention', 'message', 'enjoyable', 'animation', 'bunch',\n",
              "       'filmbr', 'theater', 'lots', 'lady', 'storyline', 'rock', 'add',\n",
              "       'actual', 'using', 'moving', 'points', 'above', 'middle',\n",
              "       'surprised', 'named', 'theme', 'mystery', 'herself', 'ten', 'dull',\n",
              "       'among', 'begins', 'comments', 'writer', 'ways', 'typical',\n",
              "       'fantastic', 'stay', 'showing', 'sequel', 'york', 'elements',\n",
              "       'easy', 'certain', 'thriller', 'team', 'tried', 'fall', 'effort',\n",
              "       'clear', 'near', 'avoid', 'release', 'hate', 'french', 'tale',\n",
              "       'famous', 'sorry', 'somehow', 'parents', 'means', 'straight',\n",
              "       'leads', 'peter', 'red', 'kept', 'working', 'buy', 'greatest',\n",
              "       'dialog', 'doubt', 'soundtrack', 'form', 'class', 'season',\n",
              "       'editing', 'sister', 'general', 'brought', 'weak', 'tom', 'filmed',\n",
              "       'figure', 'feature', 'oscar', 'hear', 'gone', 'whos', 'particular',\n",
              "       'material', 'check', 'viewing', 'learn', 'realistic', 'imagine',\n",
              "       'eventually', 'youve', 'eye', 'move', 'fast', 'atmosphere',\n",
              "       'reviews', 'decided', 'sequences', 'possibly', 'period', 'forget',\n",
              "       'lame', 'deal', 'third', 'premise', 'lee', 'follow', 'de',\n",
              "       'became', 'space', 'dance', 'wait', 'stand', 'indeed', 'japanese',\n",
              "       'zombie', 'sit', 'difficult', 'poorly', 'sexual', 'expected',\n",
              "       'die', 'whatever', 'writers', 'surprise', 'nor', 'crime', 'nature',\n",
              "       'rent', 'average', '80s', 'suspense', 'leaves', 'subject', 'okay',\n",
              "       'stage', 'killing', 'truth', 'believable', 'screenplay', 'needed',\n",
              "       'filmmakers', 'reading', 'note', 'meets', 'meet', 'dr', 'question',\n",
              "       'begin', 'boys', 'joe', 'romance', 'street', 'realize', 'forced',\n",
              "       'otherwise', 'emotional', 'memorable', 'unless', 'write', 'superb',\n",
              "       'shame', 'older', 'minute', 'interested', 'earlier', 'keeps',\n",
              "       'baby', 'weird', 'situation', 'disney', 'whom', 'footage',\n",
              "       'features', 'dramatic', 'credits', 'beauty', 'towards', 'dog',\n",
              "       'badly', 'ask', 'total', 'previous', 'hot', 'sounds', 'crazy',\n",
              "       'brings', 'comment', 'male', 'plenty', 'personal', 'worked',\n",
              "       'incredibly', 'plus', 'directing', 'society', 'quickly',\n",
              "       'perfectly', 'cheesy', 'admit', 'result', 'unique', 'deep',\n",
              "       'return', 'america', 'laughs', 'free', 'creepy', 'development',\n",
              "       'leading', 'appear', 'meant', 'hardly', 'open', 'brothers', '20',\n",
              "       'imdb', 'hands', 'b', 'apart', 'mark', 'various', 'casting',\n",
              "       'remake', 'effect', 'create', 'setting', 'christmas', 'potential',\n",
              "       'mess', 'bill', 'battle', 'background', 'scifi', 'monster',\n",
              "       'forward', 'powerful', 'portrayed', 'dream', 'inside', 'outside',\n",
              "       '70s', 'fairly', 'business', 'la', 'manages', 'ideas', 'expecting',\n",
              "       'jane', 'fails', 'deserves', 'present', 'political', 'missing',\n",
              "       'attempts', 'twist', 'secret', 'fire', 'dumb', 'unlike',\n",
              "       'fighting', 'fantasy', 'pay', 'air', 'joke'], dtype='<U14')"
            ]
          },
          "metadata": {
            "tags": []
          },
          "execution_count": 30
        }
      ]
    },
    {
      "cell_type": "markdown",
      "metadata": {
        "id": "a610d818"
      },
      "source": [
        "Una vez que se establece el vocabulario, se pueden codificar los textos en base a índices. Los tensores de los índices se rellenan con 0s en la secuencia más larga del lote (a menos que se establezca un output_sequence_length fijo):"
      ],
      "id": "a610d818"
    },
    {
      "cell_type": "code",
      "metadata": {
        "colab": {
          "base_uri": "https://localhost:8080/"
        },
        "id": "8ZyAB5x2Owpi",
        "outputId": "bbb189f6-303b-4727-d085-1aad24deda1b"
      },
      "source": [
        "example"
      ],
      "id": "8ZyAB5x2Owpi",
      "execution_count": 32,
      "outputs": [
        {
          "output_type": "execute_result",
          "data": {
            "text/plain": [
              "b\"This is the story of a young woman seduced and then dumped by her older, married lover after she gets pregnant; she avenges herself against him, and his entire family, through black magic \\xc2\\x97\\xc2\\xa0which, disappointingly, she doesn't do herself but has someone else do for her. Good production values for a Thai horror flick. But the bland script never generates suspense, the director approaches the material entirely conventionally, and the final act loses viewer sympathy for the victims by throwing logic to the winds. At one point, a character has a prime opportunity to simply shoot the villainess dead, and instead she gets up and runs away without picking up the gun. Bad writing \\xc2\\x97 you're soaking in it! <br /><br />Some icky gore effects, including a really tasteless late-term-fetus corpse and one guy dying from having hundreds of live eels burst out of his stomach. Only recommended for genre completists who simply have to see every horror film produced in Asia in the last 15 years.\""
            ]
          },
          "metadata": {
            "tags": []
          },
          "execution_count": 32
        }
      ]
    },
    {
      "cell_type": "code",
      "metadata": {
        "colab": {
          "base_uri": "https://localhost:8080/"
        },
        "id": "jzFe0UeJOsNa",
        "outputId": "c0a7055d-eae2-4bd7-a4de-d61f33679343"
      },
      "source": [
        "# Vamos a ver cómo queda el ejemplo codificado\n",
        "encoded_example = encoder(example).numpy()\n",
        "encoded_example"
      ],
      "id": "jzFe0UeJOsNa",
      "execution_count": 31,
      "outputs": [
        {
          "output_type": "execute_result",
          "data": {
            "text/plain": [
              "array([ 11,   7,   2,  64,   5,   4, 182, 246,   1,   3,  92,   1,  33,\n",
              "        40, 897,   1,   1, 101,  55, 202,   1,  55,   1, 756, 416,  89,\n",
              "         3,  25, 417, 222, 141, 323,   1,   1,   1,  55, 145,  82, 756,\n",
              "        19,  44, 283, 329,  82,  16,  40,  50, 361,   1,  16,   4,   1,\n",
              "       197, 519,  19,   2,   1, 225, 110,   1, 866,   2, 172,   1,   2,\n",
              "       818,   1,   1,   3,   2, 464, 504,   1, 507,   1,  16,   2,   1,\n",
              "        33,   1,   1,   6,   2,   1,  31,  29, 215,   4, 109,  44,   4,\n",
              "         1,   1,   6, 316,   1,   2,   1, 358,   3, 297,  55, 202,  58,\n",
              "         3,   1, 242, 201,   1,  58,   2,   1,  84, 485,   1, 320,   1,\n",
              "         8,   9,  13,  13,  47,   1, 630, 303, 571,   4,  63,   1,   1,\n",
              "         1,   3,  29, 230,   1,  36, 252,   1,   5, 421,   1,   1,  46,\n",
              "         5,  25,   1,  61,   1,  16, 533,   1,  37, 316,  26,   6,  68,\n",
              "       168, 197,  20,   1,   8,   1,   8,   2, 226,   1, 148])"
            ]
          },
          "metadata": {
            "tags": []
          },
          "execution_count": 31
        }
      ]
    },
    {
      "cell_type": "code",
      "metadata": {
        "id": "913cc39d",
        "colab": {
          "base_uri": "https://localhost:8080/"
        },
        "outputId": "228f556a-1ca2-44f9-a6d3-27cd03179044"
      },
      "source": [
        "# Si quisiésemos revertir esta codificación, no sería tarea fácil.\n",
        "# Recordemos que hemos eliminado signos de puntuación y que, además,\n",
        "# algunos tokens se han codificado como desconocidos\n",
        "print(\"Original: \", example)\n",
        "print()\n",
        "print(\"Decodificado: \", \" \".join(vocab[encoded_example]))"
      ],
      "id": "913cc39d",
      "execution_count": 35,
      "outputs": [
        {
          "output_type": "stream",
          "text": [
            "Original:  b\"This is the story of a young woman seduced and then dumped by her older, married lover after she gets pregnant; she avenges herself against him, and his entire family, through black magic \\xc2\\x97\\xc2\\xa0which, disappointingly, she doesn't do herself but has someone else do for her. Good production values for a Thai horror flick. But the bland script never generates suspense, the director approaches the material entirely conventionally, and the final act loses viewer sympathy for the victims by throwing logic to the winds. At one point, a character has a prime opportunity to simply shoot the villainess dead, and instead she gets up and runs away without picking up the gun. Bad writing \\xc2\\x97 you're soaking in it! <br /><br />Some icky gore effects, including a really tasteless late-term-fetus corpse and one guy dying from having hundreds of live eels burst out of his stomach. Only recommended for genre completists who simply have to see every horror film produced in Asia in the last 15 years.\"\n",
            "\n",
            "Codificado:  this is the story of a young woman [UNK] and then [UNK] by her older [UNK] [UNK] after she gets [UNK] she [UNK] herself against him and his entire family through black [UNK] [UNK] [UNK] she doesnt do herself but has someone else do for her good production [UNK] for a [UNK] horror flick but the [UNK] script never [UNK] suspense the director [UNK] the material [UNK] [UNK] and the final act [UNK] viewer [UNK] for the [UNK] by [UNK] [UNK] to the [UNK] at one point a character has a [UNK] [UNK] to simply [UNK] the [UNK] dead and instead she gets up and [UNK] away without [UNK] up the [UNK] bad writing [UNK] youre [UNK] in it br br some [UNK] gore effects including a really [UNK] [UNK] [UNK] and one guy [UNK] from having [UNK] of live [UNK] [UNK] out of his [UNK] only [UNK] for genre [UNK] who simply have to see every horror film [UNK] in [UNK] in the last [UNK] years\n"
          ],
          "name": "stdout"
        }
      ]
    },
    {
      "cell_type": "markdown",
      "metadata": {
        "id": "5bd6c970"
      },
      "source": [
        "# Generación del modelo\n",
        "Como parte de este modelo, se utilizará una capa *Embedding*. Por tanto, antes de proceder a la definición del modelo, vamos a explicar en qué consisten este tipo de capas."
      ],
      "id": "5bd6c970"
    },
    {
      "cell_type": "markdown",
      "metadata": {
        "id": "D0XxupGPRx7k"
      },
      "source": [
        "## Embeddings"
      ],
      "id": "D0XxupGPRx7k"
    },
    {
      "cell_type": "markdown",
      "metadata": {
        "id": "XTXbmpeTS1qN"
      },
      "source": [
        "### Contexto\n",
        "\n",
        "Dentro del NLP, son populares una serie de técnicas que permiten identificar similitudes entre palabras en función de su aparición conjunta en distintos fragmentos de texto.\n",
        "\n",
        "La premisa en la que se basan estas técnicas es que es posible definir – o caracterizar – una palabra por el resto de palabras de las que aparezca acompañada.\n",
        "\n",
        "Entre estas técnicas, destacan los modelos de *word embeddings*, que vinculan cada palabra o frase de un determinado corpus (conjunto de documentos) a un vector de números reales.\n",
        "\n",
        "Como estos vectores representan coordenadas en un determinado espacio vectorial, podemos calcular palabras próximas, o análogas, en función de la distancia que exista entre sus vectores. Es decir, cuanto más cerca se encuentren dos vectores palabra, más similar será la semántica de dichas palabras. El cálculo de esta similitud o cercanía entre vectores puede hacerse de diversas maneras, siendo algunas de las más utilizadas la distancia euclídea o la similitud del coseno."
      ],
      "id": "XTXbmpeTS1qN"
    },
    {
      "cell_type": "markdown",
      "metadata": {
        "id": "kTuQeGzVQXjD"
      },
      "source": [
        "### Concepto\n",
        "Técnicamente, un *embedding* es un espacio de dimensiones relativamente bajas al que se pueden trasladar vectores de dimensiones altas. \n",
        "\n",
        "Los embeddings permiten llevar a cabo el entrenamiento de un modelo con más facilidad en entradas de gran tamaño, como vectores *sparse* (con muchos ceros) que representan palabras. \n",
        "\n",
        "Idealmente, un embedding captura parte de la semántica de la entrada al colocar entradas similares (desde el punto de vista semántico) más cerca unas de otras en el espacio del embedding. Además, un embedding se puede aprender y volver a utilizar después en otros modelos.\n",
        "\n",
        "Dicho de forma más simple, los embeddings en NLP, básicamente, permiten asignar un vector a cada palabra. Este vector guarda información semántica, lo que permite que pueda ser asociado o disociado a otros vectores (palabras) según distintos contextos gramaticales."
      ],
      "id": "kTuQeGzVQXjD"
    },
    {
      "cell_type": "markdown",
      "metadata": {
        "id": "NuPX6VNSTimE"
      },
      "source": [
        "### Ejemplos\n",
        "En la siguiente figura aparecen representados algunos vectores palabra y sus relaciones calculadas con GloVe, un modelo de word embeddings desarrollado por la Universidad de Stanford, el cual es capaz de capturar conceptos como que \"hombre\" es a \"mujer\" lo que \"rey\" es a \"reina\", relaciones entre verbos y tiempos verbales o vincular nombres de países con sus capitales."
      ],
      "id": "NuPX6VNSTimE"
    },
    {
      "cell_type": "markdown",
      "metadata": {
        "id": "dJD_or30TtXs"
      },
      "source": [
        "![embeddings_general.png](data:image/png;base64,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)"
      ],
      "id": "dJD_or30TtXs"
    },
    {
      "cell_type": "markdown",
      "metadata": {
        "id": "pFGrMrXoT_-9"
      },
      "source": [
        "Además del mencionado GloVe, otros modelos populares de word embeddings son Word2Vec (Google) o fastText (Facebook)."
      ],
      "id": "pFGrMrXoT_-9"
    },
    {
      "cell_type": "markdown",
      "metadata": {
        "id": "kKyQ5OEaUnpz"
      },
      "source": [
        "En el siguiente enlace se muestra una visualización de las palabras más comunes en inglés y de las relaciones entre ellas, calculadas mediante Word2vec. En esta visualización se representan las palabras rodeadas de aquellas que en cuanto a su semántica son más similares: https://anvaka.github.io/pm/#/galaxy/word2vec-wiki?cx=899&cy=-9473&cz=681&lx=0.0644&ly=-0.7048&lz=0.0536&lw=0.7044&ml=300&s=1.75&l=1&v=d50_clean"
      ],
      "id": "kKyQ5OEaUnpz"
    },
    {
      "cell_type": "markdown",
      "metadata": {
        "id": "GN7HFJBBWw1E"
      },
      "source": [
        "Al tratar con problemas de PNL, podemos usar modelos de embeddings previamente entrenados como GloVe. Alternativamente, también podemos entrenar nuestros propios modelos de embeddings usando la capa *Embedding* de Keras."
      ],
      "id": "GN7HFJBBWw1E"
    },
    {
      "cell_type": "markdown",
      "metadata": {
        "id": "iPEKZINNXQT8"
      },
      "source": [
        "### Necesidad de los modelos de embeddings\n",
        "\n",
        "Como sabemos, al tratar con datos textuales, debemos convertirlos en números antes de incorporarlos a cualquier modelo de aprendizaje automático, incluidas las redes neuronales. \n",
        "\n",
        "Por simplicidad, las palabras se pueden comparar con variables categóricas. Usamos codificación one-hot para convertir variables categóricas en números. Para ello, creamos funciones ficticias para cada una de las categorías y las rellenamos con ceros y unos.\n",
        "\n",
        "De manera similar, si usamos la codificación one-hot en palabras de datos textuales, tendremos una característica ficticia para cada palabra, lo que se traduce en 10.000 características para un vocabulario de 10.000 palabras. Este no es un enfoque de embedding factible, ya que requiere un gran espacio de almacenamiento para los vectores de palabras y reduce la eficiencia del modelo.\n",
        "\n",
        "La capa de embedding nos permite convertir cada palabra en un vector de longitud fija de tamaño definido. El vector resultante es denso y tiene valores reales en lugar de solo 0s y 1s. Además, la longitud fija de los vectores de palabras nos ayuda a representar las palabras de una mejor manera y con dimensiones reducidas.\n",
        "\n",
        "De esta forma, la capa de embedding funciona como una tabla de búsqueda. Las palabras son las claves en esta tabla, mientras que los vectores de palabras densas son los valores. \n",
        "\n",
        "Ejercicio recomendado: https://medium.com/analytics-vidhya/understanding-embedding-layer-in-keras-bbe3ff1327ce"
      ],
      "id": "iPEKZINNXQT8"
    },
    {
      "cell_type": "markdown",
      "metadata": {
        "id": "f003b76b"
      },
      "source": [
        "## Definición de la arquitectura"
      ],
      "id": "f003b76b"
    },
    {
      "cell_type": "markdown",
      "metadata": {
        "id": "UfXtpZTTh4xf"
      },
      "source": [
        "### Modelo 1 (LSTM simple)"
      ],
      "id": "UfXtpZTTh4xf"
    },
    {
      "cell_type": "code",
      "metadata": {
        "id": "NZCddXvGh5-Y"
      },
      "source": [
        "model1 = Sequential([\n",
        "    encoder,\n",
        "    Embedding(\n",
        "        input_dim=len(encoder.get_vocabulary()),\n",
        "        output_dim=32,\n",
        "        # Usamos masking para poder procesar secuencias de distintos tamaños\n",
        "        mask_zero=True),\n",
        "    LSTM(32),\n",
        "    Dense(32, activation='relu'),\n",
        "    Dense(1)\n",
        "])"
      ],
      "id": "NZCddXvGh5-Y",
      "execution_count": 49,
      "outputs": []
    },
    {
      "cell_type": "markdown",
      "metadata": {
        "id": "IUO5TNGZiIOW"
      },
      "source": [
        "### Modelo 2 (LSTM bidireccional)"
      ],
      "id": "IUO5TNGZiIOW"
    },
    {
      "cell_type": "markdown",
      "metadata": {
        "id": "f3ab7679"
      },
      "source": [
        "Se va a definir y utilizar la siguiente arquitectura:"
      ],
      "id": "f3ab7679"
    },
    {
      "cell_type": "markdown",
      "metadata": {
        "id": "L6HkJEWxU0Cz"
      },
      "source": [
        "![bidirectional.png](data:image/png;base64,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)"
      ],
      "id": "L6HkJEWxU0Cz"
    },
    {
      "cell_type": "markdown",
      "metadata": {
        "id": "395fcc79"
      },
      "source": [
        "Vamos a analizarlo con más detalle:\n",
        "- La primera capa es el *encoder* (TextVectorization), que convierte el texto en una secuencia de índices de tokens.\n",
        "- Después del encoder, se añade una capa de *embedding*, que almacena un vector por palabra. Cuando se hace referencia a ella, convierte las secuencias de índices de palabras en secuencias de vectores, los cuales se pueden entrenar. Tras el entrenamiento, las palabras con significados similares suelen tener vectores similares.\n",
        "- Los LSTM bidireccionales son una extensión de los LSTM tradicionales que pueden mejorar el rendimiento del modelo en problemas de clasificación de secuencias (consultar https://machinelearningmastery.com/develop-bidirectional-lstm-sequence-classification-python-keras/). \n",
        "    - La principal ventaja de una RNN bidireccional es que la señal desde el principio de la entrada no necesita procesarse hasta el final en cada paso de tiempo para modificar la salida.\n",
        "    - La principal desventaja de una RNN bidireccional es que no puede transmitir predicciones de manera eficiente a medida que se agregan palabras al final.\n",
        "- Una vez que la RNN ha convertido la secuencia en un solo vector, las dos capas de tipo *Dense* realizan un procesamiento final y convierten esta representación vectorial en una sola salida como resultado de la clasificación.\n"
      ],
      "id": "395fcc79"
    },
    {
      "cell_type": "code",
      "metadata": {
        "id": "5e33b085"
      },
      "source": [
        "model2 = Sequential([\n",
        "    encoder,\n",
        "    Embedding(\n",
        "        input_dim=len(encoder.get_vocabulary()),\n",
        "        output_dim=32,\n",
        "        # Usamos masking para poder procesar secuencias de distintos tamaños\n",
        "        mask_zero=True),\n",
        "    Bidirectional(LSTM(32)),\n",
        "    Dense(32, activation='relu'),\n",
        "    Dense(1)\n",
        "])"
      ],
      "id": "5e33b085",
      "execution_count": 36,
      "outputs": []
    },
    {
      "cell_type": "markdown",
      "metadata": {
        "id": "37fd7aac"
      },
      "source": [
        "## Compilación"
      ],
      "id": "37fd7aac"
    },
    {
      "cell_type": "code",
      "metadata": {
        "id": "563cb494"
      },
      "source": [
        "model1.compile(loss= BinaryCrossentropy(from_logits=True),\n",
        "              optimizer=Adam(),\n",
        "              metrics=['accuracy']) "
      ],
      "id": "563cb494",
      "execution_count": 50,
      "outputs": []
    },
    {
      "cell_type": "code",
      "metadata": {
        "id": "n6dPohWkiY2G"
      },
      "source": [
        "model2.compile(loss= BinaryCrossentropy(from_logits=True),\n",
        "              optimizer=Adam(),\n",
        "              metrics=['accuracy']) "
      ],
      "id": "n6dPohWkiY2G",
      "execution_count": null,
      "outputs": []
    },
    {
      "cell_type": "markdown",
      "metadata": {
        "id": "901ada1a"
      },
      "source": [
        "## Entrenamiento"
      ],
      "id": "901ada1a"
    },
    {
      "cell_type": "code",
      "metadata": {
        "id": "31d74555",
        "colab": {
          "base_uri": "https://localhost:8080/"
        },
        "outputId": "a728a60b-c44a-45d3-e789-3a82566c51ba"
      },
      "source": [
        "history1 = model1.fit(train_dataset, \n",
        "                    epochs= 2,\n",
        "                    validation_data= test_dataset)"
      ],
      "id": "31d74555",
      "execution_count": 51,
      "outputs": [
        {
          "output_type": "stream",
          "text": [
            "Epoch 1/2\n",
            "391/391 [==============================] - 340s 828ms/step - loss: 0.4907 - accuracy: 0.7466 - val_loss: 0.3672 - val_accuracy: 0.8450\n",
            "Epoch 2/2\n",
            "391/391 [==============================] - 321s 822ms/step - loss: 0.3584 - accuracy: 0.8467 - val_loss: 0.3451 - val_accuracy: 0.8526\n"
          ],
          "name": "stdout"
        }
      ]
    },
    {
      "cell_type": "code",
      "metadata": {
        "id": "y8M-70oDibae"
      },
      "source": [
        "history2 = model2.fit(train_dataset, \n",
        "                    epochs= 2,\n",
        "                    validation_data= test_dataset)"
      ],
      "id": "y8M-70oDibae",
      "execution_count": null,
      "outputs": []
    },
    {
      "cell_type": "markdown",
      "metadata": {
        "id": "72ed5deb"
      },
      "source": [
        "# Evaluación del modelo"
      ],
      "id": "72ed5deb"
    },
    {
      "cell_type": "code",
      "metadata": {
        "id": "fdc9b009",
        "colab": {
          "base_uri": "https://localhost:8080/"
        },
        "outputId": "38efe402-70a8-4a5e-9911-788da11caf93"
      },
      "source": [
        "test_loss, test_acc = model.evaluate(test_dataset)\n",
        "\n",
        "print('Test Loss:', test_loss)\n",
        "print('Test Accuracy:', test_acc)"
      ],
      "id": "fdc9b009",
      "execution_count": 52,
      "outputs": [
        {
          "output_type": "stream",
          "text": [
            "391/391 [==============================] - 60s 152ms/step - loss: 0.3451 - accuracy: 0.8526\n",
            "Test Loss: 0.3451407849788666\n",
            "Test Accuracy: 0.8525999784469604\n"
          ],
          "name": "stdout"
        }
      ]
    },
    {
      "cell_type": "code",
      "metadata": {
        "id": "369cf5c6",
        "colab": {
          "base_uri": "https://localhost:8080/",
          "height": 518
        },
        "outputId": "3286fac1-e5b6-4517-b477-7e423a58cb69"
      },
      "source": [
        "metric = 'accuracy'\n",
        "\n",
        "plt.figure(figsize=(16, 8))\n",
        "plt.subplot(1, 2, 1)\n",
        "\n",
        "plt.plot(history.history[metric])\n",
        "plt.plot(history.history['val_' + metric], '')\n",
        "plt.xlabel(\"Epochs\")\n",
        "plt.ylabel(metric)\n",
        "plt.legend([metric, 'val_'+metric])\n",
        "\n",
        "plt.ylim(None, 1)\n",
        "plt.subplot(1, 2, 2)\n",
        "\n",
        "plt.plot(history.history[\"loss\"])\n",
        "plt.plot(history.history['val_' + \"loss\"], '')\n",
        "plt.xlabel(\"Epochs\")\n",
        "plt.ylabel(\"loss\")\n",
        "plt.legend([\"loss\", 'val_'+\"loss\"])\n",
        "\n",
        "plt.ylim(0, None)"
      ],
      "id": "369cf5c6",
      "execution_count": 46,
      "outputs": [
        {
          "output_type": "execute_result",
          "data": {
            "text/plain": [
              "(0.0, 0.3720204994082451)"
            ]
          },
          "metadata": {
            "tags": []
          },
          "execution_count": 46
        },
        {
          "output_type": "display_data",
          "data": {
            "image/png": "[encoded data removed]",
            "text/plain": [
              "<Figure size 1152x576 with 2 Axes>"
            ]
          },
          "metadata": {
            "tags": [],
            "needs_background": "light"
          }
        }
      ]
    },
    {
      "cell_type": "markdown",
      "metadata": {
        "id": "350f09aa"
      },
      "source": [
        "Vamos a generar una predicción para una nueva oración. Si la predicción es >=0.0, se considerará que el sentimiento es positivo. De lo contrario, será negativo."
      ],
      "id": "350f09aa"
    },
    {
      "cell_type": "code",
      "metadata": {
        "id": "bd5649e1",
        "colab": {
          "base_uri": "https://localhost:8080/"
        },
        "outputId": "acb8e76c-fe05-4343-d722-5883570bbb7b"
      },
      "source": [
        "sample_text = ('The movie was cool. The animation and the graphics '\n",
        "               'were out of this world. I would recommend this movie.')\n",
        "predictions = model.predict(np.array([sample_text]))\n",
        "predictions"
      ],
      "id": "bd5649e1",
      "execution_count": 48,
      "outputs": [
        {
          "output_type": "execute_result",
          "data": {
            "text/plain": [
              "array([[0.5368221]], dtype=float32)"
            ]
          },
          "metadata": {
            "tags": []
          },
          "execution_count": 48
        }
      ]
    }
  ]
}