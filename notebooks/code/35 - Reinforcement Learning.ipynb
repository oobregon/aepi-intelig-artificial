{
  "nbformat": 4,
  "nbformat_minor": 0,
  "metadata": {
    "colab": {
      "name": "Reinforcement Learning - Taller.ipynb",
      "provenance": []
    },
    "kernelspec": {
      "name": "python3",
      "display_name": "Python 3"
    },
    "language_info": {
      "name": "python"
    },
    "accelerator": "GPU"
  },
  "cells": [
    {
      "cell_type": "markdown",
      "metadata": {
        "id": "bxxA7boQlszx"
      },
      "source": [
        "En este taller, aprenderemos los conceptos básicos para poder generar sistemas de RL con las Stable Baselines 3. Para ello, crearemos un modelo de RL, lo entrenaremos y lo evaluaremos. Como todos los algoritmos comparten la misma interfaz, veremos lo sencillo que es cambiar de un algoritmo a otro."
      ]
    },
    {
      "cell_type": "markdown",
      "metadata": {
        "id": "MAQVukgNnJJm"
      },
      "source": [
        "# Setup"
      ]
    },
    {
      "cell_type": "code",
      "metadata": {
        "colab": {
          "base_uri": "https://localhost:8080/"
        },
        "id": "g_cB-v3okW44",
        "outputId": "afba0f08-65f0-4347-84c7-a6efdc9159ec"
      },
      "source": [
        "# Instalación de Stable Baselines 3 y dependencias\n",
        "!apt-get install ffmpeg freeglut3-dev xvfb  # Para visualización\n",
        "!pip install stable-baselines3[extra]"
      ],
      "execution_count": 1,
      "outputs": [
        {
          "output_type": "stream",
          "text": [
            "Reading package lists... Done\n",
            "Building dependency tree       \n",
            "Reading state information... Done\n",
            "freeglut3-dev is already the newest version (2.8.1-3).\n",
            "freeglut3-dev set to manually installed.\n",
            "ffmpeg is already the newest version (7:3.4.8-0ubuntu0.2).\n",
            "The following NEW packages will be installed:\n",
            "  xvfb\n",
            "0 upgraded, 1 newly installed, 0 to remove and 40 not upgraded.\n",
            "Need to get 784 kB of archives.\n",
            "After this operation, 2,270 kB of additional disk space will be used.\n",
            "Get:1 http://archive.ubuntu.com/ubuntu bionic-updates/universe amd64 xvfb amd64 2:1.19.6-1ubuntu4.9 [784 kB]\n",
            "Fetched 784 kB in 2s (413 kB/s)\n",
            "Selecting previously unselected package xvfb.\n",
            "(Reading database ... 160837 files and directories currently installed.)\n",
            "Preparing to unpack .../xvfb_2%3a1.19.6-1ubuntu4.9_amd64.deb ...\n",
            "Unpacking xvfb (2:1.19.6-1ubuntu4.9) ...\n",
            "Setting up xvfb (2:1.19.6-1ubuntu4.9) ...\n",
            "Processing triggers for man-db (2.8.3-2ubuntu0.1) ...\n",
            "Collecting stable-baselines3[extra]\n",
            "  Downloading stable_baselines3-1.1.0-py3-none-any.whl (172 kB)\n",
            "\u001b[K     |████████████████████████████████| 172 kB 4.3 MB/s \n",
            "\u001b[?25hRequirement already satisfied: torch>=1.4.0 in /usr/local/lib/python3.7/dist-packages (from stable-baselines3[extra]) (1.9.0+cu102)\n",
            "Requirement already satisfied: matplotlib in /usr/local/lib/python3.7/dist-packages (from stable-baselines3[extra]) (3.2.2)\n",
            "Requirement already satisfied: pandas in /usr/local/lib/python3.7/dist-packages (from stable-baselines3[extra]) (1.1.5)\n",
            "Requirement already satisfied: numpy in /usr/local/lib/python3.7/dist-packages (from stable-baselines3[extra]) (1.19.5)\n",
            "Requirement already satisfied: cloudpickle in /usr/local/lib/python3.7/dist-packages (from stable-baselines3[extra]) (1.3.0)\n",
            "Requirement already satisfied: gym>=0.17 in /usr/local/lib/python3.7/dist-packages (from stable-baselines3[extra]) (0.17.3)\n",
            "Requirement already satisfied: atari-py~=0.2.0 in /usr/local/lib/python3.7/dist-packages (from stable-baselines3[extra]) (0.2.9)\n",
            "Requirement already satisfied: psutil in /usr/local/lib/python3.7/dist-packages (from stable-baselines3[extra]) (5.4.8)\n",
            "Requirement already satisfied: tensorboard>=2.2.0 in /usr/local/lib/python3.7/dist-packages (from stable-baselines3[extra]) (2.5.0)\n",
            "Requirement already satisfied: opencv-python in /usr/local/lib/python3.7/dist-packages (from stable-baselines3[extra]) (4.1.2.30)\n",
            "Requirement already satisfied: pillow in /usr/local/lib/python3.7/dist-packages (from stable-baselines3[extra]) (7.1.2)\n",
            "Requirement already satisfied: six in /usr/local/lib/python3.7/dist-packages (from atari-py~=0.2.0->stable-baselines3[extra]) (1.15.0)\n",
            "Requirement already satisfied: pyglet<=1.5.0,>=1.4.0 in /usr/local/lib/python3.7/dist-packages (from gym>=0.17->stable-baselines3[extra]) (1.5.0)\n",
            "Requirement already satisfied: scipy in /usr/local/lib/python3.7/dist-packages (from gym>=0.17->stable-baselines3[extra]) (1.4.1)\n",
            "Requirement already satisfied: future in /usr/local/lib/python3.7/dist-packages (from pyglet<=1.5.0,>=1.4.0->gym>=0.17->stable-baselines3[extra]) (0.16.0)\n",
            "Requirement already satisfied: requests<3,>=2.21.0 in /usr/local/lib/python3.7/dist-packages (from tensorboard>=2.2.0->stable-baselines3[extra]) (2.23.0)\n",
            "Requirement already satisfied: google-auth<2,>=1.6.3 in /usr/local/lib/python3.7/dist-packages (from tensorboard>=2.2.0->stable-baselines3[extra]) (1.32.1)\n",
            "Requirement already satisfied: protobuf>=3.6.0 in /usr/local/lib/python3.7/dist-packages (from tensorboard>=2.2.0->stable-baselines3[extra]) (3.17.3)\n",
            "Requirement already satisfied: tensorboard-data-server<0.7.0,>=0.6.0 in /usr/local/lib/python3.7/dist-packages (from tensorboard>=2.2.0->stable-baselines3[extra]) (0.6.1)\n",
            "Requirement already satisfied: grpcio>=1.24.3 in /usr/local/lib/python3.7/dist-packages (from tensorboard>=2.2.0->stable-baselines3[extra]) (1.34.1)\n",
            "Requirement already satisfied: markdown>=2.6.8 in /usr/local/lib/python3.7/dist-packages (from tensorboard>=2.2.0->stable-baselines3[extra]) (3.3.4)\n",
            "Requirement already satisfied: absl-py>=0.4 in /usr/local/lib/python3.7/dist-packages (from tensorboard>=2.2.0->stable-baselines3[extra]) (0.12.0)\n",
            "Requirement already satisfied: tensorboard-plugin-wit>=1.6.0 in /usr/local/lib/python3.7/dist-packages (from tensorboard>=2.2.0->stable-baselines3[extra]) (1.8.0)\n",
            "Requirement already satisfied: werkzeug>=0.11.15 in /usr/local/lib/python3.7/dist-packages (from tensorboard>=2.2.0->stable-baselines3[extra]) (1.0.1)\n",
            "Requirement already satisfied: wheel>=0.26 in /usr/local/lib/python3.7/dist-packages (from tensorboard>=2.2.0->stable-baselines3[extra]) (0.36.2)\n",
            "Requirement already satisfied: setuptools>=41.0.0 in /usr/local/lib/python3.7/dist-packages (from tensorboard>=2.2.0->stable-baselines3[extra]) (57.2.0)\n",
            "Requirement already satisfied: google-auth-oauthlib<0.5,>=0.4.1 in /usr/local/lib/python3.7/dist-packages (from tensorboard>=2.2.0->stable-baselines3[extra]) (0.4.4)\n",
            "Requirement already satisfied: pyasn1-modules>=0.2.1 in /usr/local/lib/python3.7/dist-packages (from google-auth<2,>=1.6.3->tensorboard>=2.2.0->stable-baselines3[extra]) (0.2.8)\n",
            "Requirement already satisfied: rsa<5,>=3.1.4 in /usr/local/lib/python3.7/dist-packages (from google-auth<2,>=1.6.3->tensorboard>=2.2.0->stable-baselines3[extra]) (4.7.2)\n",
            "Requirement already satisfied: cachetools<5.0,>=2.0.0 in /usr/local/lib/python3.7/dist-packages (from google-auth<2,>=1.6.3->tensorboard>=2.2.0->stable-baselines3[extra]) (4.2.2)\n",
            "Requirement already satisfied: requests-oauthlib>=0.7.0 in /usr/local/lib/python3.7/dist-packages (from google-auth-oauthlib<0.5,>=0.4.1->tensorboard>=2.2.0->stable-baselines3[extra]) (1.3.0)\n",
            "Requirement already satisfied: importlib-metadata in /usr/local/lib/python3.7/dist-packages (from markdown>=2.6.8->tensorboard>=2.2.0->stable-baselines3[extra]) (4.6.1)\n",
            "Requirement already satisfied: pyasn1<0.5.0,>=0.4.6 in /usr/local/lib/python3.7/dist-packages (from pyasn1-modules>=0.2.1->google-auth<2,>=1.6.3->tensorboard>=2.2.0->stable-baselines3[extra]) (0.4.8)\n",
            "Requirement already satisfied: urllib3!=1.25.0,!=1.25.1,<1.26,>=1.21.1 in /usr/local/lib/python3.7/dist-packages (from requests<3,>=2.21.0->tensorboard>=2.2.0->stable-baselines3[extra]) (1.24.3)\n",
            "Requirement already satisfied: idna<3,>=2.5 in /usr/local/lib/python3.7/dist-packages (from requests<3,>=2.21.0->tensorboard>=2.2.0->stable-baselines3[extra]) (2.10)\n",
            "Requirement already satisfied: chardet<4,>=3.0.2 in /usr/local/lib/python3.7/dist-packages (from requests<3,>=2.21.0->tensorboard>=2.2.0->stable-baselines3[extra]) (3.0.4)\n",
            "Requirement already satisfied: certifi>=2017.4.17 in /usr/local/lib/python3.7/dist-packages (from requests<3,>=2.21.0->tensorboard>=2.2.0->stable-baselines3[extra]) (2021.5.30)\n",
            "Requirement already satisfied: oauthlib>=3.0.0 in /usr/local/lib/python3.7/dist-packages (from requests-oauthlib>=0.7.0->google-auth-oauthlib<0.5,>=0.4.1->tensorboard>=2.2.0->stable-baselines3[extra]) (3.1.1)\n",
            "Requirement already satisfied: typing-extensions in /usr/local/lib/python3.7/dist-packages (from torch>=1.4.0->stable-baselines3[extra]) (3.7.4.3)\n",
            "Requirement already satisfied: zipp>=0.5 in /usr/local/lib/python3.7/dist-packages (from importlib-metadata->markdown>=2.6.8->tensorboard>=2.2.0->stable-baselines3[extra]) (3.5.0)\n",
            "Requirement already satisfied: kiwisolver>=1.0.1 in /usr/local/lib/python3.7/dist-packages (from matplotlib->stable-baselines3[extra]) (1.3.1)\n",
            "Requirement already satisfied: cycler>=0.10 in /usr/local/lib/python3.7/dist-packages (from matplotlib->stable-baselines3[extra]) (0.10.0)\n",
            "Requirement already satisfied: pyparsing!=2.0.4,!=2.1.2,!=2.1.6,>=2.0.1 in /usr/local/lib/python3.7/dist-packages (from matplotlib->stable-baselines3[extra]) (2.4.7)\n",
            "Requirement already satisfied: python-dateutil>=2.1 in /usr/local/lib/python3.7/dist-packages (from matplotlib->stable-baselines3[extra]) (2.8.1)\n",
            "Requirement already satisfied: pytz>=2017.2 in /usr/local/lib/python3.7/dist-packages (from pandas->stable-baselines3[extra]) (2018.9)\n",
            "Installing collected packages: stable-baselines3\n",
            "Successfully installed stable-baselines3-1.1.0\n"
          ],
          "name": "stdout"
        }
      ]
    },
    {
      "cell_type": "markdown",
      "metadata": {
        "id": "TjJzL1LFnMs4"
      },
      "source": [
        "Stable-Baselines3 funciona en entornos que se ciñen a la interfaz del gimnasio (https://stable-baselines3.readthedocs.io/en/master/guide/custom_env.html). En el siguiente enlace se puede consultar la lista de entornos disponibles: https://gym.openai.com/envs/#classic_control\n",
        "\n",
        "También se recomienda consultar el código fuente para conocer más sobre el espacio de observación y acción de cada env, ya que gym no cuenta con la documentación adecuada. No todos los algoritmos pueden funcionar con todos los espacios de acción, puede encontrar más en esta tabla de resumen"
      ]
    },
    {
      "cell_type": "code",
      "metadata": {
        "id": "nWFA4KU1kl1r"
      },
      "source": [
        "import gym\n",
        "import numpy as np\n",
        "import os\n",
        "import base64\n",
        "from pathlib import Path\n",
        "from IPython import display as ipythondisplay\n",
        "\n",
        "# Modelo de RL preentrenado\n",
        "from stable_baselines3 import PPO\n",
        "\n",
        "# Clase de política que se utilizará para crear las redes (para las funciones de política / valor). \n",
        "# Este paso es opcional, ya que se pueden usar cadenas directamente en el constructor: \n",
        "# PPO('MlpPolicy', env) en lugar de PPO(MlpPolicy, env)\n",
        "from stable_baselines3.ppo.policies import MlpPolicy\n",
        "\n",
        "from stable_baselines3.common.evaluation import evaluate_policy"
      ],
      "execution_count": 2,
      "outputs": []
    },
    {
      "cell_type": "markdown",
      "metadata": {
        "id": "BdzSP3FAoAs5"
      },
      "source": [
        "# Creación del entorno Gym y de una instancia del agente\n",
        "Para este ejemplo, usaremos el entorno CartPole, un problema de control clásico.\n",
        "\n",
        "\"Un poste está sujeto por una articulación no accionada a un carro, que se mueve a lo largo de una pista sin fricción. El sistema se controla aplicando una fuerza de +1 o -1 al carro. El péndulo comienza en posición vertical y el objetivo es evitar que se caiga. Se proporciona una recompensa de +1 por cada paso de tiempo que el poste permanece en posición vertical\".\n",
        "\n",
        "Entorno de cartpole: https://gym.openai.com/envs/CartPole-v1/"
      ]
    },
    {
      "cell_type": "code",
      "metadata": {
        "id": "HUfYqy9Qk5A8"
      },
      "source": [
        "env = gym.make('CartPole-v1')\n",
        "\n",
        "model = PPO(MlpPolicy, env, verbose=0)"
      ],
      "execution_count": 19,
      "outputs": []
    },
    {
      "cell_type": "markdown",
      "metadata": {
        "id": "n3CXSokXpZ34"
      },
      "source": [
        "Creamos una función auxiliar para evaluar al agente:"
      ]
    },
    {
      "cell_type": "code",
      "metadata": {
        "id": "0qfb1CWEk8Xh"
      },
      "source": [
        "def evaluate(model, num_episodes=100):\n",
        "    \"\"\"\n",
        "    Evaluate a RL agent\n",
        "    :param model: (BaseRLModel object) the RL Agent\n",
        "    :param num_episodes: (int) number of episodes to evaluate it\n",
        "    :return: (float) Mean reward for the last num_episodes\n",
        "    \"\"\"\n",
        "    # This function will only work for a single Environment\n",
        "    env = model.get_env()\n",
        "    all_episode_rewards = []\n",
        "    for i in range(num_episodes):\n",
        "        episode_rewards = []\n",
        "        done = False\n",
        "        obs = env.reset()\n",
        "        while not done:\n",
        "            # _states are only useful when using LSTM policies\n",
        "            action, _states = model.predict(obs)\n",
        "            # here, action, rewards and dones are arrays\n",
        "            # because we are using vectorized env\n",
        "            obs, reward, done, info = env.step(action)\n",
        "            episode_rewards.append(reward)\n",
        "\n",
        "        all_episode_rewards.append(sum(episode_rewards))\n",
        "\n",
        "    mean_episode_reward = np.mean(all_episode_rewards)\n",
        "    print(\"Mean reward:\", mean_episode_reward, \"Num episodes:\", num_episodes)\n",
        "    return mean_episode_reward\n"
      ],
      "execution_count": 6,
      "outputs": []
    },
    {
      "cell_type": "markdown",
      "metadata": {
        "id": "ddAssBgqplqw"
      },
      "source": [
        "Evaluemos al agente no entrenado, que de momento simplemente debería ser un agente aleatorio:*texto en cursiva*"
      ]
    },
    {
      "cell_type": "code",
      "metadata": {
        "colab": {
          "base_uri": "https://localhost:8080/"
        },
        "id": "S-UE5FSZlA97",
        "outputId": "e7ab0d92-43e2-4800-e111-598edf641d47"
      },
      "source": [
        "# Random Agent, before training\n",
        "mean_reward_before_train = evaluate(model, num_episodes=100)"
      ],
      "execution_count": 20,
      "outputs": [
        {
          "output_type": "stream",
          "text": [
            "Mean reward: 22.12 Num episodes: 100\n"
          ],
          "name": "stdout"
        }
      ]
    },
    {
      "cell_type": "code",
      "metadata": {
        "colab": {
          "base_uri": "https://localhost:8080/"
        },
        "id": "pQTh2E2jlFKs",
        "outputId": "62da5150-87c8-4994-c956-1453c3ed4bbe"
      },
      "source": [
        "mean_reward, std_reward = evaluate_policy(model, env, n_eval_episodes=100)\n",
        "\n",
        "print(f\"mean_reward:{mean_reward:.2f} +/- {std_reward:.2f}\")"
      ],
      "execution_count": 21,
      "outputs": [
        {
          "output_type": "stream",
          "text": [
            "/usr/local/lib/python3.7/dist-packages/stable_baselines3/common/evaluation.py:69: UserWarning: Evaluation environment is not wrapped with a ``Monitor`` wrapper. This may result in reporting modified episode lengths and rewards, if other wrappers happen to modify these. Consider wrapping environment first with ``Monitor`` wrapper.\n",
            "  UserWarning,\n"
          ],
          "name": "stderr"
        },
        {
          "output_type": "stream",
          "text": [
            "mean_reward:9.31 +/- 0.74\n"
          ],
          "name": "stdout"
        }
      ]
    },
    {
      "cell_type": "code",
      "metadata": {
        "colab": {
          "base_uri": "https://localhost:8080/"
        },
        "id": "_z6-EwM2lHDL",
        "outputId": "834c2444-37a1-464c-9355-de4bceebbd35"
      },
      "source": [
        "\n",
        "# Train the agent for 10000 steps\n",
        "model.learn(total_timesteps=10000)"
      ],
      "execution_count": 10,
      "outputs": [
        {
          "output_type": "execute_result",
          "data": {
            "text/plain": [
              "<stable_baselines3.ppo.ppo.PPO at 0x7f18f95fce10>"
            ]
          },
          "metadata": {
            "tags": []
          },
          "execution_count": 10
        }
      ]
    },
    {
      "cell_type": "code",
      "metadata": {
        "colab": {
          "base_uri": "https://localhost:8080/"
        },
        "id": "UbE4aOWnlJUT",
        "outputId": "a0d03373-0466-4d52-caa6-d5fd3d242f67"
      },
      "source": [
        "# Evaluate the trained agent\n",
        "mean_reward, std_reward = evaluate_policy(model, env, n_eval_episodes=100)\n",
        "\n",
        "print(f\"mean_reward:{mean_reward:.2f} +/- {std_reward:.2f}\")"
      ],
      "execution_count": 11,
      "outputs": [
        {
          "output_type": "stream",
          "text": [
            "/usr/local/lib/python3.7/dist-packages/stable_baselines3/common/evaluation.py:69: UserWarning: Evaluation environment is not wrapped with a ``Monitor`` wrapper. This may result in reporting modified episode lengths and rewards, if other wrappers happen to modify these. Consider wrapping environment first with ``Monitor`` wrapper.\n",
            "  UserWarning,\n"
          ],
          "name": "stderr"
        },
        {
          "output_type": "stream",
          "text": [
            "mean_reward:396.48 +/- 102.60\n"
          ],
          "name": "stdout"
        }
      ]
    },
    {
      "cell_type": "markdown",
      "metadata": {
        "id": "ovDrzak3p65X"
      },
      "source": [
        "Aparentemente, el entrenamiento ha ido bien, ya que la recompensa ha aumentado mucho."
      ]
    },
    {
      "cell_type": "markdown",
      "metadata": {
        "id": "mmGT1mcPqM8S"
      },
      "source": [
        "# Grabación de vídeo"
      ]
    },
    {
      "cell_type": "code",
      "metadata": {
        "id": "ToB4UmCFlMKb"
      },
      "source": [
        "# # Configuramos una pantalla falsa; de lo contrario, la renderización fallará\n",
        "os.system(\"Xvfb :1 -screen 0 1024x768x24 &\")\n",
        "os.environ['DISPLAY'] = ':1'"
      ],
      "execution_count": 12,
      "outputs": []
    },
    {
      "cell_type": "code",
      "metadata": {
        "id": "RzFUi4-MlOuO"
      },
      "source": [
        "def show_videos(video_path='', prefix=''):\n",
        "  \"\"\"\n",
        "  Taken from https://github.com/eleurent/highway-env\n",
        "\n",
        "  :param video_path: (str) Path to the folder containing videos\n",
        "  :param prefix: (str) Filter the video, showing only the only starting with this prefix\n",
        "  \"\"\"\n",
        "  html = []\n",
        "  for mp4 in Path(video_path).glob(\"{}*.mp4\".format(prefix)):\n",
        "      video_b64 = base64.b64encode(mp4.read_bytes())\n",
        "      html.append('''<video alt=\"{}\" autoplay \n",
        "                    loop controls style=\"height: 400px;\">\n",
        "                    <source src=\"data:video/mp4;base64,{}\" type=\"video/mp4\" />\n",
        "                </video>'''.format(mp4, video_b64.decode('ascii')))\n",
        "  ipythondisplay.display(ipythondisplay.HTML(data=\"<br>\".join(html)))"
      ],
      "execution_count": 13,
      "outputs": []
    },
    {
      "cell_type": "code",
      "metadata": {
        "id": "lLOTVaWLlR-v"
      },
      "source": [
        "from stable_baselines3.common.vec_env import VecVideoRecorder, DummyVecEnv\n",
        "\n",
        "def record_video(env_id, model, video_length=500, prefix='', video_folder='videos/'):\n",
        "  \"\"\"\n",
        "  :param env_id: (str)\n",
        "  :param model: (RL model)\n",
        "  :param video_length: (int)\n",
        "  :param prefix: (str)\n",
        "  :param video_folder: (str)\n",
        "  \"\"\"\n",
        "  eval_env = DummyVecEnv([lambda: gym.make(env_id)])\n",
        "  # Start the video at step=0 and record 500 steps\n",
        "  eval_env = VecVideoRecorder(eval_env, video_folder=video_folder,\n",
        "                              record_video_trigger=lambda step: step == 0, video_length=video_length,\n",
        "                              name_prefix=prefix)\n",
        "\n",
        "  obs = eval_env.reset()\n",
        "  for _ in range(video_length):\n",
        "    action, _ = model.predict(obs)\n",
        "    obs, _, _, _ = eval_env.step(action)\n",
        "\n",
        "  # Close the video recorder\n",
        "  eval_env.close()"
      ],
      "execution_count": 14,
      "outputs": []
    },
    {
      "cell_type": "code",
      "metadata": {
        "colab": {
          "base_uri": "https://localhost:8080/"
        },
        "id": "_icd7lJYlUWm",
        "outputId": "0bae87c9-e215-4583-a288-74d1d7678d84"
      },
      "source": [
        "record_video('CartPole-v1', model, video_length=500, prefix='ppo2-cartpole')"
      ],
      "execution_count": 15,
      "outputs": [
        {
          "output_type": "stream",
          "text": [
            "Saving video to /content/videos/ppo2-cartpole-step-0-to-step-500.mp4\n"
          ],
          "name": "stdout"
        }
      ]
    },
    {
      "cell_type": "code",
      "metadata": {
        "colab": {
          "base_uri": "https://localhost:8080/",
          "height": 421
        },
        "id": "BiPOf8zMlWEi",
        "outputId": "3a0bc079-3e37-4d13-da51-76cab8fe3029"
      },
      "source": [
        "show_videos('videos', prefix='ppo2')\n"
      ],
      "execution_count": 16,
      "outputs": [
        {
          "output_type": "display_data",
          "data": {
            "text/html": [
              "<video alt=\"videos/ppo2-cartpole-step-0-to-step-500.mp4\" autoplay \n",
              "                    loop controls style=\"height: 400px;\">\n",
              "                    <source src=\"data:video/mp4;base64,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\" type=\"video/mp4\" />\n",
              "                </video>"
            ],
            "text/plain": [
              "<IPython.core.display.HTML object>"
            ]
          },
          "metadata": {
            "tags": []
          }
        }
      ]
    },
    {
      "cell_type": "code",
      "metadata": {
        "colab": {
          "base_uri": "https://localhost:8080/"
        },
        "id": "KufJsqxYlWye",
        "outputId": "d25cd851-0fbd-4113-c1df-b7bf8c4bf7a0"
      },
      "source": [
        "model = PPO('MlpPolicy', \"CartPole-v1\", verbose=1).learn(1000)"
      ],
      "execution_count": 17,
      "outputs": [
        {
          "output_type": "stream",
          "text": [
            "Using cuda device\n",
            "Creating environment from the given name 'CartPole-v1'\n",
            "Wrapping the env with a `Monitor` wrapper\n",
            "Wrapping the env in a DummyVecEnv.\n",
            "---------------------------------\n",
            "| rollout/           |          |\n",
            "|    ep_len_mean     | 21.9     |\n",
            "|    ep_rew_mean     | 21.9     |\n",
            "| time/              |          |\n",
            "|    fps             | 676      |\n",
            "|    iterations      | 1        |\n",
            "|    time_elapsed    | 3        |\n",
            "|    total_timesteps | 2048     |\n",
            "---------------------------------\n"
          ],
          "name": "stdout"
        }
      ]
    }
  ]
}