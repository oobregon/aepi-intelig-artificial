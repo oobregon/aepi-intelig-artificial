{
 "cells": [
  {
   "cell_type": "markdown",
   "id": "386e6710",
   "metadata": {
    "id": "386e6710"
   },
   "source": [
    "# Taller de refuerzo de Keras (I)\n",
    "\n",
    "En este taller, llevaremos a cabo un repaso de:\n",
    "- Carga de datos en estructuras apropiadas\n",
    "- Manejo de estructuras de datos\n",
    "- EDA y limpieza básicos\n",
    "- Particiones de entrenamiento, validación y test\n",
    "- Definición de modelos de redes neuronales\n",
    "- Compilación y entrenamiento de modelos\n",
    "- Evaluación\n",
    "\n",
    "**El objetivo del modelo será tratar de averiguar si un vino es tinto o blanco, dadas sus características químicas, como la acidez volátil o los sulfatos.**"
   ]
  },
  {
   "cell_type": "markdown",
   "id": "d3095019",
   "metadata": {
    "id": "d3095019"
   },
   "source": [
    "## Carga de librerías, módulos y funciones"
   ]
  },
  {
   "cell_type": "code",
   "execution_count": 49,
   "id": "ed1a789c",
   "metadata": {
    "id": "ed1a789c"
   },
   "outputs": [],
   "source": [
    "# Carga de datos \n",
    "import pandas as pd\n",
    "\n",
    "# Operaciones y cálculos con vectores\n",
    "import numpy as np\n",
    "\n",
    "# Visualización de datos\n",
    "import matplotlib.pyplot as plt\n",
    "import seaborn as sns\n",
    "\n",
    "# Funciones auxiliares de preprocesamiento y de evaluación\n",
    "from sklearn.model_selection import train_test_split\n",
    "from sklearn.preprocessing import StandardScaler\n",
    "from sklearn.metrics import confusion_matrix\n",
    "\n",
    "# Deep Learning\n",
    "from tensorflow.keras import Sequential\n",
    "from tensorflow.keras import layers"
   ]
  },
  {
   "cell_type": "markdown",
   "id": "f03389a2",
   "metadata": {
    "id": "f03389a2"
   },
   "source": [
    "## Carga de datos\n",
    "\n",
    "Los datos a utilizar en este taller se encuentran disponibles en los siguientes enlaces:\n",
    "\n",
    "- White wine: http://archive.ics.uci.edu/ml/machine-learning-databases/wine-quality/winequality-white.csv\n",
    "- Red whine: http://archive.ics.uci.edu/ml/machine-learning-databases/wine-quality/winequality-red.csv"
   ]
  },
  {
   "cell_type": "code",
   "execution_count": 3,
   "id": "9c197d0e",
   "metadata": {
    "id": "9c197d0e"
   },
   "outputs": [],
   "source": [
    "# Carga *white wine* en una variable llamada *white_wine*\n",
    "white_wine = pd.read_csv(\"http://archive.ics.uci.edu/ml/machine-learning-databases/wine-quality/winequality-white.csv\", sep=';') "
   ]
  },
  {
   "cell_type": "code",
   "execution_count": 4,
   "id": "bf2cb808",
   "metadata": {
    "id": "bf2cb808"
   },
   "outputs": [],
   "source": [
    "# Carga *red wine* en una variable llamada *red_wine*\n",
    "red_wine = pd.read_csv(\"http://archive.ics.uci.edu/ml/machine-learning-databases/wine-quality/winequality-red.csv\", sep=';')"
   ]
  },
  {
   "cell_type": "markdown",
   "id": "41fc029d",
   "metadata": {
    "id": "41fc029d"
   },
   "source": [
    "## Análisis exploratorio y limpieza de datos"
   ]
  },
  {
   "cell_type": "markdown",
   "id": "f765b600",
   "metadata": {
    "id": "f765b600"
   },
   "source": [
    "### Toma de contacto"
   ]
  },
  {
   "cell_type": "code",
   "execution_count": 5,
   "id": "09cef66f",
   "metadata": {
    "colab": {
     "base_uri": "https://localhost:8080/",
     "height": 153
    },
    "id": "09cef66f",
    "outputId": "8710fbb3-b32f-4869-cbe1-3cb387a11fdf"
   },
   "outputs": [
    {
     "data": {
      "text/html": [
       "<div>\n",
       "<style scoped>\n",
       "    .dataframe tbody tr th:only-of-type {\n",
       "        vertical-align: middle;\n",
       "    }\n",
       "\n",
       "    .dataframe tbody tr th {\n",
       "        vertical-align: top;\n",
       "    }\n",
       "\n",
       "    .dataframe thead th {\n",
       "        text-align: right;\n",
       "    }\n",
       "</style>\n",
       "<table border=\"1\" class=\"dataframe\">\n",
       "  <thead>\n",
       "    <tr style=\"text-align: right;\">\n",
       "      <th></th>\n",
       "      <th>fixed acidity</th>\n",
       "      <th>volatile acidity</th>\n",
       "      <th>citric acid</th>\n",
       "      <th>residual sugar</th>\n",
       "      <th>chlorides</th>\n",
       "      <th>free sulfur dioxide</th>\n",
       "      <th>total sulfur dioxide</th>\n",
       "      <th>density</th>\n",
       "      <th>pH</th>\n",
       "      <th>sulphates</th>\n",
       "      <th>alcohol</th>\n",
       "      <th>quality</th>\n",
       "    </tr>\n",
       "  </thead>\n",
       "  <tbody>\n",
       "    <tr>\n",
       "      <th>0</th>\n",
       "      <td>7.0</td>\n",
       "      <td>0.27</td>\n",
       "      <td>0.36</td>\n",
       "      <td>20.7</td>\n",
       "      <td>0.045</td>\n",
       "      <td>45.0</td>\n",
       "      <td>170.0</td>\n",
       "      <td>1.0010</td>\n",
       "      <td>3.00</td>\n",
       "      <td>0.45</td>\n",
       "      <td>8.8</td>\n",
       "      <td>6</td>\n",
       "    </tr>\n",
       "    <tr>\n",
       "      <th>1</th>\n",
       "      <td>6.3</td>\n",
       "      <td>0.30</td>\n",
       "      <td>0.34</td>\n",
       "      <td>1.6</td>\n",
       "      <td>0.049</td>\n",
       "      <td>14.0</td>\n",
       "      <td>132.0</td>\n",
       "      <td>0.9940</td>\n",
       "      <td>3.30</td>\n",
       "      <td>0.49</td>\n",
       "      <td>9.5</td>\n",
       "      <td>6</td>\n",
       "    </tr>\n",
       "    <tr>\n",
       "      <th>2</th>\n",
       "      <td>8.1</td>\n",
       "      <td>0.28</td>\n",
       "      <td>0.40</td>\n",
       "      <td>6.9</td>\n",
       "      <td>0.050</td>\n",
       "      <td>30.0</td>\n",
       "      <td>97.0</td>\n",
       "      <td>0.9951</td>\n",
       "      <td>3.26</td>\n",
       "      <td>0.44</td>\n",
       "      <td>10.1</td>\n",
       "      <td>6</td>\n",
       "    </tr>\n",
       "  </tbody>\n",
       "</table>\n",
       "</div>"
      ],
      "text/plain": [
       "   fixed acidity  volatile acidity  citric acid  ...  sulphates  alcohol  quality\n",
       "0            7.0              0.27         0.36  ...       0.45      8.8        6\n",
       "1            6.3              0.30         0.34  ...       0.49      9.5        6\n",
       "2            8.1              0.28         0.40  ...       0.44     10.1        6\n",
       "\n",
       "[3 rows x 12 columns]"
      ]
     },
     "execution_count": 5,
     "metadata": {
      "tags": []
     },
     "output_type": "execute_result"
    }
   ],
   "source": [
    "# Muestra las 3 primeras filas de white_wine, haciendo uso del método head() de pandas\n",
    "white_wine.head(3)"
   ]
  },
  {
   "cell_type": "code",
   "execution_count": null,
   "id": "5a383cd7",
   "metadata": {
    "id": "5a383cd7",
    "outputId": "988dca11-bcb7-4baf-cea1-bbbf5673c220"
   },
   "outputs": [
    {
     "name": "stdout",
     "output_type": "stream",
     "text": [
      "<class 'pandas.core.frame.DataFrame'>\n",
      "RangeIndex: 4898 entries, 0 to 4897\n",
      "Data columns (total 12 columns):\n",
      " #   Column                Non-Null Count  Dtype  \n",
      "---  ------                --------------  -----  \n",
      " 0   fixed acidity         4898 non-null   float64\n",
      " 1   volatile acidity      4898 non-null   float64\n",
      " 2   citric acid           4898 non-null   float64\n",
      " 3   residual sugar        4898 non-null   float64\n",
      " 4   chlorides             4898 non-null   float64\n",
      " 5   free sulfur dioxide   4898 non-null   float64\n",
      " 6   total sulfur dioxide  4898 non-null   float64\n",
      " 7   density               4898 non-null   float64\n",
      " 8   pH                    4898 non-null   float64\n",
      " 9   sulphates             4898 non-null   float64\n",
      " 10  alcohol               4898 non-null   float64\n",
      " 11  quality               4898 non-null   int64  \n",
      "dtypes: float64(11), int64(1)\n",
      "memory usage: 459.3 KB\n"
     ]
    }
   ],
   "source": [
    "# Muestra información acerca de white_wine, haciendo uso del método info() de pandas\n",
    "white_wine.info()"
   ]
  },
  {
   "cell_type": "code",
   "execution_count": null,
   "id": "5f8f6a3d",
   "metadata": {
    "id": "5f8f6a3d",
    "outputId": "437f8a26-b130-46ed-d098-770b17f245f9"
   },
   "outputs": [
    {
     "data": {
      "text/html": [
       "<div>\n",
       "<style scoped>\n",
       "    .dataframe tbody tr th:only-of-type {\n",
       "        vertical-align: middle;\n",
       "    }\n",
       "\n",
       "    .dataframe tbody tr th {\n",
       "        vertical-align: top;\n",
       "    }\n",
       "\n",
       "    .dataframe thead th {\n",
       "        text-align: right;\n",
       "    }\n",
       "</style>\n",
       "<table border=\"1\" class=\"dataframe\">\n",
       "  <thead>\n",
       "    <tr style=\"text-align: right;\">\n",
       "      <th></th>\n",
       "      <th>fixed acidity</th>\n",
       "      <th>volatile acidity</th>\n",
       "      <th>citric acid</th>\n",
       "      <th>residual sugar</th>\n",
       "      <th>chlorides</th>\n",
       "      <th>free sulfur dioxide</th>\n",
       "      <th>total sulfur dioxide</th>\n",
       "      <th>density</th>\n",
       "      <th>pH</th>\n",
       "      <th>sulphates</th>\n",
       "      <th>alcohol</th>\n",
       "      <th>quality</th>\n",
       "    </tr>\n",
       "  </thead>\n",
       "  <tbody>\n",
       "    <tr>\n",
       "      <th>0</th>\n",
       "      <td>7.4</td>\n",
       "      <td>0.70</td>\n",
       "      <td>0.00</td>\n",
       "      <td>1.9</td>\n",
       "      <td>0.076</td>\n",
       "      <td>11.0</td>\n",
       "      <td>34.0</td>\n",
       "      <td>0.9978</td>\n",
       "      <td>3.51</td>\n",
       "      <td>0.56</td>\n",
       "      <td>9.4</td>\n",
       "      <td>5</td>\n",
       "    </tr>\n",
       "    <tr>\n",
       "      <th>1</th>\n",
       "      <td>7.8</td>\n",
       "      <td>0.88</td>\n",
       "      <td>0.00</td>\n",
       "      <td>2.6</td>\n",
       "      <td>0.098</td>\n",
       "      <td>25.0</td>\n",
       "      <td>67.0</td>\n",
       "      <td>0.9968</td>\n",
       "      <td>3.20</td>\n",
       "      <td>0.68</td>\n",
       "      <td>9.8</td>\n",
       "      <td>5</td>\n",
       "    </tr>\n",
       "    <tr>\n",
       "      <th>2</th>\n",
       "      <td>7.8</td>\n",
       "      <td>0.76</td>\n",
       "      <td>0.04</td>\n",
       "      <td>2.3</td>\n",
       "      <td>0.092</td>\n",
       "      <td>15.0</td>\n",
       "      <td>54.0</td>\n",
       "      <td>0.9970</td>\n",
       "      <td>3.26</td>\n",
       "      <td>0.65</td>\n",
       "      <td>9.8</td>\n",
       "      <td>5</td>\n",
       "    </tr>\n",
       "  </tbody>\n",
       "</table>\n",
       "</div>"
      ],
      "text/plain": [
       "   fixed acidity  volatile acidity  citric acid  residual sugar  chlorides  \\\n",
       "0            7.4              0.70         0.00             1.9      0.076   \n",
       "1            7.8              0.88         0.00             2.6      0.098   \n",
       "2            7.8              0.76         0.04             2.3      0.092   \n",
       "\n",
       "   free sulfur dioxide  total sulfur dioxide  density    pH  sulphates  \\\n",
       "0                 11.0                  34.0   0.9978  3.51       0.56   \n",
       "1                 25.0                  67.0   0.9968  3.20       0.68   \n",
       "2                 15.0                  54.0   0.9970  3.26       0.65   \n",
       "\n",
       "   alcohol  quality  \n",
       "0      9.4        5  \n",
       "1      9.8        5  \n",
       "2      9.8        5  "
      ]
     },
     "execution_count": 11,
     "metadata": {
      "tags": []
     },
     "output_type": "execute_result"
    }
   ],
   "source": [
    "# Muestra las 3 primeras filas de red_wine, haciendo uso del método head() de pandas\n",
    "red_wine.head(3)"
   ]
  },
  {
   "cell_type": "code",
   "execution_count": null,
   "id": "029716ba",
   "metadata": {
    "id": "029716ba",
    "outputId": "aef5730a-b096-40fb-fa1b-26078aa9f004"
   },
   "outputs": [
    {
     "name": "stdout",
     "output_type": "stream",
     "text": [
      "<class 'pandas.core.frame.DataFrame'>\n",
      "RangeIndex: 1599 entries, 0 to 1598\n",
      "Data columns (total 12 columns):\n",
      " #   Column                Non-Null Count  Dtype  \n",
      "---  ------                --------------  -----  \n",
      " 0   fixed acidity         1599 non-null   float64\n",
      " 1   volatile acidity      1599 non-null   float64\n",
      " 2   citric acid           1599 non-null   float64\n",
      " 3   residual sugar        1599 non-null   float64\n",
      " 4   chlorides             1599 non-null   float64\n",
      " 5   free sulfur dioxide   1599 non-null   float64\n",
      " 6   total sulfur dioxide  1599 non-null   float64\n",
      " 7   density               1599 non-null   float64\n",
      " 8   pH                    1599 non-null   float64\n",
      " 9   sulphates             1599 non-null   float64\n",
      " 10  alcohol               1599 non-null   float64\n",
      " 11  quality               1599 non-null   int64  \n",
      "dtypes: float64(11), int64(1)\n",
      "memory usage: 150.0 KB\n"
     ]
    }
   ],
   "source": [
    "# Muestra información acerca de red_wine, haciendo uso del método info() de pandas\n",
    "red_wine.info()"
   ]
  },
  {
   "cell_type": "markdown",
   "id": "8f3fc0fe",
   "metadata": {
    "id": "8f3fc0fe"
   },
   "source": [
    "### Duplicados"
   ]
  },
  {
   "cell_type": "code",
   "execution_count": 6,
   "id": "61e6310c",
   "metadata": {
    "colab": {
     "base_uri": "https://localhost:8080/"
    },
    "id": "61e6310c",
    "outputId": "1d4ccca2-81b2-46df-a557-885680ad327a"
   },
   "outputs": [
    {
     "data": {
      "text/plain": [
       "937"
      ]
     },
     "execution_count": 6,
     "metadata": {
      "tags": []
     },
     "output_type": "execute_result"
    }
   ],
   "source": [
    "# Comprueba el número de registros duplicados en white_wine\n",
    "white_wine.duplicated().sum()"
   ]
  },
  {
   "cell_type": "code",
   "execution_count": 7,
   "id": "faaa605d",
   "metadata": {
    "id": "faaa605d"
   },
   "outputs": [],
   "source": [
    "# Si hay duplicados, elimínalos\n",
    "white_wine.drop_duplicates(keep='first', inplace=True)"
   ]
  },
  {
   "cell_type": "code",
   "execution_count": 8,
   "id": "cb620203",
   "metadata": {
    "colab": {
     "base_uri": "https://localhost:8080/"
    },
    "id": "cb620203",
    "outputId": "a6a472be-7b96-467a-9f73-82118bf9c3b2"
   },
   "outputs": [
    {
     "data": {
      "text/plain": [
       "3961"
      ]
     },
     "execution_count": 8,
     "metadata": {
      "tags": []
     },
     "output_type": "execute_result"
    }
   ],
   "source": [
    "# Comprueba el nuevo número de filas de white_wine\n",
    "len(white_wine)"
   ]
  },
  {
   "cell_type": "code",
   "execution_count": 9,
   "id": "762d7515",
   "metadata": {
    "colab": {
     "base_uri": "https://localhost:8080/"
    },
    "id": "762d7515",
    "outputId": "b3ea2028-b58f-49ca-f1c3-5133381e53b1"
   },
   "outputs": [
    {
     "data": {
      "text/plain": [
       "240"
      ]
     },
     "execution_count": 9,
     "metadata": {
      "tags": []
     },
     "output_type": "execute_result"
    }
   ],
   "source": [
    "# Comprueba el número de registros duplicados en red_wine\n",
    "red_wine.duplicated().sum()"
   ]
  },
  {
   "cell_type": "code",
   "execution_count": 10,
   "id": "cabfe3f2",
   "metadata": {
    "id": "cabfe3f2"
   },
   "outputs": [],
   "source": [
    "# Si hay duplicados, elimínalos\n",
    "red_wine.drop_duplicates(keep='first', inplace=True)"
   ]
  },
  {
   "cell_type": "code",
   "execution_count": 11,
   "id": "4aa24c8a",
   "metadata": {
    "colab": {
     "base_uri": "https://localhost:8080/"
    },
    "id": "4aa24c8a",
    "outputId": "e05dc570-5634-486c-fb3c-1fa3e743ccdd"
   },
   "outputs": [
    {
     "data": {
      "text/plain": [
       "1359"
      ]
     },
     "execution_count": 11,
     "metadata": {
      "tags": []
     },
     "output_type": "execute_result"
    }
   ],
   "source": [
    "# Comprueba el nuevo número de filas de red_wine\n",
    "len(red_wine)"
   ]
  },
  {
   "cell_type": "markdown",
   "id": "2cb015f1",
   "metadata": {
    "id": "2cb015f1"
   },
   "source": [
    "### Valores faltantes"
   ]
  },
  {
   "cell_type": "code",
   "execution_count": null,
   "id": "55decd79",
   "metadata": {
    "id": "55decd79",
    "outputId": "502baef9-71cc-4577-9938-bd77b899b82c"
   },
   "outputs": [
    {
     "data": {
      "text/plain": [
       "fixed acidity           0\n",
       "volatile acidity        0\n",
       "citric acid             0\n",
       "residual sugar          0\n",
       "chlorides               0\n",
       "free sulfur dioxide     0\n",
       "total sulfur dioxide    0\n",
       "density                 0\n",
       "pH                      0\n",
       "sulphates               0\n",
       "alcohol                 0\n",
       "quality                 0\n",
       "dtype: int64"
      ]
     },
     "execution_count": 20,
     "metadata": {
      "tags": []
     },
     "output_type": "execute_result"
    }
   ],
   "source": [
    "# Comprueba el número de valores faltantes en cada columna de white_wine\n",
    "white_wine.isnull().sum()"
   ]
  },
  {
   "cell_type": "code",
   "execution_count": null,
   "id": "08bafbd6",
   "metadata": {
    "id": "08bafbd6"
   },
   "outputs": [],
   "source": [
    "# Si hay valores faltantes, trátalos como consideres conveniente\n"
   ]
  },
  {
   "cell_type": "code",
   "execution_count": null,
   "id": "e4f9f5f8",
   "metadata": {
    "id": "e4f9f5f8",
    "outputId": "4cc4d7b8-05e1-4ffd-9403-ce6ada49e7d6"
   },
   "outputs": [
    {
     "data": {
      "text/plain": [
       "fixed acidity           0\n",
       "volatile acidity        0\n",
       "citric acid             0\n",
       "residual sugar          0\n",
       "chlorides               0\n",
       "free sulfur dioxide     0\n",
       "total sulfur dioxide    0\n",
       "density                 0\n",
       "pH                      0\n",
       "sulphates               0\n",
       "alcohol                 0\n",
       "quality                 0\n",
       "dtype: int64"
      ]
     },
     "execution_count": 21,
     "metadata": {
      "tags": []
     },
     "output_type": "execute_result"
    }
   ],
   "source": [
    "# Comprueba el número de valores faltantes en cada columna de red_wine\n",
    "red_wine.isnull().sum()"
   ]
  },
  {
   "cell_type": "code",
   "execution_count": null,
   "id": "5d17f2db",
   "metadata": {
    "id": "5d17f2db"
   },
   "outputs": [],
   "source": [
    "# Si hay valores faltantes, trátalos como consideres conveniente\n"
   ]
  },
  {
   "cell_type": "markdown",
   "id": "e03cf82d",
   "metadata": {
    "id": "e03cf82d"
   },
   "source": [
    "### Outliers"
   ]
  },
  {
   "cell_type": "code",
   "execution_count": 12,
   "id": "12310783",
   "metadata": {
    "colab": {
     "base_uri": "https://localhost:8080/",
     "height": 399
    },
    "id": "12310783",
    "outputId": "b87c0c7a-10df-4e73-afd6-850a926328d9"
   },
   "outputs": [
    {
     "data": {
      "text/plain": [
       "{'boxes': [<matplotlib.lines.Line2D at 0x7f96743e15d0>],\n",
       " 'caps': [<matplotlib.lines.Line2D at 0x7f96742405d0>,\n",
       "  <matplotlib.lines.Line2D at 0x7f9674240b10>],\n",
       " 'fliers': [<matplotlib.lines.Line2D at 0x7f9674247610>],\n",
       " 'means': [],\n",
       " 'medians': [<matplotlib.lines.Line2D at 0x7f96742470d0>],\n",
       " 'whiskers': [<matplotlib.lines.Line2D at 0x7f9674233b10>,\n",
       "  <matplotlib.lines.Line2D at 0x7f9674240090>]}"
      ]
     },
     "execution_count": 12,
     "metadata": {
      "tags": []
     },
     "output_type": "execute_result"
    },
    {
     "data": {
      "image/png": "[encoded data removed]",
      "text/plain": [
       "<Figure size 432x288 with 1 Axes>"
      ]
     },
     "metadata": {
      "needs_background": "light",
      "tags": []
     },
     "output_type": "display_data"
    }
   ],
   "source": [
    "# Boxplot de la variable \"alcohol\" de white_wine\n",
    "plt.boxplot(white_wine[\"alcohol\"])"
   ]
  },
  {
   "cell_type": "code",
   "execution_count": 14,
   "id": "ce4c7116",
   "metadata": {
    "colab": {
     "base_uri": "https://localhost:8080/",
     "height": 399
    },
    "id": "ce4c7116",
    "outputId": "6991445b-5ed7-4d51-9ab9-641e9db84ff9"
   },
   "outputs": [
    {
     "data": {
      "text/plain": [
       "{'boxes': [<matplotlib.lines.Line2D at 0x7f9673d07390>],\n",
       " 'caps': [<matplotlib.lines.Line2D at 0x7f9673d0e3d0>,\n",
       "  <matplotlib.lines.Line2D at 0x7f9673d0e910>],\n",
       " 'fliers': [<matplotlib.lines.Line2D at 0x7f9673d15410>],\n",
       " 'means': [],\n",
       " 'medians': [<matplotlib.lines.Line2D at 0x7f9673d0ee90>],\n",
       " 'whiskers': [<matplotlib.lines.Line2D at 0x7f9673d07910>,\n",
       "  <matplotlib.lines.Line2D at 0x7f9673d07e50>]}"
      ]
     },
     "execution_count": 14,
     "metadata": {
      "tags": []
     },
     "output_type": "execute_result"
    },
    {
     "data": {
      "image/png": "[encoded data removed]",
      "text/plain": [
       "<Figure size 432x288 with 1 Axes>"
      ]
     },
     "metadata": {
      "needs_background": "light",
      "tags": []
     },
     "output_type": "display_data"
    }
   ],
   "source": [
    "# Boxplot de la variable \"alcohol\" de red_wine\n",
    "plt.boxplot(red_wine[\"alcohol\"])"
   ]
  },
  {
   "cell_type": "markdown",
   "id": "cef10c74",
   "metadata": {
    "id": "cef10c74"
   },
   "source": [
    "### Combinación de fuentes de información"
   ]
  },
  {
   "cell_type": "code",
   "execution_count": 15,
   "id": "91c97266",
   "metadata": {
    "id": "91c97266"
   },
   "outputs": [],
   "source": [
    "# Añade una columna \"type\" a white_wine con valor constante 0\n",
    "white_wine[\"type\"] = 0"
   ]
  },
  {
   "cell_type": "code",
   "execution_count": 16,
   "id": "057fc6a8",
   "metadata": {
    "id": "057fc6a8"
   },
   "outputs": [],
   "source": [
    "# Añade una columna \"type\" a red_wine con valor constante 1\n",
    "red_wine[\"type\"] = 1"
   ]
  },
  {
   "cell_type": "code",
   "execution_count": 17,
   "id": "bad32562",
   "metadata": {
    "id": "bad32562"
   },
   "outputs": [],
   "source": [
    "# Combina ambos dataframes\n",
    "wines = red_wine.append(white_wine, ignore_index=True)"
   ]
  },
  {
   "cell_type": "markdown",
   "id": "3cd4dda2",
   "metadata": {
    "id": "3cd4dda2"
   },
   "source": [
    "### Correlaciones"
   ]
  },
  {
   "cell_type": "code",
   "execution_count": 18,
   "id": "9dc64cf5",
   "metadata": {
    "id": "9dc64cf5"
   },
   "outputs": [],
   "source": [
    "# Calcula la matriz de correlaciones entre las variables\n",
    "# Usa el método corr() de pandas\n",
    "corr = wines.corr()"
   ]
  },
  {
   "cell_type": "code",
   "execution_count": 19,
   "id": "6d35fff4",
   "metadata": {
    "colab": {
     "base_uri": "https://localhost:8080/",
     "height": 531
    },
    "id": "6d35fff4",
    "outputId": "0031a958-3e11-4d80-a98a-5bf3c14d2789"
   },
   "outputs": [
    {
     "ename": "AttributeError",
     "evalue": "ignored",
     "output_type": "error",
     "traceback": [
      "\u001b[0;31m---------------------------------------------------------------------------\u001b[0m",
      "\u001b[0;31mAttributeError\u001b[0m                            Traceback (most recent call last)",
      "\u001b[0;32m<ipython-input-19-7128059ed1e9>\u001b[0m in \u001b[0;36m<module>\u001b[0;34m()\u001b[0m\n\u001b[1;32m      4\u001b[0m             \u001b[0mxticklabels\u001b[0m\u001b[0;34m=\u001b[0m\u001b[0mcorr\u001b[0m\u001b[0;34m.\u001b[0m\u001b[0mcolumns\u001b[0m\u001b[0;34m.\u001b[0m\u001b[0mvalues\u001b[0m\u001b[0;34m,\u001b[0m\u001b[0;34m\u001b[0m\u001b[0;34m\u001b[0m\u001b[0m\n\u001b[1;32m      5\u001b[0m             yticklabels=corr.columns.values)\n\u001b[0;32m----> 6\u001b[0;31m \u001b[0msns\u001b[0m\u001b[0;34m.\u001b[0m\u001b[0mplt\u001b[0m\u001b[0;34m.\u001b[0m\u001b[0mshow\u001b[0m\u001b[0;34m(\u001b[0m\u001b[0;34m)\u001b[0m\u001b[0;34m\u001b[0m\u001b[0;34m\u001b[0m\u001b[0m\n\u001b[0m",
      "\u001b[0;31mAttributeError\u001b[0m: module 'seaborn' has no attribute 'plt'"
     ]
    },
    {
     "data": {
      "image/png": "[encoded data removed]",
      "text/plain": [
       "<Figure size 432x288 with 2 Axes>"
      ]
     },
     "metadata": {
      "needs_background": "light",
      "tags": []
     },
     "output_type": "display_data"
    }
   ],
   "source": [
    "# Muestra un capa de calor de las correlaciones\n",
    "# Usa la librería Seaborn de visualización\n",
    "sns.heatmap(corr, \n",
    "            xticklabels=corr.columns.values,\n",
    "            yticklabels=corr.columns.values)\n",
    "sns.plt.show()"
   ]
  },
  {
   "cell_type": "markdown",
   "id": "e52694d4",
   "metadata": {
    "id": "e52694d4"
   },
   "source": [
    "En caso de detectar variables altamente correlacionadas entre sí, podría ser necesario aplicar alguna técnica de selección de varialbles o reducción de dimensionalidad (como PCA), con el fin de eliminar información redundante para el modelo, además de reducir el número de parámetros y, con ello, el coste computacional."
   ]
  },
  {
   "cell_type": "markdown",
   "id": "2deb037e",
   "metadata": {
    "id": "2deb037e"
   },
   "source": [
    "### Otras técnicas de calidad del dato\n",
    "Junto a los anteriores pasos del proceso de calidad del dato, sería conveniente realizar otras comprobaciones y, en caso necesario, los ajustes pertinentes para lograr un estado de los datos óptimo. Recordemos que un buen proceso de calidad del dato es iterativo y, a grandes rasgos, se podría enfocar en aspectos como los siguientes:"
   ]
  },
  {
   "cell_type": "markdown",
   "id": "a762c42a",
   "metadata": {
    "id": "a762c42a"
   },
   "source": [
    "![dataquality.PNG](attachment:dataquality.PNG)"
   ]
  },
  {
   "cell_type": "markdown",
   "id": "abc75575",
   "metadata": {
    "id": "abc75575"
   },
   "source": [
    "Recordemos que, además, todo proceso de exploración y limpieza de datos debe apoyarse en visualizaciones gráficas."
   ]
  },
  {
   "cell_type": "markdown",
   "id": "5c919ac2",
   "metadata": {
    "id": "5c919ac2"
   },
   "source": [
    "### Particiones de entrenamiento, validación y test\n",
    "Para poder realizar un buen ajuste del modelo, lo ideal es utilizar tres particiones de datos:\n",
    "- Una para entrenarlo (*train set*)\n",
    "- Otra para evaluarlo durante el entrenamiento (*validation set*)\n",
    "- Una última partición para realizar una evaluación final, una vez concluido el entrenamiento (*test set*)\n",
    "\n",
    "Para hacer la partición de train y test, podemos hacer uso de *train_test_split* de la librería Scikit Learn."
   ]
  },
  {
   "cell_type": "code",
   "execution_count": 20,
   "id": "5886b554",
   "metadata": {
    "colab": {
     "base_uri": "https://localhost:8080/",
     "height": 212
    },
    "id": "5886b554",
    "outputId": "2df9c5b1-4396-475f-abae-3d55f1252acc"
   },
   "outputs": [
    {
     "data": {
      "text/html": [
       "<div>\n",
       "<style scoped>\n",
       "    .dataframe tbody tr th:only-of-type {\n",
       "        vertical-align: middle;\n",
       "    }\n",
       "\n",
       "    .dataframe tbody tr th {\n",
       "        vertical-align: top;\n",
       "    }\n",
       "\n",
       "    .dataframe thead th {\n",
       "        text-align: right;\n",
       "    }\n",
       "</style>\n",
       "<table border=\"1\" class=\"dataframe\">\n",
       "  <thead>\n",
       "    <tr style=\"text-align: right;\">\n",
       "      <th></th>\n",
       "      <th>fixed acidity</th>\n",
       "      <th>volatile acidity</th>\n",
       "      <th>citric acid</th>\n",
       "      <th>residual sugar</th>\n",
       "      <th>chlorides</th>\n",
       "      <th>free sulfur dioxide</th>\n",
       "      <th>total sulfur dioxide</th>\n",
       "      <th>density</th>\n",
       "      <th>pH</th>\n",
       "      <th>sulphates</th>\n",
       "      <th>alcohol</th>\n",
       "      <th>quality</th>\n",
       "    </tr>\n",
       "  </thead>\n",
       "  <tbody>\n",
       "    <tr>\n",
       "      <th>0</th>\n",
       "      <td>7.4</td>\n",
       "      <td>0.70</td>\n",
       "      <td>0.00</td>\n",
       "      <td>1.9</td>\n",
       "      <td>0.076</td>\n",
       "      <td>11.0</td>\n",
       "      <td>34.0</td>\n",
       "      <td>0.9978</td>\n",
       "      <td>3.51</td>\n",
       "      <td>0.56</td>\n",
       "      <td>9.4</td>\n",
       "      <td>5</td>\n",
       "    </tr>\n",
       "    <tr>\n",
       "      <th>1</th>\n",
       "      <td>7.8</td>\n",
       "      <td>0.88</td>\n",
       "      <td>0.00</td>\n",
       "      <td>2.6</td>\n",
       "      <td>0.098</td>\n",
       "      <td>25.0</td>\n",
       "      <td>67.0</td>\n",
       "      <td>0.9968</td>\n",
       "      <td>3.20</td>\n",
       "      <td>0.68</td>\n",
       "      <td>9.8</td>\n",
       "      <td>5</td>\n",
       "    </tr>\n",
       "    <tr>\n",
       "      <th>2</th>\n",
       "      <td>7.8</td>\n",
       "      <td>0.76</td>\n",
       "      <td>0.04</td>\n",
       "      <td>2.3</td>\n",
       "      <td>0.092</td>\n",
       "      <td>15.0</td>\n",
       "      <td>54.0</td>\n",
       "      <td>0.9970</td>\n",
       "      <td>3.26</td>\n",
       "      <td>0.65</td>\n",
       "      <td>9.8</td>\n",
       "      <td>5</td>\n",
       "    </tr>\n",
       "    <tr>\n",
       "      <th>3</th>\n",
       "      <td>11.2</td>\n",
       "      <td>0.28</td>\n",
       "      <td>0.56</td>\n",
       "      <td>1.9</td>\n",
       "      <td>0.075</td>\n",
       "      <td>17.0</td>\n",
       "      <td>60.0</td>\n",
       "      <td>0.9980</td>\n",
       "      <td>3.16</td>\n",
       "      <td>0.58</td>\n",
       "      <td>9.8</td>\n",
       "      <td>6</td>\n",
       "    </tr>\n",
       "    <tr>\n",
       "      <th>4</th>\n",
       "      <td>7.4</td>\n",
       "      <td>0.66</td>\n",
       "      <td>0.00</td>\n",
       "      <td>1.8</td>\n",
       "      <td>0.075</td>\n",
       "      <td>13.0</td>\n",
       "      <td>40.0</td>\n",
       "      <td>0.9978</td>\n",
       "      <td>3.51</td>\n",
       "      <td>0.56</td>\n",
       "      <td>9.4</td>\n",
       "      <td>5</td>\n",
       "    </tr>\n",
       "  </tbody>\n",
       "</table>\n",
       "</div>"
      ],
      "text/plain": [
       "   fixed acidity  volatile acidity  citric acid  ...  sulphates  alcohol  quality\n",
       "0            7.4              0.70         0.00  ...       0.56      9.4        5\n",
       "1            7.8              0.88         0.00  ...       0.68      9.8        5\n",
       "2            7.8              0.76         0.04  ...       0.65      9.8        5\n",
       "3           11.2              0.28         0.56  ...       0.58      9.8        6\n",
       "4            7.4              0.66         0.00  ...       0.56      9.4        5\n",
       "\n",
       "[5 rows x 12 columns]"
      ]
     },
     "execution_count": 20,
     "metadata": {
      "tags": []
     },
     "output_type": "execute_result"
    }
   ],
   "source": [
    "# Guarda las características (features) en una variable X\n",
    "X = wines.loc[:, wines.columns != \"type\"]\n",
    "X.head()"
   ]
  },
  {
   "cell_type": "code",
   "execution_count": 23,
   "id": "59ae0ec8",
   "metadata": {
    "colab": {
     "base_uri": "https://localhost:8080/"
    },
    "id": "59ae0ec8",
    "outputId": "1df61366-f87d-4f83-d6ee-d4bb8996fffc"
   },
   "outputs": [
    {
     "data": {
      "text/plain": [
       "array([1, 1, 1, ..., 0, 0, 0])"
      ]
     },
     "execution_count": 23,
     "metadata": {
      "tags": []
     },
     "output_type": "execute_result"
    }
   ],
   "source": [
    "# Guarda el target en una variable y\n",
    "# Previamente, aplica un np.ravel() para aplanar los valores\n",
    "y = np.ravel(wines[\"type\"])\n",
    "y"
   ]
  },
  {
   "cell_type": "code",
   "execution_count": 24,
   "id": "266b0c1a",
   "metadata": {
    "id": "266b0c1a"
   },
   "outputs": [],
   "source": [
    "# Crea una partición de train (70% de los datos) y test (30%)\n",
    "# Fija una semilla de 42 para garantizar la repetibilidad de los resultados\n",
    "X_train, X_test, y_train, y_test = train_test_split(X, y, test_size=0.3, random_state=42)"
   ]
  },
  {
   "cell_type": "markdown",
   "id": "28b32cec",
   "metadata": {
    "id": "28b32cec"
   },
   "source": [
    "### Estandarización\n",
    "\n",
    "La estandarización de un conjunto de datos suele ser un requisito común, ya que el ajuste puede complicarse si las características individuales no se encuentran distribuidas normalmente (distribución gaussiana con media 0 y varianza unitaria)."
   ]
  },
  {
   "cell_type": "code",
   "execution_count": 26,
   "id": "220a6922",
   "metadata": {
    "id": "220a6922"
   },
   "outputs": [],
   "source": [
    "# Instancia el scaler y ajústalo en el set de entrenamiento\n",
    "scaler = StandardScaler().fit(X_train)"
   ]
  },
  {
   "cell_type": "code",
   "execution_count": 27,
   "id": "UPTaegcxT4FV",
   "metadata": {
    "id": "UPTaegcxT4FV"
   },
   "outputs": [],
   "source": [
    "# Escala el set de entrenamiento\n",
    "X_train = scaler.transform(X_train)"
   ]
  },
  {
   "cell_type": "code",
   "execution_count": 28,
   "id": "g0MPr47RT9xy",
   "metadata": {
    "id": "g0MPr47RT9xy"
   },
   "outputs": [],
   "source": [
    "# Escala el set de pruebas\n",
    "X_test = scaler.transform(X_test)"
   ]
  },
  {
   "cell_type": "markdown",
   "id": "f8a766cb",
   "metadata": {
    "id": "f8a766cb"
   },
   "source": [
    "## Definición de un modelo de red neuronal"
   ]
  },
  {
   "cell_type": "markdown",
   "id": "a2b3efa5",
   "metadata": {
    "id": "a2b3efa5"
   },
   "source": [
    "### Tipos de capas en Keras"
   ]
  },
  {
   "cell_type": "markdown",
   "id": "b01962e4",
   "metadata": {
    "id": "b01962e4"
   },
   "source": [
    "Las capas son los componentes básicos de las redes neuronales en Keras. Una instancia de Layer es invocable, al igual que una función:\n",
    "\n",
    "`from tensorflow.keras import layers\n",
    "layer = layers.Dense(32, activation='relu')\n",
    "inputs = tf.random.uniform(shape=(10, 20))\n",
    "outputs = layer(inputs)`\n",
    "\n",
    "Sin embargo, a diferencia de una función, las capas mantienen un estado, ya que sus pesos se actualizan cuando la capa recibe datos durante el entrenamiento, almacenándose en *layer.weights*.\n",
    "\n",
    "Las siguientes se pueden considerar las **capas fundamentales** de Keras:\n",
    "- **Capa Dense**, que simplemente es la clásica capa neuronal completamente conectada (documentación disponible en https://keras.io/api/layers/core_layers/dense/).\n",
    "- **Capa Conv1D**, que es una capa de convolución de 1D y que se usa, por ejemplo, para casos de convolución temporal (documentación disponible en https://keras.io/api/layers/convolution_layers/convolution1d/).\n",
    "- **Capa Conv2D**, que es una capa de convolución de 2D y que se usa, por ejemplo, para casos de convolución espacial sobre imágenes (documentación disponible en https://keras.io/api/layers/convolution_layers/convolution2d/).\n",
    "- **Capa Conv3D**, que es una capa de convolución de 3D y que se usa, por ejemplo, para casos de convolución espacial sobre volúmenes (documentación disponible en https://keras.io/api/layers/convolution_layers/convolution3d/).\n",
    "- **Capa SimpleRNN**, que es una capa recurrente completamente conectada donde la salida debe retroalimentarse a la entrada (documentación disponible en https://keras.io/api/layers/recurrent_layers/simple_rnn/). \n",
    "- **Capa LSTM**, que es una capa de tipo LSTM (documentación disponible en https://keras.io/api/layers/recurrent_layers/lstm/).\n",
    "- **Capa SimpleRNN**, que es una capa de tipo GRU (documentación disponible en https://keras.io/api/layers/recurrent_layers/gru/)."
   ]
  },
  {
   "cell_type": "markdown",
   "id": "0aef6b42",
   "metadata": {
    "id": "0aef6b42"
   },
   "source": [
    "### Funciones de activación de cada capa\n",
    "Cada capa debe tener asociada una función de activación, que se especifica mediante el argumento *activation* de la capa y que será la misma para todas las neuronas que compongan dicha capa. En Keras, se pueden utilizar, entre otras, las siguientes funciones de activación:\n",
    "\n",
    "- ***relu function***\n",
    "- ***sigmoid function***\n",
    "- ***softmax function***\n",
    "- ***softplus function***\n",
    "- ***softsign function***\n",
    "- ***tanh function***\n",
    "- ***elu function***\n",
    "- ***exponential function***\n",
    "\n",
    "***Para más información acerca de las funciones de activación de keras, consultar: https://keras.io/api/layers/activations/***"
   ]
  },
  {
   "cell_type": "markdown",
   "id": "c179f1ca",
   "metadata": {
    "id": "c179f1ca"
   },
   "source": [
    "### Inicialización de los pesos de una capa\n",
    "\n",
    "Hay distintas técnicas de inicialización de pesos de una capa, y además los argumentos de palabras clave que se utilizan para pasar inicializadores a las capas dependen de la capa. Por lo general, son simplemente *kernel_initializer* y *bias_initializer*. En Keras, están disponibles las siguientes opciones de inicialización de pesos:\n",
    "- **RandomNormal**\n",
    "- **RandomUniform**\n",
    "- **TruncatedNormal**\n",
    "- **Zeros**\n",
    "- **Ones**\n",
    "- **GlorotNormal**\n",
    "- **GlorotUniform**\n",
    "- **HeNormal**\n",
    "- **HeUniform**\n",
    "- **Identity**\n",
    "- **Orthogonal**\n",
    "- **Constant**\n",
    "- **VarianceScaling**\n",
    "\n",
    "***Para más información acerca de las técnicas de inicialización de pesos de keras, consultar: https://keras.io/api/layers/initializers/***"
   ]
  },
  {
   "cell_type": "markdown",
   "id": "c5aed0ec",
   "metadata": {
    "id": "c5aed0ec"
   },
   "source": [
    "### Ejemplo de definición de un modelo con varias capas en Keras\n",
    "Utilizando el método *add()* de Keras, se puede definir un modelo de red neuronal de forma secuencial como se muestra a continuación:\n",
    "\n",
    "`model = keras.Sequential(name=\"my_sequential\")`\n",
    "\n",
    "`model.add(layers.Dense(60, \n",
    "                        input_dim = 60,\n",
    "                        activation=\"relu\", \n",
    "                        kernel_initializer=\"glorot_uniform\",\n",
    "                        bias_initializer=\"zeros\",\n",
    "                        name=\"layer1\"))`\n",
    "\n",
    "En este caso, al modelo se le ha asignado el nombre \"my_sequential\" (útil para comparar varios modelos) y está compuesto únicamente por una capa con las siguientes características:\n",
    "- Es de tipo denso (completamente conectada)\n",
    "- Tiene 60 neuronas (*nodos* o, simplemente, *unidades*)\n",
    "- Función de activación ReLu\n",
    "- Inicialización de pesos mediante la técnica de Xavier Glorot *uniforme*\n",
    "- Inicialización de biases en 0\n",
    "- El nombre de la capa es \"layer1\"\n",
    "\n",
    "***Para más información acerca de los modelos secuenciales de keras, consultar: https://keras.io/guides/sequential_model/***"
   ]
  },
  {
   "cell_type": "markdown",
   "id": "5ffc4cd2",
   "metadata": {
    "id": "5ffc4cd2"
   },
   "source": [
    "A continuación, para seguir desarrollando el caso de uso de predicción del tipo de vino, utiliza el método *add()* de Keras y define un modelo secuencial de nombre \"Model_1\" con la siguiente estructura:\n",
    "- 1 capa de tipo denso con 12 neuronas,función de activación ReLu, inicialización de pesos mediante la técnica de Xavier uniforme, inicialización de biases en 0 y nombre de la capa \"Layer_1\". Asegúrate de que esta capa esté preparada para recibir entradas con las dimensiones de los datos que se han cargado al principio del notebook. *Nota: haz uso del argumento input_shape*.\n",
    "- 1 capa de tipo denso con 8 neuronas, función de activación ReLu, inicialización de pesos mediante la técnica de Xavier uniforme, inicialización de biases en 0 y nombre de la capa \"Layer_2\".\n",
    "- 1 capa de salida de tipo denso con un número apropiado de neuronas y una función de activación también adecuada para la predicción que se desea obtener, inicialización de pesos mediante la técnica de Xavier uniforme, inicialización de biases en 0 y nombre de la capa \"Layer_3\"."
   ]
  },
  {
   "cell_type": "code",
   "execution_count": 33,
   "id": "A1aiR69uUrzP",
   "metadata": {
    "colab": {
     "base_uri": "https://localhost:8080/"
    },
    "id": "A1aiR69uUrzP",
    "outputId": "0b04df45-f91c-4d94-e719-c6d08b4cb380"
   },
   "outputs": [
    {
     "data": {
      "text/plain": [
       "12"
      ]
     },
     "execution_count": 33,
     "metadata": {
      "tags": []
     },
     "output_type": "execute_result"
    }
   ],
   "source": [
    "# Calcula el input shape del modelo\n",
    "input_shape = X_train.shape[1]\n",
    "input_shape"
   ]
  },
  {
   "cell_type": "code",
   "execution_count": 40,
   "id": "41cf993b",
   "metadata": {
    "id": "41cf993b"
   },
   "outputs": [],
   "source": [
    "model = Sequential(name=\"Model_1\")\n",
    "\n",
    "# Hidden\n",
    "model.add(layers.Dense(11, \n",
    "                input_shape=(input_shape,), \n",
    "                activation=\"relu\",\n",
    "                kernel_initializer=\"glorot_uniform\",\n",
    "                bias_initializer=\"zeros\",\n",
    "                name=\"Layer_1\"))\n",
    "\n",
    "# Hidden\n",
    "model.add(layers.Dense(8, \n",
    "                activation='relu',\n",
    "                kernel_initializer=\"glorot_uniform\",\n",
    "                bias_initializer=\"zeros\",\n",
    "                name=\"Layer_2\"))\n",
    "\n",
    "# Output\n",
    "model.add(layers.Dense(1, \n",
    "                activation='sigmoid',\n",
    "                kernel_initializer=\"glorot_uniform\",\n",
    "                bias_initializer=\"zeros\",\n",
    "                name=\"Layer_3\"))"
   ]
  },
  {
   "cell_type": "code",
   "execution_count": 41,
   "id": "98WTg3v3XcF5",
   "metadata": {
    "colab": {
     "base_uri": "https://localhost:8080/"
    },
    "id": "98WTg3v3XcF5",
    "outputId": "8ed9bec1-d4f5-4102-822c-1050f09225ab"
   },
   "outputs": [
    {
     "name": "stdout",
     "output_type": "stream",
     "text": [
      "Model: \"Model_1\"\n",
      "_________________________________________________________________\n",
      "Layer (type)                 Output Shape              Param #   \n",
      "=================================================================\n",
      "Layer_1 (Dense)              (None, 11)                143       \n",
      "_________________________________________________________________\n",
      "Layer_2 (Dense)              (None, 8)                 96        \n",
      "_________________________________________________________________\n",
      "Layer_3 (Dense)              (None, 1)                 9         \n",
      "=================================================================\n",
      "Total params: 248\n",
      "Trainable params: 248\n",
      "Non-trainable params: 0\n",
      "_________________________________________________________________\n"
     ]
    }
   ],
   "source": [
    "# Muestra el summary del modelo\n",
    "model.summary()"
   ]
  },
  {
   "cell_type": "code",
   "execution_count": 42,
   "id": "2wYe14-iXept",
   "metadata": {
    "colab": {
     "base_uri": "https://localhost:8080/"
    },
    "id": "2wYe14-iXept",
    "outputId": "a48195eb-3427-48f7-dfbc-566361361ec0"
   },
   "outputs": [
    {
     "data": {
      "text/plain": [
       "{'layers': [{'class_name': 'InputLayer',\n",
       "   'config': {'batch_input_shape': (None, 12),\n",
       "    'dtype': 'float32',\n",
       "    'name': 'Layer_1_input',\n",
       "    'ragged': False,\n",
       "    'sparse': False}},\n",
       "  {'class_name': 'Dense',\n",
       "   'config': {'activation': 'relu',\n",
       "    'activity_regularizer': None,\n",
       "    'batch_input_shape': (None, 12),\n",
       "    'bias_constraint': None,\n",
       "    'bias_initializer': {'class_name': 'Zeros', 'config': {}},\n",
       "    'bias_regularizer': None,\n",
       "    'dtype': 'float32',\n",
       "    'kernel_constraint': None,\n",
       "    'kernel_initializer': {'class_name': 'GlorotUniform',\n",
       "     'config': {'seed': None}},\n",
       "    'kernel_regularizer': None,\n",
       "    'name': 'Layer_1',\n",
       "    'trainable': True,\n",
       "    'units': 11,\n",
       "    'use_bias': True}},\n",
       "  {'class_name': 'Dense',\n",
       "   'config': {'activation': 'relu',\n",
       "    'activity_regularizer': None,\n",
       "    'bias_constraint': None,\n",
       "    'bias_initializer': {'class_name': 'Zeros', 'config': {}},\n",
       "    'bias_regularizer': None,\n",
       "    'dtype': 'float32',\n",
       "    'kernel_constraint': None,\n",
       "    'kernel_initializer': {'class_name': 'GlorotUniform',\n",
       "     'config': {'seed': None}},\n",
       "    'kernel_regularizer': None,\n",
       "    'name': 'Layer_2',\n",
       "    'trainable': True,\n",
       "    'units': 8,\n",
       "    'use_bias': True}},\n",
       "  {'class_name': 'Dense',\n",
       "   'config': {'activation': 'sigmoid',\n",
       "    'activity_regularizer': None,\n",
       "    'bias_constraint': None,\n",
       "    'bias_initializer': {'class_name': 'Zeros', 'config': {}},\n",
       "    'bias_regularizer': None,\n",
       "    'dtype': 'float32',\n",
       "    'kernel_constraint': None,\n",
       "    'kernel_initializer': {'class_name': 'GlorotUniform',\n",
       "     'config': {'seed': None}},\n",
       "    'kernel_regularizer': None,\n",
       "    'name': 'Layer_3',\n",
       "    'trainable': True,\n",
       "    'units': 1,\n",
       "    'use_bias': True}}],\n",
       " 'name': 'Model_1'}"
      ]
     },
     "execution_count": 42,
     "metadata": {
      "tags": []
     },
     "output_type": "execute_result"
    }
   ],
   "source": [
    "# Muestra la configuración del modelo\n",
    "model.get_config()"
   ]
  },
  {
   "cell_type": "code",
   "execution_count": 43,
   "id": "k-8T8fTiXihl",
   "metadata": {
    "colab": {
     "base_uri": "https://localhost:8080/"
    },
    "id": "k-8T8fTiXihl",
    "outputId": "a38242c6-207f-4cb2-8301-61994de8ccb3"
   },
   "outputs": [
    {
     "data": {
      "text/plain": [
       "[array([[ 0.19246322,  0.16402853, -0.10711709,  0.05809385,  0.3778252 ,\n",
       "         -0.47740743,  0.12624729,  0.35477972,  0.4993567 ,  0.35606968,\n",
       "          0.21272445],\n",
       "        [ 0.03539062,  0.02353412,  0.30241567, -0.35177472, -0.02818733,\n",
       "         -0.43838033, -0.5051423 , -0.1143375 , -0.13024583,  0.44128793,\n",
       "         -0.45313948],\n",
       "        [-0.3874684 ,  0.03781325,  0.08400965,  0.34598893, -0.43077144,\n",
       "          0.48235047,  0.49283618,  0.47297794,  0.34523284, -0.3161452 ,\n",
       "         -0.32270378],\n",
       "        [ 0.05945259, -0.1805087 , -0.2595337 , -0.29432786,  0.11936516,\n",
       "          0.3489464 ,  0.24400604,  0.07503486, -0.09964228, -0.08528742,\n",
       "         -0.5057744 ],\n",
       "        [-0.40509254, -0.4581355 , -0.28862482,  0.12249523, -0.11901397,\n",
       "         -0.09327671, -0.21621093, -0.40840548,  0.30766237,  0.49121398,\n",
       "         -0.21456856],\n",
       "        [-0.47354832,  0.49723595,  0.38000393, -0.17738926,  0.05067593,\n",
       "          0.31438243, -0.09002769,  0.31775576,  0.50691825,  0.30824786,\n",
       "          0.48031378],\n",
       "        [ 0.2256509 ,  0.20124084, -0.42733282,  0.31739032,  0.42574382,\n",
       "          0.29344827,  0.2631455 ,  0.09282565, -0.24064922, -0.32656425,\n",
       "          0.2647323 ],\n",
       "        [-0.01245388, -0.4720297 , -0.36382115, -0.3192827 , -0.1113677 ,\n",
       "         -0.26035517,  0.4834659 ,  0.13828373,  0.07991403, -0.05126676,\n",
       "          0.32509375],\n",
       "        [ 0.27142012,  0.08678013, -0.36169326,  0.33372003, -0.11205047,\n",
       "          0.1998133 ,  0.09134489,  0.31511623,  0.323592  ,  0.03578377,\n",
       "         -0.39426675],\n",
       "        [-0.5008093 ,  0.05234969,  0.25987208,  0.34597343, -0.2825934 ,\n",
       "          0.23645598,  0.08142877,  0.2157538 , -0.4670628 , -0.30666775,\n",
       "         -0.08352378],\n",
       "        [ 0.44864267, -0.11689207,  0.18083727,  0.21149206, -0.13990137,\n",
       "          0.24283081,  0.14601755,  0.39307922, -0.42737946, -0.08849639,\n",
       "          0.18179673],\n",
       "        [-0.12228405, -0.1772793 ,  0.06425571,  0.0104183 , -0.07648587,\n",
       "         -0.20984462,  0.21881783, -0.2940949 ,  0.412678  ,  0.35073882,\n",
       "         -0.15634075]], dtype=float32),\n",
       " array([0., 0., 0., 0., 0., 0., 0., 0., 0., 0., 0.], dtype=float32),\n",
       " array([[-3.90911669e-01, -2.72617549e-01,  4.18477058e-01,\n",
       "         -1.07367039e-02, -2.03132063e-01, -5.46990633e-02,\n",
       "         -3.87490511e-01,  1.55079365e-03],\n",
       "        [ 1.58626974e-01,  2.30950296e-01,  2.64981508e-01,\n",
       "          3.81002665e-01, -2.13308483e-01, -2.15733051e-03,\n",
       "          1.41787887e-01, -1.78885460e-02],\n",
       "        [-7.92148113e-02, -3.89067709e-01,  2.00944185e-01,\n",
       "         -5.02997041e-01,  3.20937037e-01, -5.35507202e-02,\n",
       "         -3.17464411e-01,  4.13315296e-02],\n",
       "        [ 5.50537288e-01,  2.10217297e-01,  4.63353813e-01,\n",
       "          2.92733490e-01, -2.99562216e-02, -1.22146606e-02,\n",
       "         -6.03061318e-02, -4.34149981e-01],\n",
       "        [ 1.19288504e-01, -2.44523734e-01, -2.17085928e-01,\n",
       "         -7.72071183e-02,  4.00640905e-01,  3.25965583e-01,\n",
       "         -2.07689375e-01, -4.51266766e-04],\n",
       "        [-2.51339704e-01, -4.40061033e-01, -2.92685270e-01,\n",
       "          4.65183556e-01,  4.22448337e-01, -2.27425247e-01,\n",
       "          4.18240309e-01, -5.12058496e-01],\n",
       "        [ 3.43623400e-01,  2.39091814e-01,  3.67767215e-01,\n",
       "          2.42954314e-01,  4.75599468e-01, -5.46855330e-02,\n",
       "         -3.03034663e-01,  2.27762640e-01],\n",
       "        [ 3.70539665e-01,  2.09770739e-01,  1.27369165e-02,\n",
       "         -5.03472805e-01, -4.62536395e-01,  4.59687412e-01,\n",
       "          1.26249850e-01,  3.66482496e-01],\n",
       "        [ 1.81714058e-01, -3.40869844e-01,  4.84646976e-01,\n",
       "          5.47078550e-01,  3.31723630e-01,  2.43722677e-01,\n",
       "          2.74627507e-01, -4.55171943e-01],\n",
       "        [ 3.29506397e-01,  2.71041691e-01, -1.73249096e-01,\n",
       "          4.93953645e-01,  3.22535694e-01,  1.20043397e-01,\n",
       "         -2.43204594e-01,  8.53561759e-02],\n",
       "        [ 5.30483544e-01, -1.04511768e-01,  4.77774441e-01,\n",
       "          4.76352513e-01,  3.84829640e-01, -2.63340384e-01,\n",
       "         -1.30603522e-01, -3.45342159e-02]], dtype=float32),\n",
       " array([0., 0., 0., 0., 0., 0., 0., 0.], dtype=float32),\n",
       " array([[-0.27446973],\n",
       "        [-0.7470159 ],\n",
       "        [-0.8141493 ],\n",
       "        [-0.25137335],\n",
       "        [-0.55955243],\n",
       "        [ 0.09157103],\n",
       "        [ 0.41342723],\n",
       "        [ 0.5979018 ]], dtype=float32),\n",
       " array([0.], dtype=float32)]"
      ]
     },
     "execution_count": 43,
     "metadata": {
      "tags": []
     },
     "output_type": "execute_result"
    }
   ],
   "source": [
    "# Muestra los pesos recién inicializados del modelo\n",
    "model.get_weights()"
   ]
  },
  {
   "cell_type": "markdown",
   "id": "5c5716bf",
   "metadata": {
    "id": "5c5716bf"
   },
   "source": [
    "## Compilación del modelo"
   ]
  },
  {
   "cell_type": "markdown",
   "id": "4eba203a",
   "metadata": {
    "id": "4eba203a"
   },
   "source": [
    "Antes de entrenar un modelo con el método *fit()* de Keras, es necesario especificar una función de pérdida, un optimizador y, opcionalmente, algunas métricas para monitorear.\n",
    "\n",
    "> Bloque con sangría\n",
    "\n",
    "\n",
    "\n",
    "Para ello, se le pasan estos hiperparámetros al modelo como argumentos del método *compile()* de Keras:\n",
    "\n",
    "`model.compile(\n",
    "    optimizer=keras.optimizers.RMSprop(learning_rate=1e-3),\n",
    "    loss=keras.losses.SparseCategoricalCrossentropy(),\n",
    "    metrics=[keras.metrics.SparseCategoricalAccuracy()],\n",
    ")`\n",
    "\n",
    "***Para más información acerca del método compile() de Keras, consultar: https://keras.io/api/models/model_training_apis/***"
   ]
  },
  {
   "cell_type": "markdown",
   "id": "dME_ZiYIdsl-",
   "metadata": {
    "id": "dME_ZiYIdsl-"
   },
   "source": [
    "### Tipos de funciones de pérdida\n",
    "El propósito de las funciones de pérdida es calcular la cantidad que un modelo debe buscar minimizar durante el entrenamiento.\n",
    "\n",
    "Las siguientes funciones de pérdida son de las más populares:\n",
    "- **BinaryCrossentropy**: calcula la pérdida de entropía cruzada entre etiquetas verdaderas y etiquetas predichas, por lo que se utiliza aplicaciones de clasificación binaria (etiquetas 0 o 1).\n",
    "- **CategoricalCrossentropy**: calcula la pérdida de entropía cruzada para dos o más clases de etiquetas. Espera que las etiquetas se proporcionen en una representación one_hot (es decir, de tipo *one hot encoding*). Esta codificación puede llevarse a cabo mediante el método get_dummies() de la librería pandas, mediante el OneHotEncoder() de Scikit Learn, de forma manual...\n",
    "\n",
    "***Para más información acerca de las funciones de pérdida disponibles en Keras, consultar https://keras.io/api/losses/***"
   ]
  },
  {
   "cell_type": "markdown",
   "id": "atWxdSrofjPJ",
   "metadata": {
    "id": "atWxdSrofjPJ"
   },
   "source": [
    "### Optimizadores\n",
    "\n",
    "El método fundamental de optimización en IA es el de descenso de gradiente. Sin embargo, existen muchas variaciones que se han ideado con el fin de poner solución a los diversos problemas que suelen experimentar las redes neuronales (como el de los mínimos locales).\n",
    "\n",
    "Algunos de los optimizadores disponibles en Keras son los siguientes:\n",
    "- **SGD** (el clásico Stochastic Gradient Descent)\n",
    "- **RMSprop**\n",
    "- **Adam**\n",
    "- **Adagrad**\n",
    "- **Adadelta** \n",
    "- **Adamax**\n",
    "- **Nadam**\n",
    "- **Ftrl**\n",
    "\n",
    "***Para más información acerca de los optimizadores disponibles en Keras, consultar https://keras.io/api/optimizers/*** "
   ]
  },
  {
   "cell_type": "markdown",
   "id": "UrCX7u-8hGw_",
   "metadata": {
    "id": "UrCX7u-8hGw_"
   },
   "source": [
    "### Métricas de monitorización\n",
    "Una métrica es una función que se utiliza para juzgar el rendimiento del modelo.\n",
    "\n",
    "Las funciones métricas son similares a las funciones de pérdida, excepto por el hecho de que los resultados de evaluación obtenidos por una métrica no se utilizan al entrenar el modelo, mientras que los de la pérdida sí. De todos modos, es posible utilizar cualquier función de pérdida como métrica.\n",
    "\n",
    "***Para más información acerca de los optimizadores disponibles en Keras, consultar https://keras.io/api/metrics/*** "
   ]
  },
  {
   "cell_type": "code",
   "execution_count": 44,
   "id": "_4Xfu_KxXPHk",
   "metadata": {
    "id": "_4Xfu_KxXPHk"
   },
   "outputs": [],
   "source": [
    "# Compila el modelo anterior, utilizando pérdida de tipo binary_crossentropy, \n",
    "# optimizador tipo Adam y métrica de monitorización de tipo accuracy\n",
    "model.compile(loss='binary_crossentropy',\n",
    "              optimizer='adam',\n",
    "              metrics=['accuracy'])"
   ]
  },
  {
   "cell_type": "markdown",
   "id": "rNjtytz3X_uh",
   "metadata": {
    "id": "rNjtytz3X_uh"
   },
   "source": [
    "## Ajuste del modelo"
   ]
  },
  {
   "cell_type": "code",
   "execution_count": 46,
   "id": "Tg-R-Qi6YDcZ",
   "metadata": {
    "colab": {
     "base_uri": "https://localhost:8080/"
    },
    "id": "Tg-R-Qi6YDcZ",
    "outputId": "fb100e8c-3633-4be6-8f66-ea7b403a652b"
   },
   "outputs": [
    {
     "name": "stdout",
     "output_type": "stream",
     "text": [
      "Epoch 1/20\n",
      "3724/3724 [==============================] - 6s 1ms/step - loss: 0.1011 - accuracy: 0.9689\n",
      "Epoch 2/20\n",
      "3724/3724 [==============================] - 5s 1ms/step - loss: 0.0322 - accuracy: 0.9946\n",
      "Epoch 3/20\n",
      "3724/3724 [==============================] - 5s 1ms/step - loss: 0.0260 - accuracy: 0.9952\n",
      "Epoch 4/20\n",
      "3724/3724 [==============================] - 5s 1ms/step - loss: 0.0231 - accuracy: 0.9960\n",
      "Epoch 5/20\n",
      "3724/3724 [==============================] - 5s 1ms/step - loss: 0.0196 - accuracy: 0.9962\n",
      "Epoch 6/20\n",
      "3724/3724 [==============================] - 5s 1ms/step - loss: 0.0180 - accuracy: 0.9965\n",
      "Epoch 7/20\n",
      "3724/3724 [==============================] - 6s 1ms/step - loss: 0.0173 - accuracy: 0.9968\n",
      "Epoch 8/20\n",
      "3724/3724 [==============================] - 5s 1ms/step - loss: 0.0145 - accuracy: 0.9970\n",
      "Epoch 9/20\n",
      "3724/3724 [==============================] - 5s 1ms/step - loss: 0.0150 - accuracy: 0.9968\n",
      "Epoch 10/20\n",
      "3724/3724 [==============================] - 5s 1ms/step - loss: 0.0133 - accuracy: 0.9970\n",
      "Epoch 11/20\n",
      "3724/3724 [==============================] - 5s 1ms/step - loss: 0.0142 - accuracy: 0.9965\n",
      "Epoch 12/20\n",
      "3724/3724 [==============================] - 5s 1ms/step - loss: 0.0115 - accuracy: 0.9976\n",
      "Epoch 13/20\n",
      "3724/3724 [==============================] - 5s 1ms/step - loss: 0.0122 - accuracy: 0.9970\n",
      "Epoch 14/20\n",
      "3724/3724 [==============================] - 5s 1ms/step - loss: 0.0111 - accuracy: 0.9976\n",
      "Epoch 15/20\n",
      "3724/3724 [==============================] - 5s 1ms/step - loss: 0.0119 - accuracy: 0.9962\n",
      "Epoch 16/20\n",
      "3724/3724 [==============================] - 5s 1ms/step - loss: 0.0119 - accuracy: 0.9973\n",
      "Epoch 17/20\n",
      "3724/3724 [==============================] - 5s 1ms/step - loss: 0.0104 - accuracy: 0.9979\n",
      "Epoch 18/20\n",
      "3724/3724 [==============================] - 5s 1ms/step - loss: 0.0102 - accuracy: 0.9979\n",
      "Epoch 19/20\n",
      "3724/3724 [==============================] - 6s 2ms/step - loss: 0.0102 - accuracy: 0.9979\n",
      "Epoch 20/20\n",
      "3724/3724 [==============================] - 5s 1ms/step - loss: 0.0092 - accuracy: 0.9987\n"
     ]
    },
    {
     "data": {
      "text/plain": [
       "<tensorflow.python.keras.callbacks.History at 0x7f9673c60a50>"
      ]
     },
     "execution_count": 46,
     "metadata": {
      "tags": []
     },
     "output_type": "execute_result"
    }
   ],
   "source": [
    "# Ajusta el modelo utilizando el set de entrenamiento\n",
    "# Establece 20 epochs y un tamaño de lote de 1 sola muestra\n",
    "# Para mostrar información durante el entrenamiento, establece la verbosidad en 1\n",
    "# Guarda el historial de entrenamiento en una variable llamada history\n",
    "history = model.fit(X_train, y_train,\n",
    "                    epochs=20, \n",
    "                    batch_size=1, \n",
    "                    verbose=1)"
   ]
  },
  {
   "cell_type": "markdown",
   "id": "GjbW-pU7YuvQ",
   "metadata": {
    "id": "GjbW-pU7YuvQ"
   },
   "source": [
    "## Evaluación "
   ]
  },
  {
   "cell_type": "code",
   "execution_count": 48,
   "id": "dp3ZkgdAZBrZ",
   "metadata": {
    "colab": {
     "base_uri": "https://localhost:8080/"
    },
    "id": "dp3ZkgdAZBrZ",
    "outputId": "ffac0693-587d-49f9-e542-132235325e5b"
   },
   "outputs": [
    {
     "name": "stdout",
     "output_type": "stream",
     "text": [
      "50/50 [==============================] - 0s 1ms/step - loss: 0.0278 - accuracy: 0.9950\n"
     ]
    },
    {
     "data": {
      "text/plain": [
       "[0.027846110984683037, 0.9949874877929688]"
      ]
     },
     "execution_count": 48,
     "metadata": {
      "tags": []
     },
     "output_type": "execute_result"
    }
   ],
   "source": [
    "# Evalúa el modelo con el dataset de prueba\n",
    "# Usa el método evaluate() de Keras\n",
    "score = model.evaluate(X_test, y_test,verbose=1)\n",
    "\n",
    "score"
   ]
  },
  {
   "cell_type": "markdown",
   "id": "mVdkdngkZWTl",
   "metadata": {
    "id": "mVdkdngkZWTl"
   },
   "source": [
    "Edita esta celda de tipo Markdown y escribe algunas conclusiones acerca del resultado de la evaluación. ¿Qué significa cada uno de los dos valores que se muestran?"
   ]
  },
  {
   "cell_type": "markdown",
   "id": "lJnU8AuzZgZF",
   "metadata": {
    "id": "lJnU8AuzZgZF"
   },
   "source": [
    "## Predicción"
   ]
  },
  {
   "cell_type": "code",
   "execution_count": 55,
   "id": "urw7dyktYy2D",
   "metadata": {
    "colab": {
     "base_uri": "https://localhost:8080/"
    },
    "id": "urw7dyktYy2D",
    "outputId": "50a2385e-c648-4639-e7fa-285a4e9f9698"
   },
   "outputs": [
    {
     "data": {
      "text/plain": [
       "array([[6.7669153e-04],\n",
       "       [2.3251384e-02],\n",
       "       [1.6950965e-03],\n",
       "       ...,\n",
       "       [1.0000000e+00],\n",
       "       [4.5025349e-04],\n",
       "       [1.6717911e-03]], dtype=float32)"
      ]
     },
     "execution_count": 55,
     "metadata": {
      "tags": []
     },
     "output_type": "execute_result"
    }
   ],
   "source": [
    "# Utiliza el modelo ajustado para realizar predicciones en el dataset de prueba\n",
    "# Usa el método predict() de Keras y guarda las predicciones en una variable llamada probs\n",
    "probs = model.predict(X_test)\n",
    "\n",
    "# Muestra las predicciones\n",
    "probs"
   ]
  },
  {
   "cell_type": "code",
   "execution_count": 57,
   "id": "jhROi2_4amD9",
   "metadata": {
    "colab": {
     "base_uri": "https://localhost:8080/"
    },
    "id": "jhROi2_4amD9",
    "outputId": "56f6da15-09a8-415a-bc17-302899606dbc"
   },
   "outputs": [
    {
     "data": {
      "text/plain": [
       "array([0, 0, 0, ..., 0, 0, 0])"
      ]
     },
     "execution_count": 57,
     "metadata": {
      "tags": []
     },
     "output_type": "execute_result"
    }
   ],
   "source": [
    "# Ahora, utiliza el modelo ajustado para realizar predicciones en el dataset de prueba\n",
    "# Para ello, ejecuta el código de esta misma celda:\n",
    "y_pred = np.argmax(model.predict(X_test), axis=-1)\n",
    "\n",
    "# Muestra las predicciones\n",
    "y_pred"
   ]
  },
  {
   "cell_type": "markdown",
   "id": "wY3e_FfccRea",
   "metadata": {
    "id": "wY3e_FfccRea"
   },
   "source": [
    "Edita esta celda de tipo Markdown y añade algunas conclusiones acerca de las dos predicciones realizadas en las celdas anteriores. ¿Qué diferencia hay entre ambas? ¿A qué se refiere cada una de ellas?"
   ]
  },
  {
   "cell_type": "markdown",
   "id": "S6KhjYaokNT4",
   "metadata": {
    "id": "S6KhjYaokNT4"
   },
   "source": [
    "## Ampliaciones"
   ]
  },
  {
   "cell_type": "markdown",
   "id": "gqGJWCJ5cvIj",
   "metadata": {
    "id": "gqGJWCJ5cvIj"
   },
   "source": [
    "### Primer experimento\n",
    "\n",
    "Tras la generación del modelo de clasificación binaria anterior, realiza ahora otro experimento con las siguientes variaciones:\n",
    "\n",
    "- Define y entrena un nuevo modelo utilizando 3 capas ocultas. Añade más de 20 neuronas en cada una de las capas ocultas.\n",
    "- Asigna \"Model_2\" como nombre de este nuevo modelo.\n",
    "- Evalúa el modelo utilizando el dataset de prueba."
   ]
  },
  {
   "cell_type": "code",
   "execution_count": 60,
   "id": "tGwmoknBhq9Y",
   "metadata": {
    "id": "tGwmoknBhq9Y"
   },
   "outputs": [],
   "source": [
    "model2 = Sequential(name=\"Model_2\")\n",
    "\n",
    "# Input\n",
    "model2.add(layers.Dense(11, \n",
    "                input_shape=(input_shape,), \n",
    "                activation=\"relu\",\n",
    "                kernel_initializer=\"glorot_uniform\",\n",
    "                bias_initializer=\"zeros\",\n",
    "                name=\"Layer_1\"))\n",
    "\n",
    "# Hidden 1\n",
    "model2.add(layers.Dense(30, \n",
    "                activation='relu',\n",
    "                kernel_initializer=\"glorot_uniform\",\n",
    "                bias_initializer=\"zeros\",\n",
    "                name=\"Layer_2\"))\n",
    "\n",
    "# Hidden 2\n",
    "model2.add(layers.Dense(40, \n",
    "                activation='relu',\n",
    "                kernel_initializer=\"glorot_uniform\",\n",
    "                bias_initializer=\"zeros\",\n",
    "                name=\"Layer_3\"))\n",
    "\n",
    "# Hidden 3\n",
    "model2.add(layers.Dense(50, \n",
    "                activation='relu',\n",
    "                kernel_initializer=\"glorot_uniform\",\n",
    "                bias_initializer=\"zeros\",\n",
    "                name=\"Layer_4\"))\n",
    "\n",
    "# Output\n",
    "model2.add(layers.Dense(1, \n",
    "                activation='sigmoid',\n",
    "                kernel_initializer=\"glorot_uniform\",\n",
    "                bias_initializer=\"zeros\",\n",
    "                name=\"Layer_5\"))"
   ]
  },
  {
   "cell_type": "code",
   "execution_count": 61,
   "id": "d5IamxL7iJ-l",
   "metadata": {
    "id": "d5IamxL7iJ-l"
   },
   "outputs": [],
   "source": [
    "model2.compile(loss='binary_crossentropy',\n",
    "              optimizer='adam',\n",
    "              metrics=['accuracy'])"
   ]
  },
  {
   "cell_type": "code",
   "execution_count": 62,
   "id": "XXK9akTKiPhs",
   "metadata": {
    "colab": {
     "base_uri": "https://localhost:8080/"
    },
    "id": "XXK9akTKiPhs",
    "outputId": "9529a2f0-e340-465d-9f3d-07b02557ec8b"
   },
   "outputs": [
    {
     "name": "stdout",
     "output_type": "stream",
     "text": [
      "Epoch 1/20\n",
      "3724/3724 [==============================] - 7s 2ms/step - loss: 0.0828 - accuracy: 0.9721\n",
      "Epoch 2/20\n",
      "3724/3724 [==============================] - 7s 2ms/step - loss: 0.0398 - accuracy: 0.9895\n",
      "Epoch 3/20\n",
      "3724/3724 [==============================] - 7s 2ms/step - loss: 0.0287 - accuracy: 0.9944\n",
      "Epoch 4/20\n",
      "3724/3724 [==============================] - 7s 2ms/step - loss: 0.0258 - accuracy: 0.9952\n",
      "Epoch 5/20\n",
      "3724/3724 [==============================] - 6s 2ms/step - loss: 0.0215 - accuracy: 0.9962\n",
      "Epoch 6/20\n",
      "3724/3724 [==============================] - 7s 2ms/step - loss: 0.0196 - accuracy: 0.9965\n",
      "Epoch 7/20\n",
      "3724/3724 [==============================] - 7s 2ms/step - loss: 0.0169 - accuracy: 0.9968\n",
      "Epoch 8/20\n",
      "3724/3724 [==============================] - 6s 2ms/step - loss: 0.0224 - accuracy: 0.9965\n",
      "Epoch 9/20\n",
      "3724/3724 [==============================] - 6s 2ms/step - loss: 0.0181 - accuracy: 0.9957\n",
      "Epoch 10/20\n",
      "3724/3724 [==============================] - 7s 2ms/step - loss: 0.0150 - accuracy: 0.9968\n",
      "Epoch 11/20\n",
      "3724/3724 [==============================] - 7s 2ms/step - loss: 0.0167 - accuracy: 0.9962\n",
      "Epoch 12/20\n",
      "3724/3724 [==============================] - 7s 2ms/step - loss: 0.0145 - accuracy: 0.9960\n",
      "Epoch 13/20\n",
      "3724/3724 [==============================] - 7s 2ms/step - loss: 0.0166 - accuracy: 0.9968\n",
      "Epoch 14/20\n",
      "3724/3724 [==============================] - 6s 2ms/step - loss: 0.0119 - accuracy: 0.9979\n",
      "Epoch 15/20\n",
      "3724/3724 [==============================] - 7s 2ms/step - loss: 0.0174 - accuracy: 0.9960\n",
      "Epoch 16/20\n",
      "3724/3724 [==============================] - 7s 2ms/step - loss: 0.0131 - accuracy: 0.9970\n",
      "Epoch 17/20\n",
      "3724/3724 [==============================] - 7s 2ms/step - loss: 0.0103 - accuracy: 0.9976\n",
      "Epoch 18/20\n",
      "3724/3724 [==============================] - 6s 2ms/step - loss: 0.0139 - accuracy: 0.9970\n",
      "Epoch 19/20\n",
      "3724/3724 [==============================] - 7s 2ms/step - loss: 0.0102 - accuracy: 0.9979\n",
      "Epoch 20/20\n",
      "3724/3724 [==============================] - 6s 2ms/step - loss: 0.0097 - accuracy: 0.9981\n"
     ]
    }
   ],
   "source": [
    "history2 = model2.fit(X_train, y_train,\n",
    "                    epochs=20, \n",
    "                    batch_size=1, \n",
    "                    verbose=1)"
   ]
  },
  {
   "cell_type": "code",
   "execution_count": 63,
   "id": "eKw-n9NAi7Pc",
   "metadata": {
    "colab": {
     "base_uri": "https://localhost:8080/"
    },
    "id": "eKw-n9NAi7Pc",
    "outputId": "d6d2454e-9eae-4c09-b6b4-cafce6dbf352"
   },
   "outputs": [
    {
     "name": "stdout",
     "output_type": "stream",
     "text": [
      "50/50 [==============================] - 0s 1ms/step - loss: 0.0546 - accuracy: 0.9944\n"
     ]
    },
    {
     "data": {
      "text/plain": [
       "[0.05455427244305611, 0.9943609237670898]"
      ]
     },
     "execution_count": 63,
     "metadata": {
      "tags": []
     },
     "output_type": "execute_result"
    }
   ],
   "source": [
    "model2.evaluate(X_test, y_test,verbose=1)"
   ]
  },
  {
   "cell_type": "markdown",
   "id": "gNRd2CHFjE10",
   "metadata": {
    "id": "gNRd2CHFjE10"
   },
   "source": [
    "Edita esta celda de tipo Markdown y escribe algunas conclusiones comparando el rendimiento de los dos modelos entrenados hasta este momento. ¿Ha mejorado sustancialmente el rendimiento del modelo al hacer más compleja la arquitectura? ¿Ha merecido la pena?"
   ]
  },
  {
   "cell_type": "markdown",
   "id": "pOeYr3QYiku2",
   "metadata": {
    "id": "pOeYr3QYiku2"
   },
   "source": [
    "### Segundo experimento\n",
    "\n",
    "Hasta ahora, no hemos controlado el verdadero rendimiento del modelo durante el entrenamiento, ya que no hemos utilizado ningún set de validación ni ninguna técnica de paralización inteligente del ajuste para prevenir el overfitting. \n",
    "\n",
    "Por suerte, nuestros dos modelos han respondido bien ante los datos de prueba una vez entrenados, pero podría haberse producido un gran sobreajuste al aumentar tanto la complejidad del modelo. En general, existen dos técnicas básicas muy efectivas para controlar este riesgo:\n",
    "- Regularización, que puede aplicarse de varias maneras. En Keras, los regularizadores se aplican capa a capa.\n",
    "- Early stopping, que monitorea el rendimiento del modelo durante el entrenamiento al realizar una validación en un subconjunto de validación a medida que se avanza en el ajuste. Cuando se detecta que el rendimiento del modelo empieza a empeorar en el dataset de validación y, en cambio, sigue aumentando en el de entrenamiento, se finaliza automáticamente el ajuste. De esta manera, se evita que empeore el overfitting que estaba empezando a producirse.\n",
    "\n",
    "Ejemplo de aplicación de regularización en una capa:\n",
    "\n",
    "`layers.Dense(\n",
    "    units=64,\n",
    "    kernel_regularizer= \"l1_l2\",\n",
    "    bias_regularizer= \"l2\",\n",
    "    activity_regularizer= \"l2\"\n",
    ")`\n",
    "\n",
    "Donde:\n",
    "- kernel_regularizer aplica una penalización en el kernel de la capa\n",
    "- bias_regularizer aplica una penalización en el sesgo de la capa\n",
    "- activity_regularizer aplica una penalización en la salida de la capa\n",
    "\n",
    "Por otro lado, a continuación se muestra un ejemplo de aplicación de early stopping durante el entrenamiento:\n",
    "\n",
    "`callback = tf.keras.callbacks.EarlyStopping(monitor='loss', patience=3)`\n",
    "\n",
    "`# Este callback finalizará automáticamente el entrenamiento cuando no haya mejora en la pérdida durante 3 epochs consecutivas`\n",
    "\n",
    "`model = tf.keras.models.Sequential([tf.keras.layers.Dense(10)])`\n",
    "\n",
    "`model.compile(tf.keras.optimizers.SGD(), loss='mse')`\n",
    "\n",
    "`history = model.fit(np.arange(100).reshape(5, 20), np.zeros(5),\n",
    "                     epochs=10, batch_size=1, callbacks=[callback],\n",
    "                     verbose=0)`\n",
    "\n",
    "***Para más información acerca de los regularizadores disponibles en Keras, consultar https://keras.io/api/layers/regularizers/*** \n",
    "\n",
    "***Para más información acerca de los optimizadores disponibles en Keras, consultar https://keras.io/api/callbacks/early_stopping/***  \n"
   ]
  },
  {
   "cell_type": "markdown",
   "id": "ITPn28VkmavC",
   "metadata": {
    "id": "ITPn28VkmavC"
   },
   "source": [
    "Como segundo experimento, define, entrena y evalúa el mismo modelo utilizado en el experimento 1, aplicando:\n",
    "- Regularización en el kernel de la capa de tipo L1 (Lasso) \n",
    "- Early stopping con paciencia máxima para 3 epochs"
   ]
  },
  {
   "cell_type": "code",
   "execution_count": null,
   "id": "H6Lpr4CqmUHT",
   "metadata": {
    "id": "H6Lpr4CqmUHT"
   },
   "outputs": [],
   "source": []
  },
  {
   "cell_type": "markdown",
   "id": "hrl3InppkYOs",
   "metadata": {
    "id": "hrl3InppkYOs"
   },
   "source": [
    "### Tercer experimento\n",
    "Realiza ahora las siguientes variaciones:\n",
    "- Establece la variable \"quality\" como el nuevo target y utiliza el resto de variables (incluida \"type\") como features. Ten en cuenta que, de esta forma, el problema pasa a ser de clasificación multiclase, así que haz los cambios necesarios en la arquitectura y compilación del modelo.\n",
    "- Nombra al modelo \"Model_3\".\n",
    "- Experimenta con algún nuevo optimizador.\n",
    "- Inicializa los pesos de forma adecuada.\n",
    "- Añade algún tipo de regularización.\n",
    "- Entrena y evalúa este nuevo modelo utilizando el dataset de prueba. \n",
    "- Aplica early stopping.\n"
   ]
  },
  {
   "cell_type": "code",
   "execution_count": null,
   "id": "YKMTfIguj-dP",
   "metadata": {
    "id": "YKMTfIguj-dP"
   },
   "outputs": [],
   "source": []
  }
 ],
 "metadata": {
  "colab": {
   "name": "IA - Taller de refuerzo de Keras (I).ipynb",
   "provenance": [],
   "toc_visible": true
  },
  "hide_input": false,
  "kernelspec": {
   "display_name": "Python 3 (ipykernel)",
   "language": "python",
   "name": "python3"
  },
  "language_info": {
   "codemirror_mode": {
    "name": "ipython",
    "version": 3
   },
   "file_extension": ".py",
   "mimetype": "text/x-python",
   "name": "python",
   "nbconvert_exporter": "python",
   "pygments_lexer": "ipython3",
   "version": "3.8.0"
  },
  "toc": {
   "base_numbering": 1,
   "nav_menu": {},
   "number_sections": true,
   "sideBar": true,
   "skip_h1_title": false,
   "title_cell": "Table of Contents",
   "title_sidebar": "Contents",
   "toc_cell": false,
   "toc_position": {},
   "toc_section_display": true,
   "toc_window_display": true
  },
  "varInspector": {
   "cols": {
    "lenName": 16,
    "lenType": 16,
    "lenVar": 40
   },
   "kernels_config": {
    "python": {
     "delete_cmd_postfix": "",
     "delete_cmd_prefix": "del ",
     "library": "var_list.py",
     "varRefreshCmd": "print(var_dic_list())"
    },
    "r": {
     "delete_cmd_postfix": ") ",
     "delete_cmd_prefix": "rm(",
     "library": "var_list.r",
     "varRefreshCmd": "cat(var_dic_list()) "
    }
   },
   "types_to_exclude": [
    "module",
    "function",
    "builtin_function_or_method",
    "instance",
    "_Feature"
   ],
   "window_display": false
  }
 },
 "nbformat": 4,
 "nbformat_minor": 5
}
