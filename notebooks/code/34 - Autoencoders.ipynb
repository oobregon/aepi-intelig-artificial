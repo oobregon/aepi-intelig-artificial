{
  "nbformat": 4,
  "nbformat_minor": 0,
  "metadata": {
    "colab": {
      "name": "Autoencoders.ipynb",
      "provenance": [],
      "collapsed_sections": []
    },
    "kernelspec": {
      "name": "python3",
      "display_name": "Python 3"
    },
    "language_info": {
      "name": "python"
    },
    "accelerator": "GPU"
  },
  "cells": [
    {
      "cell_type": "markdown",
      "metadata": {
        "id": "T9_Db8NQY8GX"
      },
      "source": [
        "# Implementación de autoencoders \n",
        "\n",
        "En esta guía, se responden algunas preguntas típicas sobre autoencoders y se cubren ejemplos de código de los siguientes modelos:\n",
        "\n",
        "- un codificador automático simple basado en una capa completamente conectada\n",
        "- un codificador automático escaso\n",
        "- un codificador automático profundo y completamente conectado\n",
        "- un codificador automático convolucional profundo\n",
        "- un modelo de eliminación de ruido de imágenes\n",
        "- un codificador automático secuencia a secuencia\n",
        "- un codificador automático variacional\n",
        "\n",
        "*Nota: se necesita la versión 2.0.0 o superior de Keras para ejecutarlos.*"
      ]
    },
    {
      "cell_type": "code",
      "metadata": {
        "colab": {
          "base_uri": "https://localhost:8080/"
        },
        "id": "5eJhsrKyY9rc",
        "outputId": "6a333f39-321d-48fc-ffe8-c91eeba00126"
      },
      "source": [
        "!pip show keras"
      ],
      "execution_count": null,
      "outputs": [
        {
          "output_type": "stream",
          "text": [
            "Name: Keras\n",
            "Version: 2.4.3\n",
            "Summary: Deep Learning for humans\n",
            "Home-page: https://github.com/keras-team/keras\n",
            "Author: Francois Chollet\n",
            "Author-email: francois.chollet@gmail.com\n",
            "License: MIT\n",
            "Location: /usr/local/lib/python3.7/dist-packages\n",
            "Requires: pyyaml, scipy, h5py, numpy\n",
            "Required-by: keras-vis\n"
          ],
          "name": "stdout"
        }
      ]
    },
    {
      "cell_type": "markdown",
      "metadata": {
        "id": "ozfkjV_4ZPXw"
      },
      "source": [
        "## Repaso teórico\n",
        "### ¿Qué son los autoencoders?"
      ]
    },
    {
      "cell_type": "markdown",
      "metadata": {
        "id": "VKvHVA-JZS5J"
      },
      "source": [
        "Un autoencoder es un algoritmo de compresión de datos que permite \"aprender\" automáticamente la función de compresión y la de descompresión. Por regla general, ambas funciones se implementan haciendo uso de redes neuronales.\n",
        "\n",
        "Hay tres factores importantes a tener en cuenta:\n",
        "\n",
        "- Los autoencoders son específicos para cada conjunto de datos, lo que significa que solo podrán comprimir datos similares a los que han utilizado para ser entrenados. Esto es diferente de, digamos, el algoritmo de compresión MPEG-2 Audio Layer III (MP3), que admite suposiciones sobre el \"sonido\" en general, pero no sobre tipos específicos de sonidos. Un autoencoder entrenado en imágenes de rostros haría un trabajo bastante pobre al comprimir imágenes de árboles, porque las características que aprendería serían específicas de cada rostro.\n",
        "\n",
        "- Los autoencoders tienen pérdida, lo que significa que las salidas descomprimidas se degradarán en comparación con las entradas originales (similar a la compresión MP3 o JPEG). Esto difiere de la compresión aritmética sin pérdidas.\n",
        "\n",
        "- Los autoencoders aprenden automáticamente a partir de ejemplos de datos, lo cual es una propiedad útil: significa que es fácil entrenar instancias especializadas del algoritmo que funcionarán bien en un tipo específico de entrada. No requiere ninguna nueva ingeniería, solo datos de entrenamiento apropiados.\n",
        "\n",
        "Por otro lado, para implementar un autoencoder, se necesitan tres componentes: \n",
        "- Una función de codificación\n",
        "- Una función de decodificación \n",
        "- Una función de pérdida "
      ]
    },
    {
      "cell_type": "markdown",
      "metadata": {
        "id": "1MTG88dVabjJ"
      },
      "source": [
        "### ¿Son buenos en la compresión de datos?\n",
        "\n",
        "Por lo general, no realmente. En la compresión de imágenes, por ejemplo, es bastante difícil entrenar un autoencoder que haga un mejor trabajo que un algoritmo básico como JPEG y, por lo general, la única forma de lograrlo es restringiéndose a un tipo de imagen muy específico (por ejemplo, uno para el que JPEG no haga un buen trabajo). El hecho de que los autoencoders sean específicos de datos los hace generalmente poco prácticos para los problemas de compresión de datos del mundo real: solo pueden usarse en datos que sean similares a los que se usaron para entrenar, y hacerlos más generales, por lo tanto, requiere muchos datos de entrenamiento. Es posible que los futuros avances cambien esta limitación."
      ]
    },
    {
      "cell_type": "markdown",
      "metadata": {
        "id": "T0y4_K4Ya3qw"
      },
      "source": [
        "### ¿Para qué sirven los autoencoders?\n",
        "Rara vez se utilizan en aplicaciones prácticas. En 2012 encontraron brevemente una aplicación en el preentrenamiento por capas para redes neuronales convolucionales profundas, pero esto rápidamente pasó de moda cuando los desarrolladores comenzaron a darse cuenta de que mejores esquemas de inicialización de peso aleatorio eran suficientes para entrenar redes profundas desde cero. En 2014, la normalización por lotes comenzó a permitir redes aún más profundas, y desde finales de 2015 fue posible entrenar redes profundas arbitrariamente desde cero utilizando otras técnicas modernas.\n",
        "\n",
        "Hoy en día, dos aplicaciones prácticas interesantes de los codificadores automáticos son la eliminación de ruido de datos y la reducción de dimensionalidad para la visualización de datos. Con las restricciones de dimensionalidad y escasez (*sparsity*) adecuadas, los autoencoders pueden aprender proyecciones de datos que son más interesantes que el PCA u otras técnicas básicas."
      ]
    },
    {
      "cell_type": "markdown",
      "metadata": {
        "id": "iig8WUP5bnnJ"
      },
      "source": [
        "### Entonces, ¿por qué se son tan populares?\n",
        "Una de las razones por las que han atraído tanta investigación y atención es porque durante mucho tiempo se pensó que eran una vía potencial para resolver el problema del aprendizaje no supervisado, es decir, el aprendizaje de representaciones útiles sin la necesidad de etiquetas. Por otra parte, los autoencoders no son una verdadera técnica de aprendizaje no supervisado (lo que implicaría un proceso de aprendizaje completamente diferente), sino una técnica auto-supervisada, una instancia específica de aprendizaje supervisado donde los objetivos se generan a partir de los datos de entrada."
      ]
    },
    {
      "cell_type": "markdown",
      "metadata": {
        "id": "7Z5QBgu0cGMP"
      },
      "source": [
        "## Implementación en Keras"
      ]
    },
    {
      "cell_type": "code",
      "metadata": {
        "id": "OhuBLzbQboWg"
      },
      "source": [
        "## Implementación en Keras\n",
        "\n",
        "import keras\n",
        "from keras import layers\n",
        "import tensorflow as tf\n",
        "import matplotlib.pyplot as plt\n",
        "import numpy as np"
      ],
      "execution_count": 1,
      "outputs": []
    },
    {
      "cell_type": "code",
      "metadata": {
        "id": "El_IMFFNKmD8"
      },
      "source": [
        "(X_train, y_train), (X_test, y_test) = tf.keras.datasets.mnist.load_data()"
      ],
      "execution_count": 27,
      "outputs": []
    },
    {
      "cell_type": "code",
      "metadata": {
        "colab": {
          "base_uri": "https://localhost:8080/",
          "height": 96
        },
        "id": "X7u96lzLLLYc",
        "outputId": "b08c9c26-538c-459e-aa44-e00cb6b7a303"
      },
      "source": [
        "n = 10  # How many digits we will display\n",
        "plt.figure(figsize=(20, 4))\n",
        "for i in range(n):\n",
        "    # Display original\n",
        "    ax = plt.subplot(2, n, i + 1)\n",
        "    plt.imshow(X_train[i].reshape(28, 28))\n",
        "    plt.gray()\n",
        "    ax.get_xaxis().set_visible(False)\n",
        "    ax.get_yaxis().set_visible(False)"
      ],
      "execution_count": 7,
      "outputs": [
        {
          "output_type": "display_data",
          "data": {
            "image/png": "[encoded data removed]",
            "text/plain": [
              "<Figure size 1440x288 with 10 Axes>"
            ]
          },
          "metadata": {
            "tags": [],
            "needs_background": "light"
          }
        }
      ]
    },
    {
      "cell_type": "markdown",
      "metadata": {
        "id": "sksLUUEBLqCK"
      },
      "source": [
        "## Autoencoder simple"
      ]
    },
    {
      "cell_type": "code",
      "metadata": {
        "id": "U8lRpSZDLsuk"
      },
      "source": [
        "encoding_dim = 32 # 32 floats -> compresión de factor 24.5, asumiendo que el input contiene 784 valores (píxeles)\n",
        "\n",
        "autoencoder = tf.keras.Sequential()\n",
        "\n",
        "# Encoding\n",
        "autoencoder.add(layers.Dense(encoding_dim, activation= \"relu\", input_shape = (784,)))\n",
        "\n",
        "# Decoding\n",
        "autoencoder.add(layers.Dense(784, activation = \"sigmoid\"))"
      ],
      "execution_count": 24,
      "outputs": []
    },
    {
      "cell_type": "code",
      "metadata": {
        "id": "TPeHf7l5a4eu"
      },
      "source": [
        "X_train = X_train / 255.\n",
        "X_test = X_test / 255."
      ],
      "execution_count": 28,
      "outputs": []
    },
    {
      "cell_type": "code",
      "metadata": {
        "colab": {
          "base_uri": "https://localhost:8080/"
        },
        "id": "XCKtBpaiPVAg",
        "outputId": "2fec5da2-56b7-45fa-fd88-10b5c0bc4548"
      },
      "source": [
        "X_train.shape"
      ],
      "execution_count": 29,
      "outputs": [
        {
          "output_type": "execute_result",
          "data": {
            "text/plain": [
              "(60000, 28, 28)"
            ]
          },
          "metadata": {
            "tags": []
          },
          "execution_count": 29
        }
      ]
    },
    {
      "cell_type": "code",
      "metadata": {
        "id": "4xhmR3GWPRBa"
      },
      "source": [
        "X_train = X_train.reshape((len(X_train), np.prod(X_train.shape[1:])))\n",
        "X_test = X_test.reshape((len(X_test), np.prod(X_test.shape[1:])))"
      ],
      "execution_count": 30,
      "outputs": []
    },
    {
      "cell_type": "code",
      "metadata": {
        "colab": {
          "base_uri": "https://localhost:8080/"
        },
        "id": "ersMnNCpPzec",
        "outputId": "89d1100a-2af2-4f66-d808-818fe927e1ef"
      },
      "source": [
        "X_train.shape"
      ],
      "execution_count": 31,
      "outputs": [
        {
          "output_type": "execute_result",
          "data": {
            "text/plain": [
              "(60000, 784)"
            ]
          },
          "metadata": {
            "tags": []
          },
          "execution_count": 31
        }
      ]
    },
    {
      "cell_type": "code",
      "metadata": {
        "id": "Hh8m6xFeZQPG"
      },
      "source": [
        "autoencoder.compile(loss = \"binary_crossentropy\",\n",
        "                    metrics = [\"accuracy\"],\n",
        "                    optimizer = \"adam\")"
      ],
      "execution_count": 32,
      "outputs": []
    },
    {
      "cell_type": "code",
      "metadata": {
        "id": "bhuUxB_7Y4SA",
        "colab": {
          "base_uri": "https://localhost:8080/"
        },
        "outputId": "f829833b-1f9e-412e-831d-3ce30dd5d235"
      },
      "source": [
        "autoencoder.fit(X_train, X_train,\n",
        "                epochs = 50,\n",
        "                batch_size = 256,\n",
        "                shuffle = True,\n",
        "                validation_data = (X_test, X_test))"
      ],
      "execution_count": 33,
      "outputs": [
        {
          "output_type": "stream",
          "text": [
            "Epoch 1/50\n",
            "235/235 [==============================] - 4s 14ms/step - loss: 0.2762 - accuracy: 0.0107 - val_loss: 0.1904 - val_accuracy: 0.0123\n",
            "Epoch 2/50\n",
            "235/235 [==============================] - 3s 12ms/step - loss: 0.1696 - accuracy: 0.0115 - val_loss: 0.1522 - val_accuracy: 0.0106\n",
            "Epoch 3/50\n",
            "235/235 [==============================] - 3s 13ms/step - loss: 0.1434 - accuracy: 0.0097 - val_loss: 0.1334 - val_accuracy: 0.0087\n",
            "Epoch 4/50\n",
            "235/235 [==============================] - 3s 14ms/step - loss: 0.1286 - accuracy: 0.0095 - val_loss: 0.1216 - val_accuracy: 0.0096\n",
            "Epoch 5/50\n",
            "235/235 [==============================] - 3s 13ms/step - loss: 0.1184 - accuracy: 0.0106 - val_loss: 0.1131 - val_accuracy: 0.0109\n",
            "Epoch 6/50\n",
            "235/235 [==============================] - 3s 13ms/step - loss: 0.1113 - accuracy: 0.0114 - val_loss: 0.1071 - val_accuracy: 0.0118\n",
            "Epoch 7/50\n",
            "235/235 [==============================] - 3s 13ms/step - loss: 0.1062 - accuracy: 0.0117 - val_loss: 0.1029 - val_accuracy: 0.0117\n",
            "Epoch 8/50\n",
            "235/235 [==============================] - 3s 12ms/step - loss: 0.1025 - accuracy: 0.0117 - val_loss: 0.0998 - val_accuracy: 0.0132\n",
            "Epoch 9/50\n",
            "235/235 [==============================] - 3s 13ms/step - loss: 0.0998 - accuracy: 0.0117 - val_loss: 0.0974 - val_accuracy: 0.0127\n",
            "Epoch 10/50\n",
            "235/235 [==============================] - 3s 13ms/step - loss: 0.0979 - accuracy: 0.0117 - val_loss: 0.0959 - val_accuracy: 0.0116\n",
            "Epoch 11/50\n",
            "235/235 [==============================] - 3s 12ms/step - loss: 0.0966 - accuracy: 0.0120 - val_loss: 0.0948 - val_accuracy: 0.0127\n",
            "Epoch 12/50\n",
            "235/235 [==============================] - 3s 12ms/step - loss: 0.0957 - accuracy: 0.0121 - val_loss: 0.0941 - val_accuracy: 0.0124\n",
            "Epoch 13/50\n",
            "235/235 [==============================] - 3s 13ms/step - loss: 0.0951 - accuracy: 0.0123 - val_loss: 0.0936 - val_accuracy: 0.0134\n",
            "Epoch 14/50\n",
            "235/235 [==============================] - 3s 12ms/step - loss: 0.0947 - accuracy: 0.0127 - val_loss: 0.0933 - val_accuracy: 0.0117\n",
            "Epoch 15/50\n",
            "235/235 [==============================] - 3s 13ms/step - loss: 0.0944 - accuracy: 0.0121 - val_loss: 0.0930 - val_accuracy: 0.0119\n",
            "Epoch 16/50\n",
            "235/235 [==============================] - 3s 13ms/step - loss: 0.0942 - accuracy: 0.0120 - val_loss: 0.0928 - val_accuracy: 0.0120\n",
            "Epoch 17/50\n",
            "235/235 [==============================] - 3s 13ms/step - loss: 0.0940 - accuracy: 0.0129 - val_loss: 0.0927 - val_accuracy: 0.0127\n",
            "Epoch 18/50\n",
            "235/235 [==============================] - 3s 12ms/step - loss: 0.0938 - accuracy: 0.0127 - val_loss: 0.0926 - val_accuracy: 0.0133\n",
            "Epoch 19/50\n",
            "235/235 [==============================] - 3s 13ms/step - loss: 0.0937 - accuracy: 0.0128 - val_loss: 0.0923 - val_accuracy: 0.0127\n",
            "Epoch 20/50\n",
            "235/235 [==============================] - 3s 13ms/step - loss: 0.0936 - accuracy: 0.0127 - val_loss: 0.0924 - val_accuracy: 0.0124\n",
            "Epoch 21/50\n",
            "235/235 [==============================] - 3s 13ms/step - loss: 0.0935 - accuracy: 0.0129 - val_loss: 0.0922 - val_accuracy: 0.0128\n",
            "Epoch 22/50\n",
            "235/235 [==============================] - 3s 13ms/step - loss: 0.0934 - accuracy: 0.0124 - val_loss: 0.0921 - val_accuracy: 0.0126\n",
            "Epoch 23/50\n",
            "235/235 [==============================] - 3s 13ms/step - loss: 0.0934 - accuracy: 0.0125 - val_loss: 0.0921 - val_accuracy: 0.0112\n",
            "Epoch 24/50\n",
            "235/235 [==============================] - 3s 13ms/step - loss: 0.0933 - accuracy: 0.0127 - val_loss: 0.0920 - val_accuracy: 0.0130\n",
            "Epoch 25/50\n",
            "235/235 [==============================] - 3s 13ms/step - loss: 0.0933 - accuracy: 0.0127 - val_loss: 0.0920 - val_accuracy: 0.0120\n",
            "Epoch 26/50\n",
            "235/235 [==============================] - 3s 13ms/step - loss: 0.0932 - accuracy: 0.0127 - val_loss: 0.0920 - val_accuracy: 0.0137\n",
            "Epoch 27/50\n",
            "235/235 [==============================] - 3s 12ms/step - loss: 0.0932 - accuracy: 0.0127 - val_loss: 0.0920 - val_accuracy: 0.0132\n",
            "Epoch 28/50\n",
            "235/235 [==============================] - 3s 13ms/step - loss: 0.0931 - accuracy: 0.0129 - val_loss: 0.0918 - val_accuracy: 0.0133\n",
            "Epoch 29/50\n",
            "235/235 [==============================] - 3s 13ms/step - loss: 0.0931 - accuracy: 0.0128 - val_loss: 0.0918 - val_accuracy: 0.0124\n",
            "Epoch 30/50\n",
            "235/235 [==============================] - 3s 13ms/step - loss: 0.0931 - accuracy: 0.0126 - val_loss: 0.0920 - val_accuracy: 0.0127\n",
            "Epoch 31/50\n",
            "235/235 [==============================] - 3s 13ms/step - loss: 0.0930 - accuracy: 0.0129 - val_loss: 0.0918 - val_accuracy: 0.0127\n",
            "Epoch 32/50\n",
            "235/235 [==============================] - 3s 13ms/step - loss: 0.0930 - accuracy: 0.0128 - val_loss: 0.0918 - val_accuracy: 0.0134\n",
            "Epoch 33/50\n",
            "235/235 [==============================] - 3s 13ms/step - loss: 0.0930 - accuracy: 0.0127 - val_loss: 0.0918 - val_accuracy: 0.0131\n",
            "Epoch 34/50\n",
            "235/235 [==============================] - 3s 12ms/step - loss: 0.0930 - accuracy: 0.0126 - val_loss: 0.0917 - val_accuracy: 0.0122\n",
            "Epoch 35/50\n",
            "235/235 [==============================] - 3s 12ms/step - loss: 0.0929 - accuracy: 0.0129 - val_loss: 0.0918 - val_accuracy: 0.0133\n",
            "Epoch 36/50\n",
            "235/235 [==============================] - 3s 13ms/step - loss: 0.0929 - accuracy: 0.0132 - val_loss: 0.0917 - val_accuracy: 0.0129\n",
            "Epoch 37/50\n",
            "235/235 [==============================] - 3s 13ms/step - loss: 0.0929 - accuracy: 0.0129 - val_loss: 0.0917 - val_accuracy: 0.0128\n",
            "Epoch 38/50\n",
            "235/235 [==============================] - 3s 13ms/step - loss: 0.0929 - accuracy: 0.0130 - val_loss: 0.0917 - val_accuracy: 0.0133\n",
            "Epoch 39/50\n",
            "235/235 [==============================] - 3s 14ms/step - loss: 0.0929 - accuracy: 0.0134 - val_loss: 0.0917 - val_accuracy: 0.0134\n",
            "Epoch 40/50\n",
            "235/235 [==============================] - 3s 14ms/step - loss: 0.0928 - accuracy: 0.0130 - val_loss: 0.0917 - val_accuracy: 0.0139\n",
            "Epoch 41/50\n",
            "235/235 [==============================] - 3s 13ms/step - loss: 0.0928 - accuracy: 0.0130 - val_loss: 0.0917 - val_accuracy: 0.0131\n",
            "Epoch 42/50\n",
            "235/235 [==============================] - 3s 13ms/step - loss: 0.0928 - accuracy: 0.0131 - val_loss: 0.0915 - val_accuracy: 0.0128\n",
            "Epoch 43/50\n",
            "235/235 [==============================] - 3s 13ms/step - loss: 0.0928 - accuracy: 0.0130 - val_loss: 0.0916 - val_accuracy: 0.0127\n",
            "Epoch 44/50\n",
            "235/235 [==============================] - 3s 12ms/step - loss: 0.0927 - accuracy: 0.0131 - val_loss: 0.0917 - val_accuracy: 0.0129\n",
            "Epoch 45/50\n",
            "235/235 [==============================] - 3s 12ms/step - loss: 0.0927 - accuracy: 0.0133 - val_loss: 0.0917 - val_accuracy: 0.0128\n",
            "Epoch 46/50\n",
            "235/235 [==============================] - 3s 12ms/step - loss: 0.0927 - accuracy: 0.0128 - val_loss: 0.0917 - val_accuracy: 0.0127\n",
            "Epoch 47/50\n",
            "235/235 [==============================] - 3s 13ms/step - loss: 0.0927 - accuracy: 0.0129 - val_loss: 0.0915 - val_accuracy: 0.0123\n",
            "Epoch 48/50\n",
            "235/235 [==============================] - 3s 12ms/step - loss: 0.0927 - accuracy: 0.0130 - val_loss: 0.0915 - val_accuracy: 0.0130\n",
            "Epoch 49/50\n",
            "235/235 [==============================] - 3s 13ms/step - loss: 0.0927 - accuracy: 0.0130 - val_loss: 0.0917 - val_accuracy: 0.0129\n",
            "Epoch 50/50\n",
            "235/235 [==============================] - 3s 14ms/step - loss: 0.0927 - accuracy: 0.0126 - val_loss: 0.0916 - val_accuracy: 0.0125\n"
          ],
          "name": "stdout"
        },
        {
          "output_type": "execute_result",
          "data": {
            "text/plain": [
              "<tensorflow.python.keras.callbacks.History at 0x7fc99fed82d0>"
            ]
          },
          "metadata": {
            "tags": []
          },
          "execution_count": 33
        }
      ]
    },
    {
      "cell_type": "code",
      "metadata": {
        "id": "TTsfxs15QbjN"
      },
      "source": [
        "decoded_imgs = autoencoder.predict(X_test)"
      ],
      "execution_count": 34,
      "outputs": []
    },
    {
      "cell_type": "code",
      "metadata": {
        "colab": {
          "base_uri": "https://localhost:8080/",
          "height": 268
        },
        "id": "I4KR4SgpQnFc",
        "outputId": "bbc145b8-93d0-4b05-f07e-b1957dd4a8ff"
      },
      "source": [
        "n = 10  # How many digits we will display\n",
        "plt.figure(figsize=(20, 4))\n",
        "for i in range(n):\n",
        "    # Display original\n",
        "    ax = plt.subplot(2, n, i + 1)\n",
        "    plt.imshow(X_test[i].reshape(28, 28))\n",
        "    plt.gray()\n",
        "    ax.get_xaxis().set_visible(False)\n",
        "    ax.get_yaxis().set_visible(False)\n",
        "\n",
        "    # Display reconstruction\n",
        "    ax = plt.subplot(2, n, i + 1 + n)\n",
        "    plt.imshow(decoded_imgs[i].reshape(28, 28))\n",
        "    plt.gray()\n",
        "    ax.get_xaxis().set_visible(False)\n",
        "    ax.get_yaxis().set_visible(False)\n",
        "plt.show()"
      ],
      "execution_count": 35,
      "outputs": [
        {
          "output_type": "display_data",
          "data": {
            "image/png": "[encoded data removed]",
            "text/plain": [
              "<Figure size 1440x288 with 20 Axes>"
            ]
          },
          "metadata": {
            "tags": [],
            "needs_background": "light"
          }
        }
      ]
    },
    {
      "cell_type": "markdown",
      "metadata": {
        "id": "K70gHtx7SHpT"
      },
      "source": [
        "## Autoencoder para eliminar ruido de imágenes"
      ]
    },
    {
      "cell_type": "code",
      "metadata": {
        "colab": {
          "base_uri": "https://localhost:8080/"
        },
        "id": "buYyqa_3TDwL",
        "outputId": "770e6665-8d9b-48c0-956f-c74d2a2131ff"
      },
      "source": [
        "(x_train, _), (x_test, _) = tf.keras.datasets.mnist.load_data()\n",
        "\n",
        "x_train = x_train.astype('float32') / 255.\n",
        "x_test = x_test.astype('float32') / 255.\n",
        "x_train = np.reshape(x_train, (len(x_train), 28, 28, 1))\n",
        "x_test = np.reshape(x_test, (len(x_test), 28, 28, 1))"
      ],
      "execution_count": 2,
      "outputs": [
        {
          "output_type": "stream",
          "text": [
            "Downloading data from https://storage.googleapis.com/tensorflow/tf-keras-datasets/mnist.npz\n",
            "11493376/11490434 [==============================] - 0s 0us/step\n"
          ],
          "name": "stdout"
        }
      ]
    },
    {
      "cell_type": "code",
      "metadata": {
        "id": "Sh0KMbNwThoG"
      },
      "source": [
        "# Metemos ruido a las imágenes\n",
        "noise_factor = 0.5\n",
        "x_train_noisy = x_train + noise_factor * np.random.normal(loc=0.0, scale=1.0, size=x_train.shape) \n",
        "x_test_noisy = x_test + noise_factor * np.random.normal(loc=0.0, scale=1.0, size=x_test.shape) \n",
        "\n",
        "x_train_noisy = np.clip(x_train_noisy, 0., 1.)\n",
        "x_test_noisy = np.clip(x_test_noisy, 0., 1.)"
      ],
      "execution_count": 3,
      "outputs": []
    },
    {
      "cell_type": "code",
      "metadata": {
        "colab": {
          "base_uri": "https://localhost:8080/",
          "height": 127
        },
        "id": "Jf5mKbqZTpBD",
        "outputId": "adf3dbb1-a744-4551-9cff-df351a68ab0c"
      },
      "source": [
        "n = 10\n",
        "plt.figure(figsize=(20, 2))\n",
        "for i in range(1, n + 1):\n",
        "    ax = plt.subplot(1, n, i)\n",
        "    plt.imshow(x_test_noisy[i].reshape(28, 28))\n",
        "    plt.gray()\n",
        "    ax.get_xaxis().set_visible(False)\n",
        "    ax.get_yaxis().set_visible(False)\n",
        "plt.show()"
      ],
      "execution_count": 4,
      "outputs": [
        {
          "output_type": "display_data",
          "data": {
            "image/png": "[encoded data removed]",
            "text/plain": [
              "<Figure size 1440x144 with 10 Axes>"
            ]
          },
          "metadata": {
            "tags": [],
            "needs_background": "light"
          }
        }
      ]
    },
    {
      "cell_type": "code",
      "metadata": {
        "id": "E5XOcG7KT5OU"
      },
      "source": [
        "autoencoder2 = tf.keras.Sequential()\n",
        "\n",
        "# Entrada\n",
        "#autoencoder2.add(layers.Input(shape = (28, 28, 1)))\n",
        "\n",
        "# 1er bloque\n",
        "autoencoder2.add(layers.Conv2D(32, \n",
        "                               (3, 3),\n",
        "                               activation = \"relu\",\n",
        "                               padding = \"same\",\n",
        "                               input_shape = (28, 28, 1)))\n",
        "autoencoder2.add(layers.MaxPool2D((2,2)))\n",
        "autoencoder2.add(layers.Conv2D(32, \n",
        "                               (3, 3),\n",
        "                               activation = \"relu\",\n",
        "                               padding = \"same\"))\n",
        "autoencoder2.add(layers.MaxPool2D((2,2)))\n",
        "\n",
        "# 2º bloque\n",
        "autoencoder2.add(layers.Conv2D(32, \n",
        "                               (3, 3),\n",
        "                               activation = \"relu\",\n",
        "                               padding = \"same\"))\n",
        "autoencoder2.add(layers.UpSampling2D(size=(2, 2)))\n",
        "autoencoder2.add(layers.Conv2D(32, \n",
        "                               (3, 3),\n",
        "                               activation = \"relu\",\n",
        "                               padding = \"same\"))\n",
        "autoencoder2.add(layers.UpSampling2D(size=(2, 2)))\n",
        "\n",
        "# Capa de salida\n",
        "autoencoder2.add(layers.Conv2D(1, (3, 3), activation= \"sigmoid\", padding = \"same\"))"
      ],
      "execution_count": 5,
      "outputs": []
    },
    {
      "cell_type": "code",
      "metadata": {
        "id": "BpJzxnmTXDg0"
      },
      "source": [
        "autoencoder2.compile(optimizer = \"adam\",\n",
        "                     loss = \"binary_crossentropy\")"
      ],
      "execution_count": 6,
      "outputs": []
    },
    {
      "cell_type": "code",
      "metadata": {
        "colab": {
          "base_uri": "https://localhost:8080/"
        },
        "id": "NtTb09-eXKeN",
        "outputId": "fcb9a422-7e0f-4d62-fc26-f969f258496b"
      },
      "source": [
        "autoencoder2.fit(x_train_noisy, x_train,\n",
        "                 epochs = 10,\n",
        "                 batch_size = 128,\n",
        "                 shuffle = True,\n",
        "                 validation_data = (x_test_noisy, x_test))"
      ],
      "execution_count": 7,
      "outputs": [
        {
          "output_type": "stream",
          "text": [
            "Epoch 1/10\n",
            "469/469 [==============================] - 36s 9ms/step - loss: 0.1630 - val_loss: 0.1187\n",
            "Epoch 2/10\n",
            "469/469 [==============================] - 4s 8ms/step - loss: 0.1138 - val_loss: 0.1086\n",
            "Epoch 3/10\n",
            "469/469 [==============================] - 4s 8ms/step - loss: 0.1077 - val_loss: 0.1048\n",
            "Epoch 4/10\n",
            "469/469 [==============================] - 4s 8ms/step - loss: 0.1047 - val_loss: 0.1035\n",
            "Epoch 5/10\n",
            "469/469 [==============================] - 4s 8ms/step - loss: 0.1029 - val_loss: 0.1012\n",
            "Epoch 6/10\n",
            "469/469 [==============================] - 4s 8ms/step - loss: 0.1015 - val_loss: 0.1002\n",
            "Epoch 7/10\n",
            "469/469 [==============================] - 4s 8ms/step - loss: 0.1005 - val_loss: 0.0993\n",
            "Epoch 8/10\n",
            "469/469 [==============================] - 4s 8ms/step - loss: 0.0997 - val_loss: 0.0988\n",
            "Epoch 9/10\n",
            "469/469 [==============================] - 4s 8ms/step - loss: 0.0990 - val_loss: 0.0981\n",
            "Epoch 10/10\n",
            "469/469 [==============================] - 4s 8ms/step - loss: 0.0985 - val_loss: 0.0983\n"
          ],
          "name": "stdout"
        },
        {
          "output_type": "execute_result",
          "data": {
            "text/plain": [
              "<tensorflow.python.keras.callbacks.History at 0x7fe8d0485a90>"
            ]
          },
          "metadata": {
            "tags": []
          },
          "execution_count": 7
        }
      ]
    },
    {
      "cell_type": "code",
      "metadata": {
        "colab": {
          "base_uri": "https://localhost:8080/",
          "height": 242
        },
        "id": "ePCFa-q1aKCL",
        "outputId": "edab866e-78ce-4b02-a133-98267353d0c7"
      },
      "source": [
        "decoded_imgs = autoencoder2.predict(x_test_noisy)\n",
        "\n",
        "n = 10\n",
        "plt.figure(figsize=(20, 4))\n",
        "for i in range(1, n + 1):\n",
        "    # Display original\n",
        "    ax = plt.subplot(2, n, i)\n",
        "    plt.imshow(x_test_noisy[i].reshape(28, 28))\n",
        "    plt.gray()\n",
        "    ax.get_xaxis().set_visible(False)\n",
        "    ax.get_yaxis().set_visible(False)\n",
        "\n",
        "    # Display reconstruction\n",
        "    ax = plt.subplot(2, n, i + n)\n",
        "    plt.imshow(decoded_imgs[i].reshape(28, 28))\n",
        "    plt.gray()\n",
        "    ax.get_xaxis().set_visible(False)\n",
        "    ax.get_yaxis().set_visible(False)\n",
        "plt.show()"
      ],
      "execution_count": 8,
      "outputs": [
        {
          "output_type": "display_data",
          "data": {
            "image/png": "[encoded data removed]",
            "text/plain": [
              "<Figure size 1440x288 with 20 Axes>"
            ]
          },
          "metadata": {
            "tags": [],
            "needs_background": "light"
          }
        }
      ]
    }
  ]
}