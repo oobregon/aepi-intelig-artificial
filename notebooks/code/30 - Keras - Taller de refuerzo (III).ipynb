{
  "nbformat": 4,
  "nbformat_minor": 0,
  "metadata": {
    "colab": {
      "name": "30 - Keras - Taller de refuerzo (III) - Without_code.ipynb",
      "provenance": [],
      "toc_visible": true
    },
    "hide_input": false,
    "kernelspec": {
      "display_name": "Python 3 (ipykernel)",
      "language": "python",
      "name": "python3"
    },
    "language_info": {
      "codemirror_mode": {
        "name": "ipython",
        "version": 3
      },
      "file_extension": ".py",
      "mimetype": "text/x-python",
      "name": "python",
      "nbconvert_exporter": "python",
      "pygments_lexer": "ipython3",
      "version": "3.8.0"
    },
    "toc": {
      "base_numbering": 1,
      "nav_menu": {},
      "number_sections": true,
      "sideBar": true,
      "skip_h1_title": false,
      "title_cell": "Table of Contents",
      "title_sidebar": "Contents",
      "toc_cell": false,
      "toc_position": {},
      "toc_section_display": true,
      "toc_window_display": false
    },
    "varInspector": {
      "cols": {
        "lenName": 16,
        "lenType": 16,
        "lenVar": 40
      },
      "kernels_config": {
        "python": {
          "delete_cmd_postfix": "",
          "delete_cmd_prefix": "del ",
          "library": "var_list.py",
          "varRefreshCmd": "print(var_dic_list())"
        },
        "r": {
          "delete_cmd_postfix": ") ",
          "delete_cmd_prefix": "rm(",
          "library": "var_list.r",
          "varRefreshCmd": "cat(var_dic_list()) "
        }
      },
      "types_to_exclude": [
        "module",
        "function",
        "builtin_function_or_method",
        "instance",
        "_Feature"
      ],
      "window_display": false
    },
    "accelerator": "GPU",
    "widgets": {
      "application/vnd.jupyter.widget-state+json": {
        "1ab25b2cc0374b7bb5c0074c3a591699": {
          "model_module": "@jupyter-widgets/controls",
          "model_name": "HBoxModel",
          "state": {
            "_view_name": "HBoxView",
            "_dom_classes": [],
            "_model_name": "HBoxModel",
            "_view_module": "@jupyter-widgets/controls",
            "_model_module_version": "1.5.0",
            "_view_count": null,
            "_view_module_version": "1.5.0",
            "box_style": "",
            "layout": "IPY_MODEL_51b02aac3613442196d531934709a61a",
            "_model_module": "@jupyter-widgets/controls",
            "children": [
              "IPY_MODEL_19318b161c0c4d199f38f9dd609b345e",
              "IPY_MODEL_1de2379657e34a96915e893c91e3a684"
            ]
          }
        },
        "51b02aac3613442196d531934709a61a": {
          "model_module": "@jupyter-widgets/base",
          "model_name": "LayoutModel",
          "state": {
            "_view_name": "LayoutView",
            "grid_template_rows": null,
            "right": null,
            "justify_content": null,
            "_view_module": "@jupyter-widgets/base",
            "overflow": null,
            "_model_module_version": "1.2.0",
            "_view_count": null,
            "flex_flow": null,
            "width": null,
            "min_width": null,
            "border": null,
            "align_items": null,
            "bottom": null,
            "_model_module": "@jupyter-widgets/base",
            "top": null,
            "grid_column": null,
            "overflow_y": null,
            "overflow_x": null,
            "grid_auto_flow": null,
            "grid_area": null,
            "grid_template_columns": null,
            "flex": null,
            "_model_name": "LayoutModel",
            "justify_items": null,
            "grid_row": null,
            "max_height": null,
            "align_content": null,
            "visibility": null,
            "align_self": null,
            "height": null,
            "min_height": null,
            "padding": null,
            "grid_auto_rows": null,
            "grid_gap": null,
            "max_width": null,
            "order": null,
            "_view_module_version": "1.2.0",
            "grid_template_areas": null,
            "object_position": null,
            "object_fit": null,
            "grid_auto_columns": null,
            "margin": null,
            "display": null,
            "left": null
          }
        },
        "19318b161c0c4d199f38f9dd609b345e": {
          "model_module": "@jupyter-widgets/controls",
          "model_name": "ImageModel",
          "state": {
            "_view_name": "ImageView",
            "_dom_classes": [],
            "_model_name": "ImageModel",
            "format": "png",
            "_view_module": "@jupyter-widgets/controls",
            "_model_module_version": "1.5.0",
            "_view_count": null,
            "width": "",
            "_view_module_version": "1.5.0",
            "layout": "IPY_MODEL_37b290e347784576b6ff4473c54cf1ad",
            "height": "",
            "_model_module": "@jupyter-widgets/controls"
          }
        },
        "1de2379657e34a96915e893c91e3a684": {
          "model_module": "@jupyter-widgets/controls",
          "model_name": "ImageModel",
          "state": {
            "_view_name": "ImageView",
            "_dom_classes": [],
            "_model_name": "ImageModel",
            "format": "png",
            "_view_module": "@jupyter-widgets/controls",
            "_model_module_version": "1.5.0",
            "_view_count": null,
            "width": "",
            "_view_module_version": "1.5.0",
            "layout": "IPY_MODEL_07acb5274ced49fe991805987e8fe4f9",
            "height": "",
            "_model_module": "@jupyter-widgets/controls"
          }
        },
        "37b290e347784576b6ff4473c54cf1ad": {
          "model_module": "@jupyter-widgets/base",
          "model_name": "LayoutModel",
          "state": {
            "_view_name": "LayoutView",
            "grid_template_rows": null,
            "right": null,
            "justify_content": null,
            "_view_module": "@jupyter-widgets/base",
            "overflow": null,
            "_model_module_version": "1.2.0",
            "_view_count": null,
            "flex_flow": null,
            "width": null,
            "min_width": null,
            "border": null,
            "align_items": null,
            "bottom": null,
            "_model_module": "@jupyter-widgets/base",
            "top": null,
            "grid_column": null,
            "overflow_y": null,
            "overflow_x": null,
            "grid_auto_flow": null,
            "grid_area": null,
            "grid_template_columns": null,
            "flex": null,
            "_model_name": "LayoutModel",
            "justify_items": null,
            "grid_row": null,
            "max_height": null,
            "align_content": null,
            "visibility": null,
            "align_self": null,
            "height": null,
            "min_height": null,
            "padding": null,
            "grid_auto_rows": null,
            "grid_gap": null,
            "max_width": null,
            "order": null,
            "_view_module_version": "1.2.0",
            "grid_template_areas": null,
            "object_position": null,
            "object_fit": null,
            "grid_auto_columns": null,
            "margin": null,
            "display": null,
            "left": null
          }
        },
        "07acb5274ced49fe991805987e8fe4f9": {
          "model_module": "@jupyter-widgets/base",
          "model_name": "LayoutModel",
          "state": {
            "_view_name": "LayoutView",
            "grid_template_rows": null,
            "right": null,
            "justify_content": null,
            "_view_module": "@jupyter-widgets/base",
            "overflow": null,
            "_model_module_version": "1.2.0",
            "_view_count": null,
            "flex_flow": null,
            "width": null,
            "min_width": null,
            "border": null,
            "align_items": null,
            "bottom": null,
            "_model_module": "@jupyter-widgets/base",
            "top": null,
            "grid_column": null,
            "overflow_y": null,
            "overflow_x": null,
            "grid_auto_flow": null,
            "grid_area": null,
            "grid_template_columns": null,
            "flex": null,
            "_model_name": "LayoutModel",
            "justify_items": null,
            "grid_row": null,
            "max_height": null,
            "align_content": null,
            "visibility": null,
            "align_self": null,
            "height": null,
            "min_height": null,
            "padding": null,
            "grid_auto_rows": null,
            "grid_gap": null,
            "max_width": null,
            "order": null,
            "_view_module_version": "1.2.0",
            "grid_template_areas": null,
            "object_position": null,
            "object_fit": null,
            "grid_auto_columns": null,
            "margin": null,
            "display": null,
            "left": null
          }
        },
        "719472ec61a7408ab4fd331d80666387": {
          "model_module": "@jupyter-widgets/controls",
          "model_name": "HBoxModel",
          "state": {
            "_view_name": "HBoxView",
            "_dom_classes": [],
            "_model_name": "HBoxModel",
            "_view_module": "@jupyter-widgets/controls",
            "_model_module_version": "1.5.0",
            "_view_count": null,
            "_view_module_version": "1.5.0",
            "box_style": "",
            "layout": "IPY_MODEL_0810599bed8c4701a00c16d56d353714",
            "_model_module": "@jupyter-widgets/controls",
            "children": [
              "IPY_MODEL_3c15b03074b948589a334536c0c448ab",
              "IPY_MODEL_07dd4509ae704ea3a0a30fb6f027114b"
            ]
          }
        },
        "0810599bed8c4701a00c16d56d353714": {
          "model_module": "@jupyter-widgets/base",
          "model_name": "LayoutModel",
          "state": {
            "_view_name": "LayoutView",
            "grid_template_rows": null,
            "right": null,
            "justify_content": null,
            "_view_module": "@jupyter-widgets/base",
            "overflow": null,
            "_model_module_version": "1.2.0",
            "_view_count": null,
            "flex_flow": null,
            "width": null,
            "min_width": null,
            "border": null,
            "align_items": null,
            "bottom": null,
            "_model_module": "@jupyter-widgets/base",
            "top": null,
            "grid_column": null,
            "overflow_y": null,
            "overflow_x": null,
            "grid_auto_flow": null,
            "grid_area": null,
            "grid_template_columns": null,
            "flex": null,
            "_model_name": "LayoutModel",
            "justify_items": null,
            "grid_row": null,
            "max_height": null,
            "align_content": null,
            "visibility": null,
            "align_self": null,
            "height": null,
            "min_height": null,
            "padding": null,
            "grid_auto_rows": null,
            "grid_gap": null,
            "max_width": null,
            "order": null,
            "_view_module_version": "1.2.0",
            "grid_template_areas": null,
            "object_position": null,
            "object_fit": null,
            "grid_auto_columns": null,
            "margin": null,
            "display": null,
            "left": null
          }
        },
        "3c15b03074b948589a334536c0c448ab": {
          "model_module": "@jupyter-widgets/controls",
          "model_name": "ImageModel",
          "state": {
            "_view_name": "ImageView",
            "_dom_classes": [],
            "_model_name": "ImageModel",
            "format": "png",
            "_view_module": "@jupyter-widgets/controls",
            "_model_module_version": "1.5.0",
            "_view_count": null,
            "width": "",
            "_view_module_version": "1.5.0",
            "layout": "IPY_MODEL_a92f8ceb6be74f24b90ec5cb35126885",
            "height": "",
            "_model_module": "@jupyter-widgets/controls"
          }
        },
        "07dd4509ae704ea3a0a30fb6f027114b": {
          "model_module": "@jupyter-widgets/controls",
          "model_name": "ImageModel",
          "state": {
            "_view_name": "ImageView",
            "_dom_classes": [],
            "_model_name": "ImageModel",
            "format": "png",
            "_view_module": "@jupyter-widgets/controls",
            "_model_module_version": "1.5.0",
            "_view_count": null,
            "width": "",
            "_view_module_version": "1.5.0",
            "layout": "IPY_MODEL_82e825dec66a49929d7bbd22f18c2564",
            "height": "",
            "_model_module": "@jupyter-widgets/controls"
          }
        },
        "a92f8ceb6be74f24b90ec5cb35126885": {
          "model_module": "@jupyter-widgets/base",
          "model_name": "LayoutModel",
          "state": {
            "_view_name": "LayoutView",
            "grid_template_rows": null,
            "right": null,
            "justify_content": null,
            "_view_module": "@jupyter-widgets/base",
            "overflow": null,
            "_model_module_version": "1.2.0",
            "_view_count": null,
            "flex_flow": null,
            "width": null,
            "min_width": null,
            "border": null,
            "align_items": null,
            "bottom": null,
            "_model_module": "@jupyter-widgets/base",
            "top": null,
            "grid_column": null,
            "overflow_y": null,
            "overflow_x": null,
            "grid_auto_flow": null,
            "grid_area": null,
            "grid_template_columns": null,
            "flex": null,
            "_model_name": "LayoutModel",
            "justify_items": null,
            "grid_row": null,
            "max_height": null,
            "align_content": null,
            "visibility": null,
            "align_self": null,
            "height": null,
            "min_height": null,
            "padding": null,
            "grid_auto_rows": null,
            "grid_gap": null,
            "max_width": null,
            "order": null,
            "_view_module_version": "1.2.0",
            "grid_template_areas": null,
            "object_position": null,
            "object_fit": null,
            "grid_auto_columns": null,
            "margin": null,
            "display": null,
            "left": null
          }
        },
        "82e825dec66a49929d7bbd22f18c2564": {
          "model_module": "@jupyter-widgets/base",
          "model_name": "LayoutModel",
          "state": {
            "_view_name": "LayoutView",
            "grid_template_rows": null,
            "right": null,
            "justify_content": null,
            "_view_module": "@jupyter-widgets/base",
            "overflow": null,
            "_model_module_version": "1.2.0",
            "_view_count": null,
            "flex_flow": null,
            "width": null,
            "min_width": null,
            "border": null,
            "align_items": null,
            "bottom": null,
            "_model_module": "@jupyter-widgets/base",
            "top": null,
            "grid_column": null,
            "overflow_y": null,
            "overflow_x": null,
            "grid_auto_flow": null,
            "grid_area": null,
            "grid_template_columns": null,
            "flex": null,
            "_model_name": "LayoutModel",
            "justify_items": null,
            "grid_row": null,
            "max_height": null,
            "align_content": null,
            "visibility": null,
            "align_self": null,
            "height": null,
            "min_height": null,
            "padding": null,
            "grid_auto_rows": null,
            "grid_gap": null,
            "max_width": null,
            "order": null,
            "_view_module_version": "1.2.0",
            "grid_template_areas": null,
            "object_position": null,
            "object_fit": null,
            "grid_auto_columns": null,
            "margin": null,
            "display": null,
            "left": null
          }
        },
        "a6b7b77c6fb84dedbf9c63a99924354f": {
          "model_module": "@jupyter-widgets/controls",
          "model_name": "HBoxModel",
          "state": {
            "_view_name": "HBoxView",
            "_dom_classes": [],
            "_model_name": "HBoxModel",
            "_view_module": "@jupyter-widgets/controls",
            "_model_module_version": "1.5.0",
            "_view_count": null,
            "_view_module_version": "1.5.0",
            "box_style": "",
            "layout": "IPY_MODEL_67f074c85745421e8556cbed2a2b6362",
            "_model_module": "@jupyter-widgets/controls",
            "children": [
              "IPY_MODEL_f1f0beeeafb848978a8d929f936447d0",
              "IPY_MODEL_4aa8f9f4e99940ac816835db565e675f"
            ]
          }
        },
        "67f074c85745421e8556cbed2a2b6362": {
          "model_module": "@jupyter-widgets/base",
          "model_name": "LayoutModel",
          "state": {
            "_view_name": "LayoutView",
            "grid_template_rows": null,
            "right": null,
            "justify_content": null,
            "_view_module": "@jupyter-widgets/base",
            "overflow": null,
            "_model_module_version": "1.2.0",
            "_view_count": null,
            "flex_flow": null,
            "width": null,
            "min_width": null,
            "border": null,
            "align_items": null,
            "bottom": null,
            "_model_module": "@jupyter-widgets/base",
            "top": null,
            "grid_column": null,
            "overflow_y": null,
            "overflow_x": null,
            "grid_auto_flow": null,
            "grid_area": null,
            "grid_template_columns": null,
            "flex": null,
            "_model_name": "LayoutModel",
            "justify_items": null,
            "grid_row": null,
            "max_height": null,
            "align_content": null,
            "visibility": null,
            "align_self": null,
            "height": null,
            "min_height": null,
            "padding": null,
            "grid_auto_rows": null,
            "grid_gap": null,
            "max_width": null,
            "order": null,
            "_view_module_version": "1.2.0",
            "grid_template_areas": null,
            "object_position": null,
            "object_fit": null,
            "grid_auto_columns": null,
            "margin": null,
            "display": null,
            "left": null
          }
        },
        "f1f0beeeafb848978a8d929f936447d0": {
          "model_module": "@jupyter-widgets/controls",
          "model_name": "ImageModel",
          "state": {
            "_view_name": "ImageView",
            "_dom_classes": [],
            "_model_name": "ImageModel",
            "format": "png",
            "_view_module": "@jupyter-widgets/controls",
            "_model_module_version": "1.5.0",
            "_view_count": null,
            "width": "",
            "_view_module_version": "1.5.0",
            "layout": "IPY_MODEL_45867e8502254ee7a415ae0f7acd05c2",
            "height": "",
            "_model_module": "@jupyter-widgets/controls"
          }
        },
        "4aa8f9f4e99940ac816835db565e675f": {
          "model_module": "@jupyter-widgets/controls",
          "model_name": "ImageModel",
          "state": {
            "_view_name": "ImageView",
            "_dom_classes": [],
            "_model_name": "ImageModel",
            "format": "png",
            "_view_module": "@jupyter-widgets/controls",
            "_model_module_version": "1.5.0",
            "_view_count": null,
            "width": "",
            "_view_module_version": "1.5.0",
            "layout": "IPY_MODEL_6f101834f8f14a9ea987cd27cdc0d484",
            "height": "",
            "_model_module": "@jupyter-widgets/controls"
          }
        },
        "45867e8502254ee7a415ae0f7acd05c2": {
          "model_module": "@jupyter-widgets/base",
          "model_name": "LayoutModel",
          "state": {
            "_view_name": "LayoutView",
            "grid_template_rows": null,
            "right": null,
            "justify_content": null,
            "_view_module": "@jupyter-widgets/base",
            "overflow": null,
            "_model_module_version": "1.2.0",
            "_view_count": null,
            "flex_flow": null,
            "width": null,
            "min_width": null,
            "border": null,
            "align_items": null,
            "bottom": null,
            "_model_module": "@jupyter-widgets/base",
            "top": null,
            "grid_column": null,
            "overflow_y": null,
            "overflow_x": null,
            "grid_auto_flow": null,
            "grid_area": null,
            "grid_template_columns": null,
            "flex": null,
            "_model_name": "LayoutModel",
            "justify_items": null,
            "grid_row": null,
            "max_height": null,
            "align_content": null,
            "visibility": null,
            "align_self": null,
            "height": null,
            "min_height": null,
            "padding": null,
            "grid_auto_rows": null,
            "grid_gap": null,
            "max_width": null,
            "order": null,
            "_view_module_version": "1.2.0",
            "grid_template_areas": null,
            "object_position": null,
            "object_fit": null,
            "grid_auto_columns": null,
            "margin": null,
            "display": null,
            "left": null
          }
        },
        "6f101834f8f14a9ea987cd27cdc0d484": {
          "model_module": "@jupyter-widgets/base",
          "model_name": "LayoutModel",
          "state": {
            "_view_name": "LayoutView",
            "grid_template_rows": null,
            "right": null,
            "justify_content": null,
            "_view_module": "@jupyter-widgets/base",
            "overflow": null,
            "_model_module_version": "1.2.0",
            "_view_count": null,
            "flex_flow": null,
            "width": null,
            "min_width": null,
            "border": null,
            "align_items": null,
            "bottom": null,
            "_model_module": "@jupyter-widgets/base",
            "top": null,
            "grid_column": null,
            "overflow_y": null,
            "overflow_x": null,
            "grid_auto_flow": null,
            "grid_area": null,
            "grid_template_columns": null,
            "flex": null,
            "_model_name": "LayoutModel",
            "justify_items": null,
            "grid_row": null,
            "max_height": null,
            "align_content": null,
            "visibility": null,
            "align_self": null,
            "height": null,
            "min_height": null,
            "padding": null,
            "grid_auto_rows": null,
            "grid_gap": null,
            "max_width": null,
            "order": null,
            "_view_module_version": "1.2.0",
            "grid_template_areas": null,
            "object_position": null,
            "object_fit": null,
            "grid_auto_columns": null,
            "margin": null,
            "display": null,
            "left": null
          }
        },
        "894afb072f594c6488ee0600b17a8c6d": {
          "model_module": "@jupyter-widgets/controls",
          "model_name": "HBoxModel",
          "state": {
            "_view_name": "HBoxView",
            "_dom_classes": [],
            "_model_name": "HBoxModel",
            "_view_module": "@jupyter-widgets/controls",
            "_model_module_version": "1.5.0",
            "_view_count": null,
            "_view_module_version": "1.5.0",
            "box_style": "",
            "layout": "IPY_MODEL_96f9aa172e824f9694d830d58d041a03",
            "_model_module": "@jupyter-widgets/controls",
            "children": [
              "IPY_MODEL_0f760484a8a4437a9100c422bde7cb2b",
              "IPY_MODEL_a089514fd3694357a487931736b3b446"
            ]
          }
        },
        "96f9aa172e824f9694d830d58d041a03": {
          "model_module": "@jupyter-widgets/base",
          "model_name": "LayoutModel",
          "state": {
            "_view_name": "LayoutView",
            "grid_template_rows": null,
            "right": null,
            "justify_content": null,
            "_view_module": "@jupyter-widgets/base",
            "overflow": null,
            "_model_module_version": "1.2.0",
            "_view_count": null,
            "flex_flow": null,
            "width": null,
            "min_width": null,
            "border": null,
            "align_items": null,
            "bottom": null,
            "_model_module": "@jupyter-widgets/base",
            "top": null,
            "grid_column": null,
            "overflow_y": null,
            "overflow_x": null,
            "grid_auto_flow": null,
            "grid_area": null,
            "grid_template_columns": null,
            "flex": null,
            "_model_name": "LayoutModel",
            "justify_items": null,
            "grid_row": null,
            "max_height": null,
            "align_content": null,
            "visibility": null,
            "align_self": null,
            "height": null,
            "min_height": null,
            "padding": null,
            "grid_auto_rows": null,
            "grid_gap": null,
            "max_width": null,
            "order": null,
            "_view_module_version": "1.2.0",
            "grid_template_areas": null,
            "object_position": null,
            "object_fit": null,
            "grid_auto_columns": null,
            "margin": null,
            "display": null,
            "left": null
          }
        },
        "0f760484a8a4437a9100c422bde7cb2b": {
          "model_module": "@jupyter-widgets/controls",
          "model_name": "ImageModel",
          "state": {
            "_view_name": "ImageView",
            "_dom_classes": [],
            "_model_name": "ImageModel",
            "format": "png",
            "_view_module": "@jupyter-widgets/controls",
            "_model_module_version": "1.5.0",
            "_view_count": null,
            "width": "",
            "_view_module_version": "1.5.0",
            "layout": "IPY_MODEL_f2a9cb6e7c124aa98ad29054ef172695",
            "height": "",
            "_model_module": "@jupyter-widgets/controls"
          }
        },
        "a089514fd3694357a487931736b3b446": {
          "model_module": "@jupyter-widgets/controls",
          "model_name": "ImageModel",
          "state": {
            "_view_name": "ImageView",
            "_dom_classes": [],
            "_model_name": "ImageModel",
            "format": "png",
            "_view_module": "@jupyter-widgets/controls",
            "_model_module_version": "1.5.0",
            "_view_count": null,
            "width": "",
            "_view_module_version": "1.5.0",
            "layout": "IPY_MODEL_32ca573b2964499f8d176e85b23a2095",
            "height": "",
            "_model_module": "@jupyter-widgets/controls"
          }
        },
        "f2a9cb6e7c124aa98ad29054ef172695": {
          "model_module": "@jupyter-widgets/base",
          "model_name": "LayoutModel",
          "state": {
            "_view_name": "LayoutView",
            "grid_template_rows": null,
            "right": null,
            "justify_content": null,
            "_view_module": "@jupyter-widgets/base",
            "overflow": null,
            "_model_module_version": "1.2.0",
            "_view_count": null,
            "flex_flow": null,
            "width": null,
            "min_width": null,
            "border": null,
            "align_items": null,
            "bottom": null,
            "_model_module": "@jupyter-widgets/base",
            "top": null,
            "grid_column": null,
            "overflow_y": null,
            "overflow_x": null,
            "grid_auto_flow": null,
            "grid_area": null,
            "grid_template_columns": null,
            "flex": null,
            "_model_name": "LayoutModel",
            "justify_items": null,
            "grid_row": null,
            "max_height": null,
            "align_content": null,
            "visibility": null,
            "align_self": null,
            "height": null,
            "min_height": null,
            "padding": null,
            "grid_auto_rows": null,
            "grid_gap": null,
            "max_width": null,
            "order": null,
            "_view_module_version": "1.2.0",
            "grid_template_areas": null,
            "object_position": null,
            "object_fit": null,
            "grid_auto_columns": null,
            "margin": null,
            "display": null,
            "left": null
          }
        },
        "32ca573b2964499f8d176e85b23a2095": {
          "model_module": "@jupyter-widgets/base",
          "model_name": "LayoutModel",
          "state": {
            "_view_name": "LayoutView",
            "grid_template_rows": null,
            "right": null,
            "justify_content": null,
            "_view_module": "@jupyter-widgets/base",
            "overflow": null,
            "_model_module_version": "1.2.0",
            "_view_count": null,
            "flex_flow": null,
            "width": null,
            "min_width": null,
            "border": null,
            "align_items": null,
            "bottom": null,
            "_model_module": "@jupyter-widgets/base",
            "top": null,
            "grid_column": null,
            "overflow_y": null,
            "overflow_x": null,
            "grid_auto_flow": null,
            "grid_area": null,
            "grid_template_columns": null,
            "flex": null,
            "_model_name": "LayoutModel",
            "justify_items": null,
            "grid_row": null,
            "max_height": null,
            "align_content": null,
            "visibility": null,
            "align_self": null,
            "height": null,
            "min_height": null,
            "padding": null,
            "grid_auto_rows": null,
            "grid_gap": null,
            "max_width": null,
            "order": null,
            "_view_module_version": "1.2.0",
            "grid_template_areas": null,
            "object_position": null,
            "object_fit": null,
            "grid_auto_columns": null,
            "margin": null,
            "display": null,
            "left": null
          }
        },
        "f750a4adb66648a3aeca08a5661d4592": {
          "model_module": "@jupyter-widgets/controls",
          "model_name": "HBoxModel",
          "state": {
            "_view_name": "HBoxView",
            "_dom_classes": [],
            "_model_name": "HBoxModel",
            "_view_module": "@jupyter-widgets/controls",
            "_model_module_version": "1.5.0",
            "_view_count": null,
            "_view_module_version": "1.5.0",
            "box_style": "",
            "layout": "IPY_MODEL_c6a332e248574e0ebb8a51eb455a343f",
            "_model_module": "@jupyter-widgets/controls",
            "children": [
              "IPY_MODEL_eed207d600d54e678fab49f148b81b50",
              "IPY_MODEL_02578fd226f74a8a8686777da883bc6d"
            ]
          }
        },
        "c6a332e248574e0ebb8a51eb455a343f": {
          "model_module": "@jupyter-widgets/base",
          "model_name": "LayoutModel",
          "state": {
            "_view_name": "LayoutView",
            "grid_template_rows": null,
            "right": null,
            "justify_content": null,
            "_view_module": "@jupyter-widgets/base",
            "overflow": null,
            "_model_module_version": "1.2.0",
            "_view_count": null,
            "flex_flow": null,
            "width": null,
            "min_width": null,
            "border": null,
            "align_items": null,
            "bottom": null,
            "_model_module": "@jupyter-widgets/base",
            "top": null,
            "grid_column": null,
            "overflow_y": null,
            "overflow_x": null,
            "grid_auto_flow": null,
            "grid_area": null,
            "grid_template_columns": null,
            "flex": null,
            "_model_name": "LayoutModel",
            "justify_items": null,
            "grid_row": null,
            "max_height": null,
            "align_content": null,
            "visibility": null,
            "align_self": null,
            "height": null,
            "min_height": null,
            "padding": null,
            "grid_auto_rows": null,
            "grid_gap": null,
            "max_width": null,
            "order": null,
            "_view_module_version": "1.2.0",
            "grid_template_areas": null,
            "object_position": null,
            "object_fit": null,
            "grid_auto_columns": null,
            "margin": null,
            "display": null,
            "left": null
          }
        },
        "eed207d600d54e678fab49f148b81b50": {
          "model_module": "@jupyter-widgets/controls",
          "model_name": "ImageModel",
          "state": {
            "_view_name": "ImageView",
            "_dom_classes": [],
            "_model_name": "ImageModel",
            "format": "png",
            "_view_module": "@jupyter-widgets/controls",
            "_model_module_version": "1.5.0",
            "_view_count": null,
            "width": "",
            "_view_module_version": "1.5.0",
            "layout": "IPY_MODEL_6c7f334874104f699f70279ae47091d7",
            "height": "",
            "_model_module": "@jupyter-widgets/controls"
          }
        },
        "02578fd226f74a8a8686777da883bc6d": {
          "model_module": "@jupyter-widgets/controls",
          "model_name": "ImageModel",
          "state": {
            "_view_name": "ImageView",
            "_dom_classes": [],
            "_model_name": "ImageModel",
            "format": "png",
            "_view_module": "@jupyter-widgets/controls",
            "_model_module_version": "1.5.0",
            "_view_count": null,
            "width": "",
            "_view_module_version": "1.5.0",
            "layout": "IPY_MODEL_3b2e93c38bc645008f374dc062e425d6",
            "height": "",
            "_model_module": "@jupyter-widgets/controls"
          }
        },
        "6c7f334874104f699f70279ae47091d7": {
          "model_module": "@jupyter-widgets/base",
          "model_name": "LayoutModel",
          "state": {
            "_view_name": "LayoutView",
            "grid_template_rows": null,
            "right": null,
            "justify_content": null,
            "_view_module": "@jupyter-widgets/base",
            "overflow": null,
            "_model_module_version": "1.2.0",
            "_view_count": null,
            "flex_flow": null,
            "width": null,
            "min_width": null,
            "border": null,
            "align_items": null,
            "bottom": null,
            "_model_module": "@jupyter-widgets/base",
            "top": null,
            "grid_column": null,
            "overflow_y": null,
            "overflow_x": null,
            "grid_auto_flow": null,
            "grid_area": null,
            "grid_template_columns": null,
            "flex": null,
            "_model_name": "LayoutModel",
            "justify_items": null,
            "grid_row": null,
            "max_height": null,
            "align_content": null,
            "visibility": null,
            "align_self": null,
            "height": null,
            "min_height": null,
            "padding": null,
            "grid_auto_rows": null,
            "grid_gap": null,
            "max_width": null,
            "order": null,
            "_view_module_version": "1.2.0",
            "grid_template_areas": null,
            "object_position": null,
            "object_fit": null,
            "grid_auto_columns": null,
            "margin": null,
            "display": null,
            "left": null
          }
        },
        "3b2e93c38bc645008f374dc062e425d6": {
          "model_module": "@jupyter-widgets/base",
          "model_name": "LayoutModel",
          "state": {
            "_view_name": "LayoutView",
            "grid_template_rows": null,
            "right": null,
            "justify_content": null,
            "_view_module": "@jupyter-widgets/base",
            "overflow": null,
            "_model_module_version": "1.2.0",
            "_view_count": null,
            "flex_flow": null,
            "width": null,
            "min_width": null,
            "border": null,
            "align_items": null,
            "bottom": null,
            "_model_module": "@jupyter-widgets/base",
            "top": null,
            "grid_column": null,
            "overflow_y": null,
            "overflow_x": null,
            "grid_auto_flow": null,
            "grid_area": null,
            "grid_template_columns": null,
            "flex": null,
            "_model_name": "LayoutModel",
            "justify_items": null,
            "grid_row": null,
            "max_height": null,
            "align_content": null,
            "visibility": null,
            "align_self": null,
            "height": null,
            "min_height": null,
            "padding": null,
            "grid_auto_rows": null,
            "grid_gap": null,
            "max_width": null,
            "order": null,
            "_view_module_version": "1.2.0",
            "grid_template_areas": null,
            "object_position": null,
            "object_fit": null,
            "grid_auto_columns": null,
            "margin": null,
            "display": null,
            "left": null
          }
        }
      }
    }
  },
  "cells": [
    {
      "cell_type": "markdown",
      "metadata": {
        "id": "JAxrZvCwJyrz"
      },
      "source": [
        "# Taller de refuerzo de Keras (III)\n",
        "\n",
        "Las arquitecturas *Convolutional LSTM* combinan técnicas de procesamiento de series temporales y de computer vision al introducir una celda recurrente convolucional en una capa LSTM. En este ejemplo, exploraremos un modelo Convolutional LSTM en una aplicación para la predicción de próximos fotogramas en un vídeo, es decir, el proceso de predecir qué frames de vídeo aparecerán tras una serie de frames pasados."
      ]
    },
    {
      "cell_type": "markdown",
      "metadata": {
        "id": "VLYwuA3QJ2mK"
      },
      "source": [
        "## Carga de librerías, módulos y funciones"
      ]
    },
    {
      "cell_type": "code",
      "metadata": {
        "id": "v_bz7J4I-nAC"
      },
      "source": [
        "import numpy as np\n",
        "import matplotlib.pyplot as plt\n",
        "import timeit\n",
        "\n",
        "import tensorflow as tf\n",
        "from tensorflow import keras\n",
        "from tensorflow.keras import Sequential\n",
        "from tensorflow.keras import layers\n",
        "\n",
        "import io\n",
        "import imageio\n",
        "from IPython.display import Image, display\n",
        "from ipywidgets import widgets, Layout, HBox"
      ],
      "execution_count": 3,
      "outputs": []
    },
    {
      "cell_type": "code",
      "metadata": {
        "colab": {
          "base_uri": "https://localhost:8080/"
        },
        "id": "QZNbKMjcMkWU",
        "outputId": "07682e94-cae2-4f86-fec0-ee48606aaa84"
      },
      "source": [
        "!nvidia-smi "
      ],
      "execution_count": 6,
      "outputs": [
        {
          "output_type": "stream",
          "text": [
            "Tue Jul 20 18:34:42 2021       \n",
            "+-----------------------------------------------------------------------------+\n",
            "| NVIDIA-SMI 470.42.01    Driver Version: 460.32.03    CUDA Version: 11.2     |\n",
            "|-------------------------------+----------------------+----------------------+\n",
            "| GPU  Name        Persistence-M| Bus-Id        Disp.A | Volatile Uncorr. ECC |\n",
            "| Fan  Temp  Perf  Pwr:Usage/Cap|         Memory-Usage | GPU-Util  Compute M. |\n",
            "|                               |                      |               MIG M. |\n",
            "|===============================+======================+======================|\n",
            "|   0  Tesla T4            Off  | 00000000:00:04.0 Off |                    0 |\n",
            "| N/A   47C    P0    26W /  70W |   1780MiB / 15109MiB |      0%      Default |\n",
            "|                               |                      |                  N/A |\n",
            "+-------------------------------+----------------------+----------------------+\n",
            "                                                                               \n",
            "+-----------------------------------------------------------------------------+\n",
            "| Processes:                                                                  |\n",
            "|  GPU   GI   CI        PID   Type   Process name                  GPU Memory |\n",
            "|        ID   ID                                                   Usage      |\n",
            "|=============================================================================|\n",
            "|  No running processes found                                                 |\n",
            "+-----------------------------------------------------------------------------+\n"
          ],
          "name": "stdout"
        }
      ]
    },
    {
      "cell_type": "code",
      "metadata": {
        "colab": {
          "base_uri": "https://localhost:8080/"
        },
        "id": "V7ajAosDKmur",
        "outputId": "291d8254-a289-48ac-9786-0e288a6396b9"
      },
      "source": [
        "# Confirmamos que nos podemos conectar a la GPU con tensorflow\n",
        "%tensorflow_version 2.x\n",
        "\n",
        "device_name = tf.test.gpu_device_name()\n",
        "\n",
        "if device_name != '/device:GPU:0':\n",
        "  raise SystemError('GPU device not found')\n",
        "  \n",
        "print('Found GPU at: {}'.format(device_name))"
      ],
      "execution_count": 2,
      "outputs": [
        {
          "output_type": "stream",
          "text": [
            "Found GPU at: /device:GPU:0\n"
          ],
          "name": "stdout"
        }
      ]
    },
    {
      "cell_type": "code",
      "metadata": {
        "colab": {
          "base_uri": "https://localhost:8080/"
        },
        "id": "NOGEsMcxKsaB",
        "outputId": "a69d6129-3d5c-46ca-8a18-fef70c50593d"
      },
      "source": [
        "%tensorflow_version 2.x\n",
        "\n",
        "device_name = tf.test.gpu_device_name()\n",
        "\n",
        "if device_name != '/device:GPU:0':\n",
        "  raise SystemError('GPU device not found')\n",
        "\n",
        "def cpu():\n",
        "  with tf.device('/cpu:0'):\n",
        "    random_image_cpu = tf.random.normal((100, 100, 100, 3))\n",
        "    net_cpu = tf.keras.layers.Conv2D(32, 7)(random_image_cpu)\n",
        "    return tf.math.reduce_sum(net_cpu)\n",
        "\n",
        "def gpu():\n",
        "  with tf.device('/device:GPU:0'):\n",
        "    random_image_gpu = tf.random.normal((100, 100, 100, 3))\n",
        "    net_gpu = tf.keras.layers.Conv2D(32, 7)(random_image_gpu)\n",
        "    return tf.math.reduce_sum(net_gpu)\n",
        "\n",
        "# Llamamos a las funciones anteriores para calentar 1 vez, ver: https://stackoverflow.com/a/45067900\n",
        "cpu()\n",
        "gpu()\n",
        "\n",
        "# Lanzamos las operaciones varias veces y comparamos\n",
        "print('Time (s) to convolve 32x7x7x3 filter over random 100x100x100x3 images '\n",
        "      '(batch x height x width x channel). Sum of ten runs.')\n",
        "\n",
        "print('CPU (s):')\n",
        "cpu_time = timeit.timeit('cpu()', number=10, setup=\"from __main__ import cpu\")\n",
        "print(cpu_time)\n",
        "\n",
        "print('GPU (s):')\n",
        "gpu_time = timeit.timeit('gpu()', number=10, setup=\"from __main__ import gpu\")\n",
        "print(gpu_time)\n",
        "\n",
        "print('GPU speedup over CPU: {}x'.format(int(cpu_time/gpu_time)))"
      ],
      "execution_count": 4,
      "outputs": [
        {
          "output_type": "stream",
          "text": [
            "Time (s) to convolve 32x7x7x3 filter over random 100x100x100x3 images (batch x height x width x channel). Sum of ten runs.\n",
            "CPU (s):\n",
            "3.043342425999981\n",
            "GPU (s):\n",
            "0.03715267200004746\n",
            "GPU speedup over CPU: 81x\n"
          ],
          "name": "stdout"
        }
      ]
    },
    {
      "cell_type": "code",
      "metadata": {
        "id": "H82e85RuKyMa"
      },
      "source": [
        ""
      ],
      "execution_count": null,
      "outputs": []
    },
    {
      "cell_type": "markdown",
      "metadata": {
        "id": "8z_8B9O1J52r"
      },
      "source": [
        "## Carga de datos"
      ]
    },
    {
      "cell_type": "code",
      "metadata": {
        "id": "OpCEbgjoBe6P",
        "colab": {
          "base_uri": "https://localhost:8080/"
        },
        "outputId": "c36bf5e7-fc7b-45ad-e193-d17f5409ee12"
      },
      "source": [
        "# Descarga y carga el dataset\n",
        "fpath = keras.utils.get_file(\n",
        "    \"moving_mnist.npy\",\n",
        "    \"http://www.cs.toronto.edu/~nitish/unsupervised_video/mnist_test_seq.npy\",\n",
        ")\n",
        "dataset = np.load(fpath)"
      ],
      "execution_count": 7,
      "outputs": [
        {
          "output_type": "stream",
          "text": [
            "Downloading data from http://www.cs.toronto.edu/~nitish/unsupervised_video/mnist_test_seq.npy\n",
            "819208192/819200096 [==============================] - 26s 0us/step\n"
          ],
          "name": "stdout"
        }
      ]
    },
    {
      "cell_type": "markdown",
      "metadata": {
        "id": "TQNmxWmOJ9ht"
      },
      "source": [
        "## Visualización"
      ]
    },
    {
      "cell_type": "code",
      "metadata": {
        "colab": {
          "base_uri": "https://localhost:8080/"
        },
        "id": "NkTpFahuGtDD",
        "outputId": "07d3a152-d813-46cf-d688-28b816e1b65c"
      },
      "source": [
        "# Muestra las dimensiones del dataset\n",
        "# Deberías obtener (20, 10000, 64, 64), donde el primer valor corresponde al número de frames de cada vídeo,\n",
        "# el segundo es el número de vídeos y los dos restantes son las dimensiones de cada frame.\n",
        "# No se incluye el número de canales de color, lo que es una práctica habitual cuando las imágenes \n",
        "# se encuentran en grayscale.\n",
        "dataset.shape"
      ],
      "execution_count": 3,
      "outputs": [
        {
          "output_type": "execute_result",
          "data": {
            "text/plain": [
              "(20, 10000, 64, 64)"
            ]
          },
          "metadata": {
            "tags": []
          },
          "execution_count": 3
        }
      ]
    },
    {
      "cell_type": "code",
      "metadata": {
        "id": "a91zvANaAlEN"
      },
      "source": [
        "dataset_b = np.load(fpath)\n",
        "dataset_b = np.swapaxes(dataset_b, 0, 1)"
      ],
      "execution_count": 24,
      "outputs": []
    },
    {
      "cell_type": "code",
      "metadata": {
        "colab": {
          "base_uri": "https://localhost:8080/",
          "height": 835
        },
        "id": "nxtB-nCzRJvc",
        "outputId": "26759dad-0771-4841-e674-d63d94d9ecb5"
      },
      "source": [
        ""
      ],
      "execution_count": 25,
      "outputs": [
        {
          "output_type": "stream",
          "text": [
            "0 AxesSubplot(0.125,0.71587;0.133621x0.16413)\n",
            "1 AxesSubplot(0.285345,0.71587;0.133621x0.16413)\n",
            "2 AxesSubplot(0.44569,0.71587;0.133621x0.16413)\n",
            "3 AxesSubplot(0.606034,0.71587;0.133621x0.16413)\n",
            "4 AxesSubplot(0.766379,0.71587;0.133621x0.16413)\n",
            "5 AxesSubplot(0.125,0.518913;0.133621x0.16413)\n",
            "6 AxesSubplot(0.285345,0.518913;0.133621x0.16413)\n",
            "7 AxesSubplot(0.44569,0.518913;0.133621x0.16413)\n",
            "8 AxesSubplot(0.606034,0.518913;0.133621x0.16413)\n",
            "9 AxesSubplot(0.766379,0.518913;0.133621x0.16413)\n",
            "10 AxesSubplot(0.125,0.321957;0.133621x0.16413)\n",
            "11 AxesSubplot(0.285345,0.321957;0.133621x0.16413)\n",
            "12 AxesSubplot(0.44569,0.321957;0.133621x0.16413)\n",
            "13 AxesSubplot(0.606034,0.321957;0.133621x0.16413)\n",
            "14 AxesSubplot(0.766379,0.321957;0.133621x0.16413)\n",
            "15 AxesSubplot(0.125,0.125;0.133621x0.16413)\n",
            "16 AxesSubplot(0.285345,0.125;0.133621x0.16413)\n",
            "17 AxesSubplot(0.44569,0.125;0.133621x0.16413)\n",
            "18 AxesSubplot(0.606034,0.125;0.133621x0.16413)\n",
            "19 AxesSubplot(0.766379,0.125;0.133621x0.16413)\n",
            "Mostrando frames del vídeo 6102.\n"
          ],
          "name": "stdout"
        },
        {
          "output_type": "display_data",
          "data": {
            "image/png": "[encoded data removed]",
            "text/plain": [
              "<Figure size 720x576 with 20 Axes>"
            ]
          },
          "metadata": {
            "tags": [],
            "needs_background": "light"
          }
        }
      ]
    },
    {
      "cell_type": "markdown",
      "metadata": {
        "id": "AbF0w3OHKGkj"
      },
      "source": [
        "## Preprocesamiento"
      ]
    },
    {
      "cell_type": "markdown",
      "metadata": {
        "id": "VhjZxxuWKJtS"
      },
      "source": [
        "### Modificación de dimensiones"
      ]
    },
    {
      "cell_type": "code",
      "metadata": {
        "id": "S7PQ5vb6GUP9"
      },
      "source": [
        "# Intercambia los ejes que representan el número de frames y el número de muestras de vídeos\n",
        "dataset = np.swapaxes(dataset, 0, 1)"
      ],
      "execution_count": 9,
      "outputs": []
    },
    {
      "cell_type": "code",
      "metadata": {
        "id": "sgylxP73SdsX"
      },
      "source": [
        "# Visualiza una muestra de frames\n",
        "fig, axes = plt.subplots(4, 5, figsize=(10, 8))\n",
        "\n",
        "# Muestra cada una de las imágenes secuenciales de un vídeo escogido al azar\n",
        "data_choice = np.random.choice(range(len(dataset)), size=1)[0]\n",
        "for idx, ax in enumerate(axes.flat):\n",
        "    print(idx, ax)\n",
        "    ax.imshow(dataset[data_choice][idx], cmap=\"gray\")\n",
        "    ax.set_title(f\"Frame {idx + 1}\")\n",
        "    ax.axis(\"off\")\n",
        "\n",
        "# Muestra información junto a las figuras\n",
        "print(f\"Mostrando frames del vídeo {data_choice}.\")\n",
        "plt.show()"
      ],
      "execution_count": null,
      "outputs": []
    },
    {
      "cell_type": "code",
      "metadata": {
        "id": "uF864lR42x00"
      },
      "source": [
        "# Quédate con los 1000 primeros ejemplos para evitar problemas de memoria\n",
        "dataset = dataset[:1000]"
      ],
      "execution_count": 10,
      "outputs": []
    },
    {
      "cell_type": "code",
      "metadata": {
        "colab": {
          "base_uri": "https://localhost:8080/"
        },
        "id": "b4eNGNECHM6k",
        "outputId": "40e7268e-2669-4da6-d4aa-767300c6a64a"
      },
      "source": [
        "# Vuelve a mostrar las dimensiones del dataset\n",
        "# Deberías obtener (1000, 20, 64, 64)\n",
        "dataset.shape"
      ],
      "execution_count": 13,
      "outputs": [
        {
          "output_type": "execute_result",
          "data": {
            "text/plain": [
              "(1000, 20, 64, 64)"
            ]
          },
          "metadata": {
            "tags": []
          },
          "execution_count": 13
        }
      ]
    },
    {
      "cell_type": "code",
      "metadata": {
        "id": "EFGyuSDFGm8k"
      },
      "source": [
        "# Añade una dimensión que corresponda a los canales de color (en este caso, 1 canal)\n",
        "dataset = np.expand_dims(dataset, axis = -1)"
      ],
      "execution_count": 11,
      "outputs": []
    },
    {
      "cell_type": "code",
      "metadata": {
        "colab": {
          "base_uri": "https://localhost:8080/"
        },
        "id": "g2yAEesyIYC0",
        "outputId": "edf24c5a-3ad2-4280-bbad-d9dc7cee74e2"
      },
      "source": [
        "# Vuelve a mostrar las dimensiones del dataset\n",
        "# Deberías obtener (10000, 20, 64, 64)\n",
        "dataset.shape"
      ],
      "execution_count": 15,
      "outputs": [
        {
          "output_type": "execute_result",
          "data": {
            "text/plain": [
              "(1000, 20, 64, 64, 1)"
            ]
          },
          "metadata": {
            "tags": []
          },
          "execution_count": 15
        }
      ]
    },
    {
      "cell_type": "markdown",
      "metadata": {
        "id": "K1mpZgeuIeRr"
      },
      "source": [
        "### Particiones de entrenamiento y validación"
      ]
    },
    {
      "cell_type": "code",
      "metadata": {
        "colab": {
          "base_uri": "https://localhost:8080/"
        },
        "id": "LCicGPM12x01",
        "outputId": "684efb6a-6af2-4456-f3e8-bdceb4e6a977"
      },
      "source": [
        "# Divide los datos en un subconjunto de entrenamiento (80%) y otro de validaciónn (30%)\n",
        "# En vez de usar Scikit Learn, vamos a utilizar la indexación clásica de Python. Para ello:\n",
        "# a) Guarda los índices en una variable que se llame indexes\n",
        "indexes = np.arange(dataset.shape[0])\n",
        "indexes"
      ],
      "execution_count": 12,
      "outputs": [
        {
          "output_type": "execute_result",
          "data": {
            "text/plain": [
              "array([  0,   1,   2,   3,   4,   5,   6,   7,   8,   9,  10,  11,  12,\n",
              "        13,  14,  15,  16,  17,  18,  19,  20,  21,  22,  23,  24,  25,\n",
              "        26,  27,  28,  29,  30,  31,  32,  33,  34,  35,  36,  37,  38,\n",
              "        39,  40,  41,  42,  43,  44,  45,  46,  47,  48,  49,  50,  51,\n",
              "        52,  53,  54,  55,  56,  57,  58,  59,  60,  61,  62,  63,  64,\n",
              "        65,  66,  67,  68,  69,  70,  71,  72,  73,  74,  75,  76,  77,\n",
              "        78,  79,  80,  81,  82,  83,  84,  85,  86,  87,  88,  89,  90,\n",
              "        91,  92,  93,  94,  95,  96,  97,  98,  99, 100, 101, 102, 103,\n",
              "       104, 105, 106, 107, 108, 109, 110, 111, 112, 113, 114, 115, 116,\n",
              "       117, 118, 119, 120, 121, 122, 123, 124, 125, 126, 127, 128, 129,\n",
              "       130, 131, 132, 133, 134, 135, 136, 137, 138, 139, 140, 141, 142,\n",
              "       143, 144, 145, 146, 147, 148, 149, 150, 151, 152, 153, 154, 155,\n",
              "       156, 157, 158, 159, 160, 161, 162, 163, 164, 165, 166, 167, 168,\n",
              "       169, 170, 171, 172, 173, 174, 175, 176, 177, 178, 179, 180, 181,\n",
              "       182, 183, 184, 185, 186, 187, 188, 189, 190, 191, 192, 193, 194,\n",
              "       195, 196, 197, 198, 199, 200, 201, 202, 203, 204, 205, 206, 207,\n",
              "       208, 209, 210, 211, 212, 213, 214, 215, 216, 217, 218, 219, 220,\n",
              "       221, 222, 223, 224, 225, 226, 227, 228, 229, 230, 231, 232, 233,\n",
              "       234, 235, 236, 237, 238, 239, 240, 241, 242, 243, 244, 245, 246,\n",
              "       247, 248, 249, 250, 251, 252, 253, 254, 255, 256, 257, 258, 259,\n",
              "       260, 261, 262, 263, 264, 265, 266, 267, 268, 269, 270, 271, 272,\n",
              "       273, 274, 275, 276, 277, 278, 279, 280, 281, 282, 283, 284, 285,\n",
              "       286, 287, 288, 289, 290, 291, 292, 293, 294, 295, 296, 297, 298,\n",
              "       299, 300, 301, 302, 303, 304, 305, 306, 307, 308, 309, 310, 311,\n",
              "       312, 313, 314, 315, 316, 317, 318, 319, 320, 321, 322, 323, 324,\n",
              "       325, 326, 327, 328, 329, 330, 331, 332, 333, 334, 335, 336, 337,\n",
              "       338, 339, 340, 341, 342, 343, 344, 345, 346, 347, 348, 349, 350,\n",
              "       351, 352, 353, 354, 355, 356, 357, 358, 359, 360, 361, 362, 363,\n",
              "       364, 365, 366, 367, 368, 369, 370, 371, 372, 373, 374, 375, 376,\n",
              "       377, 378, 379, 380, 381, 382, 383, 384, 385, 386, 387, 388, 389,\n",
              "       390, 391, 392, 393, 394, 395, 396, 397, 398, 399, 400, 401, 402,\n",
              "       403, 404, 405, 406, 407, 408, 409, 410, 411, 412, 413, 414, 415,\n",
              "       416, 417, 418, 419, 420, 421, 422, 423, 424, 425, 426, 427, 428,\n",
              "       429, 430, 431, 432, 433, 434, 435, 436, 437, 438, 439, 440, 441,\n",
              "       442, 443, 444, 445, 446, 447, 448, 449, 450, 451, 452, 453, 454,\n",
              "       455, 456, 457, 458, 459, 460, 461, 462, 463, 464, 465, 466, 467,\n",
              "       468, 469, 470, 471, 472, 473, 474, 475, 476, 477, 478, 479, 480,\n",
              "       481, 482, 483, 484, 485, 486, 487, 488, 489, 490, 491, 492, 493,\n",
              "       494, 495, 496, 497, 498, 499, 500, 501, 502, 503, 504, 505, 506,\n",
              "       507, 508, 509, 510, 511, 512, 513, 514, 515, 516, 517, 518, 519,\n",
              "       520, 521, 522, 523, 524, 525, 526, 527, 528, 529, 530, 531, 532,\n",
              "       533, 534, 535, 536, 537, 538, 539, 540, 541, 542, 543, 544, 545,\n",
              "       546, 547, 548, 549, 550, 551, 552, 553, 554, 555, 556, 557, 558,\n",
              "       559, 560, 561, 562, 563, 564, 565, 566, 567, 568, 569, 570, 571,\n",
              "       572, 573, 574, 575, 576, 577, 578, 579, 580, 581, 582, 583, 584,\n",
              "       585, 586, 587, 588, 589, 590, 591, 592, 593, 594, 595, 596, 597,\n",
              "       598, 599, 600, 601, 602, 603, 604, 605, 606, 607, 608, 609, 610,\n",
              "       611, 612, 613, 614, 615, 616, 617, 618, 619, 620, 621, 622, 623,\n",
              "       624, 625, 626, 627, 628, 629, 630, 631, 632, 633, 634, 635, 636,\n",
              "       637, 638, 639, 640, 641, 642, 643, 644, 645, 646, 647, 648, 649,\n",
              "       650, 651, 652, 653, 654, 655, 656, 657, 658, 659, 660, 661, 662,\n",
              "       663, 664, 665, 666, 667, 668, 669, 670, 671, 672, 673, 674, 675,\n",
              "       676, 677, 678, 679, 680, 681, 682, 683, 684, 685, 686, 687, 688,\n",
              "       689, 690, 691, 692, 693, 694, 695, 696, 697, 698, 699, 700, 701,\n",
              "       702, 703, 704, 705, 706, 707, 708, 709, 710, 711, 712, 713, 714,\n",
              "       715, 716, 717, 718, 719, 720, 721, 722, 723, 724, 725, 726, 727,\n",
              "       728, 729, 730, 731, 732, 733, 734, 735, 736, 737, 738, 739, 740,\n",
              "       741, 742, 743, 744, 745, 746, 747, 748, 749, 750, 751, 752, 753,\n",
              "       754, 755, 756, 757, 758, 759, 760, 761, 762, 763, 764, 765, 766,\n",
              "       767, 768, 769, 770, 771, 772, 773, 774, 775, 776, 777, 778, 779,\n",
              "       780, 781, 782, 783, 784, 785, 786, 787, 788, 789, 790, 791, 792,\n",
              "       793, 794, 795, 796, 797, 798, 799, 800, 801, 802, 803, 804, 805,\n",
              "       806, 807, 808, 809, 810, 811, 812, 813, 814, 815, 816, 817, 818,\n",
              "       819, 820, 821, 822, 823, 824, 825, 826, 827, 828, 829, 830, 831,\n",
              "       832, 833, 834, 835, 836, 837, 838, 839, 840, 841, 842, 843, 844,\n",
              "       845, 846, 847, 848, 849, 850, 851, 852, 853, 854, 855, 856, 857,\n",
              "       858, 859, 860, 861, 862, 863, 864, 865, 866, 867, 868, 869, 870,\n",
              "       871, 872, 873, 874, 875, 876, 877, 878, 879, 880, 881, 882, 883,\n",
              "       884, 885, 886, 887, 888, 889, 890, 891, 892, 893, 894, 895, 896,\n",
              "       897, 898, 899, 900, 901, 902, 903, 904, 905, 906, 907, 908, 909,\n",
              "       910, 911, 912, 913, 914, 915, 916, 917, 918, 919, 920, 921, 922,\n",
              "       923, 924, 925, 926, 927, 928, 929, 930, 931, 932, 933, 934, 935,\n",
              "       936, 937, 938, 939, 940, 941, 942, 943, 944, 945, 946, 947, 948,\n",
              "       949, 950, 951, 952, 953, 954, 955, 956, 957, 958, 959, 960, 961,\n",
              "       962, 963, 964, 965, 966, 967, 968, 969, 970, 971, 972, 973, 974,\n",
              "       975, 976, 977, 978, 979, 980, 981, 982, 983, 984, 985, 986, 987,\n",
              "       988, 989, 990, 991, 992, 993, 994, 995, 996, 997, 998, 999])"
            ]
          },
          "metadata": {
            "tags": []
          },
          "execution_count": 12
        }
      ]
    },
    {
      "cell_type": "code",
      "metadata": {
        "id": "HMf041Vm2x01"
      },
      "source": [
        "# b) Mezcla los índices de forma aleatoria\n",
        "np.random.shuffle(indexes)"
      ],
      "execution_count": 13,
      "outputs": []
    },
    {
      "cell_type": "code",
      "metadata": {
        "id": "4iY1cfuu2x01"
      },
      "source": [
        "# c) Para el dataset de entrenamiento, quédate con el 80% de los índices\n",
        "train_index = indexes[: int(0.8 * dataset.shape[0])]"
      ],
      "execution_count": 14,
      "outputs": []
    },
    {
      "cell_type": "code",
      "metadata": {
        "id": "qgZloD4hBk3M"
      },
      "source": [
        "del train_index"
      ],
      "execution_count": 33,
      "outputs": []
    },
    {
      "cell_type": "code",
      "metadata": {
        "id": "fU3eug172x01"
      },
      "source": [
        "# d) Para el dataset de validación, quédate con el 20% restante de los índices\n",
        "val_index = indexes[int(0.8 * dataset.shape[0]) :]"
      ],
      "execution_count": 15,
      "outputs": []
    },
    {
      "cell_type": "code",
      "metadata": {
        "id": "-BRlZBTB2x01"
      },
      "source": [
        "# e) Guarda la parte del dataset correspondiente a los índices de train\n",
        "train_dataset = dataset[train_index]"
      ],
      "execution_count": 16,
      "outputs": []
    },
    {
      "cell_type": "code",
      "metadata": {
        "id": "e7Y2MNNt2x01"
      },
      "source": [
        "# f) Guarda la parte del dataset correspondiente a los índices de val\n",
        "val_dataset = dataset[val_index]"
      ],
      "execution_count": 17,
      "outputs": []
    },
    {
      "cell_type": "markdown",
      "metadata": {
        "id": "yK4Qx_efKfIx"
      },
      "source": [
        "### Escalado"
      ]
    },
    {
      "cell_type": "code",
      "metadata": {
        "id": "eV4_fwdiJdv0"
      },
      "source": [
        "# Escala los datos de train y val a un rango 0-1\n",
        "# 250\n",
        "train_dataset = train_dataset / 255."
      ],
      "execution_count": 18,
      "outputs": []
    },
    {
      "cell_type": "code",
      "metadata": {
        "id": "ig_l7nr-C18O"
      },
      "source": [
        "val_dataset = val_dataset / 255."
      ],
      "execution_count": 19,
      "outputs": []
    },
    {
      "cell_type": "markdown",
      "metadata": {
        "id": "MOevPXq6KPCK"
      },
      "source": [
        "### Generación de target"
      ]
    },
    {
      "cell_type": "code",
      "metadata": {
        "id": "PDxZhdymJwR6"
      },
      "source": [
        "# Definimos una función auxiliar para intercambiar los frames, donde\n",
        "# `x` son los frames de 0 a n - 1, mientras que `y` son los frames de 1 a n.\n",
        "def create_shifted_frames(data):\n",
        "    X = data[:, 0 : data.shape[1] - 1, :, :]\n",
        "    y = data[:, 1 : data.shape[1], :, :]\n",
        "    return X, y"
      ],
      "execution_count": 20,
      "outputs": []
    },
    {
      "cell_type": "code",
      "metadata": {
        "id": "OI_T3gatGOJ1"
      },
      "source": [
        "# Aplica la función anterior a los dos subconjuntos de train y val, \n",
        "# con el fin de generar el target para cada uno de ellos.\n",
        "# Guarda el resultado en 4 variables: X_train, y_train, X_val, y_val\n",
        "X_train, y_train = create_shifted_frames(train_dataset)\n",
        "X_val, y_val = create_shifted_frames(val_dataset)"
      ],
      "execution_count": 21,
      "outputs": []
    },
    {
      "cell_type": "code",
      "metadata": {
        "colab": {
          "base_uri": "https://localhost:8080/"
        },
        "id": "6EONdJvCBifv",
        "outputId": "970f933f-fe55-4e65-97f1-6a8df64be5dd"
      },
      "source": [
        "# Ejecuta esta celda y comprueba que obtienes el mismo resultado\n",
        "# Dimensiones del dataset de entrenamiento: (800, 19, 64, 64, 1), (800, 19, 64, 64, 1)\n",
        "# Dimensiones del dataset de validación: (200, 19, 64, 64, 1), (200, 19, 64, 64, 1)\n",
        "print(\"Dimensiones del dataset de entrenamiento: \" + str(X_train.shape) + \", \" + str(y_train.shape))\n",
        "print(\"Dimensiones del dataset de validación: \" + str(X_val.shape) + \", \" + str(y_val.shape))"
      ],
      "execution_count": 22,
      "outputs": [
        {
          "output_type": "stream",
          "text": [
            "Dimensiones del dataset de entrenamiento: (800, 19, 64, 64, 1), (800, 19, 64, 64, 1)\n",
            "Dimensiones del dataset de validación: (200, 19, 64, 64, 1), (200, 19, 64, 64, 1)\n"
          ],
          "name": "stdout"
        }
      ]
    },
    {
      "cell_type": "markdown",
      "metadata": {
        "id": "c-hydniiK7YC"
      },
      "source": [
        "## Definición del modelo\n",
        "\n",
        "El modelo se llamará ConvLSTM_Model y estará compuesto por:\n",
        "\n",
        "- Bloque 1:\n",
        "  - Una capa ConvLSTM2D con 64 filtros de salida en la convolución, tamaño 5x5 de kernel convolucional, padding que añada ceros alrededor de cada frame, hiperparámetro return_sequences=True y activación ReLu. Recuerda que, al ser la primera capa, requiere que se especifique el tamaño de entrada de los datos (en este caso, input_shape = (None, *X_train.shape[2:])).\n",
        "  \n",
        "- Bloque 2:\n",
        "  - Una operación de BatchNormalization (que se introduce como una capa adicional de Keras).\n",
        "  - Una capa ConvLSTM2D con 64 filtros de salida en la convolución, tamaño 3x3 de kernel convolucional, padding que añada ceros alrededor de cada frame, hiperparámetro return_sequences=True y activación ReLu.\n",
        "\n",
        "- Bloque 3\n",
        "  - Una operación de BatchNormalization (que también se introduce como una capa adicional de Keras).\n",
        "  - Una capa ConvLSTM2D con 64 filtros de salida en la convolución, tamaño 1x1 de kernel convolucional, padding que añada ceros alrededor de cada frame, hiperparámetro return_sequences=True y activación ReLu.\n",
        "\n",
        "- Capa de salida de tipo Conv3D, tamaño de filtro 1, tamaño de kernel convolucional 3x3x3, padding que añada ceros alrededor y una función de activación de tipo sigmoide."
      ]
    },
    {
      "cell_type": "code",
      "metadata": {
        "id": "b1wUk5QZLA26"
      },
      "source": [
        "# Define e instancia el modelo\n",
        "model = Sequential(name=\"ConvLSTM_Model\")\n",
        "\n",
        "# Bloque 1\n",
        "model.add(layers.ConvLSTM2D(filters = 64,\n",
        "                            kernel_size = (5, 5),\n",
        "                            padding = \"same\",\n",
        "                            return_sequences=True,\n",
        "                            activation = \"relu\",\n",
        "                            input_shape = (None, *X_train.shape[2:])))\n",
        "# Bloque 2\n",
        "model.add(layers.BatchNormalization())\n",
        "model.add(layers.ConvLSTM2D(filters = 64,\n",
        "                            kernel_size = (3, 3),\n",
        "                            padding = \"same\",\n",
        "                            return_sequences=True,\n",
        "                            activation = \"relu\"))\n",
        "\n",
        "# Bloque 3\n",
        "model.add(layers.BatchNormalization())\n",
        "model.add(layers.ConvLSTM2D(filters = 64,\n",
        "                            kernel_size = (1, 1),\n",
        "                            padding = \"same\",\n",
        "                            return_sequences=True,\n",
        "                            activation = \"relu\"))\n",
        "\n",
        "# Capa de salida\n",
        "model.add(layers.Conv3D(filters = 1,\n",
        "                        kernel_size = (3,3,3),\n",
        "                        activation = \"sigmoid\",\n",
        "                        padding = \"same\"))"
      ],
      "execution_count": 29,
      "outputs": []
    },
    {
      "cell_type": "code",
      "metadata": {
        "colab": {
          "base_uri": "https://localhost:8080/"
        },
        "id": "NSc-7HV9MLXU",
        "outputId": "95f9c365-980d-4aab-cbde-43ddbf334eb8"
      },
      "source": [
        "# Muestra el modelo con el método summary()\n",
        "model.summary()"
      ],
      "execution_count": 30,
      "outputs": [
        {
          "output_type": "stream",
          "text": [
            "Model: \"ConvLSTM_Model\"\n",
            "_________________________________________________________________\n",
            "Layer (type)                 Output Shape              Param #   \n",
            "=================================================================\n",
            "conv_lst_m2d_3 (ConvLSTM2D)  (None, None, 64, 64, 64)  416256    \n",
            "_________________________________________________________________\n",
            "batch_normalization_2 (Batch (None, None, 64, 64, 64)  256       \n",
            "_________________________________________________________________\n",
            "conv_lst_m2d_4 (ConvLSTM2D)  (None, None, 64, 64, 64)  295168    \n",
            "_________________________________________________________________\n",
            "batch_normalization_3 (Batch (None, None, 64, 64, 64)  256       \n",
            "_________________________________________________________________\n",
            "conv_lst_m2d_5 (ConvLSTM2D)  (None, None, 64, 64, 64)  33024     \n",
            "_________________________________________________________________\n",
            "conv3d (Conv3D)              (None, None, 64, 64, 1)   1729      \n",
            "=================================================================\n",
            "Total params: 746,689\n",
            "Trainable params: 746,433\n",
            "Non-trainable params: 256\n",
            "_________________________________________________________________\n"
          ],
          "name": "stdout"
        }
      ]
    },
    {
      "cell_type": "markdown",
      "metadata": {
        "id": "AubshW5uMPNG"
      },
      "source": [
        "## Compilación del modelo"
      ]
    },
    {
      "cell_type": "code",
      "metadata": {
        "id": "C92PNc3AMQz_"
      },
      "source": [
        "# Compila el modelo anterior, utilizando una pérdida de tipo binary_crossentropy, \n",
        "# y un optimizador de tipo Adam\n",
        "model.compile(loss = \"binary_crossentropy\",\n",
        "              optimizer = \"adam\")"
      ],
      "execution_count": 32,
      "outputs": []
    },
    {
      "cell_type": "markdown",
      "metadata": {
        "id": "CdDxkrkNMcHB"
      },
      "source": [
        "## Ajuste del modelo"
      ]
    },
    {
      "cell_type": "code",
      "metadata": {
        "id": "FNleZ7FkBobW"
      },
      "source": [
        "# Usaremos un callback de early stopping para mejorar el ajuste del modelo\n",
        "# Fija la métrica de monitorización en val_loss y la paciencia en 10 epochs\n",
        "early_stopping = keras.callbacks.EarlyStopping(monitor = \"val_loss\", patience = 10)"
      ],
      "execution_count": 33,
      "outputs": []
    },
    {
      "cell_type": "code",
      "metadata": {
        "id": "37ewNdZhM3MW"
      },
      "source": [
        "# Fija los hiperparámetros de entrenamiento \"epochs\" y \"batch_size\" en 20 y 5, respectivamente\n",
        "epochs = 2\n",
        "batch_size = 5"
      ],
      "execution_count": 34,
      "outputs": []
    },
    {
      "cell_type": "code",
      "metadata": {
        "colab": {
          "base_uri": "https://localhost:8080/"
        },
        "id": "ua6HvVd4N2F4",
        "outputId": "497fd9fa-82be-4ea2-d1ee-202deff5f4c5"
      },
      "source": [
        "# Muestra las dimensiones de X_train e y_train\n",
        "print(X_train.shape)\n",
        "print(y_train.shape)"
      ],
      "execution_count": 35,
      "outputs": [
        {
          "output_type": "stream",
          "text": [
            "(800, 19, 64, 64, 1)\n",
            "(800, 19, 64, 64, 1)\n"
          ],
          "name": "stdout"
        }
      ]
    },
    {
      "cell_type": "code",
      "metadata": {
        "colab": {
          "base_uri": "https://localhost:8080/"
        },
        "id": "NlAPVeNoMrTK",
        "outputId": "4ea956c5-fcee-40d9-e980-3c88e0e179e5"
      },
      "source": [
        "# Ajusta el modelo con el método fit() de Keras\n",
        "# Introduce X_train e y_train\n",
        "# Introduce el batch_size y las epochs\n",
        "# Usa la partición de validación (X_val e y_val)\n",
        "# Usa el callback de early stopping definido más arriba\n",
        "model.fit(\n",
        "    X_train,\n",
        "    y_train,\n",
        "    batch_size = batch_size,\n",
        "    epochs = epochs,\n",
        "    validation_data = (X_val, y_val),\n",
        "    callbacks = [early_stopping],\n",
        "    verbose = 1,\n",
        ")"
      ],
      "execution_count": 36,
      "outputs": [
        {
          "output_type": "stream",
          "text": [
            "Epoch 1/2\n",
            "160/160 [==============================] - 138s 828ms/step - loss: 0.0801 - val_loss: 0.2045\n",
            "Epoch 2/2\n",
            "160/160 [==============================] - 134s 839ms/step - loss: 0.0284 - val_loss: 0.2449\n"
          ],
          "name": "stdout"
        },
        {
          "output_type": "execute_result",
          "data": {
            "text/plain": [
              "<tensorflow.python.keras.callbacks.History at 0x7fdf0e2b6f90>"
            ]
          },
          "metadata": {
            "tags": []
          },
          "execution_count": 36
        }
      ]
    },
    {
      "cell_type": "markdown",
      "metadata": {
        "id": "vwRfn4jHPFJx"
      },
      "source": [
        "## Predicciones de próximos frames\n",
        "\n",
        "Con nuestro modelo ahora construido y entrenado, podemos generar algunas predicciones de fotogramas de ejemplo basadas en un nuevo vídeo.\n",
        "\n",
        "Elegiremos un ejemplo aleatorio del conjunto de validación y luego utilizaremos sus primeros diez fotogramas. A partir de ahí, podemos permitir que el modelo prediga 10 nuevos fotogramas, que podemos comparar con los frames reales.\n"
      ]
    },
    {
      "cell_type": "code",
      "metadata": {
        "id": "KWVEGBZNPb8v"
      },
      "source": [
        "# Elegimos un ejemplo al azar del set de validación\n",
        "example = val_dataset[np.random.choice(range(len(val_dataset)), size=1)[0]]"
      ],
      "execution_count": 37,
      "outputs": []
    },
    {
      "cell_type": "code",
      "metadata": {
        "id": "rmul0XU7Pfof"
      },
      "source": [
        "# Nos quedamos con sus primeros 10 frames\n",
        "frames = example[:10, ...]\n",
        "original_frames = example[10:, ...]"
      ],
      "execution_count": 38,
      "outputs": []
    },
    {
      "cell_type": "code",
      "metadata": {
        "id": "mVJ7w4_CPkZX"
      },
      "source": [
        "# Predecimos un nuevo grupo de 10 frames\n",
        "for idx in range(10):\n",
        "  \n",
        "    # Extraemos la predicción del modelo y la postprocesamos\n",
        "    new_prediction = model.predict(np.expand_dims(frames, axis=0))\n",
        "    new_prediction = np.squeeze(new_prediction, axis=0)\n",
        "    predicted_frame = np.expand_dims(new_prediction[-1, ...], axis=0)\n",
        "\n",
        "    # Vamos concatenando los frames predichos\n",
        "    frames = np.concatenate((frames, predicted_frame), axis=0)"
      ],
      "execution_count": 39,
      "outputs": []
    },
    {
      "cell_type": "code",
      "metadata": {
        "id": "nGN1ewYZBrOm",
        "colab": {
          "base_uri": "https://localhost:8080/",
          "height": 257
        },
        "outputId": "44b8e020-7be0-45db-bf06-705cb99e5fba"
      },
      "source": [
        "# Vamos a mostrar los frames originales y los predichos\n",
        "fig, axes = plt.subplots(2, 10, figsize=(20, 4))\n",
        "\n",
        "# Frames originales\n",
        "for idx, ax in enumerate(axes[0]):\n",
        "    ax.imshow(np.squeeze(original_frames[idx]), cmap=\"gray\")\n",
        "    ax.set_title(f\"Frame {idx + 11}\")\n",
        "    ax.axis(\"off\")\n",
        "\n",
        "# Frames predichos\n",
        "new_frames = frames[10:, ...]\n",
        "for idx, ax in enumerate(axes[1]):\n",
        "    ax.imshow(np.squeeze(new_frames[idx]), cmap=\"gray\")\n",
        "    ax.set_title(f\"Frame {idx + 11}\")\n",
        "    ax.axis(\"off\")\n",
        "\n",
        "plt.show()"
      ],
      "execution_count": 40,
      "outputs": [
        {
          "output_type": "display_data",
          "data": {
            "image/png": "[encoded data removed]",
            "text/plain": [
              "<Figure size 1440x288 with 20 Axes>"
            ]
          },
          "metadata": {
            "tags": [],
            "needs_background": "light"
          }
        }
      ]
    },
    {
      "cell_type": "markdown",
      "metadata": {
        "id": "9mTKqwFlQSKX"
      },
      "source": [
        "Finalmente, elegiremos algunos ejemplos del conjunto de validación y construiremos algunos GIF con ellos para ver los vídeos predichos por el modelo."
      ]
    },
    {
      "cell_type": "code",
      "metadata": {
        "id": "3t_qbWKBQdRO"
      },
      "source": [
        "# Escogemos 5 ejemplos de vídeos al azar\n",
        "examples = val_dataset[np.random.choice(range(len(val_dataset)), size=5)]"
      ],
      "execution_count": 41,
      "outputs": []
    },
    {
      "cell_type": "code",
      "metadata": {
        "id": "93mMLqqnBwhm"
      },
      "source": [
        "# Iteramos sobre los vídeos y predecimos sus frames\n",
        "predicted_videos = []\n",
        "\n",
        "# Para cada vídeo:\n",
        "for example in examples:\n",
        "\n",
        "    # Nos quedamos con sus 10 primeros frames\n",
        "    frames = example[:10, ...]\n",
        "    original_frames = example[10:, ...]\n",
        "    new_predictions = np.zeros(shape=(10, *frames[0].shape))\n",
        "\n",
        "    # Predecimos los siguientes 10 frames\n",
        "    for i in range(10):\n",
        "\n",
        "        # Extraemos la predicción del modelo y la postprocesamos\n",
        "        frames = example[: 10 + i + 1, ...]\n",
        "        new_prediction = model.predict(np.expand_dims(frames, axis=0))\n",
        "        new_prediction = np.squeeze(new_prediction, axis=0)\n",
        "        predicted_frame = np.expand_dims(new_prediction[-1, ...], axis=0)\n",
        "\n",
        "        # Vamos almacenando los frames predichos\n",
        "        new_predictions[i] = predicted_frame\n",
        "\n",
        "    # Creamos y guardamos GIFs para cada pareja de frame real vs predicho\n",
        "    for frame_set in [original_frames, new_predictions]:\n",
        "        current_frames = np.squeeze(frame_set)\n",
        "        current_frames = current_frames[..., np.newaxis] * np.ones(3)\n",
        "        current_frames = (current_frames * 255).astype(np.uint8)\n",
        "        current_frames = list(current_frames)\n",
        "\n",
        "        # Construimos un GIF a partir de los frames\n",
        "        with io.BytesIO() as gif:\n",
        "            imageio.mimsave(gif, current_frames, \"GIF\", fps=5)\n",
        "            predicted_videos.append(gif.getvalue())"
      ],
      "execution_count": 43,
      "outputs": []
    },
    {
      "cell_type": "code",
      "metadata": {
        "id": "HFGc573sQ_VP",
        "colab": {
          "base_uri": "https://localhost:8080/",
          "height": 374,
          "referenced_widgets": [
            "1ab25b2cc0374b7bb5c0074c3a591699",
            "51b02aac3613442196d531934709a61a",
            "19318b161c0c4d199f38f9dd609b345e",
            "1de2379657e34a96915e893c91e3a684",
            "37b290e347784576b6ff4473c54cf1ad",
            "07acb5274ced49fe991805987e8fe4f9",
            "719472ec61a7408ab4fd331d80666387",
            "0810599bed8c4701a00c16d56d353714",
            "3c15b03074b948589a334536c0c448ab",
            "07dd4509ae704ea3a0a30fb6f027114b",
            "a92f8ceb6be74f24b90ec5cb35126885",
            "82e825dec66a49929d7bbd22f18c2564",
            "a6b7b77c6fb84dedbf9c63a99924354f",
            "67f074c85745421e8556cbed2a2b6362",
            "f1f0beeeafb848978a8d929f936447d0",
            "4aa8f9f4e99940ac816835db565e675f",
            "45867e8502254ee7a415ae0f7acd05c2",
            "6f101834f8f14a9ea987cd27cdc0d484",
            "894afb072f594c6488ee0600b17a8c6d",
            "96f9aa172e824f9694d830d58d041a03",
            "0f760484a8a4437a9100c422bde7cb2b",
            "a089514fd3694357a487931736b3b446",
            "f2a9cb6e7c124aa98ad29054ef172695",
            "32ca573b2964499f8d176e85b23a2095",
            "f750a4adb66648a3aeca08a5661d4592",
            "c6a332e248574e0ebb8a51eb455a343f",
            "eed207d600d54e678fab49f148b81b50",
            "02578fd226f74a8a8686777da883bc6d",
            "6c7f334874104f699f70279ae47091d7",
            "3b2e93c38bc645008f374dc062e425d6"
          ]
        },
        "outputId": "15f06894-2beb-4ac4-eb73-595b559a57b8"
      },
      "source": [
        "# Mostramos los vídeos\n",
        "print(\" Real\\tPredicción\")\n",
        "\n",
        "for i in range(0, len(predicted_videos), 2):\n",
        "\n",
        "    # Creamos y mostramos una `HBox` con el frame real y el predicho\n",
        "    box = HBox(\n",
        "        [\n",
        "            widgets.Image(value=predicted_videos[i]),\n",
        "            widgets.Image(value=predicted_videos[i + 1]),\n",
        "        ]\n",
        "    )\n",
        "\n",
        "    # Mostramos la HBox\n",
        "    display(box)"
      ],
      "execution_count": 44,
      "outputs": [
        {
          "output_type": "stream",
          "text": [
            " Real\tPredicción\n"
          ],
          "name": "stdout"
        },
        {
          "output_type": "display_data",
          "data": {
            "application/vnd.jupyter.widget-view+json": {
              "model_id": "1ab25b2cc0374b7bb5c0074c3a591699",
              "version_minor": 0,
              "version_major": 2
            },
            "text/plain": [
              "HBox(children=(Image(value=b'GIF89a@\\x00@\\x00\\x87\\x00\\x00\\xff\\xff\\xff\\xfe\\xfe\\xfe\\xfd\\xfd\\xfd\\xfc\\xfc\\xfc\\xfb\\…"
            ]
          },
          "metadata": {
            "tags": []
          }
        },
        {
          "output_type": "display_data",
          "data": {
            "application/vnd.jupyter.widget-view+json": {
              "model_id": "719472ec61a7408ab4fd331d80666387",
              "version_minor": 0,
              "version_major": 2
            },
            "text/plain": [
              "HBox(children=(Image(value=b'GIF89a@\\x00@\\x00\\x87\\x00\\x00\\xff\\xff\\xff\\xfe\\xfe\\xfe\\xfd\\xfd\\xfd\\xfc\\xfc\\xfc\\xfb\\…"
            ]
          },
          "metadata": {
            "tags": []
          }
        },
        {
          "output_type": "display_data",
          "data": {
            "application/vnd.jupyter.widget-view+json": {
              "model_id": "a6b7b77c6fb84dedbf9c63a99924354f",
              "version_minor": 0,
              "version_major": 2
            },
            "text/plain": [
              "HBox(children=(Image(value=b'GIF89a@\\x00@\\x00\\x87\\x00\\x00\\xff\\xff\\xff\\xfe\\xfe\\xfe\\xfd\\xfd\\xfd\\xfc\\xfc\\xfc\\xfa\\…"
            ]
          },
          "metadata": {
            "tags": []
          }
        },
        {
          "output_type": "display_data",
          "data": {
            "application/vnd.jupyter.widget-view+json": {
              "model_id": "894afb072f594c6488ee0600b17a8c6d",
              "version_minor": 0,
              "version_major": 2
            },
            "text/plain": [
              "HBox(children=(Image(value=b'GIF89a@\\x00@\\x00\\x87\\x00\\x00\\xff\\xff\\xff\\xfe\\xfe\\xfe\\xfd\\xfd\\xfd\\xfc\\xfc\\xfc\\xfa\\…"
            ]
          },
          "metadata": {
            "tags": []
          }
        },
        {
          "output_type": "display_data",
          "data": {
            "application/vnd.jupyter.widget-view+json": {
              "model_id": "f750a4adb66648a3aeca08a5661d4592",
              "version_minor": 0,
              "version_major": 2
            },
            "text/plain": [
              "HBox(children=(Image(value=b'GIF89a@\\x00@\\x00\\x87\\x00\\x00\\xff\\xff\\xff\\xfe\\xfe\\xfe\\xfd\\xfd\\xfd\\xfc\\xfc\\xfc\\xfa\\…"
            ]
          },
          "metadata": {
            "tags": []
          }
        }
      ]
    }
  ]
}